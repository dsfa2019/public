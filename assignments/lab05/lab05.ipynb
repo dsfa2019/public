{
    "cells": [
        {
            "cell_type": "markdown",
            "metadata": {},
            "source": [
                "# Lab 5: Randomization\n",
                "\n",
                "Welcome to lab 5! This week, we will go over conditionals and iteration, and introduce the concept of randomness. All of this material is covered in [Chapter 8](https:\/\/www.cs.cornell.edu\/courses\/cs1380\/2018sp\/textbook\/chapters\/08\/randomness.html) of the textbook. \n",
                "\n",
                "First, set up the tests and imports by running the cell below."
            ]
        },
        {
            "cell_type": "code",
            "execution_count": null,
            "metadata": {
                "collapsed": true
            },
            "outputs": [],
            "source": [
                "import numpy as np\n",
                "from datascience import *\n",
                "from test import *"
            ]
        },
        {
            "cell_type": "markdown",
            "metadata": {},
            "source": [
                "## 1. Nachos and Conditionals"
            ]
        },
        {
            "cell_type": "markdown",
            "metadata": {},
            "source": [
                "In Python, Boolean values can either be `True` or `False`. We get Boolean values when using comparison operators, among which are `<` (less than), `>` (greater than), and `==` (equal to). For a complete list, refer to [Booleans and Comparison](https:\/\/www.cs.cornell.edu\/courses\/cs1380\/2018sp\/textbook\/chapters\/08\/randomness.html#Booleans-and-Comparison) at the start of Chapter 8.\n",
                "\n",
                "Run the cell below to see an example of a comparison operator in action."
            ]
        },
        {
            "cell_type": "code",
            "execution_count": null,
            "metadata": {
                "collapsed": true
            },
            "outputs": [],
            "source": [
                "3 > 1 + 1"
            ]
        },
        {
            "cell_type": "markdown",
            "metadata": {},
            "source": [
                "We can even assign the result of a comparison operation to a variable."
            ]
        },
        {
            "cell_type": "code",
            "execution_count": null,
            "metadata": {
                "collapsed": true
            },
            "outputs": [],
            "source": [
                "result = 10 \/ 2 == 5\n",
                "result"
            ]
        },
        {
            "cell_type": "markdown",
            "metadata": {},
            "source": [
                "Arrays are compatible with comparison operators. The output is an array of boolean values."
            ]
        },
        {
            "cell_type": "code",
            "execution_count": null,
            "metadata": {
                "collapsed": true
            },
            "outputs": [],
            "source": [
                "make_array(1, 5, 7, 8, 3, -1) > 3"
            ]
        },
        {
            "cell_type": "markdown",
            "metadata": {},
            "source": [
                "Waiting on the dining table just for you is a hot bowl of nachos! Let's say that whenever you take a nacho, it will have cheese, salsa, both, or neither (just a plain tortilla chip). \n",
                "\n",
                "Using the function call `np.random.choice(array_name)`, let's simulate taking nachos from the bowl at random. Start by running the cell below several times, and observe how the results change."
            ]
        },
        {
            "cell_type": "code",
            "execution_count": null,
            "metadata": {
                "collapsed": false
            },
            "outputs": [],
            "source": [
                "nachos = make_array('cheese', 'salsa', 'both', 'neither')\n",
                "np.random.choice(nachos)"
            ]
        },
        {
            "cell_type": "markdown",
            "metadata": {},
            "source": [
                "**Question 1.** Below we take ten nachos and store them in an array called `ten_nachos`. Find the number of nachos in that array that have only cheese.  Pretend that you can't actually see the contents of `ten_nachos`, instead of \"hard-coding\" the answer to a specific integer. \n",
                "\n",
                "*Hint:* Our solution involves a comparison operator and the `np.count_nonzero` method.  Instead of the latter, you could also use `sum`."
            ]
        },
        {
            "cell_type": "code",
            "execution_count": null,
            "metadata": {
                "collapsed": false
            },
            "outputs": [],
            "source": [
                "ten_nachos = make_array('neither', 'cheese', 'both', 'both', 'cheese', 'salsa', 'both', 'neither', 'cheese', 'both')\n",
                "number_cheese = ...\n",
                "number_cheese"
            ]
        },
        {
            "cell_type": "code",
            "execution_count": null,
            "metadata": {
                "collapsed": false
            },
            "outputs": [],
            "source": [
                "check1_1(number_cheese)"
            ]
        },
        {
            "cell_type": "code",
            "execution_count": null,
            "metadata": {
                "collapsed": true,
                "nbgrader": {
                    "grade": true,
                    "grade_id": "test1_1",
                    "locked": true,
                    "points": 1,
                    "schema_version": 1,
                    "solution": false
                },
                "editable": false,
                "deletable": false
            },
            "outputs": [],
            "source": [
                "###\n",
                "### AUTOGRADER TEST - DO NOT REMOVE\n",
                "###\n"
            ]
        },
        {
            "cell_type": "markdown",
            "metadata": {},
            "source": [
                "**Conditional Statements**\n",
                "\n",
                "A conditional statement is made up of many lines that allow Python to choose from different alternatives based on whether some condition is true.\n",
                "\n",
                "Here is a basic example.\n",
                "\n",
                "```\n",
                "def sign(x):\n",
                "    if x > 0:\n",
                "        return 'Positive'\n",
                "```\n",
                "\n",
                "How the function works is if the input `x` is greater than `0`, we get the string `'Positive'` back.\n",
                "\n",
                "If we want to test multiple conditions at once, we use the following general format.\n",
                "\n",
                "```\n",
                "if <if expression>:\n",
                "    <if body>\n",
                "elif <elif expression 0>:\n",
                "    <elif body 0>\n",
                "elif <elif expression 1>:\n",
                "    <elif body 1>\n",
                "...\n",
                "else:\n",
                "    <else body>\n",
                "```\n",
                "\n",
                "Only one of the bodies will ever be executed. Each `if` and `elif` expression is evaluated and considered in order, starting at the top. As soon as a true value is found, the corresponding body is executed, and the rest of the expression is skipped. If none of the `if` or `elif` expressions are true, then the `else body` is executed. For more examples and explanation, refer to [Section 8.1](https:\/\/www.cs.cornell.edu\/courses\/cs1380\/2018sp\/textbook\/chapters\/08\/1\/conditional-statements.html)."
            ]
        },
        {
            "cell_type": "markdown",
            "metadata": {},
            "source": [
                "**Question 2.** Complete the following conditional statement, such that the string `'More please'` is assigned to `say_please` if the number of nachos with cheese in `ten_nachos` is less than `5`."
            ]
        },
        {
            "cell_type": "code",
            "execution_count": null,
            "metadata": {
                "collapsed": false,
                "for_assignment_type": "student"
            },
            "outputs": [],
            "source": [
                "say_please = '?'\n",
                "\n",
                "if ...:\n",
                "    say_please = ...\n"
            ]
        },
        {
            "cell_type": "code",
            "execution_count": null,
            "metadata": {
                "collapsed": false
            },
            "outputs": [],
            "source": [
                "check1_2(say_please)"
            ]
        },
        {
            "cell_type": "code",
            "execution_count": null,
            "metadata": {
                "collapsed": true,
                "nbgrader": {
                    "grade": true,
                    "grade_id": "test1_2",
                    "locked": true,
                    "points": 1,
                    "schema_version": 1,
                    "solution": false
                },
                "editable": false,
                "deletable": false
            },
            "outputs": [],
            "source": [
                "###\n",
                "### AUTOGRADER TEST - DO NOT REMOVE\n",
                "###\n"
            ]
        },
        {
            "cell_type": "markdown",
            "metadata": {},
            "source": [
                "**Question 3.** Write a function called `nacho_reaction` that returns a string based on the type of nacho passed in. A nacho with cheese should cause the function to return `Cheesy!`; with salsa, `Spicy!`, with both, `Wow!`, and with neither, `Meh.`"
            ]
        },
        {
            "cell_type": "code",
            "execution_count": null,
            "metadata": {
                "collapsed": false,
                "for_assignment_type": "student"
            },
            "outputs": [],
            "source": [
                "def nacho_reaction(nacho):\n",
                "    if ...:\n",
                "        return 'Cheesy!'\n",
                "    # next condition should return 'Spicy!'\n",
                "    ...\n",
                "    # next condition should return 'Wow!'\n",
                "    ...\n",
                "    # next condition should return 'Meh.'\n",
                "    ...\n",
                "    \n",
                "spicy_nacho = nacho_reaction('salsa')\n",
                "spicy_nacho"
            ]
        },
        {
            "cell_type": "code",
            "execution_count": null,
            "metadata": {
                "collapsed": false
            },
            "outputs": [],
            "source": [
                "check1_3(spicy_nacho)"
            ]
        },
        {
            "cell_type": "code",
            "execution_count": null,
            "metadata": {
                "collapsed": true,
                "nbgrader": {
                    "grade": true,
                    "grade_id": "test1_3",
                    "locked": true,
                    "points": 1,
                    "schema_version": 1,
                    "solution": false
                },
                "editable": false,
                "deletable": false
            },
            "outputs": [],
            "source": [
                "###\n",
                "### AUTOGRADER TEST - DO NOT REMOVE\n",
                "###\n"
            ]
        },
        {
            "cell_type": "markdown",
            "metadata": {},
            "source": [
                "**Question 4.** Add a column `'Reactions'` to the table `ten_nachos_reactions` that consists of reactions for each of the nachos in `ten_nachos`. \n",
                "\n",
                "*Hint:* Use the `apply` method. "
            ]
        },
        {
            "cell_type": "code",
            "execution_count": null,
            "metadata": {
                "collapsed": false,
                "for_assignment_type": "student",
                "scrolled": true
            },
            "outputs": [],
            "source": [
                "ten_nachos_reactions = Table().with_column('Nachos', ten_nachos)\n",
                "...\n"
            ]
        },
        {
            "cell_type": "code",
            "execution_count": null,
            "metadata": {
                "collapsed": false
            },
            "outputs": [],
            "source": [
                "check1_4(ten_nachos_reactions)"
            ]
        },
        {
            "cell_type": "code",
            "execution_count": null,
            "metadata": {
                "collapsed": true,
                "nbgrader": {
                    "grade": true,
                    "grade_id": "test1_4",
                    "locked": true,
                    "points": 1,
                    "schema_version": 1,
                    "solution": false
                },
                "editable": false,
                "deletable": false
            },
            "outputs": [],
            "source": [
                "###\n",
                "### AUTOGRADER TEST - DO NOT REMOVE\n",
                "###\n"
            ]
        },
        {
            "cell_type": "markdown",
            "metadata": {},
            "source": [
                "**Question 5.** Using code, find the number of `'Wow!'` reactions for the nachos in `ten_nachos_reactions`."
            ]
        },
        {
            "cell_type": "code",
            "execution_count": null,
            "metadata": {
                "collapsed": false
            },
            "outputs": [],
            "source": [
                "number_wow_reactions = ...\n",
                "number_wow_reactions"
            ]
        },
        {
            "cell_type": "code",
            "execution_count": null,
            "metadata": {
                "collapsed": false
            },
            "outputs": [],
            "source": [
                "check1_5(number_wow_reactions)"
            ]
        },
        {
            "cell_type": "code",
            "execution_count": null,
            "metadata": {
                "collapsed": true,
                "nbgrader": {
                    "grade": true,
                    "grade_id": "test1_5",
                    "locked": true,
                    "points": 1,
                    "schema_version": 1,
                    "solution": false
                },
                "editable": false,
                "deletable": false
            },
            "outputs": [],
            "source": [
                "###\n",
                "### AUTOGRADER TEST - DO NOT REMOVE\n",
                "###\n"
            ]
        },
        {
            "cell_type": "markdown",
            "metadata": {},
            "source": [
                "**Question 6:** Examine the line of code below.  Change the comparison operators from `==` to some other operators so that `should_be_true` is assigned `True`.  Don't change anything other than the comparison operators."
            ]
        },
        {
            "cell_type": "code",
            "execution_count": null,
            "metadata": {
                "collapsed": false,
                "for_assignment_type": "student"
            },
            "outputs": [],
            "source": [
                "should_be_true = number_cheese == number_wow_reactions == np.count_nonzero(ten_nachos == 'neither')\n",
                "should_be_true"
            ]
        },
        {
            "cell_type": "code",
            "execution_count": null,
            "metadata": {
                "collapsed": false
            },
            "outputs": [],
            "source": [
                "check1_6(should_be_true)"
            ]
        },
        {
            "cell_type": "code",
            "execution_count": null,
            "metadata": {
                "collapsed": true,
                "nbgrader": {
                    "grade": true,
                    "grade_id": "test1_6",
                    "locked": true,
                    "points": 0,
                    "schema_version": 1,
                    "solution": false
                },
                "editable": false,
                "deletable": false
            },
            "outputs": [],
            "source": [
                "###\n",
                "### AUTOGRADER TEST - DO NOT REMOVE\n",
                "###\n"
            ]
        },
        {
            "cell_type": "markdown",
            "metadata": {},
            "source": [
                "**Question 7.** Complete the function `both_or_neither`, which takes in a table of nachos with reactions (just like the one from Question 4) and examines the number of `'Wow!'` and `'Meh.'` reactions.  The function should return `'Wow!'` if there are more `'Wow!'` reactions, or `'Meh.'` if there are `'Meh.'` reactions. If there are an equal number of each, return `'Okay!'`."
            ]
        },
        {
            "cell_type": "code",
            "execution_count": null,
            "metadata": {
                "collapsed": false,
                "for_assignment_type": "student"
            },
            "outputs": [],
            "source": [
                "def both_or_neither(nacho_table):\n",
                "    reactions = ...\n",
                "    number_wow_reactions = ...\n",
                "    number_meh_reactions = ...\n",
                "    if ...:\n",
                "        return 'Wow!'\n",
                "    # next condition should return 'Meh.'\n",
                "    ...\n",
                "    # next condition should return 'Okay!'\n",
                "    ...\n",
                "    \n",
                "\n",
                "many_nachos = Table().with_column('Nachos', np.random.choice(nachos, 250))\n",
                "many_nachos = many_nachos.with_column('Reactions', many_nachos.apply(nacho_reaction, 'Nachos'))\n",
                "result = both_or_neither(many_nachos)\n",
                "result"
            ]
        },
        {
            "cell_type": "code",
            "execution_count": null,
            "metadata": {
                "collapsed": false
            },
            "outputs": [],
            "source": [
                "check1_7(many_nachos, result)"
            ]
        },
        {
            "cell_type": "code",
            "execution_count": null,
            "metadata": {
                "collapsed": true,
                "nbgrader": {
                    "grade": true,
                    "grade_id": "test1_7",
                    "locked": true,
                    "points": 0,
                    "schema_version": 1,
                    "solution": false
                },
                "editable": false,
                "deletable": false
            },
            "outputs": [],
            "source": [
                "###\n",
                "### AUTOGRADER TEST - DO NOT REMOVE\n",
                "###\n"
            ]
        },
        {
            "cell_type": "markdown",
            "metadata": {},
            "source": [
                "## 2. Iteration\n",
                "Using a `for` statement, we can perform a task multiple times. This is known as iteration. Here, we'll simulate drawing different suits from a deck of cards. "
            ]
        },
        {
            "cell_type": "code",
            "execution_count": null,
            "metadata": {
                "collapsed": false
            },
            "outputs": [],
            "source": [
                "suits = make_array(\"\u2664\", \"\u2661\", \"\u2662\", \"\u2667\")\n",
                "\n",
                "draws = make_array()\n",
                "\n",
                "repetitions = 6\n",
                "\n",
                "for i in np.arange(repetitions):\n",
                "    draws = np.append(draws, np.random.choice(suits))\n",
                "\n",
                "draws"
            ]
        },
        {
            "cell_type": "markdown",
            "metadata": {},
            "source": [
                "In the example above, the `for` loop appends a random draw to the `draws` array for every number in `np.arange(repetitions)`. Another use of iteration is to loop through a set of values. For instance, we can print out all of the colors of the rainbow."
            ]
        },
        {
            "cell_type": "code",
            "execution_count": null,
            "metadata": {
                "collapsed": false
            },
            "outputs": [],
            "source": [
                "rainbow = make_array(\"red\", \"orange\", \"yellow\", \"green\", \"blue\", \"indigo\", \"violet\")\n",
                "\n",
                "for color in rainbow:\n",
                "    print(color)"
            ]
        },
        {
            "cell_type": "markdown",
            "metadata": {},
            "source": [
                "We can see that the indented part of the `for` loop, known as the body, is executed once for each item in `rainbow`. Note that the name `color` is arbitrary; we could easily have named it something else."
            ]
        },
        {
            "cell_type": "markdown",
            "metadata": {},
            "source": [
                "**Question 1.** Clay is playing darts. His dartboard contains ten equal-sized zones with point values from 1 to 10. Finish the code below to simulate his total score after 1000 dart tosses. Make sure to use a `for` loop. Run the cell a few times to make sure that the total score changes (i.e., is random) each time."
            ]
        },
        {
            "cell_type": "code",
            "execution_count": null,
            "metadata": {
                "collapsed": false,
                "for_assignment_type": "student"
            },
            "outputs": [],
            "source": [
                "possible_point_values = np.arange(1, 11)\n",
                "tosses = 1000\n",
                "total_score = 0\n",
                "for i in np.arange(tosses):\n",
                "    score_this_toss = ...\n",
                "    total_score = ...\n",
                "    \n",
                "\n",
                "total_score"
            ]
        },
        {
            "cell_type": "code",
            "execution_count": null,
            "metadata": {
                "collapsed": false
            },
            "outputs": [],
            "source": [
                "check2_1(total_score)"
            ]
        },
        {
            "cell_type": "code",
            "execution_count": null,
            "metadata": {
                "collapsed": true,
                "nbgrader": {
                    "grade": true,
                    "grade_id": "test2_1",
                    "locked": true,
                    "points": 1,
                    "schema_version": 1,
                    "solution": false
                },
                "editable": false,
                "deletable": false
            },
            "outputs": [],
            "source": [
                "###\n",
                "### AUTOGRADER TEST - DO NOT REMOVE\n",
                "###\n"
            ]
        },
        {
            "cell_type": "markdown",
            "metadata": {},
            "source": [
                "**Question 2.** On average, how many points did Clay score per dart thrown?  Use `total_score` to compute your answer."
            ]
        },
        {
            "cell_type": "code",
            "execution_count": null,
            "metadata": {
                "collapsed": false
            },
            "outputs": [],
            "source": [
                "average_score = ...\n",
                "average_score"
            ]
        },
        {
            "cell_type": "code",
            "execution_count": null,
            "metadata": {
                "collapsed": false
            },
            "outputs": [],
            "source": [
                "check2_2(total_score, average_score)"
            ]
        },
        {
            "cell_type": "code",
            "execution_count": null,
            "metadata": {
                "collapsed": true,
                "nbgrader": {
                    "grade": true,
                    "grade_id": "test2_2",
                    "locked": true,
                    "points": 1,
                    "schema_version": 1,
                    "solution": false
                },
                "editable": false,
                "deletable": false
            },
            "outputs": [],
            "source": [
                "###\n",
                "### AUTOGRADER TEST - DO NOT REMOVE\n",
                "###\n"
            ]
        },
        {
            "cell_type": "markdown",
            "metadata": {},
            "source": [
                "**Question 3.** In the following cell, we've loaded the text of _Pride and Prejudice_ by Jane Austen, split it into individual words, and stored these words in an array. Using a `for` loop, assign `longer_than_five` to the number of words in the novel that are more than 5 letters long.\n",
                "\n",
                "*Hint*: You can find the number of letters in a word with the `len` function."
            ]
        },
        {
            "cell_type": "code",
            "execution_count": null,
            "metadata": {
                "collapsed": false,
                "for_assignment_type": "student"
            },
            "outputs": [],
            "source": [
                "austen_string = open('Austen_PrideAndPrejudice.txt', encoding='utf-8').read()\n",
                "p_and_p_words = np.array(austen_string.split())\n",
                "\n",
                "longer_than_five = ...\n",
                "        \n",
                "    \n",
                "longer_than_five"
            ]
        },
        {
            "cell_type": "code",
            "execution_count": null,
            "metadata": {
                "collapsed": false
            },
            "outputs": [],
            "source": [
                "check2_3(longer_than_five)"
            ]
        },
        {
            "cell_type": "code",
            "execution_count": null,
            "metadata": {
                "collapsed": true,
                "nbgrader": {
                    "grade": true,
                    "grade_id": "test2_3",
                    "locked": true,
                    "points": 1,
                    "schema_version": 1,
                    "solution": false
                },
                "editable": false,
                "deletable": false
            },
            "outputs": [],
            "source": [
                "###\n",
                "### AUTOGRADER TEST - DO NOT REMOVE\n",
                "###\n"
            ]
        },
        {
            "cell_type": "markdown",
            "metadata": {},
            "source": [
                "**Question 4.** Using a simulation with 10,000 trials, assign `chance_of_all_different` to an estimate of the chance that if you pick three words from Pride and Prejudice uniformly at random (with replacement), they all have different lengths. \n",
                "\n",
                "*Caution*: The inequality operator `!=` does not necessarily behave the way you might expect.  It only checks for inequality between pairs of values.  For example, `x != y != z` first checks for inequality between `x` and `y`, then between `y` and `z`, but it does not compare `x` and `z`.  So `2 != 3 != 2` actually returns `True`.  But that doesn't mean that 2, 3, and 2 are all different!  On the other hand, `x != y != z != x` would also compare `x` and `z`.  So `2 != 3 != 2 != 2` returns `False`."
            ]
        },
        {
            "cell_type": "code",
            "execution_count": null,
            "metadata": {
                "collapsed": false,
                "for_assignment_type": "student"
            },
            "outputs": [],
            "source": [
                "trials = 10000\n",
                "different = ...\n",
                "\n",
                "# Uncomment and fill in:\n",
                "\n",
                "#for ... in ... :\n",
                "#    ...\n",
                "\n",
                "chance_of_all_different = ...\n",
                "\n",
                "chance_of_all_different"
            ]
        },
        {
            "cell_type": "code",
            "execution_count": null,
            "metadata": {
                "collapsed": false
            },
            "outputs": [],
            "source": [
                "check2_4(chance_of_all_different)"
            ]
        },
        {
            "cell_type": "code",
            "execution_count": null,
            "metadata": {
                "collapsed": true,
                "nbgrader": {
                    "grade": true,
                    "grade_id": "test2_4",
                    "locked": true,
                    "points": 1,
                    "schema_version": 1,
                    "solution": false
                },
                "editable": false,
                "deletable": false
            },
            "outputs": [],
            "source": [
                "###\n",
                "### AUTOGRADER TEST - DO NOT REMOVE\n",
                "###\n"
            ]
        },
        {
            "cell_type": "markdown",
            "metadata": {},
            "source": [
                "** Question 5. ** Quincy is drafting Basketball Players for his NBA Fantasy League. He chooses 10 times randomly from a list of players, and drafts the player regardless of whether the player has been chosen before. (So he could have 10 Kevin Durant's on his team.) Simulate Quincy's draft, and count how many times John Wall is chosen in it."
            ]
        },
        {
            "cell_type": "code",
            "execution_count": null,
            "metadata": {
                "collapsed": false,
                "for_assignment_type": "student"
            },
            "outputs": [],
            "source": [
                "players = [\"John Wall\", \"Steph Curry\", \"Kevin Durant\", \"Jimmy Butler\", \"Russell Westbrook\"]\n",
                "draft_picks = ...\n",
                "num_wall = ...\n",
                "\n",
                "#for ... in ...:\n",
                "#    ...\n",
                "\n",
                "\n",
                "num_wall"
            ]
        },
        {
            "cell_type": "code",
            "execution_count": null,
            "metadata": {
                "collapsed": false
            },
            "outputs": [],
            "source": [
                "check2_5(num_wall)"
            ]
        },
        {
            "cell_type": "code",
            "execution_count": null,
            "metadata": {
                "collapsed": true,
                "nbgrader": {
                    "grade": true,
                    "grade_id": "test2_5",
                    "locked": true,
                    "points": 1,
                    "schema_version": 1,
                    "solution": false
                },
                "editable": false,
                "deletable": false
            },
            "outputs": [],
            "source": [
                "###\n",
                "### AUTOGRADER TEST - DO NOT REMOVE\n",
                "###\n"
            ]
        },
        {
            "cell_type": "markdown",
            "metadata": {},
            "source": [
                "## 3. Finding Probabilities\n",
                "\n",
                "After a long day of class, Clay decides to go to Oakenshields for dinner. Today's menu has Clay's four favorite foods: enchiladas, hamburgers, pizza, and spaghetti. However, each dish has a 30% chance of running out before Clay can get there."
            ]
        },
        {
            "cell_type": "markdown",
            "metadata": {},
            "source": [
                "**Question 1.** What is the probability that Oakenshields will still have pizza when Clay arrives?"
            ]
        },
        {
            "cell_type": "code",
            "execution_count": null,
            "metadata": {
                "collapsed": true
            },
            "outputs": [],
            "source": [
                "pizza_prob = ...\n"
            ]
        },
        {
            "cell_type": "code",
            "execution_count": null,
            "metadata": {
                "collapsed": false
            },
            "outputs": [],
            "source": [
                "check3_1(pizza_prob)"
            ]
        },
        {
            "cell_type": "code",
            "execution_count": null,
            "metadata": {
                "collapsed": true,
                "nbgrader": {
                    "grade": true,
                    "grade_id": "test3_1",
                    "locked": true,
                    "points": 1,
                    "schema_version": 1,
                    "solution": false
                },
                "editable": false,
                "deletable": false
            },
            "outputs": [],
            "source": [
                "###\n",
                "### AUTOGRADER TEST - DO NOT REMOVE\n",
                "###\n"
            ]
        },
        {
            "cell_type": "markdown",
            "metadata": {},
            "source": [
                "**Question 2.** What is the probability that Oakenshields will still have all four foods available when Clay arrives?"
            ]
        },
        {
            "cell_type": "code",
            "execution_count": null,
            "metadata": {
                "collapsed": true
            },
            "outputs": [],
            "source": [
                "all_prob = ...\n"
            ]
        },
        {
            "cell_type": "code",
            "execution_count": null,
            "metadata": {
                "collapsed": false
            },
            "outputs": [],
            "source": [
                "check3_2(all_prob)"
            ]
        },
        {
            "cell_type": "code",
            "execution_count": null,
            "metadata": {
                "collapsed": true,
                "nbgrader": {
                    "grade": true,
                    "grade_id": "test3_2",
                    "locked": true,
                    "points": 1,
                    "schema_version": 1,
                    "solution": false
                },
                "editable": false,
                "deletable": false
            },
            "outputs": [],
            "source": [
                "###\n",
                "### AUTOGRADER TEST - DO NOT REMOVE\n",
                "###\n"
            ]
        },
        {
            "cell_type": "markdown",
            "metadata": {},
            "source": [
                "**Question 3.** What is the probability that Oakenshields will run out of at least one food before Clay can get there?"
            ]
        },
        {
            "cell_type": "code",
            "execution_count": null,
            "metadata": {
                "collapsed": true
            },
            "outputs": [],
            "source": [
                "something_is_out = ...\n"
            ]
        },
        {
            "cell_type": "code",
            "execution_count": null,
            "metadata": {
                "collapsed": false
            },
            "outputs": [],
            "source": [
                "check3_3(something_is_out)"
            ]
        },
        {
            "cell_type": "code",
            "execution_count": null,
            "metadata": {
                "collapsed": true,
                "nbgrader": {
                    "grade": true,
                    "grade_id": "test3_3",
                    "locked": true,
                    "points": 1,
                    "schema_version": 1,
                    "solution": false
                },
                "editable": false,
                "deletable": false
            },
            "outputs": [],
            "source": [
                "###\n",
                "### AUTOGRADER TEST - DO NOT REMOVE\n",
                "###\n"
            ]
        },
        {
            "cell_type": "markdown",
            "metadata": {},
            "source": [
                "To make up for their unpredictable food supply, Oakenshields decides to hold a contest for some free Cornell Dining swag. There is a bag with two red marbles, two green marbles, and two blue marbles. Clay has to draw three marbles separately. In order to win, all three of these marbles must be of different colors. Clay does not put the drawn marbles back in the bag for the next draw."
            ]
        },
        {
            "cell_type": "markdown",
            "metadata": {},
            "source": [
                "**Question 4.** What is the probability of Clay winning the contest?"
            ]
        },
        {
            "cell_type": "code",
            "execution_count": null,
            "metadata": {
                "collapsed": true
            },
            "outputs": [],
            "source": [
                "winning_prob = ...\n"
            ]
        },
        {
            "cell_type": "code",
            "execution_count": null,
            "metadata": {
                "collapsed": false
            },
            "outputs": [],
            "source": [
                "check3_4(winning_prob)"
            ]
        },
        {
            "cell_type": "code",
            "execution_count": null,
            "metadata": {
                "collapsed": true,
                "nbgrader": {
                    "grade": true,
                    "grade_id": "test3_4",
                    "locked": true,
                    "points": 1,
                    "schema_version": 1,
                    "solution": false
                },
                "editable": false,
                "deletable": false
            },
            "outputs": [],
            "source": [
                "###\n",
                "### AUTOGRADER TEST - DO NOT REMOVE\n",
                "###\n"
            ]
        },
        {
            "cell_type": "markdown",
            "metadata": {},
            "source": [
                "## 4. Submit\n",
                "\n",
                "Great job; you're done with this lab!\n",
                "\n",
                "Before submitting, we recommend that you use the menu item Kernel -> Restart & Run All. That will re-run all your cells from scratch, just to make sure they all work as you are expecting.  Take a close look to make sure all your cells are still passing the checks.  Then, if they are, click the red Submit button. \n"
            ]
        }
    ],
    "metadata": {
        "anaconda-cloud": [],
        "celltoolbar": "Create Assignment",
        "kernelspec": {
            "display_name": "Python 3",
            "language": "python",
            "name": "python3"
        },
        "language_info": {
            "codemirror_mode": {
                "name": "ipython",
                "version": 3
            },
            "file_extension": ".py",
            "mimetype": "text\/x-python",
            "name": "python",
            "nbconvert_exporter": "python",
            "pygments_lexer": "ipython3",
            "version": "3.6.0"
        }
    },
    "nbformat": 4,
    "nbformat_minor": 2
}