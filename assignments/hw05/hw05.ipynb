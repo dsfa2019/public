{
    "cells": [
        {
            "cell_type": "markdown",
            "metadata": {},
            "source": [
                "# Homework 5: Hypothesis Testing\n",
                "\n",
                "Reading: Chapter [10](https:\/\/www.cs.cornell.edu\/courses\/cs1380\/2018sp\/textbook\/\/chapters\/10\/testing-hypotheses.html).\n",
                "\n",
                "Interesting and relevant XKCD comics: [here](https:\/\/xkcd.com\/1478\/) and [here](https:\/\/xkcd.com\/882\/).\n",
                "\n",
                "Please complete this notebook by filling in the cells provided. \n",
                "\n",
                "### <font color=\"red\">Before you begin, execute the following cell to load the provided tests. Each time you start your server, you will need to execute this cell again to load the tests.<\/font>"
            ]
        },
        {
            "cell_type": "code",
            "execution_count": null,
            "metadata": {},
            "outputs": [],
            "source": [
                "# Don't change this cell; just run it. \n",
                "\n",
                "import numpy as np\n",
                "from datascience import *\n",
                "\n",
                "%matplotlib inline\n",
                "import matplotlib.pyplot as plots\n",
                "plots.style.use('fivethirtyeight')\n",
                "\n",
                "from test import *"
            ]
        },
        {
            "cell_type": "markdown",
            "metadata": {},
            "source": [
                "## 1. Catching Cheaters at the Casino\n"
            ]
        },
        {
            "cell_type": "markdown",
            "metadata": {},
            "source": [
                "Suppose you are a casino owner, and your casino runs a very simple game of chance using coins.  The dealer flips a (*hopefully fair*) coin.  The customer wins \\$7 from the casino if it comes up heads and loses \\$10 if it comes up tails."
            ]
        },
        {
            "cell_type": "markdown",
            "metadata": {},
            "source": [
                "**Question 1.** Assuming no one is cheating and the coin is fair (i.e. a 50% chance of heads and a 50% chance of tails), if a customer plays three times, what is the chance they make money?\n",
                "\n",
                "*Hint*: Think about the number of different outcomes that results in the customer winning."
            ]
        },
        {
            "cell_type": "code",
            "execution_count": null,
            "metadata": {
                "deletable": false,
                "manual_grade": true,
                "manual_problem_id": "catching_cheaters_1"
            },
            "outputs": [],
            "source": [
                "p_winning_after_two_flips = ...\n"
            ]
        },
        {
            "cell_type": "code",
            "execution_count": null,
            "metadata": {},
            "outputs": [],
            "source": [
                "check1_1(p_winning_after_two_flips)"
            ]
        },
        {
            "cell_type": "code",
            "execution_count": null,
            "metadata": {
                "nbgrader": {
                    "grade": true,
                    "grade_id": "test1_1",
                    "locked": true,
                    "points": 1,
                    "schema_version": 1,
                    "solution": false
                },
                "editable": false,
                "deletable": false
            },
            "outputs": [],
            "source": [
                "###\n",
                "### AUTOGRADER TEST - DO NOT REMOVE\n",
                "###\n"
            ]
        },
        {
            "cell_type": "markdown",
            "metadata": {},
            "source": [
                "A certain customer plays the game 20 times and wins 14 of the bets.  You suspect that the customer is cheating!  That is, you think that their chance of winning is higher than the normal chance of winning.\n",
                "\n",
                "You decide to test your hunch using the outcomes of the 20 games you observed."
            ]
        },
        {
            "cell_type": "markdown",
            "metadata": {},
            "source": [
                "#### Question 2\n",
                "Define the null hypothesis and alternative hypothesis for this investigation."
            ]
        },
        {
            "cell_type": "markdown",
            "metadata": {
                "deletable": false,
                "for_assignment_type": "student",
                "manual_grade": true,
                "manual_problem_id": "catching_cheaters_2",
                "nbgrader": {
                    "grade": true,
                    "grade_id": "manual1_2",
                    "locked": false,
                    "points": 1,
                    "schema_version": 1,
                    "solution": true
                }
            },
            "source": [
                "**Null hypothesis:** ...\n",
                "\n",
                "**Alternative hypothesis:** ..."
            ]
        },
        {
            "cell_type": "code",
            "execution_count": null,
            "metadata": {},
            "outputs": [],
            "source": [
                "# DO NOT DELETE THIS CELL\n"
            ]
        },
        {
            "cell_type": "markdown",
            "metadata": {},
            "source": [
                "**Question 3.** Given the outcome of 20 games, which of the following test statistics would be a reasonable choice for this hypothesis test?\n",
                "\n",
                "1. Whether there is at least one win.\n",
                "1. Whether there is at least one loss.\n",
                "1. The number of wins.\n",
                "1. The number of wins minus the number of losses.\n",
                "1. The total variation distance between the probability distribution of a fair coin and the observed distribution of heads and tails.\n",
                "1. The total amount of money that the customer won.\n",
                "\n",
                "Assign `reasonable_test_statistics` to a **list** of numbers corresponding to these test statistics.\n",
                "\n",
                "*Hint*: Think about which statistic gives evidence that the alternative hypothesis you wrote down is correct."
            ]
        },
        {
            "cell_type": "code",
            "execution_count": null,
            "metadata": {},
            "outputs": [],
            "source": [
                "reasonable_test_statistics = ...\n"
            ]
        },
        {
            "cell_type": "code",
            "execution_count": null,
            "metadata": {},
            "outputs": [],
            "source": [
                "check1_3(reasonable_test_statistics)"
            ]
        },
        {
            "cell_type": "code",
            "execution_count": null,
            "metadata": {
                "nbgrader": {
                    "grade": true,
                    "grade_id": "test1_3",
                    "locked": true,
                    "points": 1,
                    "schema_version": 1,
                    "solution": false
                },
                "editable": false,
                "deletable": false
            },
            "outputs": [],
            "source": [
                "###\n",
                "### AUTOGRADER TEST - DO NOT REMOVE\n",
                "###\n"
            ]
        },
        {
            "cell_type": "markdown",
            "metadata": {},
            "source": [
                "**Question 4.** Write a function called `simulate`.  It should take no arguments.  It should return the number of wins in 20 games simulated under the assumption that the result of each game is sampled from a fair coin (*the null hypothesis*).\n",
                "\n",
                "*Hint*: Use the .sample() function"
            ]
        },
        {
            "cell_type": "code",
            "execution_count": null,
            "metadata": {},
            "outputs": [],
            "source": [
                "def simulate():\n",
                "    return ...\n",
                "\n",
                "\n",
                "simulate()"
            ]
        },
        {
            "cell_type": "code",
            "execution_count": null,
            "metadata": {},
            "outputs": [],
            "source": [
                "check1_4(simulate)"
            ]
        },
        {
            "cell_type": "code",
            "execution_count": null,
            "metadata": {
                "nbgrader": {
                    "grade": true,
                    "grade_id": "test1_4",
                    "locked": true,
                    "points": 1,
                    "schema_version": 1,
                    "solution": false
                },
                "editable": false,
                "deletable": false
            },
            "outputs": [],
            "source": [
                "###\n",
                "### AUTOGRADER TEST - DO NOT REMOVE\n",
                "###\n"
            ]
        },
        {
            "cell_type": "markdown",
            "metadata": {},
            "source": [
                "**Question 5.** Using a 10,000 trial simulation, generate a histogram of the empirical distribution of the number of wins in 20 games."
            ]
        },
        {
            "cell_type": "code",
            "execution_count": null,
            "metadata": {
                "deletable": false,
                "for_assignment_type": "student",
                "manual_grade": true,
                "manual_problem_id": "catching_cheaters_5",
                "nbgrader": {
                    "grade": true,
                    "grade_id": "manual1_5",
                    "locked": false,
                    "points": 1,
                    "schema_version": 1,
                    "solution": true
                }
            },
            "outputs": [],
            "source": [
                "test_statistics_under_null = ... # store the results of your simulations into this variable\n",
                "... # plot a histogram using test_statistics_under_null\n",
                "\n"
            ]
        },
        {
            "cell_type": "markdown",
            "metadata": {},
            "source": [
                "**Question 6.** Compute an empirical P-value for this test."
            ]
        },
        {
            "cell_type": "code",
            "execution_count": null,
            "metadata": {},
            "outputs": [],
            "source": [
                "p_value = ...\n"
            ]
        },
        {
            "cell_type": "code",
            "execution_count": null,
            "metadata": {},
            "outputs": [],
            "source": [
                "check1_6(p_value)"
            ]
        },
        {
            "cell_type": "code",
            "execution_count": null,
            "metadata": {
                "nbgrader": {
                    "grade": true,
                    "grade_id": "test1_6",
                    "locked": true,
                    "points": 1,
                    "schema_version": 1,
                    "solution": false
                },
                "editable": false,
                "deletable": false
            },
            "outputs": [],
            "source": [
                "###\n",
                "### AUTOGRADER TEST - DO NOT REMOVE\n",
                "###\n"
            ]
        },
        {
            "cell_type": "markdown",
            "metadata": {},
            "source": [
                "#### Question 7\n",
                "You want to be very sure that the customer is cheating before accusing them.  Suppose you use a P-value cutoff of 1%, according to the arbitrary conventions of hypothesis testing.  What do you conclude?\n",
                "\n",
                "1. The result of the test is not significant. We fail to reject the null hypothesis.\n",
                "2. The result of the test is significant. We reject the null hypothesis.\n",
                "\n",
                "Assign `conclusion` to a **int** representing your conclusion."
            ]
        },
        {
            "cell_type": "code",
            "execution_count": null,
            "metadata": {},
            "outputs": [],
            "source": [
                "conclusion = ...\n"
            ]
        },
        {
            "cell_type": "code",
            "execution_count": null,
            "metadata": {},
            "outputs": [],
            "source": [
                "check1_7(conclusion)"
            ]
        },
        {
            "cell_type": "code",
            "execution_count": null,
            "metadata": {
                "nbgrader": {
                    "grade": true,
                    "grade_id": "test1_7",
                    "locked": true,
                    "points": 1,
                    "schema_version": 1,
                    "solution": false
                },
                "editable": false,
                "deletable": false
            },
            "outputs": [],
            "source": [
                "###\n",
                "### AUTOGRADER TEST - DO NOT REMOVE\n",
                "###\n"
            ]
        },
        {
            "cell_type": "markdown",
            "metadata": {},
            "source": [
                "#### Question 8\n",
                "Is `p_value` the probability that the customer cheated, or the probability that the customer did not cheat, or neither?\n",
                "\n",
                "1. the probability that the customer cheated\n",
                "2. the probability that the customer did not cheat\n",
                "3. neither\n",
                "\n",
                "Assign `p_value_probability` to an **int** representing your choice."
            ]
        },
        {
            "cell_type": "code",
            "execution_count": null,
            "metadata": {},
            "outputs": [],
            "source": [
                "p_value_probability = ...\n"
            ]
        },
        {
            "cell_type": "code",
            "execution_count": null,
            "metadata": {},
            "outputs": [],
            "source": [
                "check1_8(p_value_probability)"
            ]
        },
        {
            "cell_type": "code",
            "execution_count": null,
            "metadata": {
                "nbgrader": {
                    "grade": true,
                    "grade_id": "test1_8",
                    "locked": true,
                    "points": 1,
                    "schema_version": 1,
                    "solution": false
                },
                "editable": false,
                "deletable": false
            },
            "outputs": [],
            "source": [
                "###\n",
                "### AUTOGRADER TEST - DO NOT REMOVE\n",
                "###\n"
            ]
        },
        {
            "cell_type": "markdown",
            "metadata": {
                "deletable": false,
                "manual_grade": true,
                "manual_problem_id": "catching_cheaters_8"
            },
            "source": [
                "#### Question 9\n",
                "Is 1% (the P-value cutoff) the probability that the customer cheated, or the probability that the customer did not cheat, or neither?\n",
                "\n",
                "1. the probability that the customer cheated\n",
                "2. the probability that the customer didn't cheat\n",
                "3. neither\n",
                "\n",
                "Assign `p_value_cutoff_probability` to a **int** representing your choice."
            ]
        },
        {
            "cell_type": "code",
            "execution_count": null,
            "metadata": {},
            "outputs": [],
            "source": [
                "p_value_cutoff_probability = ...\n"
            ]
        },
        {
            "cell_type": "code",
            "execution_count": null,
            "metadata": {},
            "outputs": [],
            "source": [
                "check1_9(p_value_cutoff_probability)"
            ]
        },
        {
            "cell_type": "code",
            "execution_count": null,
            "metadata": {
                "nbgrader": {
                    "grade": true,
                    "grade_id": "test1_9",
                    "locked": true,
                    "points": 1,
                    "schema_version": 1,
                    "solution": false
                },
                "editable": false,
                "deletable": false
            },
            "outputs": [],
            "source": [
                "###\n",
                "### AUTOGRADER TEST - DO NOT REMOVE\n",
                "###\n"
            ]
        },
        {
            "cell_type": "markdown",
            "metadata": {},
            "source": [
                "**Question 10**\n",
                "\n",
                "Suppose you run this test for 500 different customers after observing each customer play 20 games.  When you reject the null hypothesis for a customer, you accuse that customer of cheating.  If no customers were actually cheating, how many would you expect to accuse, on average (if any)?  Assume a 1% P-value cutoff. Explain your answer."
            ]
        },
        {
            "cell_type": "markdown",
            "metadata": {
                "nbgrader": {
                    "grade": true,
                    "grade_id": "manual1_10",
                    "locked": false,
                    "points": 1,
                    "schema_version": 1,
                    "solution": true
                }
            },
            "source": [
                "*Write your answer here, replacing this text.*"
            ]
        },
        {
            "cell_type": "code",
            "execution_count": null,
            "metadata": {},
            "outputs": [],
            "source": [
                "# DO NOT DELETE THIS CELL\n"
            ]
        },
        {
            "cell_type": "markdown",
            "metadata": {},
            "source": [
                "## 2. Testing Dice\n"
            ]
        },
        {
            "cell_type": "markdown",
            "metadata": {},
            "source": [
                "Students in a Data Science class want to figure out whether a six-sided die is fair or not. On a fair die, each face of the die appears with chance 1\/6 on each roll, regardless of the results of other rolls.  Otherwise, a die is called unfair.  We can describe a die by the probability of landing on each face.  For example, this table describes a die that is unfairly weighted toward 1:\n",
                "\n",
                "|Face|Probability|\n",
                "|--|\n",
                "|1|.5|\n",
                "|2|.1|\n",
                "|3|.1|\n",
                "|4|.1|\n",
                "|5|.1|\n",
                "|6|.1|\n",
                "\n"
            ]
        },
        {
            "cell_type": "markdown",
            "metadata": {},
            "source": [
                "#### Question 1\n",
                "Define a null hypothesis and an alternative hypothesis for this question."
            ]
        },
        {
            "cell_type": "markdown",
            "metadata": {
                "deletable": false,
                "for_assignment_type": "student",
                "manual_grade": true,
                "manual_problem_id": "testing_dice_1",
                "nbgrader": {
                    "grade": true,
                    "grade_id": "manual2_1",
                    "locked": false,
                    "points": 1,
                    "schema_version": 1,
                    "solution": true
                }
            },
            "source": [
                "**Null hypothesis:** ...\n",
                "\n",
                "**Alternative hypothesis:** ..."
            ]
        },
        {
            "cell_type": "code",
            "execution_count": null,
            "metadata": {},
            "outputs": [],
            "source": [
                "# DO NOT DELETE THIS CELL\n"
            ]
        },
        {
            "cell_type": "markdown",
            "metadata": {},
            "source": [
                "We decide to test the die by rolling it 5 times. The proportions of the 6 faces in these 5 rolls are stored in a table with 6 rows.  For example, here is the table we'd make if the die rolls ended up being 1, 2, 3, 3, and 5:\n",
                "\n",
                "|Face|Proportion|\n",
                "|--|\n",
                "|1|.2|\n",
                "|2|.2|\n",
                "|3|.4|\n",
                "|4|.0|\n",
                "|5|.2|\n",
                "|6|.0|\n",
                "\n",
                "The function `mystery_test_statistic`, defined below, takes a single table like this as its argument and returns a number (which we will use as a test statistic)."
            ]
        },
        {
            "cell_type": "code",
            "execution_count": null,
            "metadata": {},
            "outputs": [],
            "source": [
                "# Note: We've intentionally used obscurantist function and\n",
                "# variable names to avoid giving away answers.  It's rarely\n",
                "# a good idea to use names like \"x\" in your code.  It makes\n",
                "# it difficult for other people to read your code, like us!\n",
                "\n",
                "def mystery_test_statistic(sample):\n",
                "    x = sum(sample.column(\"Face\")*sample.column(\"Proportion\"))\n",
                "    y = np.mean(np.arange(1, 6+1, 1))\n",
                "    return abs(x - y)"
            ]
        },
        {
            "cell_type": "markdown",
            "metadata": {},
            "source": [
                "#### Question 2\n",
                "Describe in English what the test statistic is.  Is it equivalent to the total variation distance between the observed face distribution and the fair die distribution?"
            ]
        },
        {
            "cell_type": "markdown",
            "metadata": {
                "deletable": false,
                "manual_grade": true,
                "manual_problem_id": "testing_dice_2",
                "nbgrader": {
                    "grade": true,
                    "grade_id": "manual2_2",
                    "locked": false,
                    "points": 1,
                    "schema_version": 1,
                    "solution": true
                }
            },
            "source": [
                "*Write your answer here, replacing this text.*"
            ]
        },
        {
            "cell_type": "code",
            "execution_count": null,
            "metadata": {},
            "outputs": [],
            "source": [
                "# DO NOT DELETE THIS CELL\n"
            ]
        },
        {
            "cell_type": "markdown",
            "metadata": {},
            "source": [
                "The function `simulate_observations_and_test` takes as its argument a table describing the probability distribution of a die.  It simulates one set of 5 rolls of that die, then tests the null hypothesis about that die using our test statistic function above.  It returns `False` if it __*rejects*__ the null hypothesis about the die, and `True` otherwise.\n",
                "\n",
                "Run the cell multiple times and notice the result of the function"
            ]
        },
        {
            "cell_type": "code",
            "execution_count": null,
            "metadata": {},
            "outputs": [],
            "source": [
                "# The probability distribution table for a fair die:\n",
                "fair_die = Table().with_columns(\n",
                "        \"Face\", np.arange(1, 6+1),\n",
                "        \"Probability\", [1\/6, 1\/6, 1\/6, 1\/6, 1\/6, 1\/6])\n",
                "\n",
                "def simulate_observations_and_test(actual_die):\n",
                "    \"\"\"Simulates die rolls from actual_die and tests the hypothesis that the die is fair.\n",
                "    \n",
                "    Returns True if that hypothesis is accepted, and False otherwise.\"\"\"\n",
                "    sample_size = 5\n",
                "    p_value_cutoff = .3\n",
                "    num_simulations = 250\n",
                "    \n",
                "    observation_set = proportions_from_distribution(actual_die, \"Probability\", sample_size)\n",
                "    actual_statistic = mystery_test_statistic(observation_set.relabeled(\"Random Sample\", \"Proportion\"))\n",
                "    \n",
                "    simulated_statistics = make_array()\n",
                "    for _ in np.arange(num_simulations):\n",
                "        one_observation_set_under_null = proportions_from_distribution(fair_die, \"Probability\", sample_size)\n",
                "        simulated_statistic = mystery_test_statistic(one_observation_set_under_null.relabeled(\"Random Sample\", \"Proportion\"))\n",
                "        simulated_statistics = np.append(simulated_statistics, simulated_statistic)\n",
                "    p_value = np.count_nonzero(actual_statistic < simulated_statistics) \/ num_simulations\n",
                "    \n",
                "    return p_value >= p_value_cutoff\n",
                "\n",
                "# Calling the function to simulate a test of a fair die:\n",
                "simulate_observations_and_test(fair_die)"
            ]
        },
        {
            "cell_type": "markdown",
            "metadata": {},
            "source": [
                "#### Question 3\n",
                "By examining `simulate_observations_and_test`, compute the probability that it returns `False` when its argument is `fair_die` (which is defined above the function).  You can call the function a few times to see what it does, but **don't** perform a simulation to compute this probability.  Use your knowledge of hypothesis tests and examining the code carefully."
            ]
        },
        {
            "cell_type": "code",
            "execution_count": null,
            "metadata": {},
            "outputs": [],
            "source": [
                "probability_of_false = ...\n"
            ]
        },
        {
            "cell_type": "code",
            "execution_count": null,
            "metadata": {},
            "outputs": [],
            "source": [
                "check2_3(probability_of_false)"
            ]
        },
        {
            "cell_type": "code",
            "execution_count": null,
            "metadata": {
                "nbgrader": {
                    "grade": true,
                    "grade_id": "test2_3",
                    "locked": true,
                    "points": 1,
                    "schema_version": 1,
                    "solution": false
                },
                "editable": false,
                "deletable": false
            },
            "outputs": [],
            "source": [
                "###\n",
                "### AUTOGRADER TEST - DO NOT REMOVE\n",
                "###\n"
            ]
        },
        {
            "cell_type": "markdown",
            "metadata": {},
            "source": [
                "#### Question 4\n",
                "\n",
                "From the perspective of someone who wants to know the truth about the die, is it good or bad for the function to return `False` when its argument is `fair_die`?"
            ]
        },
        {
            "cell_type": "markdown",
            "metadata": {
                "deletable": false,
                "manual_grade": true,
                "manual_problem_id": "testing_dice_4",
                "nbgrader": {
                    "grade": true,
                    "grade_id": "manual2_4",
                    "locked": false,
                    "points": 1,
                    "schema_version": 1,
                    "solution": true
                }
            },
            "source": [
                "*Write your answer here, replacing this text.*"
            ]
        },
        {
            "cell_type": "code",
            "execution_count": null,
            "metadata": {},
            "outputs": [],
            "source": [
                "# DO NOT DELETE THIS CELL\n"
            ]
        },
        {
            "cell_type": "markdown",
            "metadata": {},
            "source": [
                "This problem is known as a Type I Error (see Wikipedia [here](https:\/\/en.wikipedia.org\/wiki\/Type_I_and_type_II_errors)).  Generally when making a hypothesis test we pick our p-value cutoff (and test statistic) to be small, like 1% or so, in order to ensure that the probability of this happening is low."
            ]
        },
        {
            "cell_type": "markdown",
            "metadata": {},
            "source": [
                "#### Question 5\n",
                "Verify your answer to question 3 by simulation, computing an approximate probability that `simulation_observations_and_test` returns `False`.  \n",
                "\n",
                "*Hint:* You can use the `simulate_observations_and_test` function defined earlier.\n",
                "\n",
                "\n",
                "<font color=\"red\">**Note:** This simulation shouldn't take very long to run; only about 15 seconds on Vocareum.  Please be Patient<\/font>"
            ]
        },
        {
            "cell_type": "code",
            "execution_count": null,
            "metadata": {
                "for_assignment_type": "student"
            },
            "outputs": [],
            "source": [
                "num_test_simulations = 300\n",
                "\n",
                "# For reference, the staff solution involved 6 lines of code before this.\n",
                "...\n",
                "approximate_probability_of_false = ...\n",
                "approximate_probability_of_false"
            ]
        },
        {
            "cell_type": "code",
            "execution_count": null,
            "metadata": {},
            "outputs": [],
            "source": [
                "check2_5(approximate_probability_of_false)"
            ]
        },
        {
            "cell_type": "code",
            "execution_count": null,
            "metadata": {
                "nbgrader": {
                    "grade": true,
                    "grade_id": "test2_5",
                    "locked": true,
                    "points": 1,
                    "schema_version": 1,
                    "solution": false
                },
                "editable": false,
                "deletable": false
            },
            "outputs": [],
            "source": [
                "###\n",
                "### AUTOGRADER TEST - DO NOT REMOVE\n",
                "###\n"
            ]
        },
        {
            "cell_type": "markdown",
            "metadata": {},
            "source": [
                "## 3. Landing a Spacecraft\n"
            ]
        },
        {
            "cell_type": "markdown",
            "metadata": {},
            "source": [
                "(Note: This problem describes something that's close to [a real story with a very exciting video](http:\/\/www.space.com\/29119-spacex-reusable-rocket-landing-crash-video.html), but the details have been changed somewhat poorly.)\n",
                "\n",
                "SpaceY, a company that builds and tests spacecraft, is testing a new reusable launch system.  Most spacecrafts use a \"first stage\" rocket that propels a smaller payload craft away from Earth, then falls back to the ground and crashes.  SpaceY's new system is designed to land safely at a landing pad at a certain location, ready for later reuse.  If it doesn't land in the right location, it crashes, and the (very expensive) vehicle is destroyed.\n",
                "\n",
                "SpaceY has tested this system over 1000 times.  Ordinarily, the vehicle doesn't land exactly on the landing pad.  For example, a gust of wind might move it by a few meters just before it lands.  It's reasonable to think of these small errors as random.  That is, the landing locations are drawn from some distribution over locations on the surface of Earth, centered around the landing pad.\n",
                "\n",
                "Run the next cell to see a plot of those locations."
            ]
        },
        {
            "cell_type": "code",
            "execution_count": null,
            "metadata": {},
            "outputs": [],
            "source": [
                "ordinary_landing_spots = Table.read_table(\"ordinary_landing_spots.csv\")\n",
                "ordinary_landing_spots.scatter(\"x\", label=\"Landing locations\")\n",
                "plots.scatter(0, 0, c=\"w\", s=1000, marker=\"*\", label=\"Landing pad\")\n",
                "plots.legend(scatterpoints=1, bbox_to_anchor=(1.6, .5));"
            ]
        },
        {
            "cell_type": "markdown",
            "metadata": {},
            "source": [
                "During one test, the vehicle lands far away from the landing pad and crashes.  SpaceY investigators suspect there was a problem unique to this landing, a problem that wasn't part of the ordinary pattern of variation in landing locations.  They think a software error in the guidance system caused the craft to incorrectly attempt to land at a spot other than the landing pad.  The guidance system engineers think there was nothing out of the ordinary in this landing, and that there was no special problem with the guidance system.\n",
                "\n",
                "Run the cell below to see a plot of the 1100 ordinary landings and the crash."
            ]
        },
        {
            "cell_type": "code",
            "execution_count": null,
            "metadata": {},
            "outputs": [],
            "source": [
                "landing_spot = make_array(80.59, 30.91)\n",
                "ordinary_landing_spots.scatter(\"x\", label=\"Other landings\")\n",
                "plots.scatter(0, 0, c=\"w\", s=1000, marker=\"*\", label=\"Landing pad\")\n",
                "plots.scatter(landing_spot.item(0), landing_spot.item(1), marker=\"*\", c=\"r\", s=1000, label=\"Crash site\")\n",
                "plots.legend(scatterpoints=1, bbox_to_anchor=(1.6, .5));"
            ]
        },
        {
            "cell_type": "markdown",
            "metadata": {},
            "source": [
                "#### Question 1\n",
                "Suppose we'd like to use hypothesis testing to shed light on this question.  We've written down an alternative hypothesis below.  What is a reasonable null hypothesis?"
            ]
        },
        {
            "cell_type": "markdown",
            "metadata": {
                "for_assignment_type": "student",
                "nbgrader": {
                    "grade": true,
                    "grade_id": "manual3_1",
                    "locked": false,
                    "points": 1,
                    "schema_version": 1,
                    "solution": true
                }
            },
            "source": [
                "**Null hypothesis:** ...\n",
                "\n",
                "**Alternative hypothesis:** This landing was special; its location was a draw from some other distribution, not the distribution from which the other 1100 landing locations were drawn."
            ]
        },
        {
            "cell_type": "code",
            "execution_count": null,
            "metadata": {},
            "outputs": [],
            "source": [
                "# DO NOT DELETE THIS CELL\n"
            ]
        },
        {
            "cell_type": "markdown",
            "metadata": {},
            "source": [
                "#### Question 2\n",
                "Write a function called `landing_test_statistic`.  It should take two arguments: an \"x\" location and a \"y\" location (both numbers).  It should return the distance between those coordinates and the origin (0,0).  \n",
                "\n",
                "*Hint:* use the [Pythagorean theorem](https:\/\/en.wikipedia.org\/wiki\/Pythagorean_theorem)."
            ]
        },
        {
            "cell_type": "code",
            "execution_count": null,
            "metadata": {},
            "outputs": [],
            "source": [
                "def landing_test_statistic(x_coordinate, y_coordinate):\n",
                "    return ...\n",
                "    \n"
            ]
        },
        {
            "cell_type": "code",
            "execution_count": null,
            "metadata": {},
            "outputs": [],
            "source": [
                "check3_2(landing_test_statistic)"
            ]
        },
        {
            "cell_type": "code",
            "execution_count": null,
            "metadata": {
                "nbgrader": {
                    "grade": true,
                    "grade_id": "test3_2",
                    "locked": true,
                    "points": 1,
                    "schema_version": 1,
                    "solution": false
                },
                "editable": false,
                "deletable": false
            },
            "outputs": [],
            "source": [
                "###\n",
                "### AUTOGRADER TEST - DO NOT REMOVE\n",
                "###\n"
            ]
        },
        {
            "cell_type": "markdown",
            "metadata": {},
            "source": [
                "#### Question 3\n",
                "The cell below computes a P-value using your test statistic.  Describe the test procedure in words.  Is there a simulation involved?  If so, what is being simulated? If not, why not?"
            ]
        },
        {
            "cell_type": "code",
            "execution_count": null,
            "metadata": {},
            "outputs": [],
            "source": [
                "test_stat = landing_test_statistic(\n",
                "    landing_spot.item(0),\n",
                "    landing_spot.item(1))\n",
                "\n",
                "null_stats = make_array()\n",
                "for i in np.arange(ordinary_landing_spots.num_rows):\n",
                "    null_stat = landing_test_statistic(\n",
                "        ordinary_landing_spots.column('x').item(i),\n",
                "        ordinary_landing_spots.column('y').item(i))\n",
                "    null_stats = np.append(null_stats, null_stat)\n",
                "\n",
                "p_value = np.count_nonzero(null_stats > test_stat) \/ len(null_stats)\n",
                "p_value"
            ]
        },
        {
            "cell_type": "markdown",
            "metadata": {
                "nbgrader": {
                    "grade": true,
                    "grade_id": "manual3_3",
                    "locked": false,
                    "points": 1,
                    "schema_version": 1,
                    "solution": true
                }
            },
            "source": [
                "*Write your answer here, replacing this text.*"
            ]
        },
        {
            "cell_type": "code",
            "execution_count": null,
            "metadata": {},
            "outputs": [],
            "source": [
                "# DO NOT DELETE THIS CELL\n"
            ]
        },
        {
            "cell_type": "markdown",
            "metadata": {},
            "source": [
                "#### Question 4\n",
                "Does the small p-value indicate that there is a large difference between the landing locations normally and the landing location of the crash site?\n",
                "\n",
                "1. Yes\n",
                "2. No\n",
                "\n",
                "Assign `p_value_difference` to an **int** representing your choice."
            ]
        },
        {
            "cell_type": "code",
            "execution_count": null,
            "metadata": {},
            "outputs": [],
            "source": [
                "p_value_difference = ...\n"
            ]
        },
        {
            "cell_type": "code",
            "execution_count": null,
            "metadata": {},
            "outputs": [],
            "source": [
                "check3_4(p_value_difference)"
            ]
        },
        {
            "cell_type": "code",
            "execution_count": null,
            "metadata": {
                "nbgrader": {
                    "grade": true,
                    "grade_id": "test3_4",
                    "locked": true,
                    "points": 1,
                    "schema_version": 1,
                    "solution": false
                },
                "editable": false,
                "deletable": false
            },
            "outputs": [],
            "source": [
                "###\n",
                "### AUTOGRADER TEST - DO NOT REMOVE\n",
                "###\n"
            ]
        },
        {
            "cell_type": "markdown",
            "metadata": {},
            "source": [
                "## 4. Submission\n"
            ]
        },
        {
            "cell_type": "markdown",
            "metadata": {
                "collapsed": true
            },
            "source": [
                "To submit your assignment, click the red Submit button above. You may submit as many times as you wish before the deadline. Only your final submission will be graded. No late work will be accepted, so please make sure you submit something before the deadline!\n",
                "\n",
                "Before you submit, it would be wise to click on the menu item Kernel -> Restart & Run All. That will re-run all your cells from scratch. Take a second look to make sure all your answers are passing the checks. Doing this will help catch any errors in your homework that result from running cells in a strange order."
            ]
        }
    ],
    "metadata": {
        "celltoolbar": "Create Assignment",
        "kernelspec": {
            "display_name": "Python 3",
            "language": "python",
            "name": "python3"
        },
        "language_info": {
            "codemirror_mode": {
                "name": "ipython",
                "version": 3
            },
            "file_extension": ".py",
            "mimetype": "text\/x-python",
            "name": "python",
            "nbconvert_exporter": "python",
            "pygments_lexer": "ipython3",
            "version": "3.6.5"
        }
    },
    "nbformat": 4,
    "nbformat_minor": 1
}