{
    "cells": [
        {
            "cell_type": "markdown",
            "metadata": {},
            "source": [
                "# Lab 3: Tables\n",
                "\n",
                "Welcome to lab 3!  This week, we'll learn about *tables*, which let us work with multiple arrays of data about the same things.  Tables are described in [Chapter 5](http:\/\/www.cs.cornell.edu\/courses\/cs1380\/2018sp\/textbook\/chapters\/05\/t\n",
                "ables.html) of the text.\n",
                "\n",
                "<img src=\"https:\/\/imgs.xkcd.com\/comics\/is_it_worth_the_time.png\"><\/img>\n",
                "Source: XKCD 1205\n",
                "\n",
                "### <font color='red'>First, set up the tests and imports by running the cell below.<\/color>"
            ]
        },
        {
            "cell_type": "code",
            "execution_count": null,
            "metadata": {},
            "outputs": [],
            "source": [
                "import numpy as np\n",
                "from datascience import *\n",
                "import sys\n",
                "sys.path.append('lab03_tests')\n",
                "from lab03_tests import *\n",
                "# These lines load the tests."
            ]
        },
        {
            "cell_type": "markdown",
            "metadata": {},
            "source": [
                "## 1. Introduction\n",
                "\n",
                "For a collection of things in the world, an array is useful for describing a single attribute of each thing. For example, among the collection of US States, an array could describe the land area of each. Tables extend this idea by describing multiple attributes for each element of a collection.\n",
                "\n",
                "In most data science applications, we have data about many entities, but we also have several kinds of data about each entity.\n",
                "\n",
                "For example, in the cell below we have two arrays. The first one contains the world population in each year (as [estimated](https:\/\/www.census.gov\/popclock\/world) by the US Census Bureau), and the second contains the years themselves (in order, so the first elements in the population and the years arrays correspond)."
            ]
        },
        {
            "cell_type": "code",
            "execution_count": null,
            "metadata": {
                "scrolled": true
            },
            "outputs": [],
            "source": [
                "population_amounts = Table.read_table(\"world_population.csv\").column(\"Population\")\n",
                "years = np.arange(1950, 2015+1)\n",
                "print(\"Population column:\", population_amounts)\n",
                "print(\"Years column:\", years)"
            ]
        },
        {
            "cell_type": "markdown",
            "metadata": {},
            "source": [
                "Suppose we want to answer this question:\n",
                "\n",
                "> When did world population cross 6 billion?\n",
                "\n",
                "You could technically answer this question just from staring at the arrays, but it's a bit convoluted, since you would have to count the position where the population first crossed 6 billion, then find the corresponding element in the years array. In cases like these, it might be easier to put the data into a *`Table`*, a 2-dimensional type of dataset. \n",
                "\n",
                "The expression below:\n",
                "\n",
                "- creates an empty table using the expression `Table()`,\n",
                "- adds two columns by calling `with_columns` with four arguments,\n",
                "- assigns the result to the variable named `population`, and finally\n",
                "- evaluates `population` so that we can see the table.\n",
                "\n",
                "The strings `\"Year\"` and `\"Population\"` are column labels that we have chosen. The names `population_amounts` and `years` were assigned above to two arrays of the same length. The function `with_columns` (you can find the documentation [here](http:\/\/data8.org\/datascience\/tables.html)) takes in alternating strings (to represent column labels) and arrays (representing the data in those columns), which are all separated by commas."
            ]
        },
        {
            "cell_type": "code",
            "execution_count": null,
            "metadata": {},
            "outputs": [],
            "source": [
                "population = Table().with_columns(\n",
                "    \"Population\", population_amounts,\n",
                "    \"Year\", years\n",
                ")\n",
                "population"
            ]
        },
        {
            "cell_type": "markdown",
            "metadata": {},
            "source": [
                "Now the data are all together in a single table! It's much easier to parse this data--if you need to know what the population was in 1959, for example, you can tell from a single glance. We'll revisit this table later."
            ]
        },
        {
            "cell_type": "markdown",
            "metadata": {},
            "source": [
                "### Documentation\n",
                "\n",
                "Documentation is a guideline for how to use different python functions. With this lab we will be working with tables, and the documentation for tables is located [here](http:\/\/data8.org\/datascience\/tables.html).\n",
                "\n",
                "If you click on the website it lists all of the different functions you can call with a table. For example, to make an empty table with the headers 'Hello' and 'World' you would:\n",
                "```\n",
                "Table.empty(['Hello', 'World'])\n",
                "```"
            ]
        },
        {
            "cell_type": "markdown",
            "metadata": {},
            "source": [
                "## 2. Creating Tables\n",
                "\n",
                "**Question 2.1.** In the cell below, we've created 2 arrays. Using the steps above, assign `top_10_movies` to a table that has two columns called \"Rating\" and \"Name\" in order, which hold `top_10_movie_ratings` and `top_10_movie_names` respectively."
            ]
        },
        {
            "cell_type": "code",
            "execution_count": null,
            "metadata": {},
            "outputs": [],
            "source": [
                "top_10_movie_ratings = make_array(9.2, 9.2, 9., 8.9, 8.9, 8.9, 8.9, 8.9, 8.9, 8.8)\n",
                "top_10_movie_names = make_array(\n",
                "        'The Shawshank Redemption (1994)',\n",
                "        'The Godfather (1972)',\n",
                "        'The Godfather: Part II (1974)',\n",
                "        'Pulp Fiction (1994)',\n",
                "        \"Schindler's List (1993)\",\n",
                "        'The Lord of the Rings: The Return of the King (2003)',\n",
                "        '12 Angry Men (1957)',\n",
                "        'The Dark Knight (2008)',\n",
                "        'Il buono, il brutto, il cattivo (1966)',\n",
                "        'The Lord of the Rings: The Fellowship of the Ring (2001)')\n",
                "\n",
                "top_10_movies = ...\n",
                "# We've put this next line here so your table will get printed out when you\n",
                "# run this cell.\n",
                "top_10_movies \n"
            ]
        },
        {
            "cell_type": "code",
            "execution_count": null,
            "metadata": {
                "scrolled": true
            },
            "outputs": [],
            "source": [
                "check2_1(top_10_movies)"
            ]
        },
        {
            "cell_type": "code",
            "execution_count": null,
            "metadata": {
                "nbgrader": {
                    "grade": true,
                    "grade_id": "test2_1",
                    "locked": true,
                    "points": "1",
                    "solution": false
                }
            },
            "outputs": [],
            "source": [
                "#\n",
                "# AUTOGRADER TEST - DO NOT REMOVE\n",
                "#\n"
            ]
        },
        {
            "cell_type": "markdown",
            "metadata": {},
            "source": [
                "#### Loading a table from a file\n",
                "In most cases, we aren't going to go through the trouble of typing in all the data manually. Instead, we can use our `Table` functions.\n",
                "\n",
                "`Table.read_table` takes one argument, a path to a data file (a string) and returns a table.  There are many formats for data files, but CSV (\"comma-separated values\") is the most common.\n",
                "\n",
                "**Question 2.2.** The file `imdb.csv` contains a table of information about the 250 highest-rated movies on IMDb.  Load it as a table called `imdb`."
            ]
        },
        {
            "cell_type": "code",
            "execution_count": null,
            "metadata": {},
            "outputs": [],
            "source": [
                "imdb = ...\n",
                "\n",
                "# The following code is included to print out the table\n",
                "print(imdb)\n"
            ]
        },
        {
            "cell_type": "code",
            "execution_count": null,
            "metadata": {},
            "outputs": [],
            "source": [
                "check2_2(imdb)"
            ]
        },
        {
            "cell_type": "code",
            "execution_count": null,
            "metadata": {
                "nbgrader": {
                    "grade": true,
                    "grade_id": "test2_2",
                    "locked": true,
                    "points": "1",
                    "solution": false
                }
            },
            "outputs": [],
            "source": [
                "#\n",
                "# AUTOGRADER TEST - DO NOT REMOVE\n",
                "#\n"
            ]
        },
        {
            "cell_type": "markdown",
            "metadata": {},
            "source": [
                "Notice the part about \"... (240 rows omitted).\"  This table is big enough that only a few of its rows are displayed, but the others are still there.  10 are shown, so there are 250 movies total.\n",
                "\n",
                "Where did `imdb.csv` come from? Take a look at [this lab's folder](.\/). You should see a file called `imdb.csv`.\n",
                "\n",
                "Open up the `imdb.csv` file in that folder and look at the format. What do you notice? The `.csv` filename ending says that this file is in the [CSV (comma-separated value) format](http:\/\/edoceo.com\/utilitas\/csv-file-format)."
            ]
        },
        {
            "cell_type": "markdown",
            "metadata": {},
            "source": [
                "## 3. Using lists\n",
                "\n",
                "A *list* is another Python sequence type, similar to an array. It's different than an array because the values it contains can all have different types. A single list can contain `int` values, `float` values, and `strings`. Elements in a list can even be other lists! A list is created by giving a name to the list of values enclosed in square brackets and separated by commas. For example, `values_with_different_types = ['cs\/orie\/stsci', 1380, ['lab', 3]]`\n",
                "\n",
                "The first item in the table is a string containing the word 'cs\/orie\/stsci', the second is the number 1380, and the third item in the list is another list of 'lab', and 3!\n",
                "\n",
                "Lists can be useful when working with tables because they can describe the contents of one row in a table, which often  corresponds to a sequence of values with different types. A list of lists can be used to describe multiple rows.\n",
                "\n",
                "Each column in a table is a collection of values with the same type (an array). If you create a table column from a list, it will automatically be converted to an array. A row, on the other hand, mixes types.\n",
                "\n",
                "Here's a table from Chapter 5. (Run the cell below.)"
            ]
        },
        {
            "cell_type": "code",
            "execution_count": null,
            "metadata": {},
            "outputs": [],
            "source": [
                "# Run this cell to recreate the table\n",
                "flowers = Table().with_columns(\n",
                "    'Number of petals', make_array(8, 34, 5),\n",
                "    'Name', make_array('lotus', 'sunflower', 'rose')\n",
                ")\n",
                "flowers"
            ]
        },
        {
            "cell_type": "markdown",
            "metadata": {},
            "source": [
                "**Question 3.1.** Create a list that describes a new fourth row of this table. The list must contain two values: the number of petals (an `int` value) and the name of the flower (a string). The new flower you should add is the \"pondweed\"! This flower has zero petals.\n",
                "<img src=\"https:\/\/upload.wikimedia.org\/wikipedia\/commons\/thumb\/b\/bb\/PotamogetonPerfoliatus2.jpg\/1024px-PotamogetonPerfoliatus2.jpg\" style=\"width:250px;\"><\/img>\n",
                "Source: https:\/\/en.wikipedia.org\/wiki\/Potamogeton"
            ]
        },
        {
            "cell_type": "code",
            "execution_count": null,
            "metadata": {},
            "outputs": [],
            "source": [
                "my_flower = ...\n"
            ]
        },
        {
            "cell_type": "code",
            "execution_count": null,
            "metadata": {},
            "outputs": [],
            "source": [
                "check3_1(my_flower)"
            ]
        },
        {
            "cell_type": "code",
            "execution_count": null,
            "metadata": {
                "nbgrader": {
                    "grade": true,
                    "grade_id": "test3_1",
                    "locked": true,
                    "points": "1",
                    "solution": false
                }
            },
            "outputs": [],
            "source": [
                "#\n",
                "# AUTOGRADER TEST - DO NOT REMOVE\n",
                "#\n"
            ]
        },
        {
            "cell_type": "markdown",
            "metadata": {},
            "source": [
                "**Question 3.2.** `my_flower` fits right in to the table from chapter 5. Complete the cell below to create a table of seven flowers that includes your flower as the fourth row followed by `other_flowers`. You can use `with_row` to create a new table with one extra row by passing a list of values and `with_rows` to create a table with multiple extra rows by passing a list of lists of values.\n",
                "\n",
                "*Hint:* Look at the documentation [here](http:\/\/data8.org\/datascience\/_autosummary\/datascience.tables.Table.with_row.html#datascience.tables.Table.with_row) for help on the with_row function."
            ]
        },
        {
            "cell_type": "code",
            "execution_count": null,
            "metadata": {},
            "outputs": [],
            "source": [
                "# Use the method .with_row(...) to create a new table that includes my_flower \n",
                "\n",
                "four_flowers = ...\n",
                "\n",
                "# Use the method .with_rows(...) to create a table that \n",
                "# includes four_flowers followed by other_flowers\n",
                "\n",
                "other_flowers = [[10, 'lavender'], [3, 'birds of paradise'], [6, 'tulip']]\n",
                "\n",
                "seven_flowers = ...\n"
            ]
        },
        {
            "cell_type": "code",
            "execution_count": null,
            "metadata": {},
            "outputs": [],
            "source": [
                "check3_2(seven_flowers)"
            ]
        },
        {
            "cell_type": "code",
            "execution_count": null,
            "metadata": {
                "nbgrader": {
                    "grade": true,
                    "grade_id": "test3_2",
                    "locked": true,
                    "points": "1",
                    "solution": false
                }
            },
            "outputs": [],
            "source": [
                "#\n",
                "# AUTOGRADER TEST - DO NOT REMOVE\n",
                "#\n"
            ]
        },
        {
            "cell_type": "markdown",
            "metadata": {},
            "source": [
                "## 4. Analyzing datasets\n",
                "With just a few table methods, we can answer some interesting questions about the IMDb dataset which we loaded from the csv file imdb.csv earlier.\n",
                "\n",
                "If we want just the ratings of the movies, we can get an array that contains the data in that column:"
            ]
        },
        {
            "cell_type": "code",
            "execution_count": null,
            "metadata": {},
            "outputs": [],
            "source": [
                "imdb.column(\"Rating\")"
            ]
        },
        {
            "cell_type": "markdown",
            "metadata": {},
            "source": [
                "The value of that expression is an array, exactly the same kind of thing you'd get if you typed in `make_array(8.4, 8.3, 8.3, [etc])`.\n",
                "\n",
                "**Question 4.1.** Find the rating of the highest-rated movie in the dataset.\n",
                "\n",
                "*Hint:* Think back to the functions you've learned about for working with arrays of numbers.  Ask for help if you can't remember one that's useful for this."
            ]
        },
        {
            "cell_type": "code",
            "execution_count": null,
            "metadata": {},
            "outputs": [],
            "source": [
                "highest_rating = ...\n",
                "#\n",
                "# YOUR CODE HERE\n",
                "#\n"
            ]
        },
        {
            "cell_type": "code",
            "execution_count": null,
            "metadata": {},
            "outputs": [],
            "source": [
                "check4_1(highest_rating)"
            ]
        },
        {
            "cell_type": "code",
            "execution_count": null,
            "metadata": {
                "nbgrader": {
                    "grade": true,
                    "grade_id": "test4_1",
                    "locked": true,
                    "points": "1",
                    "solution": false
                }
            },
            "outputs": [],
            "source": [
                "#\n",
                "# AUTOGRADER TEST - DO NOT REMOVE\n",
                "#\n"
            ]
        },
        {
            "cell_type": "markdown",
            "metadata": {},
            "source": [
                "That's not very useful, though.  You'd probably want to know the *name* of the movie whose rating you found!  To do that, we can sort the entire table by rating, which ensures that the ratings and titles will stay together. Note that calling sort creates a copy of the table and leaves the original table unsorted."
            ]
        },
        {
            "cell_type": "code",
            "execution_count": null,
            "metadata": {},
            "outputs": [],
            "source": [
                "imdb.sort(\"Rating\")"
            ]
        },
        {
            "cell_type": "markdown",
            "metadata": {},
            "source": [
                "Well, that actually doesn't help much, either -- we sorted the movies from lowest -> highest ratings.  To look at the highest-rated movies, sort in reverse order:"
            ]
        },
        {
            "cell_type": "code",
            "execution_count": null,
            "metadata": {},
            "outputs": [],
            "source": [
                "imdb.sort(\"Rating\", descending=True)"
            ]
        },
        {
            "cell_type": "markdown",
            "metadata": {},
            "source": [
                "As a somewhat important aside, take a moment to reflect on how many of these 10 movies you have seen before."
            ]
        },
        {
            "cell_type": "markdown",
            "metadata": {},
            "source": [
                "(The `descending=True` bit is called an *optional argument*. It has a default value of `False`, so when you explicitly tell the function `descending=True`, then the function will sort in descending order.)\n",
                "\n",
                "So there are actually 2 highest-rated movies in the dataset: *The Shawshank Redemption* and *The Godfather*.\n",
                "\n",
                "Some details about [sort](http:\/\/data8.org\/datascience\/_autosummary\/datascience.tables.Table.sort.html#datascience.tables.Table.sort):\n",
                "\n",
                "1. The first argument to `sort` is the name of a column to sort by.\n",
                "2. If the column has strings in it, `sort` will sort alphabetically; if the column has numbers, it will sort numerically.\n",
                "3. The value of `imdb.sort(\"Rating\")` is a *copy of `imdb`*; the `imdb` table doesn't get modified. For example, if we called `imdb.sort(\"Rating\")`, then running `imdb` by itself would still return the unsorted table.\n",
                "4. Rows always stick together when a table is sorted.  It wouldn't make sense to sort just one column and leave the other columns alone.  For example, in this case, if we sorted just the \"Rating\" column, the movies would all end up with the wrong ratings.\n",
                "\n",
                "**Question 4.2.** Create a version of `imdb` that's sorted chronologically, with the earliest movies first.  Call it `imdb_by_year`."
            ]
        },
        {
            "cell_type": "code",
            "execution_count": null,
            "metadata": {},
            "outputs": [],
            "source": [
                "imdb_by_year = ...\n"
            ]
        },
        {
            "cell_type": "code",
            "execution_count": null,
            "metadata": {},
            "outputs": [],
            "source": [
                "check4_2(imdb_by_year)"
            ]
        },
        {
            "cell_type": "code",
            "execution_count": null,
            "metadata": {
                "nbgrader": {
                    "grade": true,
                    "grade_id": "test4_2",
                    "locked": true,
                    "points": "1",
                    "solution": false
                }
            },
            "outputs": [],
            "source": [
                "#\n",
                "# AUTOGRADER TEST - DO NOT REMOVE\n",
                "#\n"
            ]
        },
        {
            "cell_type": "markdown",
            "metadata": {},
            "source": [
                "**Question 4.3.** What's the title of the earliest movie in the dataset?  You could just look this up from the output of the previous cell.  Instead, write Python code to find out.\n",
                "\n",
                "*Hint:* Starting with `imdb_by_year`, extract the Title column to get an array, then use `item` to get its first item."
            ]
        },
        {
            "cell_type": "code",
            "execution_count": null,
            "metadata": {},
            "outputs": [],
            "source": [
                "earliest_movie_title = ...\n"
            ]
        },
        {
            "cell_type": "code",
            "execution_count": null,
            "metadata": {},
            "outputs": [],
            "source": [
                "check4_3(earliest_movie_title)"
            ]
        },
        {
            "cell_type": "code",
            "execution_count": null,
            "metadata": {
                "nbgrader": {
                    "grade": true,
                    "grade_id": "test4_3",
                    "locked": true,
                    "points": "1",
                    "solution": false
                }
            },
            "outputs": [],
            "source": [
                "#\n",
                "# AUTOGRADER TEST - DO NOT REMOVE\n",
                "#\n"
            ]
        },
        {
            "cell_type": "markdown",
            "metadata": {},
            "source": [
                "## 5. Finding pieces of a dataset\n",
                "Suppose you're interested in movies from the 1940s.  Sorting the table by year doesn't help you, because the 1940s are in the middle of the dataset.\n",
                "\n",
                "Instead, we use the table method `where`."
            ]
        },
        {
            "cell_type": "code",
            "execution_count": null,
            "metadata": {},
            "outputs": [],
            "source": [
                "forties = imdb.where('Decade', are.equal_to(1940))\n",
                "forties"
            ]
        },
        {
            "cell_type": "markdown",
            "metadata": {},
            "source": [
                "Ignore the syntax for the moment.  Instead, try to read that line like this:\n",
                "\n",
                "> Assign the name **`forties`** to a table whose rows are the rows in the **`imdb`** table **`where`** the **`'Decade'`**s **`are` `equal` `to` `1940`**.\n",
                "\n",
                "**Question 5.1.** Compute the average rating of movies from the 1940s.\n",
                "\n",
                "*Hint:* The function `np.average` computes the average of an array of numbers.\n",
                "\n",
                "*Hint 2:* Don't forget that forties.column('Rating') will give you an array of the values of the ratings."
            ]
        },
        {
            "cell_type": "code",
            "execution_count": null,
            "metadata": {},
            "outputs": [],
            "source": [
                "average_rating_in_forties = ...\n",
                "#\n",
                "# YOUR CODE HERE\n",
                "#\n"
            ]
        },
        {
            "cell_type": "code",
            "execution_count": null,
            "metadata": {},
            "outputs": [],
            "source": [
                "check5_1(average_rating_in_forties)"
            ]
        },
        {
            "cell_type": "code",
            "execution_count": null,
            "metadata": {
                "nbgrader": {
                    "grade": true,
                    "grade_id": "test5_1",
                    "locked": true,
                    "points": "1",
                    "solution": false
                }
            },
            "outputs": [],
            "source": [
                "#\n",
                "# AUTOGRADER TEST - DO NOT REMOVE\n",
                "#\n"
            ]
        },
        {
            "cell_type": "markdown",
            "metadata": {},
            "source": [
                "Now let's dive into the details a bit more.  [`where`](http:\/\/data8.org\/datascience\/_autosummary\/datascience.tables.Table.where.html#datascience.tables.Table.where) takes 2 arguments:\n",
                "\n",
                "1. The name of a column.  `where` finds rows where that column's values meet some criterion.\n",
                "2. Something that describes the criterion that the column needs to meet, called a predicate.\n",
                "\n",
                "To create our predicate, we called the function `are.equal_to` with the value we wanted, 1940.  We'll see other predicates soon.\n",
                "\n",
                "`where` returns a table that's a copy of the original table, but with only the rows that meet the given predicate.\n",
                "\n",
                "**Question 5.2.** Create a table called `ninety_nine` containing the movies that came out in the year 1999.  Use `where`."
            ]
        },
        {
            "cell_type": "code",
            "execution_count": null,
            "metadata": {},
            "outputs": [],
            "source": [
                "ninety_nine = ...\n"
            ]
        },
        {
            "cell_type": "code",
            "execution_count": null,
            "metadata": {},
            "outputs": [],
            "source": [
                "check5_2(ninety_nine)"
            ]
        },
        {
            "cell_type": "code",
            "execution_count": null,
            "metadata": {},
            "outputs": [],
            "source": [
                "# The following code is included to print out your table\n",
                "ninety_nine"
            ]
        },
        {
            "cell_type": "code",
            "execution_count": null,
            "metadata": {
                "nbgrader": {
                    "grade": true,
                    "grade_id": "test5_2",
                    "locked": true,
                    "points": "1",
                    "solution": false
                }
            },
            "outputs": [],
            "source": [
                "#\n",
                "# AUTOGRADER TEST - DO NOT REMOVE\n",
                "#\n"
            ]
        },
        {
            "cell_type": "markdown",
            "metadata": {},
            "source": [
                "So far we've only been finding where a column is *exactly* equal to a certain value. However, there are many other predicates.  Here are a few:\n",
                "\n",
                "|Predicate|Example|Result|\n",
                "|-|-|-|\n",
                "|`are.equal_to`|`are.equal_to(50)`|Find rows with values equal to 50|\n",
                "|`are.not_equal_to`|`are.not_equal_to(50)`|Find rows with values not equal to 50|\n",
                "|`are.above`|`are.above(50)`|Find rows with values above (and not equal to) 50|\n",
                "|`are.above_or_equal_to`|`are.above_or_equal_to(50)`|Find rows with values above 50 or equal to 50|\n",
                "|`are.below`|`are.below(50)`|Find rows with values below 50|\n",
                "|`are.between`|`are.between(2, 10)`|Find rows with values above or equal to 2 and below 10|\n",
                "\n",
                "The textbook section on selecting rows has more examples.\n"
            ]
        },
        {
            "cell_type": "markdown",
            "metadata": {},
            "source": [
                "**Question 5.3.** Using `where` and one of the predicates from the table above, find all the movies with a rating higher (and not equal to) than 8.5.  Put their data in a table called `really_highly_rated`."
            ]
        },
        {
            "cell_type": "code",
            "execution_count": null,
            "metadata": {},
            "outputs": [],
            "source": [
                "really_highly_rated = ...\n"
            ]
        },
        {
            "cell_type": "code",
            "execution_count": null,
            "metadata": {},
            "outputs": [],
            "source": [
                "check5_3(really_highly_rated)"
            ]
        },
        {
            "cell_type": "code",
            "execution_count": null,
            "metadata": {
                "nbgrader": {
                    "grade": true,
                    "grade_id": "test5_3",
                    "locked": true,
                    "points": "1",
                    "solution": false
                }
            },
            "outputs": [],
            "source": [
                "#\n",
                "# AUTOGRADER TEST - DO NOT REMOVE\n",
                "#\n"
            ]
        },
        {
            "cell_type": "markdown",
            "metadata": {},
            "source": [
                "**Question 5.4.** Find the average rating for movies released in the 20th century and the average rating for movies released in the 21st century for the movies in `imdb`.\n",
                "\n",
                "*Hint*: Think of the steps you need to do (take the average, find the ratings, find movies released in 20th\/21st centuries), and try to put them in an order that makes sense."
            ]
        },
        {
            "cell_type": "code",
            "execution_count": null,
            "metadata": {},
            "outputs": [],
            "source": [
                "average_20th_century_rating = ...\n",
                "average_21st_century_rating = ...\n",
                "print(\"Average 20th century rating:\", average_20th_century_rating)\n",
                "print(\"Average 21st century rating:\", average_21st_century_rating)\n"
            ]
        },
        {
            "cell_type": "code",
            "execution_count": null,
            "metadata": {},
            "outputs": [],
            "source": [
                "check5_4(average_20th_century_rating, average_21st_century_rating)"
            ]
        },
        {
            "cell_type": "code",
            "execution_count": null,
            "metadata": {
                "nbgrader": {
                    "grade": true,
                    "grade_id": "test5_4",
                    "locked": true,
                    "points": "1",
                    "solution": false
                }
            },
            "outputs": [],
            "source": [
                "#\n",
                "# AUTOGRADER TEST - DO NOT REMOVE\n",
                "#\n"
            ]
        },
        {
            "cell_type": "markdown",
            "metadata": {},
            "source": [
                "The *property* `num_rows` tells you how many rows are in a table.  (A \"property\" is just a method that doesn't need to be called by adding parentheses.)"
            ]
        },
        {
            "cell_type": "code",
            "execution_count": null,
            "metadata": {},
            "outputs": [],
            "source": [
                "num_movies_in_dataset = imdb.num_rows\n",
                "num_movies_in_dataset"
            ]
        },
        {
            "cell_type": "markdown",
            "metadata": {},
            "source": [
                "**Question 5.5.** Use `num_rows` (and arithmetic) to find the *proportion* of movies in the dataset that were released in the 20th century, and the proportion from the 21st century.\n",
                "\n",
                "*Hint:* The *proportion* of movies released in the 20th century is the *number* of movies released in the 20th century, divided by the *total number* of movies.\n",
                "*Hint 2:* The total number of movies can be obtained by imdb.num_rows"
            ]
        },
        {
            "cell_type": "code",
            "execution_count": null,
            "metadata": {},
            "outputs": [],
            "source": [
                "proportion_in_20th_century = ...\n",
                "proportion_in_21st_century = ...\n",
                "print(\"Proportion in 20th century:\", proportion_in_20th_century)\n",
                "print(\"Proportion in 21st century:\", proportion_in_21st_century)\n"
            ]
        },
        {
            "cell_type": "code",
            "execution_count": null,
            "metadata": {},
            "outputs": [],
            "source": [
                "check5_5(proportion_in_20th_century, proportion_in_21st_century)"
            ]
        },
        {
            "cell_type": "code",
            "execution_count": null,
            "metadata": {
                "nbgrader": {
                    "grade": true,
                    "grade_id": "test5_5",
                    "locked": true,
                    "points": "1",
                    "solution": false
                }
            },
            "outputs": [],
            "source": [
                "#\n",
                "# AUTOGRADER TEST - DO NOT REMOVE\n",
                "#\n"
            ]
        },
        {
            "cell_type": "markdown",
            "metadata": {},
            "source": [
                "**Question 5.6.** Here's a challenge: Find the number of movies that came out in *even* years.\n",
                "\n",
                "*Hint:* The operator `%` computes the remainder when dividing by a number.  So `5 % 2` is 1 and `6 % 2` is 0.  A number is even if the remainder is 0 when you divide by 2.\n",
                "\n",
                "*Hint 2:* `%` can be used on arrays, operating elementwise like `+` or `*`.  So `make_array(5, 6, 7) % 2` is `array([1, 0, 1])`.\n",
                "\n",
                "*Hint 3:* Create a column called \"Year Remainder\" that's the remainder when each movie's release year is divided by 2.  Make a copy of `imdb` that includes that column.  Then use `where` to find rows where that new column is equal to 0.  Then use `num_rows` to count the number of such rows.\n",
                "\n",
                "*Hint 4:* The with_column function can be used to add a new column into a table just like with_row."
            ]
        },
        {
            "cell_type": "code",
            "execution_count": null,
            "metadata": {
                "for_assignment_type": "student"
            },
            "outputs": [],
            "source": [
                "year_remainder = ...\n",
                "num_even_year_movies = ...\n"
            ]
        },
        {
            "cell_type": "code",
            "execution_count": null,
            "metadata": {},
            "outputs": [],
            "source": [
                "check5_6(num_even_year_movies)"
            ]
        },
        {
            "cell_type": "code",
            "execution_count": null,
            "metadata": {
                "nbgrader": {
                    "grade": true,
                    "grade_id": "test5_6",
                    "locked": true,
                    "points": "1",
                    "solution": false
                }
            },
            "outputs": [],
            "source": [
                "#\n",
                "# AUTOGRADER TEST - DO NOT REMOVE\n",
                "#\n"
            ]
        },
        {
            "cell_type": "markdown",
            "metadata": {},
            "source": [
                "**Question 5.7.** Check out the `population` table from the introduction to this lab.  Compute the year when the world population first went above 6 billion.\n",
                "\n",
                "*Hint :* Try to use the where function to determine the years in which the population was more than 6 billion, and sort the table by year to find the first one"
            ]
        },
        {
            "cell_type": "code",
            "execution_count": null,
            "metadata": {
                "nbgrader": {
                    "grade": false,
                    "locked": false,
                    "solution": false
                }
            },
            "outputs": [],
            "source": [
                "year_population_crossed_6_billion = ...\n",
                "year_population_crossed_6_billion"
            ]
        },
        {
            "cell_type": "code",
            "execution_count": null,
            "metadata": {},
            "outputs": [],
            "source": [
                "check5_7(year_population_crossed_6_billion)"
            ]
        },
        {
            "cell_type": "code",
            "execution_count": null,
            "metadata": {
                "nbgrader": {
                    "grade": true,
                    "grade_id": "test5_7",
                    "locked": true,
                    "points": "1",
                    "solution": false
                }
            },
            "outputs": [],
            "source": [
                "#\n",
                "# AUTOGRADER TEST - DO NOT REMOVE\n",
                "#\n"
            ]
        },
        {
            "cell_type": "markdown",
            "metadata": {},
            "source": [
                "## 6. Miscellanea\n",
                "There are a few more table methods you'll need to fill out your toolbox.  The first 3 have to do with manipulating the columns in a table.\n",
                "\n",
                "The table `farmers_markets.csv` contains data on farmers' markets in the United States  (data collected [by the USDA]([dataset](https:\/\/www.ams.usda.gov\/local-food-directories\/farmersmarkets)).  Each row represents one such market.\n",
                "\n",
                "**Question 6.1.** Load the dataset into a table.  Call it `farmers_markets`."
            ]
        },
        {
            "cell_type": "code",
            "execution_count": null,
            "metadata": {},
            "outputs": [],
            "source": [
                "farmers_markets = ...\n",
                "farmers_markets"
            ]
        },
        {
            "cell_type": "markdown",
            "metadata": {},
            "source": [
                "As another equally important aside, the farmers market in Danville Vermont (the first row in the table) has fantastic pastries and apple cider doughnuts during apple season!"
            ]
        },
        {
            "cell_type": "code",
            "execution_count": null,
            "metadata": {
                "scrolled": true
            },
            "outputs": [],
            "source": [
                "check6_1(farmers_markets)"
            ]
        },
        {
            "cell_type": "code",
            "execution_count": null,
            "metadata": {
                "nbgrader": {
                    "grade": true,
                    "grade_id": "test6_1",
                    "locked": true,
                    "points": "1",
                    "solution": false
                }
            },
            "outputs": [],
            "source": [
                "#\n",
                "# AUTOGRADER TEST - DO NOT REMOVE\n",
                "#\n"
            ]
        },
        {
            "cell_type": "markdown",
            "metadata": {},
            "source": [
                "You'll notice that it has a large number of columns in it!\n",
                "\n",
                "### `num_columns`\n",
                "\n",
                "**Question 6.2.** The table property `num_columns` (example call: `tbl.num_columns`) produces the number of columns in a table.  Use it to find the number of columns in our farmers' markets dataset."
            ]
        },
        {
            "cell_type": "code",
            "execution_count": null,
            "metadata": {},
            "outputs": [],
            "source": [
                "num_farmers_markets_columns = ...\n",
                "print(\"The table has\", num_farmers_markets_columns, \"columns in it!\")\n"
            ]
        },
        {
            "cell_type": "code",
            "execution_count": null,
            "metadata": {},
            "outputs": [],
            "source": [
                "check6_2(num_farmers_markets_columns)"
            ]
        },
        {
            "cell_type": "code",
            "execution_count": null,
            "metadata": {
                "nbgrader": {
                    "grade": true,
                    "grade_id": "test6_2",
                    "locked": true,
                    "points": "1",
                    "solution": false
                }
            },
            "outputs": [],
            "source": [
                "#\n",
                "# AUTOGRADER TEST - DO NOT REMOVE\n",
                "#\n"
            ]
        },
        {
            "cell_type": "markdown",
            "metadata": {},
            "source": [
                "Most of the columns are about particular products -- whether the market sells tofu, pet food, etc.  If we're not interested in that stuff, it just makes the table difficult to read.  This comes up more than you might think.\n",
                "\n",
                "### `select`\n",
                "\n",
                "In such situations, we can use the table method `select` to pare down the columns of a table.  It takes any number of arguments.  Each should be the name or index of a column in the table.  It returns a new table with only those columns in it.\n",
                "\n",
                "For example, the value of `imdb.select(\"Year\", \"Decade\")` is a table with only the years and decades of each movie in `imdb`.\n",
                "\n",
                "**Question 6.3.** Use `select` to create a table with only the name, city, state, latitude ('y'), and longitude ('x') of each market.  Call that new table `farmers_markets_locations`.\n",
                "\n",
                "*Hint :* Make sure to check the names of the columns from the table you printed above."
            ]
        },
        {
            "cell_type": "code",
            "execution_count": null,
            "metadata": {},
            "outputs": [],
            "source": [
                "farmers_markets_locations = ...\n",
                "farmers_markets_locations"
            ]
        },
        {
            "cell_type": "code",
            "execution_count": null,
            "metadata": {},
            "outputs": [],
            "source": [
                "check6_3(farmers_markets_locations)"
            ]
        },
        {
            "cell_type": "code",
            "execution_count": null,
            "metadata": {
                "nbgrader": {
                    "grade": true,
                    "grade_id": "test6_3",
                    "locked": true,
                    "points": "1",
                    "solution": false
                }
            },
            "outputs": [],
            "source": [
                "#\n",
                "# AUTOGRADER TEST - DO NOT REMOVE\n",
                "#\n"
            ]
        },
        {
            "cell_type": "markdown",
            "metadata": {},
            "source": [
                "### `select` is not `column`!\n",
                "\n",
                "The method `select` is **definitely not** the same as the method `column`.\n",
                "\n",
                "`farmers_markets.column('y')` is an *array* of the latitudes of all the markets.  `farmers_markets.select('y')` is a table that happens to contain only 1 column, the latitudes of all the markets.\n",
                "\n",
                "**Question 6.4.** Below, we tried using the function `np.average` to find the average latitude ('y') and average longitude ('x') of the farmers' markets in the table, but we screwed something up. Uncomment the first 3 lines and run the cell to see the (somewhat inscrutable) error message that results from calling `np.average` on a table.  Then, fix our code to call `np.average` on the array."
            ]
        },
        {
            "cell_type": "code",
            "execution_count": null,
            "metadata": {
                "for_assignment_type": "student"
            },
            "outputs": [],
            "source": [
                "#Uncomment the 3 lines below.\n",
                "#average_latitude = np.average(farmers_markets.select('y'))\n",
                "#average_longitude = np.average(farmers_markets.select('x'))\n",
                "#print(\"The average of US farmers' markets' coordinates is located at (\", average_latitude, \",\", average_longitude, \")\")\n"
            ]
        },
        {
            "cell_type": "code",
            "execution_count": null,
            "metadata": {},
            "outputs": [],
            "source": [
                "check6_4(average_latitude,average_longitude)"
            ]
        },
        {
            "cell_type": "code",
            "execution_count": null,
            "metadata": {
                "nbgrader": {
                    "grade": true,
                    "grade_id": "test6_4",
                    "locked": true,
                    "points": "1",
                    "solution": false
                }
            },
            "outputs": [],
            "source": [
                "#\n",
                "# AUTOGRADER TEST - DO NOT REMOVE\n",
                "#\n"
            ]
        },
        {
            "cell_type": "markdown",
            "metadata": {},
            "source": [
                "### `drop`\n",
                "\n",
                "`drop` serves the same purpose as `select`, but it takes away the columns you list instead of the ones you don't list, leaving all the rest of the columns.\n",
                "\n",
                "**Question 6.5.** Suppose you just didn't want the \"FMID\" or \"updateTime\" columns in `farmers_markets`.  Create a table that's a copy of `farmers_markets` but doesn't include those columns.  Call that table `farmers_markets_without_fmid`."
            ]
        },
        {
            "cell_type": "code",
            "execution_count": null,
            "metadata": {},
            "outputs": [],
            "source": [
                "farmers_markets_without_fmid = ...\n",
                "farmers_markets_without_fmid"
            ]
        },
        {
            "cell_type": "code",
            "execution_count": null,
            "metadata": {},
            "outputs": [],
            "source": [
                "check6_5(farmers_markets_without_fmid)"
            ]
        },
        {
            "cell_type": "code",
            "execution_count": null,
            "metadata": {
                "nbgrader": {
                    "grade": true,
                    "grade_id": "test6_5",
                    "locked": true,
                    "points": "1",
                    "solution": false
                }
            },
            "outputs": [],
            "source": [
                "#\n",
                "# AUTOGRADER TEST - DO NOT REMOVE\n",
                "#\n"
            ]
        },
        {
            "cell_type": "markdown",
            "metadata": {},
            "source": [
                "#### `take`\n",
                "Let's find the 5 northernmost farmers' markets in the US.  You already know how to sort by latitude ('y'), but we haven't seen how to get the first 5 rows of a table.  That's what `take` is for.\n",
                "\n",
                "The table method `take` takes as its argument an array of numbers.  Each number should be the index of a row in the table.  It returns a new table with only those rows.\n",
                "\n",
                "Most often you'll want to use `take` in conjunction with `np.arange` to take the first few rows of a table.\n",
                "\n",
                "**Question 6.6.** Make a table of the 5 northernmost farmers' markets in `farmers_markets_locations`.  Call it `northern_markets`.  (It should include the same columns as `farmers_markets_locations`."
            ]
        },
        {
            "cell_type": "code",
            "execution_count": null,
            "metadata": {},
            "outputs": [],
            "source": [
                "northern_markets = ...\n",
                "northern_markets"
            ]
        },
        {
            "cell_type": "code",
            "execution_count": null,
            "metadata": {},
            "outputs": [],
            "source": [
                "check6_6(northern_markets)"
            ]
        },
        {
            "cell_type": "code",
            "execution_count": null,
            "metadata": {
                "nbgrader": {
                    "grade": true,
                    "grade_id": "test6_6",
                    "locked": true,
                    "points": "1",
                    "solution": false
                }
            },
            "outputs": [],
            "source": [
                "#\n",
                "# AUTOGRADER TEST - DO NOT REMOVE\n",
                "#\n"
            ]
        },
        {
            "cell_type": "markdown",
            "metadata": {},
            "source": [
                "**Question 6.7.** Make a table of the farmers' markets in Tompkins County, NY.  (It should include the same columns as `farmers_markets_locations`.)\n",
                "Try starting from the `farmers_markets` table, and notice that one of the columns in that table is called \"County\"."
            ]
        },
        {
            "cell_type": "code",
            "execution_count": null,
            "metadata": {},
            "outputs": [],
            "source": [
                "tompkins_markets = ...\n",
                "tompkins_markets\n"
            ]
        },
        {
            "cell_type": "code",
            "execution_count": null,
            "metadata": {},
            "outputs": [],
            "source": [
                "check6_7(tompkins_markets)"
            ]
        },
        {
            "cell_type": "code",
            "execution_count": null,
            "metadata": {
                "nbgrader": {
                    "grade": true,
                    "grade_id": "test6_7",
                    "locked": true,
                    "points": "1",
                    "solution": false
                }
            },
            "outputs": [],
            "source": [
                "#\n",
                "# AUTOGRADER TEST - DO NOT REMOVE\n",
                "#\n"
            ]
        },
        {
            "cell_type": "markdown",
            "metadata": {},
            "source": [
                "Recognize any of them?"
            ]
        },
        {
            "cell_type": "markdown",
            "metadata": {},
            "source": [
                "## 7. Summary\n",
                "\n",
                "For your reference, here's a table of all the functions and methods we saw in this lab.\n",
                "\n",
                "|Name|Example|Purpose|\n",
                "|-|-|-|\n",
                "|`Table`|`Table()`|Create an empty table, usually to extend with data|\n",
                "|`Table.read_table`|`Table.read_table(\"my_data.csv\")`|Create a table from a data file|\n",
                "|`with_columns`|`tbl = Table().with_columns(\"N\", np.arange(5), \"2*N\", np.arange(0, 10, 2))`|Create a copy of a table with more columns|\n",
                "|`column`|`tbl.column(\"N\")`|Create an array containing the elements of a column|\n",
                "|`sort`|`tbl.sort(\"N\")`|Create a copy of a table sorted by the values in a column|\n",
                "|`where`|`tbl.where(\"N\", are.above(2))`|Create a copy of a table with only the rows that match some *predicate*|\n",
                "|`num_rows`|`tbl.num_rows`|Compute the number of rows in a table|\n",
                "|`num_columns`|`tbl.num_columns`|Compute the number of columns in a table|\n",
                "|`select`|`tbl.select(\"N\")`|Create a copy of a table with only some of the columns|\n",
                "|`drop`|`tbl.drop(\"2*N\")`|Create a copy of a table without some of the columns|\n",
                "|`take`|`tbl.take(np.arange(0, 6, 2))`|Create a copy of the table with only the rows whose indices are in the given array|\n",
                "\n",
                "<br\/>\n",
                "\n",
                "Alright! You're finished with lab 3! Be sure to submit your lab: \n",
                "- Navigate the Jupyter menu to 'Kernel'->'Restart & Run All' to run all of the cells in the lab in order. This makes sure that you'll see the same outputs that the autograder sees.\n",
                "- Click the red 'Submit' button."
            ]
        }
    ],
    "metadata": {
        "anaconda-cloud": [],
        "kernelspec": {
            "display_name": "Python 3",
            "language": "python",
            "name": "python3"
        },
        "language_info": {
            "codemirror_mode": {
                "name": "ipython",
                "version": 3
            },
            "file_extension": ".py",
            "mimetype": "text\/x-python",
            "name": "python",
            "nbconvert_exporter": "python",
            "pygments_lexer": "ipython3",
            "version": "3.6.5"
        }
    },
    "nbformat": 4,
    "nbformat_minor": 1
}