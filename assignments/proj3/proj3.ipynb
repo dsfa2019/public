{
    "cells": [
        {
            "cell_type": "markdown",
            "metadata": {},
            "source": [
                "# Project 3: Classifying Movies\n",
                "\n",
                "Welcome to the last project of Data Science for All! We hope you have enjoyed the labs, projects, and homeworks over the semester.\n",
                "\n",
                "In this project you will build a classifier that labels a movie as romance or action, using the words that appear in the movies's screenplay. By the end of the project, you should know how to:\n",
                "\n",
                "* Build a k-nearest-neighbors classifier.\n",
                "* Test a classifier on data.\n",
                "\n",
                "### Partners\n",
                "\n",
                "You may work alone or with one partner, who must be from your recitation section. Use Vocareum to invite your partner to join your team.  Once you've formed a team, you will share the same notebook in Vocareum, and any changes to it or submission of it will reflect on both partners.  **You must form your Vocareum partnership before either partner begins the assignment.**\n",
                "\n",
                "### Checkpoint\n",
                "\n",
                "There are two parts to this assignment in Vocareum, although both parts have you editing the same notebook.  For full credit, you must complete sections 1 and 2 and submit them **to Part 1** by 11:59 pm on Wednesday 5\/1. You will have some lab time to work on these questions, but we recommend that you start the project before lab and leave time to finish the checkpoint afterward.\n",
                "\n",
                "### Deadline\n",
                "\n",
                "Your final submission of the notebook will be **to Part 2**.  You are welcome to change any answers to the first section in your final submission. The final submission of the project is due at 11:59 pm on Tuesday 5\/7. Late submissions will be accepted until\n",
                "11:59 pm on Thursday 5\/9, but a 33.33% late penalty will be applied after 11:59 pm on Tuesday, and a 66.66% late penalty after 11:59 pm on Wednesday.  It's much better to be early than late, so start working now. Also please be aware that there may be a shortage of office hours and support after Tuesday. So please try to finish the project on time!\n",
                "\n",
                "### Other Logistics\n",
                "\n",
                "**Academic Integrity.** Do not share your code with anybody but your partner. You are welcome to discuss questions with other students, but don't share the answers. The experience of solving the problems in this project will prepare you for exams (and life). If someone asks you for an answer or a hint, resist! Instead, you can demonstrate how you would solve a similar problem, or point them to somewhere in the course materials that solves a similar problem.\n",
                "\n",
                "**Support.** You are not alone! Come to office hours, come to recitation, and talk to your partner.\n",
                "\n",
                "**Checks and tests.** Projects are an opportunity for you to demonstrate what you have learned from labs and homeworks.  So the checks in this project are relatively minimal. Passing the checks for a question does not mean that you answered the question correctly. More rigorous tests will be used to ascertain the correctness of your answers during grading.\n",
                "\n",
                "**Advice.** Develop your answers incrementally. To perform a complicated table manipulation, break it up into steps, perform each step on a different line, give a new name to each result, and check that each intermediate result is what you expect. You can add any additional names or functions you want to the provided cells.\n",
                "\n",
                "All of the concepts necessary for this project are found in the textbook. If you are stuck on a particular problem, reading through the relevant textbook section often will help clarify the concept."
            ]
        },
        {
            "cell_type": "markdown",
            "metadata": {},
            "source": [
                "### <font color=\"red\">Please run the next cell to import the packages required for the lab.<\/font>"
            ]
        },
        {
            "cell_type": "code",
            "execution_count": null,
            "metadata": {},
            "outputs": [],
            "source": [
                "# Run this cell to set up the notebook, but please don't change it.\n",
                "\n",
                "import numpy as np\n",
                "import math\n",
                "from datascience import *\n",
                "\n",
                "# These lines set up the plotting functionality and formatting.\n",
                "import matplotlib\n",
                "matplotlib.use('Agg', warn=False)\n",
                "%matplotlib inline\n",
                "import matplotlib.pyplot as plots\n",
                "plots.style.use('fivethirtyeight')\n",
                "import warnings\n",
                "warnings.simplefilter(action=\"ignore\", category=FutureWarning)\n",
                "\n",
                "# These lines load the tests.\n",
                "from test import *"
            ]
        },
        {
            "cell_type": "markdown",
            "metadata": {},
            "source": [
                "# 1. The Dataset\n",
                "\n",
                "In this project, we are exploring movie screenplays. We'll be trying to predict each movie's genre from the text of its screenplay. In particular, we have compiled a list of 5,000 words that might occur in the dialog of a movie. For each movie, our dataset tells us the frequency with which each of these words occurs in its screenplay. All words have been converted to lowercase.\n",
                "\n",
                "Run the cell below to read the `movies` table for the movie `The Matrix`.\n",
                "\n",
                "![MatrixURL](https:\/\/media1.giphy.com\/media\/dXy0o1dfj4ueQ\/giphy.gif?cid=790b76115cc1f0bb2e4e4b6b67b2804e&rid=giphy.gif \"matrix\")\n",
                "(Source: giphy.com)"
            ]
        },
        {
            "cell_type": "code",
            "execution_count": null,
            "metadata": {},
            "outputs": [],
            "source": [
                "movies = Table.read_table('movies.csv')\n",
                "movies.where(\"Title\", \"the matrix\").select(0, 1, 2, 3, 4, 5, 10, 30, 5005)"
            ]
        },
        {
            "cell_type": "markdown",
            "metadata": {},
            "source": [
                "The above cell prints a few columns of the row for the action movie *The Matrix*.  The movie contains 3792 words. The word \"it\" appears 115 times, as it makes up  $\\frac{115}{3792} \\approx 0.030327$ of the words in the movie. The word \"not\" appears 33 times, as it makes up $\\frac{33}{3792} \\approx 0.00870253$ of the words. The word \"fling\" doesn't appear at all.\n",
                "\n",
                "This numerical representation of a body of text, one that describes only the frequencies of individual words, is called a **bag-of-words representation** [see more here](https:\/\/en.wikipedia.org\/wiki\/Bag-of-words_model). A lot of information is discarded in this representation: the order of the words, the context of each word, who said what, the cast of characters and actors, etc. However, a bag-of-words representation is often used for machine learning applications as a reasonable starting point, because a great deal of information is also retained and expressed in a convenient and compact format. In this project, we will investigate whether this representation is sufficient to build an accurate genre classifier."
            ]
        },
        {
            "cell_type": "markdown",
            "metadata": {},
            "source": [
                "All movie titles are unique. The `row_for_title` function provides fast access to the one row for each title. "
            ]
        },
        {
            "cell_type": "code",
            "execution_count": null,
            "metadata": {},
            "outputs": [],
            "source": [
                "title_index = movies.index_by('Title')\n",
                "def row_for_title(title):\n",
                "    \"\"\"Return the row for a title, similar to the following expression (but faster)\n",
                "    \n",
                "    movies.where('Title', title).row(0)\n",
                "    \"\"\"\n",
                "    return title_index.get(title)[0]"
            ]
        },
        {
            "cell_type": "markdown",
            "metadata": {},
            "source": [
                "For example, the fastest way to find the frequency of \"hey\" in the movie *The Terminator* is to access the `'hey'` item from its row. Check the original table to see if this worked for you!"
            ]
        },
        {
            "cell_type": "code",
            "execution_count": null,
            "metadata": {},
            "outputs": [],
            "source": [
                "row_for_title('the terminator').item('hey') "
            ]
        },
        {
            "cell_type": "markdown",
            "metadata": {},
            "source": [
                "#### Question 1.1\n",
                "Set `expected_row_sum` to the number that you __expect__ will result from summing all proportions in each row, excluding the first six columns."
            ]
        },
        {
            "cell_type": "code",
            "execution_count": null,
            "metadata": {},
            "outputs": [],
            "source": [
                "# Set row_sum to a number that's the (approximate) sum of each row of word proportions.\n",
                "expected_row_sum = ...\n"
            ]
        },
        {
            "cell_type": "code",
            "execution_count": null,
            "metadata": {},
            "outputs": [],
            "source": [
                "check1_1(expected_row_sum)"
            ]
        },
        {
            "cell_type": "code",
            "execution_count": null,
            "metadata": {
                "nbgrader": {
                    "grade": true,
                    "grade_id": "test1_1",
                    "locked": true,
                    "points": 1,
                    "schema_version": 1,
                    "solution": false
                },
                "editable": false,
                "deletable": false
            },
            "outputs": [],
            "source": [
                "###\n",
                "### AUTOGRADER TEST - DO NOT REMOVE\n",
                "###\n"
            ]
        },
        {
            "cell_type": "markdown",
            "metadata": {},
            "source": [
                "Run the cell below to generate a histogram of the actual row sums. It should confirm your answer above, perhaps with a small amount of error."
            ]
        },
        {
            "cell_type": "code",
            "execution_count": null,
            "metadata": {},
            "outputs": [],
            "source": [
                "# Histogram of the sum of word frequency proportions for each movie.\n",
                "Table().with_column('Sum', movies.drop(0, 1, 2, 3, 4, 5).apply(sum)).hist()"
            ]
        },
        {
            "cell_type": "markdown",
            "metadata": {},
            "source": [
                "This dataset was extracted from [a Kaggle dataset](https:\/\/www.kaggle.com\/Cornell-University\/movie-dialog-corpus) created by Cornell's own [Prof. Cristian Danescu-Niculescu-Mizil](http:\/\/www.cs.cornell.edu\/~cristian\/) and [Prof. Lillian Lee](http:\/\/www.cs.cornell.edu\/home\/llee\/). After transforming the dataset (e.g., converting the words to lowercase, removing the naughty words, and converting the counts to frequencies), we created this new dataset containing the frequency of 5000 common words in each movie."
            ]
        },
        {
            "cell_type": "code",
            "execution_count": null,
            "metadata": {},
            "outputs": [],
            "source": [
                "print('Words with frequencies:', movies.drop(np.arange(6)).num_columns) \n",
                "print('Movies with genres:', movies.num_rows)"
            ]
        },
        {
            "cell_type": "markdown",
            "metadata": {},
            "source": [
                "## 1.1. Word Stemming\n",
                "The columns other than \"Title\", \"Genre\", \"Year\", \"Rating\", \"# Votes\" and \"# Words\" in the `movies` table are all words that appear in some of the movies in our dataset.  These words have been *stemmed*, or abbreviated heuristically, in an attempt to make different [inflected](https:\/\/en.wikipedia.org\/wiki\/Inflection) forms of the same base word into the same string.  For example, the column \"manag\" is the sum of proportions of the words \"manage\", \"manager\", \"managed\", and \"managerial\" (and perhaps others) in each movie.  \n",
                "\n",
                "Stemming makes it a little tricky to search for the words you want to use, so we have provided another table that will let you see examples of unstemmed versions of each stemmed word.  Run the code below to load it."
            ]
        },
        {
            "cell_type": "code",
            "execution_count": null,
            "metadata": {
                "scrolled": true
            },
            "outputs": [],
            "source": [
                "# Just run this cell.\n",
                "vocab_mapping = Table.read_table('stem.csv')\n",
                "stemmed = np.take(movies.labels, np.arange(3, len(movies.labels)))\n",
                "vocab_table = Table().with_column('Stem', stemmed).join('Stem', vocab_mapping)\n",
                "vocab_table.take(np.arange(1100, 1110))"
            ]
        },
        {
            "cell_type": "markdown",
            "metadata": {},
            "source": [
                "#### Question 1.1.1\n",
                "Assign `percent_changed` to the **percentage** of words in `vocab_table` that are different than their stemmed form (such as \"blasting\" above).\n",
                "\n",
                "*Hint*: Use boolean logic"
            ]
        },
        {
            "cell_type": "code",
            "execution_count": null,
            "metadata": {},
            "outputs": [],
            "source": [
                "num_changed = ...\n",
                "percent_changed = ...\n",
                "print(round(percent_changed, 2), '% are changed')"
            ]
        },
        {
            "cell_type": "code",
            "execution_count": null,
            "metadata": {},
            "outputs": [],
            "source": [
                "check1_1_1(percent_changed)"
            ]
        },
        {
            "cell_type": "code",
            "execution_count": null,
            "metadata": {
                "nbgrader": {
                    "grade": true,
                    "grade_id": "test1_1_1",
                    "locked": true,
                    "points": 1,
                    "schema_version": 1,
                    "solution": false
                },
                "editable": false,
                "deletable": false
            },
            "outputs": [],
            "source": [
                "###\n",
                "### AUTOGRADER TEST - DO NOT REMOVE\n",
                "###\n"
            ]
        },
        {
            "cell_type": "markdown",
            "metadata": {},
            "source": [
                "#### Question 1.1.2\n",
                "Assign `stemmed_message` to the stemmed version of the word \"changing\".  Make sure to use `vocab_table`."
            ]
        },
        {
            "cell_type": "code",
            "execution_count": null,
            "metadata": {},
            "outputs": [],
            "source": [
                "# Set stemmed_message to the stemmed version of \"changing\" (which\n",
                "# should be a string).  Use vocab_table.\n",
                "stemmed_message = ...\n",
                "stemmed_message"
            ]
        },
        {
            "cell_type": "code",
            "execution_count": null,
            "metadata": {},
            "outputs": [],
            "source": [
                "check1_1_2(stemmed_message)"
            ]
        },
        {
            "cell_type": "code",
            "execution_count": null,
            "metadata": {
                "nbgrader": {
                    "grade": true,
                    "grade_id": "test1_1_2",
                    "locked": true,
                    "points": 1,
                    "schema_version": 1,
                    "solution": false
                },
                "editable": false,
                "deletable": false
            },
            "outputs": [],
            "source": [
                "###\n",
                "### AUTOGRADER TEST - DO NOT REMOVE\n",
                "###\n"
            ]
        },
        {
            "cell_type": "markdown",
            "metadata": {},
            "source": [
                "#### Question 1.1.3\n",
                "Assign `unstemmed_run` to an array of words in `vocab_table` that have \"learn\" as its stemmed form. "
            ]
        },
        {
            "cell_type": "code",
            "execution_count": null,
            "metadata": {},
            "outputs": [],
            "source": [
                "# Set unstemmed_run to the unstemmed versions of \"learn\" (which\n",
                "# should be an array of strings). Use vocab_table.\n",
                "unstemmed_run = ...\n",
                "unstemmed_run"
            ]
        },
        {
            "cell_type": "code",
            "execution_count": null,
            "metadata": {},
            "outputs": [],
            "source": [
                "check1_1_3(unstemmed_run)"
            ]
        },
        {
            "cell_type": "code",
            "execution_count": null,
            "metadata": {
                "nbgrader": {
                    "grade": true,
                    "grade_id": "test1_1_3",
                    "locked": true,
                    "points": 1,
                    "schema_version": 1,
                    "solution": false
                },
                "editable": false,
                "deletable": false
            },
            "outputs": [],
            "source": [
                "###\n",
                "### AUTOGRADER TEST - DO NOT REMOVE\n",
                "###\n"
            ]
        },
        {
            "cell_type": "markdown",
            "metadata": {},
            "source": [
                "#### Question 1.1.4\n",
                "What word in `vocab_table` that starts with an 'n' was shortened the most by this stemming process? Assign `most_shortened` to the word. It's an example of how heuristic stemming can collapse two unrelated words into the same stem (which is bad, but happens a lot in practice anyway).\n",
                "\n",
                "*Hint:* First make an array containing the number of characters that was chopped off each word in vocab_table.  Then find the strings which had the maximum number chopped off, and pick the one which starts with the letter 'n'. You can find the one which starts with 'n' manually by inspecting the array of strings with maximumnumber of characters removed."
            ]
        },
        {
            "cell_type": "code",
            "execution_count": null,
            "metadata": {
                "for_assignment_type": "student"
            },
            "outputs": [],
            "source": [
                "# In our solution, we found it useful to first make an array\n",
                "# called shortened containing the number of characters that was\n",
                "# chopped off of each word in vocab_table, but you don't have\n",
                "# to do that.\n",
                "shortened = ...\n",
                "most_shortened = ...\n",
                "\n",
                "# This will display your answer and its shortened form.\n",
                "vocab_table.where('Word', most_shortened)\n"
            ]
        },
        {
            "cell_type": "code",
            "execution_count": null,
            "metadata": {},
            "outputs": [],
            "source": [
                "check1_1_4(most_shortened)"
            ]
        },
        {
            "cell_type": "code",
            "execution_count": null,
            "metadata": {
                "nbgrader": {
                    "grade": true,
                    "grade_id": "test1_1_4",
                    "locked": true,
                    "points": 1,
                    "schema_version": 1,
                    "solution": false
                },
                "editable": false,
                "deletable": false
            },
            "outputs": [],
            "source": [
                "###\n",
                "### AUTOGRADER TEST - DO NOT REMOVE\n",
                "###\n"
            ]
        },
        {
            "cell_type": "markdown",
            "metadata": {},
            "source": [
                "## 1.2. Splitting the dataset\n",
                "We're going to use our `movies` dataset for two purposes.\n",
                "\n",
                "1. First, we want to *train* movie genre classifiers.\n",
                "2. Second, we want to *test* the performance of our classifiers.\n",
                "\n",
                "Hence, we need two different datasets: *training* and *test*.\n",
                "\n",
                "The purpose of a classifier is to classify unseen data that is similar to the training data. Therefore, we must ensure that there are no movies that appear in both sets. We do so by splitting the dataset randomly. The dataset has already been permuted randomly, so it's easy to split.  We just take the top for training and the rest for test. \n",
                "\n",
                "Run the code below (without changing it) to separate the datasets into two tables."
            ]
        },
        {
            "cell_type": "code",
            "execution_count": null,
            "metadata": {},
            "outputs": [],
            "source": [
                "# Here we have defined the proportion of our data\n",
                "# that we want to designate for training as 17\/20ths\n",
                "# of our total dataset.  3\/20ths of the data is\n",
                "# reserved for testing.\n",
                "\n",
                "training_proportion = 17\/20\n",
                "\n",
                "num_movies = movies.num_rows\n",
                "num_train = int(num_movies * training_proportion)\n",
                "num_valid = num_movies - num_train\n",
                "\n",
                "train_movies = movies.take(np.arange(num_train))\n",
                "test_movies = movies.take(np.arange(num_train, num_movies))\n",
                "\n",
                "print(\"Training: \",   train_movies.num_rows, \";\",\n",
                "      \"Test: \",       test_movies.num_rows)"
            ]
        },
        {
            "cell_type": "markdown",
            "metadata": {},
            "source": [
                "#### Question 1.2.1\n",
                "Draw a horizontal bar chart with two bars that show the proportion of Romance movies in each dataset (the training and the test dataset).  Complete the function `romance_proportion` first; it should help you create the bar chart.\n",
                "\n",
                "*Hint*: Your answer should have two bars. One bar for the training data and the second bar for the test data."
            ]
        },
        {
            "cell_type": "code",
            "execution_count": null,
            "metadata": {
                "for_assignment_type": "student",
                "manual_problem_id": "music_1_2_1",
                "nbgrader": {
                    "grade": true,
                    "grade_id": "manual1_2_1",
                    "locked": false,
                    "points": 1,
                    "schema_version": 1,
                    "solution": true
                }
            },
            "outputs": [],
            "source": [
                "def romance_proportion(table):\n",
                "    \"\"\"Return the proportion of movies in a table that have the Romance genre.\"\"\"\n",
                "    return ...\n",
                "\n",
                "# The staff solution took 4 lines.  Start by creating a table.\n",
                "...\n"
            ]
        },
        {
            "cell_type": "markdown",
            "metadata": {},
            "source": [
                "The proportion of romance movies in the training and test dataset should be roughly the same.  If the proportion of romance movies was too high in the training data then the classifier could potentially be biased to overclassify movies as romance novels. "
            ]
        },
        {
            "cell_type": "markdown",
            "metadata": {},
            "source": [
                "# 2. K-Nearest Neighbors - A Guided Example\n",
                "\n",
                "K-Nearest Neighbors (k-NN) is a classification algorithm.  Given some *attributes* (also called *features*) of an unseen example, it decides whether that example belongs to one or the other of two categories based on its similarity to previously seen examples. Predicting the category of an example is called *labeling*, and the predicted category is also called a *label*.\n",
                "\n",
                "An attribute (feature) we have about each movie is *the proportion of times a particular word appears in the movies*, and the labels are two movie genres: romance and action.  The algorithm requires many previously seen examples for which both the attributes and labels are known: that's the `train_movies` table.\n",
                "\n",
                "To build understanding, we're going to visualize the algorithm instead of just describing it."
            ]
        },
        {
            "cell_type": "markdown",
            "metadata": {},
            "source": [
                "## 2.1. Classifying a movie\n",
                "\n",
                "In k-NN, we classify a movie by finding the `k` movies in the *training set* that are most similar according to the features we choose. We call those movies with similar features the *nearest neighbors*.  The k-NN algorithm assigns the movie to the most common category among its `k` nearest neighbors.\n",
                "\n",
                "Let's limit ourselves to just 2 features for now, so we can plot each movie.  The features we will use are the proportions of the words \"money\" and \"feel\" in the movie.  Taking the movie \"Batman Returns\" (in the test set), 0.000502 of its words are \"money\" and 0.004016 are \"feel\". This movie appears in the test set, so let's imagine that we don't yet know its genre.\n",
                "\n",
                "First, we need to make our notion of similarity more precise.  We will say that the *distance* between two movies is the straight-line distance between them when we plot their features in a scatter diagram. This distance is called the Euclidean (\"yoo-KLID-ee-un\") distance, whose formula is $\\sqrt{(x_1 - x_2)^2 + (y_1 - y_2)^2}$.\n",
                "\n",
                "For example, in the movie *Titanic* (in the training set), 0.0009768 of all the words in the movie are \"money\" and 0.0017094 are \"feel\".  Its distance from *Batman Returns* on this 2-word feature set is $\\sqrt{(0.000502 - 0.0009768)^2 + (0.004016 - 0.0017094)^2} \\approx 0.00235496$.  (If we included more or different features, the distance could be different.)\n",
                "\n",
                "A third movie, *The Avengers* (in the training set), is 0 \"money\" and 0.001115 \"feel\".\n",
                "\n",
                "The function below creates a plot to display the \"money\" and \"feel\" features of a test movie and some training movies. As you can see in the result, *Batman Returns* is more similar to *Titanic* than to *The Avengers* based on these features. However, we know that *Batman Returns* and *The Avengers* are both action movies, so intuitively we'd expect them to be more similar. Unfortunately, that isn't always the case. We'll discuss this more later."
            ]
        },
        {
            "cell_type": "code",
            "execution_count": null,
            "metadata": {},
            "outputs": [],
            "source": [
                "# Just run this cell.\n",
                "def plot_with_two_features(test_movie, training_movies, x_feature, y_feature):\n",
                "    \"\"\"Plot a test movie and training movies using two features.\"\"\"\n",
                "    test_row = row_for_title(test_movie)\n",
                "    distances = Table().with_columns(\n",
                "            x_feature, [test_row.item(x_feature)],\n",
                "            y_feature, [test_row.item(y_feature)],\n",
                "            'Color',   ['unknown'],\n",
                "            'Title',   [test_movie]\n",
                "        )\n",
                "    for movie in training_movies:\n",
                "        row = row_for_title(movie)\n",
                "        distances.append([row.item(x_feature), row.item(y_feature), row.item('Genre'), movie])\n",
                "    distances.scatter(x_feature, y_feature, colors='Color', labels='Title', s=30)\n",
                "    \n",
                "training = [\"titanic\", \"the avengers\"] \n",
                "plot_with_two_features(\"batman returns\", training, \"money\", \"feel\")\n",
                "plots.axis([-0.001, 0.0015, -0.001, 0.006])"
            ]
        },
        {
            "cell_type": "markdown",
            "metadata": {},
            "source": [
                "#### Question 2.1.1\n",
                "\n",
                "Compute the distance between the two movies, *Batman Returns* and *Titanic*, using the `money` and `feel` features only.  Assign it the name `romance_distance`. (Edit: It would make more sense conceptually to call this 'action_distance', unfortunately, the test looks specifically for the name 'romance_distance'.)\n",
                "\n",
                "**Note:** If you have a row object, you can use `item` to get a value from a column by its name.  For example, if `r` is a row, then `r.item(\"Genre\")` is the value in column `\"Genre\"` in row `r`."
            ]
        },
        {
            "cell_type": "code",
            "execution_count": null,
            "metadata": {},
            "outputs": [],
            "source": [
                "batman = row_for_title(\"batman returns\") \n",
                "titanic = row_for_title(\"titanic\") \n",
                "romance_distance = ...\n",
                "romance_distance"
            ]
        },
        {
            "cell_type": "code",
            "execution_count": null,
            "metadata": {},
            "outputs": [],
            "source": [
                "check2_1_1(romance_distance)"
            ]
        },
        {
            "cell_type": "code",
            "execution_count": null,
            "metadata": {
                "nbgrader": {
                    "grade": true,
                    "grade_id": "test2_1_1",
                    "locked": true,
                    "points": 1,
                    "schema_version": 1,
                    "solution": false
                },
                "editable": false,
                "deletable": false
            },
            "outputs": [],
            "source": [
                "###\n",
                "### AUTOGRADER TEST - DO NOT REMOVE\n",
                "###\n"
            ]
        },
        {
            "cell_type": "markdown",
            "metadata": {},
            "source": [
                "Below, we've added a third training movie, *The Terminator*. Before, the point closest to *Batman Returns* was *Titanic*, a romance movie. However, now the closest point is *The Terminator*, an action movie."
            ]
        },
        {
            "cell_type": "code",
            "execution_count": null,
            "metadata": {},
            "outputs": [],
            "source": [
                "training = [\"the avengers\", \"titanic\", \"the terminator\"] \n",
                "plot_with_two_features(\"batman returns\", training, \"money\", \"feel\") \n",
                "plots.axis([-0.001, 0.0015, -0.001, 0.006])"
            ]
        },
        {
            "cell_type": "markdown",
            "metadata": {},
            "source": [
                "#### Question 2.1.2\n",
                "Complete the function `distance_two_features` that computes the Euclidean distance between any two movies, using two features. The last two lines call your function to show that *Batman Returns* is closer to *The Terminator* than *The Avengers*. "
            ]
        },
        {
            "cell_type": "code",
            "execution_count": null,
            "metadata": {},
            "outputs": [],
            "source": [
                "def distance_two_features(title0, title1, x_feature, y_feature):\n",
                "    \"\"\"Compute the distance between two movies with titles title0 and title1\n",
                "    \n",
                "    Only the features named x_feature and y_feature are used when computing the distance.\n",
                "    \"\"\"\n",
                "    row0 = ...\n",
                "    row1 = ...\n",
                "    ...\n",
                "\n",
                "for movie in make_array(\"the terminator\", \"the avengers\"):\n",
                "    movie_distance = distance_two_features(movie, \"batman returns\", \"money\", \"feel\")\n",
                "    print(movie, 'distance:\\t', movie_distance)"
            ]
        },
        {
            "cell_type": "code",
            "execution_count": null,
            "metadata": {},
            "outputs": [],
            "source": [
                "check2_1_2(distance_two_features)"
            ]
        },
        {
            "cell_type": "code",
            "execution_count": null,
            "metadata": {
                "nbgrader": {
                    "grade": true,
                    "grade_id": "test2_1_2",
                    "locked": true,
                    "points": 1,
                    "schema_version": 1,
                    "solution": false
                },
                "editable": false,
                "deletable": false
            },
            "outputs": [],
            "source": [
                "###\n",
                "### AUTOGRADER TEST - DO NOT REMOVE\n",
                "###\n"
            ]
        },
        {
            "cell_type": "markdown",
            "metadata": {},
            "source": [
                "#### Question 2.1.3\n",
                "Define the function `distance_from_batman_returns` so that it works as described in its documentation. [Warning: It is important to make all movie titles lowercase, otherwise you'll get a confusing NoneType error.]"
            ]
        },
        {
            "cell_type": "code",
            "execution_count": null,
            "metadata": {},
            "outputs": [],
            "source": [
                "def distance_from_batman_returns(title):\n",
                "    \"\"\"The distance between the given movie and \"batman returns\", based on the features \"money\" and \"feel\".\n",
                "    \n",
                "    This function takes a single argument:\n",
                "      title: A string, the name of a movie.\n",
                "    \"\"\"\n",
                "    \n",
                "    ..."
            ]
        },
        {
            "cell_type": "code",
            "execution_count": null,
            "metadata": {},
            "outputs": [],
            "source": [
                "check2_1_3(distance_from_batman_returns)"
            ]
        },
        {
            "cell_type": "code",
            "execution_count": null,
            "metadata": {},
            "outputs": [],
            "source": [
                "distance_from_batman_returns('the matrix')"
            ]
        },
        {
            "cell_type": "code",
            "execution_count": null,
            "metadata": {
                "nbgrader": {
                    "grade": true,
                    "grade_id": "test2_1_3",
                    "locked": true,
                    "points": 1,
                    "schema_version": 1,
                    "solution": false
                },
                "editable": false,
                "deletable": false
            },
            "outputs": [],
            "source": [
                "###\n",
                "### AUTOGRADER TEST - DO NOT REMOVE\n",
                "###\n"
            ]
        },
        {
            "cell_type": "markdown",
            "metadata": {},
            "source": [
                "#### Question 2.1.4\n",
                "\n",
                "Using the features `\"money\" and \"feel\"`, what are the names and genres of the 7 movies in the **training set** closest to \"batman returns\"?  To answer this question, make a table named `close_movies` containing those 7 movies with columns `\"Title\"`, `\"Genre\"`, `\"money\"`, and `\"feel\"`, as well as a column called `\"distance\"` that contains the distance from \"batman returns\".  The table should be **sorted in ascending order by `distance`**."
            ]
        },
        {
            "cell_type": "code",
            "execution_count": null,
            "metadata": {
                "for_assignment_type": "student"
            },
            "outputs": [],
            "source": [
                "# The staff solution took 4 lines.\n",
                "close_movies = ...\n",
                "close_movies"
            ]
        },
        {
            "cell_type": "code",
            "execution_count": null,
            "metadata": {
                "for_assignment_type": "solution"
            },
            "outputs": [],
            "source": [
                "check2_1_4(close_movies)"
            ]
        },
        {
            "cell_type": "code",
            "execution_count": null,
            "metadata": {
                "nbgrader": {
                    "grade": true,
                    "grade_id": "test2_1_4",
                    "locked": true,
                    "points": 1,
                    "schema_version": 1,
                    "solution": false
                },
                "editable": false,
                "deletable": false
            },
            "outputs": [],
            "source": [
                "###\n",
                "### AUTOGRADER TEST - DO NOT REMOVE\n",
                "###\n"
            ]
        },
        {
            "cell_type": "markdown",
            "metadata": {},
            "source": [
                "#### Question 2.1.5\n",
                "Define the function `most_common` so that it works as described in its documentation below."
            ]
        },
        {
            "cell_type": "code",
            "execution_count": null,
            "metadata": {
                "scrolled": true
            },
            "outputs": [],
            "source": [
                "def most_common(label, table):\n",
                "    \"\"\"The most common element in a column of a table.\n",
                "    \n",
                "    This function takes two arguments:\n",
                "      label: The label of a column, a string.\n",
                "      table: A table.\n",
                "     \n",
                "    It returns the most common value in that column of that table.\n",
                "    In case of a tie, it returns any one of the most common values\n",
                "    \"\"\"\n",
                "    \n",
                "    ...\n",
                "\n",
                "# Calling most_common on your table of 7 nearest neighbors classifies\n",
                "# \"batman returns\" as a romance movie, 5 votes to 2. \n",
                "most_common('Genre', close_movies)"
            ]
        },
        {
            "cell_type": "code",
            "execution_count": null,
            "metadata": {},
            "outputs": [],
            "source": [
                "check2_1_5(most_common, close_movies)"
            ]
        },
        {
            "cell_type": "code",
            "execution_count": null,
            "metadata": {
                "nbgrader": {
                    "grade": true,
                    "grade_id": "test2_1_5",
                    "locked": true,
                    "points": 1,
                    "schema_version": 1,
                    "solution": false
                },
                "editable": false,
                "deletable": false
            },
            "outputs": [],
            "source": [
                "###\n",
                "### AUTOGRADER TEST - DO NOT REMOVE\n",
                "###\n"
            ]
        },
        {
            "cell_type": "markdown",
            "metadata": {},
            "source": [
                "Congratulations are in order -- you've classified your first movie! However, we can see that the classifier doesn't work too well since it categorized Batman Returns as a romance movie. Let's see if we can do better!"
            ]
        },
        {
            "cell_type": "markdown",
            "metadata": {},
            "source": [
                "### Congratulations: Checkpoint Reached\n",
                "You have reached the project checkpoint. Please submit now to Part 1 in order to record your progress. Your score on Part 1 will be determined by the answers you submit before the checkpoint deadline.\n",
                "\n",
                "After the checkpoint deadline, you are welcome to go back and revise your answers in the sections above. Your revised answers will be graded along with Part 2. \n",
                "\n",
                "If you are working with a partner, only one of you needs to submit. For both of you to receive credit, you must have already formed a partnership in Vocareum **before** you submit.\n",
                "\n",
                "Now, switch to Part 2 in Vocareum. All of your work from Part 1 will still be in the notebook after you switch."
            ]
        },
        {
            "cell_type": "markdown",
            "metadata": {},
            "source": [
                "# 3. Features"
            ]
        },
        {
            "cell_type": "markdown",
            "metadata": {},
            "source": [
                "Now, we're going to extend our classifier to consider more than two features at a time.\n",
                "\n",
                "[Euclidean distance](https:\/\/en.wikipedia.org\/wiki\/Euclidean_distance#Definition) still makes sense with more than two features. For `n` different features, we compute the difference between corresponding feature values for two movies, square each of the `n`  differences, sum up the resulting numbers, and take the square root of the sum as seen in the link."
            ]
        },
        {
            "cell_type": "markdown",
            "metadata": {},
            "source": [
                "#### Question 3.1\n",
                "Write a function to compute the Euclidean distance between two **arrays** of features of *arbitrary* (but equal) length.  Use it to compute the distance between the first movie in the training set and the first movie in the test set, *using all of the features*.  (Remember that the first six columns of your tables are not features.)\n",
                "\n",
                "**Note:** To convert row objects to arrays, use `np.array`. For example, if `t` was a table, `np.array(t.row(0))` converts row 0 of `t` into an array."
            ]
        },
        {
            "cell_type": "code",
            "execution_count": null,
            "metadata": {},
            "outputs": [],
            "source": [
                "def distance(features1, features2):\n",
                "    \"\"\"The Euclidean distance between two arrays of feature values.\"\"\"\n",
                "    return 0\n",
                "\n",
                "distance_first_to_first = ...\n",
                "\n",
                "distance_first_to_first"
            ]
        },
        {
            "cell_type": "code",
            "execution_count": null,
            "metadata": {},
            "outputs": [],
            "source": [
                "check3_1(distance, distance_first_to_first)"
            ]
        },
        {
            "cell_type": "code",
            "execution_count": null,
            "metadata": {
                "nbgrader": {
                    "grade": true,
                    "grade_id": "test3_1",
                    "locked": true,
                    "points": 1,
                    "schema_version": 1,
                    "solution": false
                },
                "editable": false,
                "deletable": false
            },
            "outputs": [],
            "source": [
                "###\n",
                "### AUTOGRADER TEST - DO NOT REMOVE\n",
                "###\n"
            ]
        },
        {
            "cell_type": "markdown",
            "metadata": {},
            "source": [
                "## 3.1. Creating your own feature set\n",
                "\n",
                "Unfortunately, using all of the features has some downsides.  One clear downside is *computational* -- computing Euclidean distances just takes a long time when we have lots of features.  You might have noticed that in the last question!\n",
                "\n",
                "So we're going to select just 20.  We'd like to choose features that are very *discriminative*. That is, features which lead us to correctly classify as much of the test set as possible.  This process of choosing features that will make a classifier work well is sometimes called *feature selection*, or more broadly *feature engineering*."
            ]
        },
        {
            "cell_type": "markdown",
            "metadata": {},
            "source": [
                "#### Question 3.0.1\n",
                "In this question, we will help you get started on selecting more effective features for distinguishing romance from action movies. The plot below (generated for you) shows the average number of times each word occurs in a romance movie on the horizontal axis and the average number of times it occurs in an action movie on the vertical axis. "
            ]
        },
        {
            "cell_type": "markdown",
            "metadata": {},
            "source": [
                "![alt text](word_plot.png \"Title\")"
            ]
        },
        {
            "cell_type": "markdown",
            "metadata": {},
            "source": [
                "The following questions ask you to interpret the plot above. For each question, select one of the following choices and assign its number to the provided name.\n",
                "    1. The word is common in both action and romance movies \n",
                "    2. The word is uncommon in both action and romance movies \n",
                "    3. The word is uncommon in action movies and common in romance movies\n",
                "    4. The word is common in action movies and uncommon in romance movies\n",
                "    5. It is not possible to say from the plot "
            ]
        },
        {
            "cell_type": "markdown",
            "metadata": {},
            "source": [
                "What properties does a word in the bottom left corner of the plot have? Your answer should be a single integer from 1 to 5, corresponding to the correct statement from the choices above."
            ]
        },
        {
            "cell_type": "code",
            "execution_count": null,
            "metadata": {},
            "outputs": [],
            "source": [
                "bottom_left = ...\n"
            ]
        },
        {
            "cell_type": "code",
            "execution_count": null,
            "metadata": {},
            "outputs": [],
            "source": [
                "check_3_0_1(bottom_left)"
            ]
        },
        {
            "cell_type": "code",
            "execution_count": null,
            "metadata": {
                "nbgrader": {
                    "grade": true,
                    "grade_id": "test3_0_1_0",
                    "locked": true,
                    "points": 1,
                    "schema_version": 1,
                    "solution": false
                },
                "editable": false,
                "deletable": false
            },
            "outputs": [],
            "source": [
                "###\n",
                "### AUTOGRADER TEST - DO NOT REMOVE\n",
                "###\n"
            ]
        },
        {
            "cell_type": "markdown",
            "metadata": {},
            "source": [
                "What properties does a word in the bottom right corner have?"
            ]
        },
        {
            "cell_type": "code",
            "execution_count": null,
            "metadata": {},
            "outputs": [],
            "source": [
                "bottom_right = ...\n"
            ]
        },
        {
            "cell_type": "code",
            "execution_count": null,
            "metadata": {},
            "outputs": [],
            "source": [
                "check_3_0_1(bottom_right)"
            ]
        },
        {
            "cell_type": "code",
            "execution_count": null,
            "metadata": {
                "nbgrader": {
                    "grade": true,
                    "grade_id": "test3_0_1_1",
                    "locked": true,
                    "points": 1,
                    "schema_version": 1,
                    "solution": false
                },
                "editable": false,
                "deletable": false
            },
            "outputs": [],
            "source": [
                "###\n",
                "### AUTOGRADER TEST - DO NOT REMOVE\n",
                "###\n"
            ]
        },
        {
            "cell_type": "markdown",
            "metadata": {},
            "source": [
                "What properties does a word in the top right corner have?"
            ]
        },
        {
            "cell_type": "code",
            "execution_count": null,
            "metadata": {},
            "outputs": [],
            "source": [
                "top_right = ...\n"
            ]
        },
        {
            "cell_type": "code",
            "execution_count": null,
            "metadata": {},
            "outputs": [],
            "source": [
                "check_3_0_1(top_right)"
            ]
        },
        {
            "cell_type": "code",
            "execution_count": null,
            "metadata": {
                "nbgrader": {
                    "grade": true,
                    "grade_id": "test3_0_1_2",
                    "locked": true,
                    "points": 1,
                    "schema_version": 1,
                    "solution": false
                },
                "editable": false,
                "deletable": false
            },
            "outputs": [],
            "source": [
                "###\n",
                "### AUTOGRADER TEST - DO NOT REMOVE\n",
                "###\n"
            ]
        },
        {
            "cell_type": "markdown",
            "metadata": {},
            "source": [
                "What properties does a word in the top left corner have?"
            ]
        },
        {
            "cell_type": "code",
            "execution_count": null,
            "metadata": {},
            "outputs": [],
            "source": [
                "top_left = ...\n"
            ]
        },
        {
            "cell_type": "code",
            "execution_count": null,
            "metadata": {},
            "outputs": [],
            "source": [
                "check_3_0_1(top_left)"
            ]
        },
        {
            "cell_type": "code",
            "execution_count": null,
            "metadata": {
                "nbgrader": {
                    "grade": true,
                    "grade_id": "test3_0_1_3",
                    "locked": true,
                    "points": 1,
                    "schema_version": 1,
                    "solution": false
                },
                "editable": false,
                "deletable": false
            },
            "outputs": [],
            "source": [
                "###\n",
                "### AUTOGRADER TEST - DO NOT REMOVE\n",
                "###\n"
            ]
        },
        {
            "cell_type": "markdown",
            "metadata": {},
            "source": [
                "If we see a movie with a lot of words that are common for action movies but uncommon for romance movies, what would be a reasonable guess about the genre of the movie? \n",
                "    1. It is an action movie.\n",
                "    2. It is a romance movie."
            ]
        },
        {
            "cell_type": "code",
            "execution_count": null,
            "metadata": {},
            "outputs": [],
            "source": [
                "movie_genre_guess = ...\n"
            ]
        },
        {
            "cell_type": "code",
            "execution_count": null,
            "metadata": {},
            "outputs": [],
            "source": [
                "check_3_0_1_4(movie_genre_guess)"
            ]
        },
        {
            "cell_type": "code",
            "execution_count": null,
            "metadata": {
                "nbgrader": {
                    "grade": true,
                    "grade_id": "test3_0_1_4",
                    "locked": true,
                    "points": 1,
                    "schema_version": 1,
                    "solution": false
                },
                "editable": false,
                "deletable": false
            },
            "outputs": [],
            "source": [
                "###\n",
                "### AUTOGRADER TEST - DO NOT REMOVE\n",
                "###\n"
            ]
        },
        {
            "cell_type": "markdown",
            "metadata": {},
            "source": [
                "#### Question 3.1.1\n",
                "Using the plot above, choose 20 common words that you think might let you distinguish between romance and action movies. Make sure to choose words that are frequent enough that every movie contains at least one of them. Don't just choose the 20 most frequent, though... you can do much better.\n",
                "\n",
                "You might want to come back to this question later to improve your list, once you've seen how to evaluate your classifier in Part 3.3.  "
            ]
        },
        {
            "cell_type": "code",
            "execution_count": null,
            "metadata": {},
            "outputs": [],
            "source": [
                "# Set my_20_features to an array of 20 features (strings that are column labels)\n",
                "my_20_features = make_array() # Fill this with the proper array\n",
                "\n",
                "train_20 = train_movies.select(my_20_features)\n",
                "test_20 = test_movies.select(my_20_features)"
            ]
        },
        {
            "cell_type": "code",
            "execution_count": null,
            "metadata": {},
            "outputs": [],
            "source": [
                "check3_1_1(my_20_features)"
            ]
        },
        {
            "cell_type": "markdown",
            "metadata": {},
            "source": [
                "This test makes sure that you have chosen words such that at least one appears in each movie. If you can't find words that satisfy this test just through intuition, try writing code to print out the titles of movies that do not contain any words from your list, then look at the words they do contain."
            ]
        },
        {
            "cell_type": "code",
            "execution_count": null,
            "metadata": {
                "nbgrader": {
                    "grade": true,
                    "grade_id": "test3_1_1",
                    "locked": true,
                    "points": 1,
                    "schema_version": 1,
                    "solution": false
                },
                "editable": false,
                "deletable": false
            },
            "outputs": [],
            "source": [
                "###\n",
                "### AUTOGRADER TEST - DO NOT REMOVE\n",
                "###\n"
            ]
        },
        {
            "cell_type": "markdown",
            "metadata": {
                "nbgrader": {
                    "grade": true,
                    "grade_id": "manual3_1_1",
                    "locked": false,
                    "points": 1,
                    "schema_version": 1,
                    "solution": true
                }
            },
            "source": [
                "#### Question 3.1.2\n",
                "In two sentences or less, describe how you selected your features. Hint: Think about your solutions to Question 3.0.1.\n",
                "\n",
                "*replace this line for your answer*"
            ]
        },
        {
            "cell_type": "code",
            "execution_count": null,
            "metadata": {
                "manual_problem_id": "music_3_1_2"
            },
            "outputs": [],
            "source": [
                "# DO NOT DELETE THIS CELL\n"
            ]
        },
        {
            "cell_type": "markdown",
            "metadata": {},
            "source": [
                "Next, let's classify the first movie from our test set using these features.  You can examine the movie by running the cells below. Do you think it will be classified correctly?"
            ]
        },
        {
            "cell_type": "code",
            "execution_count": null,
            "metadata": {},
            "outputs": [],
            "source": [
                "print(\"Movie:\")\n",
                "test_movies.take(0).select('Title', 'Genre').show()\n",
                "print(\"Features:\")\n",
                "test_20.take(0).show()"
            ]
        },
        {
            "cell_type": "markdown",
            "metadata": {},
            "source": [
                "As before, we want to look for the movies in the training set that are most alike our test movie.  We will calculate the Euclidean distances from the test movie (using the 20 selected features) to all movies in the training set.  You could do this with a `for` loop, but to make it computationally faster, we have provided a function, `fast_distances`, to do this for you.  Read its documentation to make sure you understand what it does.  (You don't need to read the code in its body unless you want to.)"
            ]
        },
        {
            "cell_type": "code",
            "execution_count": null,
            "metadata": {},
            "outputs": [],
            "source": [
                "# Just run this cell to define fast_distances.\n",
                "\n",
                "def fast_distances(test_row, train_rows):\n",
                "    \"\"\"An array of the distances between test_row and each row in train_rows.\n",
                "\n",
                "    Takes 2 arguments:\n",
                "      test_row: A row of a table containing features of one\n",
                "        test movie (e.g., test_20.row(0)).\n",
                "      train_rows: A table of features (for example, the whole\n",
                "        table train_20).\"\"\"\n",
                "    assert train_rows.num_columns < 50, \"Make sure you're not using all the features of the movies table.\"\n",
                "    counts_matrix = np.asmatrix(train_rows.columns).transpose()\n",
                "    diff = np.tile(np.array(test_row), [counts_matrix.shape[0], 1]) - counts_matrix\n",
                "    np.random.seed(0) # For tie breaking purposes\n",
                "    distances = np.squeeze(np.asarray(np.sqrt(np.square(diff).sum(1))))\n",
                "    eps = np.random.uniform(size=distances.shape)*1e-10 #Noise for tie break\n",
                "    distances = distances + eps\n",
                "    return distances"
            ]
        },
        {
            "cell_type": "markdown",
            "metadata": {},
            "source": [
                "#### Question 3.1.3\n",
                "Use the `fast_distances` function provided above to compute the distance from the first movie in the test set to all the movies in the training set, **using your set of 20 features**.  Make a new table called `genre_and_distances` with one row for each movie in the training set and two columns:\n",
                "* The `\"Genre\"` of the training movie\n",
                "* The `\"Distance\"` from the first movie in the test set \n",
                "\n",
                "Ensure that `genre_and_distances` is **sorted in increasing order by distance to the first test movie**."
            ]
        },
        {
            "cell_type": "code",
            "execution_count": null,
            "metadata": {
                "for_assignment_type": "student"
            },
            "outputs": [],
            "source": [
                "# The staff solution took 4 lines of code.\n",
                "genre_and_distances = ...\n",
                "genre_and_distances"
            ]
        },
        {
            "cell_type": "code",
            "execution_count": null,
            "metadata": {},
            "outputs": [],
            "source": [
                "check3_1_3(genre_and_distances)"
            ]
        },
        {
            "cell_type": "code",
            "execution_count": null,
            "metadata": {
                "nbgrader": {
                    "grade": true,
                    "grade_id": "test3_1_3",
                    "locked": true,
                    "points": 1,
                    "schema_version": 1,
                    "solution": false
                },
                "editable": false,
                "deletable": false
            },
            "outputs": [],
            "source": [
                "###\n",
                "### AUTOGRADER TEST - DO NOT REMOVE\n",
                "###\n"
            ]
        },
        {
            "cell_type": "markdown",
            "metadata": {},
            "source": [
                "#### Question 3.1.4\n",
                "Now compute the 5-nearest neighbors classification of the first movie in the test set.  That is, decide on its genre by finding the most common genre among its 5 nearest neighbors, according to the distances you've calculated.  Then check whether your classifier chose the right genre.  (Depending on the features you chose, your classifier might not get this movie right, and that's okay.)"
            ]
        },
        {
            "cell_type": "code",
            "execution_count": null,
            "metadata": {},
            "outputs": [],
            "source": [
                "# Set my_assigned_genre to the most common genre among these.\n",
                "my_assigned_genre = ...\n",
                "\n",
                "# Set my_assigned_genre_was_correct to True if my_assigned_genre\n",
                "# matches the actual genre of the first movie in the test set.\n",
                "my_assigned_genre_was_correct = ...\n",
                "\n",
                "print(\"The assigned genre, {}, was{}correct.\".format(my_assigned_genre, \" \" if my_assigned_genre_was_correct else \" not \"))"
            ]
        },
        {
            "cell_type": "code",
            "execution_count": null,
            "metadata": {},
            "outputs": [],
            "source": [
                "check3_1_4(my_assigned_genre, my_assigned_genre_was_correct)"
            ]
        },
        {
            "cell_type": "code",
            "execution_count": null,
            "metadata": {
                "nbgrader": {
                    "grade": true,
                    "grade_id": "test3_1_4",
                    "locked": true,
                    "points": 1,
                    "schema_version": 1,
                    "solution": false
                },
                "editable": false,
                "deletable": false
            },
            "outputs": [],
            "source": [
                "###\n",
                "### AUTOGRADER TEST - DO NOT REMOVE\n",
                "###\n"
            ]
        },
        {
            "cell_type": "markdown",
            "metadata": {},
            "source": [
                "## 3.2. A classifier function\n",
                "\n",
                "Now we can write a single function that encapsulates the whole process of classification."
            ]
        },
        {
            "cell_type": "markdown",
            "metadata": {},
            "source": [
                "#### Question 3.2.1\n",
                "Write a function called `classify`.  It should take the following four arguments:\n",
                "* A row of features for a movie to classify (e.g., `test_20.row(0)`).\n",
                "* A table with a column for each feature (e.g., `train_20`).\n",
                "* An array of classes that has as many items as the previous table has rows with labels corresponding to each row of the table, and in the same order (e.g ['action', 'romance', 'romance', ...]).\n",
                "* `k`, the number of neighbors to use in classification.\n",
                "\n",
                "It should return the class a `k`-nearest neighbor classifier picks for the given row of features (the string `'Romance'` or the string `'Action'`)."
            ]
        },
        {
            "cell_type": "code",
            "execution_count": null,
            "metadata": {},
            "outputs": [],
            "source": [
                "def classify(test_row, train_rows, train_classes, k):\n",
                "    \"\"\"Return the most common class among k nearest neigbors to test_row.\"\"\"\n",
                "    distances = fast_distances(test_row, train_rows)\n",
                "    return ...\n"
            ]
        },
        {
            "cell_type": "code",
            "execution_count": null,
            "metadata": {},
            "outputs": [],
            "source": [
                "check3_2(classify)"
            ]
        },
        {
            "cell_type": "code",
            "execution_count": null,
            "metadata": {
                "nbgrader": {
                    "grade": true,
                    "grade_id": "test3_2_1",
                    "locked": true,
                    "points": 1,
                    "schema_version": 1,
                    "solution": false
                },
                "editable": false,
                "deletable": false
            },
            "outputs": [],
            "source": [
                "###\n",
                "### AUTOGRADER TEST - DO NOT REMOVE\n",
                "###\n"
            ]
        },
        {
            "cell_type": "markdown",
            "metadata": {},
            "source": [
                "#### Question 3.2.2\n",
                "\n",
                "Assign `king_kong_genre` to the genre predicted by your classifier for the movie \"king kong\" in the test set, using **11 neighbors** and using your 20 features."
            ]
        },
        {
            "cell_type": "code",
            "execution_count": null,
            "metadata": {},
            "outputs": [],
            "source": [
                "# The staff solution first defined a row object called king_kong_features.\n",
                "king_kong_features = ...\n",
                "king_kong_genre = ...\n",
                "king_kong_genre"
            ]
        },
        {
            "cell_type": "code",
            "execution_count": null,
            "metadata": {},
            "outputs": [],
            "source": [
                "check3_2_2(king_kong_genre)"
            ]
        },
        {
            "cell_type": "code",
            "execution_count": null,
            "metadata": {
                "nbgrader": {
                    "grade": true,
                    "grade_id": "test3_2_2",
                    "locked": true,
                    "points": 1,
                    "schema_version": 1,
                    "solution": false
                },
                "editable": false,
                "deletable": false
            },
            "outputs": [],
            "source": [
                "###\n",
                "### AUTOGRADER TEST - DO NOT REMOVE\n",
                "###\n"
            ]
        },
        {
            "cell_type": "markdown",
            "metadata": {},
            "source": [
                "Finally, when we evaluate our classifier, it will be useful to have a classification function that is specialized to use a fixed training set and a fixed value of `k`."
            ]
        },
        {
            "cell_type": "markdown",
            "metadata": {},
            "source": [
                "#### Question 3.2.3\n",
                "Create a classification function that takes as its argument a row containing your 20 features and classifies that row using the 11-nearest neighbors algorithm with `train_20` as its training set."
            ]
        },
        {
            "cell_type": "code",
            "execution_count": null,
            "metadata": {},
            "outputs": [],
            "source": [
                "def classify_one_argument(row):\n",
                "    return ...\n",
                "\n",
                "# When you're done, this should produce 'Romance' or 'Action'.\n",
                "classify_one_argument(test_20.row(0))"
            ]
        },
        {
            "cell_type": "code",
            "execution_count": null,
            "metadata": {},
            "outputs": [],
            "source": [
                "check3_2_3(classify_one_argument, test_20.row(0))"
            ]
        },
        {
            "cell_type": "code",
            "execution_count": null,
            "metadata": {
                "nbgrader": {
                    "grade": true,
                    "grade_id": "test3_2_3",
                    "locked": true,
                    "points": 1,
                    "schema_version": 1,
                    "solution": false
                },
                "editable": false,
                "deletable": false
            },
            "outputs": [],
            "source": [
                "###\n",
                "### AUTOGRADER TEST - DO NOT REMOVE\n",
                "###\n"
            ]
        },
        {
            "cell_type": "markdown",
            "metadata": {},
            "source": [
                "## 3.3. Evaluating your classifier"
            ]
        },
        {
            "cell_type": "markdown",
            "metadata": {},
            "source": [
                "Now that it's easy to use the classifier, let's see how accurate it is on the whole test set.\n",
                "\n",
                "**Question 3.3.1.** Use `classify_one_argument` and `apply` to classify every movie in the test set.  Name these guesses `test_guesses`.  **Then**, compute the proportion of correct classifications. "
            ]
        },
        {
            "cell_type": "code",
            "execution_count": null,
            "metadata": {},
            "outputs": [],
            "source": [
                "test_guesses = ...\n",
                "proportion_correct =  ...\n",
                "proportion_correct"
            ]
        },
        {
            "cell_type": "code",
            "execution_count": null,
            "metadata": {},
            "outputs": [],
            "source": [
                "check3_3_1(proportion_correct)"
            ]
        },
        {
            "cell_type": "code",
            "execution_count": null,
            "metadata": {
                "nbgrader": {
                    "grade": true,
                    "grade_id": "test3_3_1",
                    "locked": true,
                    "points": 1,
                    "schema_version": 1,
                    "solution": false
                },
                "editable": false,
                "deletable": false
            },
            "outputs": [],
            "source": [
                "###\n",
                "### AUTOGRADER TEST - DO NOT REMOVE\n",
                "###\n"
            ]
        },
        {
            "cell_type": "markdown",
            "metadata": {},
            "source": [
                "At this point, you've gone through one cycle of classifier design.  Let's summarize the steps:\n",
                "1. From available data, select test and training sets.\n",
                "2. Choose an algorithm you're going to use for classification.\n",
                "3. Identify some features.\n",
                "4. Define a classifier function using your features and the training set.\n",
                "5. Evaluate its performance (the proportion of correct classifications) on the test set."
            ]
        },
        {
            "cell_type": "markdown",
            "metadata": {},
            "source": [
                "## 4. Extra Explorations\n",
                "Now that you know how to evaluate a classifier, it's time to build a better one."
            ]
        },
        {
            "cell_type": "markdown",
            "metadata": {},
            "source": [
                "#### Question 4.1\n",
                "Find a classifier with better test-set accuracy than `classify_one_argument`.  (Your new function should have the same arguments as `classify_one_argument` and return a classification.  Name it `another_classifier`.)  You can use more or different features, or you can try different values of `k`.  (Of course, you still have to use `train_movies` as your training set!)"
            ]
        },
        {
            "cell_type": "code",
            "execution_count": null,
            "metadata": {},
            "outputs": [],
            "source": [
                "# To start you off, here's a list of possibly-useful features, which\n",
                "# you should modify.\n",
                "my_features = make_array(\"come\", \"do\", \"have\", \"heart\", \"make\", \"never\", \"now\", \"wanna\", \"with\", \"yo\")\n",
                "\n",
                "train_staff = train_movies.select(my_features)\n",
                "test_staff = test_movies.select(my_features)\n",
                "\n",
                "def another_classifier(row):\n",
                "    return ..."
            ]
        },
        {
            "cell_type": "markdown",
            "metadata": {
                "nbgrader": {
                    "grade": true,
                    "grade_id": "manual4_1",
                    "locked": false,
                    "points": 1,
                    "schema_version": 1,
                    "solution": true
                }
            },
            "source": [
                "Briefly describe what you tried to improve your classifier. As long as you put in some effort to improving your classifier and describe what you have done, you will receive full credit for this problem.\n",
                "\n",
                "*replace this line for your answer*"
            ]
        },
        {
            "cell_type": "markdown",
            "metadata": {},
            "source": [
                "## 5. Submit\n",
                "\n",
                "**You're finished!** Time to submit. Make sure to submit Part 2 of the assignment.\n",
                "\n",
                "Good luck on the final.\n",
                "\n",
                "![EndgameURL](https:\/\/media2.giphy.com\/media\/lp0nG4kNneVrFcvoQH\/giphy.gif?cid=790b76115cc1f1fa497a315773157b52&rid=giphy.gif \"end_game\")\n",
                "(Source: giphy.com)"
            ]
        }
    ],
    "metadata": {
        "anaconda-cloud": [],
        "celltoolbar": "Create Assignment",
        "kernelspec": {
            "display_name": "Python 3",
            "language": "python",
            "name": "python3"
        },
        "language_info": {
            "codemirror_mode": {
                "name": "ipython",
                "version": 3
            },
            "file_extension": ".py",
            "mimetype": "text\/x-python",
            "name": "python",
            "nbconvert_exporter": "python",
            "pygments_lexer": "ipython3",
            "version": "3.6.4"
        }
    },
    "nbformat": 4,
    "nbformat_minor": 1
}