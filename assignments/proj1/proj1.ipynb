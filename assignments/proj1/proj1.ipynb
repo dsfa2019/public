{
    "cells": [
        {
            "cell_type": "markdown",
            "metadata": {},
            "source": [
                "# Project 1: Population and Poverty"
            ]
        },
        {
            "cell_type": "markdown",
            "metadata": {},
            "source": [
                "In this project, you'll explore data from [Gapminder.org](http:\/\/gapminder.org), which\n",
                "collects data from many sources and compiles them into tables that describe many countries around the world. All of the data they aggregate are published in the [Systema Globalis](https:\/\/github.com\/open-numbers\/ddf--gapminder--systema_globalis\/blob\/master\/README.md). Their goal is \"to compile all public statistics; Social, Economic and Environmental; into a comparable total dataset [sic].\" All data sets in this project are copied directly from the Systema Globalis without any changes.\n",
                "\n",
                "For some interesting lectures with reference to the material investigated in this project please see the TED talks by Hans Rosling [here](https:\/\/www.ted.com\/talks\/hans_rosling_shows_the_best_stats_you_ve_ever_seen?referrer=playlist-the_best_hans_rosling_talks_yo) and [here](https:\/\/www.ted.com\/talks\/hans_rosling_reveals_new_insights_on_poverty?referrer=playlist-the_best_hans_rosling_talks_yo).\n",
                "\n",
                "### Partners\n",
                "\n",
                "You may work alone or with one partner, who must be from your recitation section. Use Vocareum to invite your partner to join your team.  Once you've formed a team, you will share the same notebook in Vocareum, and any changes to it or submission of it will reflect on both partners.  **We strongly recommend that you form your Vocareum partnership before either partner begins editing the notebook,** so that you don't have to redo any work.\n",
                "\n",
                "### Checkpoint\n",
                "\n",
                "There are two parts to this assignment in Vocareum, although both parts have you editing the same notebook.  For full credit, you must complete the first eight questions and submit them **to Part 1** by 11:59pm on Thursday 2\/21. You will have some lab time to work on these questions, but we recommend that you start the project before lab and leave time to finish the checkpoint afterward.\n",
                "\n",
                "### Deadline\n",
                "\n",
                "Your final submission of the notebook will be **to Part 2**.  You are welcome to change any answers to the first eight questions in your final submission. The final submission of the project is due at 11:59 pm on Monday 3\/4. Late submissions will be accepted until 11:59 pm on Wednesday March 6th, but a 33.33% late penalty will be applied after 11:59 pm on Monday, and a 66.66% late penalty after 11:59 pm on Tuesday.  It's much better to be early than late, so start working now.\n",
                "\n",
                "### Other Logistics\n",
                "\n",
                "**Academic Integrity.** Do not share your code with anybody but your partner. You are welcome to discuss questions with other students, but don't share the answers. The experience of solving the problems in this project will prepare you for exams (and life). If someone asks you for an answer or a hint, resist! Instead, you can demonstrate how you would solve a similar problem, or point them to somewhere in the course materials that solves a similar problem.\n",
                "\n",
                "**Support.** You are not alone! Come to office hours, come to recitation, and talk to your partner.\n",
                "\n",
                "**Checks and tests.** Projects are an opportunity for you to demonstrate what you have learned from labs and homeworks.  So the checks in this project are relatively minimal. Passing the checks for a question does not mean that you answered the question correctly. More rigorous tests will be used to ascertain the correctness of your answers during grading.\n",
                "\n",
                "**Advice.** Develop your answers incrementally. To perform a complicated table manipulation, break it up into steps, perform each step on a different line, give a new name to each result, and check that each intermediate result is what you expect. You can add any additional names or functions you want to the provided cells.\n",
                "\n",
                "### <font color=\"red\">Please run the next cell to import the packages required for the lab.<\/font>"
            ]
        },
        {
            "cell_type": "code",
            "execution_count": null,
            "metadata": {},
            "outputs": [],
            "source": [
                "from datascience import *\n",
                "import numpy as np\n",
                "\n",
                "%matplotlib inline\n",
                "import matplotlib.pyplot as plots\n",
                "plots.style.use('fivethirtyeight')\n",
                "\n",
                "from test import *"
            ]
        },
        {
            "cell_type": "markdown",
            "metadata": {
                "deletable": false
            },
            "source": [
                "## 1. Global Population Growth\n"
            ]
        },
        {
            "cell_type": "markdown",
            "metadata": {
                "deletable": false
            },
            "source": [
                "The global population of humans reached 1 billion around 1800, 3 billion around 1960, and 7 billion around 2011. The potential impact of exponential population growth has concerned scientists, economists, and politicians alike.\n",
                "\n",
                "The UN Population Division estimates that the world population will likely continue to grow throughout the 21st century, but at a slower rate, perhaps reaching 11 billion by 2100. However, the UN does not rule out scenarios of more extreme growth.\n",
                "\n",
                "<a href=\"http:\/\/www.pewresearch.org\/fact-tank\/2015\/06\/08\/scientists-more-worried-than-public-about-worlds-growing-population\/ft_15-06-04_popcount\/\"> \n",
                " <img src=\"pew_population_projection.png\"\/> \n",
                "<\/a>\n",
                "*Note:* The green shaded bars around the graphs are *confidence intervals* which we will discuss later in the course.\n",
                "\n",
                "In this section, we will examine some of the factors that influence population growth and how they are changing around the world."
            ]
        },
        {
            "cell_type": "markdown",
            "metadata": {
                "deletable": false
            },
            "source": [
                "The first table we will consider is the total population of each country over time. Run the cell below."
            ]
        },
        {
            "cell_type": "code",
            "execution_count": null,
            "metadata": {
                "deletable": false,
                "scrolled": true
            },
            "outputs": [],
            "source": [
                "# The population.csv file can also be found online here:\n",
                "# https:\/\/github.com\/open-numbers\/ddf--gapminder--systema_globalis\/raw\/master\/ddf--datapoints--population_total--by--geo--time.csv\n",
                "# The version in this project was downloaded in February, 2019.\n",
                "population = Table.read_table('population.csv')\n",
                "population.show(3)"
            ]
        },
        {
            "cell_type": "markdown",
            "metadata": {
                "deletable": false
            },
            "source": [
                "### Bangladesh\n",
                "\n",
                "In the `population` table, the `geo` column contains three-letter codes established by the [International Organization for Standardization](https:\/\/en.wikipedia.org\/wiki\/International_Organization_for_Standardization) (ISO) in the [Alpha-3](https:\/\/en.wikipedia.org\/wiki\/ISO_3166-1_alpha-3#Current_codes) standard. We will begin by taking a close look at Bangladesh. Inspect the standard to find the 3-letter code for Bangladesh."
            ]
        },
        {
            "cell_type": "markdown",
            "metadata": {
                "deletable": false
            },
            "source": [
                "**Question 1.** Create a table called `b_pop` that has two columns labeled `time` and `population_total`. The first column should contain the years from 1970 through 2015 (including both 1970 and 2015) and the second should contain the population of Bangladesh in each of those years."
            ]
        },
        {
            "cell_type": "code",
            "execution_count": null,
            "metadata": {
                "deletable": false
            },
            "outputs": [],
            "source": [
                "b_pop = ...\n",
                "# Uncomment the next line to improve the formatting of the table\n",
                "#b_pop.set_format('population_total', NumberFormatter(0))\n",
                "b_pop"
            ]
        },
        {
            "cell_type": "code",
            "execution_count": null,
            "metadata": {
                "deletable": false,
                "scrolled": false
            },
            "outputs": [],
            "source": [
                "check1_1(b_pop)"
            ]
        },
        {
            "cell_type": "code",
            "execution_count": null,
            "metadata": {
                "nbgrader": {
                    "grade": true,
                    "grade_id": "test1_1",
                    "locked": true,
                    "points": 1,
                    "schema_version": 1,
                    "solution": false
                }
            },
            "outputs": [],
            "source": [
                "###\n",
                "### AUTOGRADER TEST - DO NOT REMOVE\n",
                "###\n"
            ]
        },
        {
            "cell_type": "markdown",
            "metadata": {
                "deletable": false
            },
            "source": [
                "Uncomment and run the following cell to create a table called `b_five` that has the population of Bangladesh every five years. At a glance, it appears that the population of Bangladesh has been growing quickly indeed!"
            ]
        },
        {
            "cell_type": "code",
            "execution_count": null,
            "metadata": {
                "deletable": false
            },
            "outputs": [],
            "source": [
                "# Uncomment and run this cell\n",
                "#fives = np.arange(1970, 2016, 5) # 1970, 1975, 1980, ...\n",
                "#b_five = b_pop.sort('time').where('time', are.contained_in(fives))\n",
                "#b_five"
            ]
        },
        {
            "cell_type": "markdown",
            "metadata": {
                "deletable": false
            },
            "source": [
                "**Question 2.** Create a table called `b_five_growth` that includes three columns, `time`, `population_total`, and `annual_growth`. There should be one row for every five years from 1970 through 2010 (but not 2015). The first two columns are the same as `b_five`. The third column is the *annual growth rate* for each five-year period. Consult the [Growth Rates](http:\/\/www.cs.cornell.edu\/courses\/cs1380\/2018sp\/textbook\/chapters\/03\/3\/1\/example-growth-rates.html) example in the textbook to understand how to compute the annual growth rate.\n",
                "\n",
                "*Hint:* You may need to use the `are.contained_in` in a where statement for a table. See the documentation [here](http:\/\/data8.org\/datascience\/predicates.html).\n",
                "\n",
                "*Hint 2:* More information about the PercentFormatter is [here](http:\/\/data8.org\/datascience\/formats.html)."
            ]
        },
        {
            "cell_type": "code",
            "execution_count": null,
            "metadata": {
                "deletable": false
            },
            "outputs": [],
            "source": [
                "# Only your `b_five_growth` table will be graded for correctness; the other \n",
                "# variable names below are suggestions that you are welcome to use, change, or delete.\n",
                "b_1970_2010 = ...\n",
                "b_1975_2015 = ...\n",
                "initial = ...\n",
                "changed = ...\n",
                "annual_growth_rate = ...\n",
                "b_five_growth = ...\n",
                "# Uncomment the following line to make your table a little easier to read.\n",
                "# b_five_growth.set_format('annual_growth', PercentFormatter)\n",
                "\n"
            ]
        },
        {
            "cell_type": "code",
            "execution_count": null,
            "metadata": {
                "deletable": false
            },
            "outputs": [],
            "source": [
                "check1_2(b_five_growth)"
            ]
        },
        {
            "cell_type": "code",
            "execution_count": null,
            "metadata": {
                "nbgrader": {
                    "grade": true,
                    "grade_id": "test1_2",
                    "locked": true,
                    "points": 1,
                    "schema_version": 1,
                    "solution": false
                }
            },
            "outputs": [],
            "source": [
                "###\n",
                "### AUTOGRADER TEST - DO NOT REMOVE\n",
                "###\n"
            ]
        },
        {
            "cell_type": "markdown",
            "metadata": {
                "deletable": false
            },
            "source": [
                "Even though the population has grown every five years since 1970, the annual growth rate decreased dramatically from 1985 to 2015. Let's look at some other information and attempt to develop a possible explanation. Run the next cell to load three tables of measurements about countries over time.\n",
                "\n",
                "Often times when doing data science our data comes from many different sources (either tables, or csv files) and it is our duty to figure out ways to combine the tables together to tell a complete story."
            ]
        },
        {
            "cell_type": "code",
            "execution_count": null,
            "metadata": {
                "deletable": false
            },
            "outputs": [],
            "source": [
                "# Source: https:\/\/github.com\/open-numbers\/ddf--gapminder--systema_globalis\/raw\/master\/ddf--datapoints--life_expectancy_years--by--geo--time.csv\n",
                "life_expectancy = Table.read_table('life_expectancy.csv')\n",
                "# Source: https:\/\/github.com\/open-numbers\/ddf--gapminder--systema_globalis\/raw\/master\/ddf--datapoints--child_mortality_0_5_year_olds_dying_per_1000_born--by--geo--time.csv\n",
                "child_mortality = Table.read_table('child_mortality.csv').relabeled(2, 'child_mortality_under_5_per_1000_born')\n",
                "# Source: https:\/\/github.com\/open-numbers\/ddf--gapminder--systema_globalis\/raw\/master\/ddf--datapoints--children_per_woman_total_fertility--by--geo--time.csv\n",
                "fertility = Table.read_table('fertility.csv')"
            ]
        },
        {
            "cell_type": "markdown",
            "metadata": {
                "deletable": false
            },
            "source": [
                "The `life_expectancy` table contains a statistic that is often used to measure how long people live, called *life expectancy at birth*. This number, for a country in a given year, [does not measure how long babies born in that year are expected to live](http:\/\/blogs.worldbank.org\/opendata\/what-does-life-expectancy-birth-really-mean). Instead, it measures how long someone would live, on average, if the *mortality conditions* in that year persisted throughout their lifetime. These \"mortality conditions\" describe what fraction of people at each age survived the year. So, it is a way of measuring the proportion of people that are staying alive, aggregated over different age groups in the population."
            ]
        },
        {
            "cell_type": "markdown",
            "metadata": {
                "deletable": false
            },
            "source": [
                "**Question 3.** Perhaps population is growing more slowly because people aren't living as long. Use the `life_expectancy` table to draw a line graph with the years 1970 and later on the horizontal axis that shows how the *life expectancy at birth* has changed in Bangladesh."
            ]
        },
        {
            "cell_type": "code",
            "execution_count": null,
            "metadata": {
                "deletable": false,
                "manual_grade": true,
                "manual_problem_id": "global_pop_3",
                "nbgrader": {
                    "grade": true,
                    "grade_id": "manual1_3",
                    "locked": false,
                    "points": 1,
                    "schema_version": 1,
                    "solution": true
                }
            },
            "outputs": [],
            "source": [
                "...\n"
            ]
        },
        {
            "cell_type": "markdown",
            "metadata": {
                "deletable": false
            },
            "source": [
                "**Question 4.** Does the graph above help directly explain why the population growth rate decreased from 1985 to 2015 in Bangladesh? Why or why not? What happened in Bangladesh in 1991, and does that event explain the change in population growth rate?"
            ]
        },
        {
            "cell_type": "markdown",
            "metadata": {
                "collapsed": true,
                "deletable": false,
                "manual_grade": true,
                "manual_problem_id": "global_pop_4",
                "nbgrader": {
                    "grade": true,
                    "grade_id": "manual1_4",
                    "locked": false,
                    "points": 1,
                    "schema_version": 1,
                    "solution": true
                }
            },
            "source": [
                "*Write your answer here, replacing this text.*"
            ]
        },
        {
            "cell_type": "code",
            "execution_count": null,
            "metadata": {},
            "outputs": [],
            "source": [
                "# DO NOT CHANGE THIS CELL\n"
            ]
        },
        {
            "cell_type": "markdown",
            "metadata": {
                "deletable": false
            },
            "source": [
                "The `fertility` table contains a statistic that is often used to measure how many babies are being born, the *total fertility rate*. This number describes the [number of children a woman would have in her lifetime](https:\/\/www.measureevaluation.org\/prh\/rh_indicators\/specific\/fertility\/total-fertility-rate), on average, if the current rates of birth by age of the mother persisted throughout her child bearing years, assuming she survived through age 49. "
            ]
        },
        {
            "cell_type": "markdown",
            "metadata": {
                "deletable": false
            },
            "source": [
                "**Question 5.** Write a function `fertility_over_time` that takes the Alpha-3 code of a `country` and a `start` year. It returns a two-column table with labels \"`Year`\" and \"`Children per woman`\" that can be used to generate a line chart of the country's fertility rate each year, starting at the `start` year. The plot should include the `start` year and all later years that appear in the `fertility` table (which includes all years up to 2018). \n",
                "\n",
                "Then, in the next cell, call your `fertility_over_time` function on the Alpha-3 code for Bangladesh and the year 1970 in order to plot how Bangladesh's fertility rate has changed since 1970."
            ]
        },
        {
            "cell_type": "code",
            "execution_count": null,
            "metadata": {
                "deletable": false
            },
            "outputs": [],
            "source": [
                "def fertility_over_time(country, start):\n",
                "    \"\"\"Create a two-column table that describes a country's total fertility rate each year.\"\"\"\n",
                "    country_fertility = ...\n",
                "    country_fertility_after_start = ...\n",
                "    ...\n",
                "    \n"
            ]
        },
        {
            "cell_type": "code",
            "execution_count": null,
            "metadata": {
                "deletable": false
            },
            "outputs": [],
            "source": [
                "# You should uncomment the next line and run this cell to make sure your code works correctly, \n",
                "# but otherwise DO NOT change the code.\n",
                "#fertility_over_time('bgd', 1970).plot('Year', 'Children per woman')"
            ]
        },
        {
            "cell_type": "code",
            "execution_count": null,
            "metadata": {},
            "outputs": [],
            "source": [
                "check1_5(fertility_over_time)"
            ]
        },
        {
            "cell_type": "code",
            "execution_count": null,
            "metadata": {
                "deletable": false,
                "nbgrader": {
                    "grade": true,
                    "grade_id": "test1_5",
                    "locked": true,
                    "points": 1,
                    "schema_version": 1,
                    "solution": false
                }
            },
            "outputs": [],
            "source": [
                "###\n",
                "### AUTOGRADER TEST - DO NOT REMOVE\n",
                "###\n"
            ]
        },
        {
            "cell_type": "markdown",
            "metadata": {
                "deletable": false
            },
            "source": [
                "**Question 6.** Does the graph above help directly explain why the population growth rate decreased from 1985 to 2018 in Bangladesh? Why or why not?"
            ]
        },
        {
            "cell_type": "markdown",
            "metadata": {
                "deletable": false,
                "manual_grade": true,
                "manual_problem_id": "global_pop_6",
                "nbgrader": {
                    "grade": true,
                    "grade_id": "manual1_6",
                    "locked": false,
                    "points": 1,
                    "schema_version": 1,
                    "solution": true
                }
            },
            "source": [
                "*Write your answer here, replacing this text.*"
            ]
        },
        {
            "cell_type": "code",
            "execution_count": null,
            "metadata": {},
            "outputs": [],
            "source": [
                "# DO NOT CHANGE THIS CELL\n"
            ]
        },
        {
            "cell_type": "markdown",
            "metadata": {
                "deletable": false
            },
            "source": [
                "It has been observed that lower fertility rates are often associated with lower child mortality rates. The link has been attributed to family planning: if parents can expect that their children will all survive into adulthood, then they will choose to have fewer children. We can see if this association is evident in Bangladesh by plotting the relationship between total fertility rate and [child mortality rate per 1000 children](https:\/\/en.wikipedia.org\/wiki\/Child_mortality)."
            ]
        },
        {
            "cell_type": "markdown",
            "metadata": {
                "deletable": false
            },
            "source": [
                "**Question 7.** Using both the `fertility` and `child_mortality` tables, draw a scatter diagram with one point for each year, starting with 1970 and ending in 2018, that has Bangladesh's total fertility on the horizontal axis and its child mortality on the vertical axis. \n",
                "\n",
                "**The expression that draws the scatter diagram is provided for you; please don't change it.** Instead, create a table called `fertility_and_child_mortality` with the appropriate column labels and data in order to generate the chart correctly. Use the label \"`Children per woman`\" to describe total fertility and the label \"`Child deaths per 1000 born`\" to describe child mortality."
            ]
        },
        {
            "cell_type": "code",
            "execution_count": null,
            "metadata": {
                "deletable": false
            },
            "outputs": [],
            "source": [
                "country_fertility = ...\n",
                "country_child_mortality = ...\n",
                "fertility_and_child_mortality = ...\n",
                "\n",
                "fertility_and_child_mortality"
            ]
        },
        {
            "cell_type": "code",
            "execution_count": null,
            "metadata": {
                "deletable": false
            },
            "outputs": [],
            "source": [
                "# You should uncomment the next line and run this cell to make sure your code works correctly, \n",
                "# but otherwise DO NOT change the code.\n",
                "#fertility_and_child_mortality.scatter('Children per woman', 'Child deaths per 1000 born') "
            ]
        },
        {
            "cell_type": "markdown",
            "metadata": {},
            "source": [
                "From looking at the scatterplot you should see three different points where the children per woman are 7 but the child deaths per 1000 born are slightly higher than the lines. These points are called *outliers*. While the data is accurate, it shows that sometimes the trend in the data is not always perfect. We will see more of this when we start to talk about regression."
            ]
        },
        {
            "cell_type": "code",
            "execution_count": null,
            "metadata": {
                "deletable": false
            },
            "outputs": [],
            "source": [
                "check1_7(fertility_and_child_mortality)"
            ]
        },
        {
            "cell_type": "code",
            "execution_count": null,
            "metadata": {
                "nbgrader": {
                    "grade": true,
                    "grade_id": "test1_7",
                    "locked": true,
                    "points": 1,
                    "schema_version": 1,
                    "solution": false
                }
            },
            "outputs": [],
            "source": [
                "###\n",
                "### AUTOGRADER TEST - DO NOT REMOVE\n",
                "###\n"
            ]
        },
        {
            "cell_type": "markdown",
            "metadata": {
                "deletable": false
            },
            "source": [
                "**Question 8.** In one or two sentences, describe the association (if any) that is evidenced by this scatter diagram. Does the diagram show that reduced child mortality causes parents to choose to have fewer children?"
            ]
        },
        {
            "cell_type": "markdown",
            "metadata": {
                "deletable": false,
                "nbgrader": {
                    "grade": true,
                    "grade_id": "manual1_8",
                    "locked": false,
                    "points": 1,
                    "schema_version": 1,
                    "solution": true
                }
            },
            "source": [
                "*Write your answer here, replacing this text.*"
            ]
        },
        {
            "cell_type": "code",
            "execution_count": null,
            "metadata": {},
            "outputs": [],
            "source": [
                "# DO NOT CHANGE THIS CELL\n"
            ]
        },
        {
            "cell_type": "markdown",
            "metadata": {
                "deletable": false
            },
            "source": [
                "### Congratulations: Checkpoint Reached\n",
                "\n",
                "You have reached the project checkpoint. Please submit now **to Part 1** in order to record your progress. If you go back and revise your answers in the section above after the checkpoint is due, that's ok. Your revised answers will be graded. However, you will only get credit for your checkpoint submission if you have passed the autograder tests provided for every question above.\n",
                "\n",
                "If you are working with a partner, only one of you needs to submit. For both of you to receive credit, you must have already formed a partnership in Vocareum before you submit&mdash;and really you should form that partnership before even beginning work on the assignment.\n",
                "\n",
                "Now, switch to **Part 2** in Vocareum.  All of your work from Part 1 will still be in the notebook after you switch."
            ]
        },
        {
            "cell_type": "markdown",
            "metadata": {
                "deletable": false
            },
            "source": [
                "### Beyond Bangladesh\n",
                "\n",
                "The change observed in Bangladesh since 1970 can also be observed in many other developing countries: health services improve, life expectancy increases, and child mortality decreases. At the same time, the fertility rate often plummets, and so the population growth rate decreases despite increasing longevity."
            ]
        },
        {
            "cell_type": "markdown",
            "metadata": {
                "deletable": false
            },
            "source": [
                "Run the cell below to generate two overlaid histograms, one for 1960 and one for 2010, that show the distributions of total fertility rates for these two years among all 201 countries in the `fertility` table."
            ]
        },
        {
            "cell_type": "code",
            "execution_count": null,
            "metadata": {
                "deletable": false
            },
            "outputs": [],
            "source": [
                "Table().with_columns(\n",
                "    '1960', fertility.where('time', 1960).column('children_per_woman_total_fertility'),\n",
                "    '2010', fertility.where('time', 2010).column('children_per_woman_total_fertility')\n",
                ").hist(bins=np.arange(0, 10, 0.5), unit='child')\n",
                "_ = plots.xlabel('Children per woman')\n",
                "_ = plots.xticks(np.arange(10))"
            ]
        },
        {
            "cell_type": "markdown",
            "metadata": {
                "deletable": false
            },
            "source": [
                "**Question 9.** Assign `fertility_statements` to a list of the numbers for each statement below that can be correctly inferred from these histograms.\n",
                "1. About the same number of countries had a fertility rate between 3.5 and 4.5 in both 1960 and 2010.\n",
                "1. In 2010, about 40% of countries had a fertility rate between 1.5 and 2 (inclusive).\n",
                "1. In 1960, less than 20% of countries had a fertility rate below 3.\n",
                "1. More countries had a fertility rate above 3 in 1960 than in 2010.\n",
                "1. At least half of countries had a fertility rate between 5 and 8 (inclusive) in 1960.\n",
                "1. At least half of countries had a fertility rate below 3 in 2010."
            ]
        },
        {
            "cell_type": "code",
            "execution_count": null,
            "metadata": {
                "deletable": false
            },
            "outputs": [],
            "source": [
                "fertility_statements = [...]\n"
            ]
        },
        {
            "cell_type": "code",
            "execution_count": null,
            "metadata": {
                "deletable": false
            },
            "outputs": [],
            "source": [
                "check1_9(fertility_statements)"
            ]
        },
        {
            "cell_type": "code",
            "execution_count": null,
            "metadata": {
                "nbgrader": {
                    "grade": true,
                    "grade_id": "test1_9",
                    "locked": true,
                    "points": 1,
                    "schema_version": 1,
                    "solution": false
                }
            },
            "outputs": [],
            "source": [
                "###\n",
                "### AUTOGRADER TEST - DO NOT REMOVE\n",
                "###\n"
            ]
        },
        {
            "cell_type": "markdown",
            "metadata": {
                "deletable": false
            },
            "source": [
                "**Question 10.** Draw a line plot of the world population from 1800 through 2018. The world population is the sum of all the country's populations. *Hint: recall the `population` table from the beginning of this notebook.*"
            ]
        },
        {
            "cell_type": "code",
            "execution_count": null,
            "metadata": {
                "deletable": false,
                "manual_grade": true,
                "manual_problem_id": "global_pop_10",
                "nbgrader": {
                    "grade": true,
                    "grade_id": "manual1_10",
                    "locked": false,
                    "points": 1,
                    "schema_version": 1,
                    "solution": true
                }
            },
            "outputs": [],
            "source": [
                "...\n"
            ]
        },
        {
            "cell_type": "markdown",
            "metadata": {
                "deletable": false
            },
            "source": [
                "**Question 11.** Create a function `stats_for_year` that takes a `year` and returns a table of statistics. The table it returns should have four columns: `geo`, `population_total`, `children_per_woman_total_fertility`, and `child_mortality_under_5_per_1000_born`. Each row should contain one Alpha-3 country code and three statistics: population, fertility rate, and child mortality for that `year` from the `population`, `fertility`, and `child_mortality` tables. Include only those rows for which all three statistics are available for the country and year.  Your function needs to work for any year between 1960 and 2018.\n",
                "\n",
                "In addition, restrict the result to country codes that appears in `big_50`, an array (created below) of the 50 most populous countries in 2010. This restriction will speed up computations later in the project.\n",
                "\n",
                "*Hint*: Nearly all the code is provided; you need to write only about one line yourself."
            ]
        },
        {
            "cell_type": "code",
            "execution_count": null,
            "metadata": {
                "deletable": false
            },
            "outputs": [],
            "source": [
                "# We first create an array with the codes of the 50 biggest countries.\n",
                "big_50 = population.where('time', 2010).sort('population_total', descending=True).take(np.arange(50)).column('geo')\n",
                "\n",
                "# Next we create a population table that includes only the \n",
                "# 50 countries with the largest 2010 populations, and only the\n",
                "# years after 1959.\n",
                "population_big_50 = population.where('time', are.above(1959)).where('geo', are.contained_in(big_50))\n",
                "\n",
                "def stats_for_year(year):\n",
                "    \"\"\"Return a table of the stats for each country that year.\"\"\"\n",
                "    p = population_big_50.where('time', year).drop('time')\n",
                "    f = fertility.where('time', year).drop('time')\n",
                "    c = child_mortality.where('time', year).drop('time')\n",
                "    # Hint: you need just one more, short line of code\n",
                "    ...\n",
                "    \n"
            ]
        },
        {
            "cell_type": "markdown",
            "metadata": {},
            "source": [
                "Try calling your function `stats_for_year` on any year between 1960 and 2010 in the cell below.  Try to understand the output of `stats_for_year`."
            ]
        },
        {
            "cell_type": "code",
            "execution_count": null,
            "metadata": {},
            "outputs": [],
            "source": [
                "..."
            ]
        },
        {
            "cell_type": "code",
            "execution_count": null,
            "metadata": {
                "deletable": false
            },
            "outputs": [],
            "source": [
                "check1_11(stats_for_year)"
            ]
        },
        {
            "cell_type": "code",
            "execution_count": null,
            "metadata": {
                "nbgrader": {
                    "grade": true,
                    "grade_id": "test1_11",
                    "locked": true,
                    "points": 1,
                    "schema_version": 1,
                    "solution": false
                }
            },
            "outputs": [],
            "source": [
                "###\n",
                "### AUTOGRADER TEST - DO NOT REMOVE\n",
                "###\n"
            ]
        },
        {
            "cell_type": "markdown",
            "metadata": {},
            "source": [
                "**Question 12.** Create a table called `pop_by_decade` with two columns named `decade` and `population`. The `decade` column contains the years that commence a decade: 1960, 1970, ..., 2010. The `population` column contains the total population of all `big_50` countries in the corresponding year.\n",
                "\n",
                "*Hint:* We suggest that you define a function `pop_for_year` that computes the total population (the `stats_for_year` function from the previous question is useful here).  Then `apply` it to the `decade` column."
            ]
        },
        {
            "cell_type": "code",
            "execution_count": null,
            "metadata": {
                "deletable": false
            },
            "outputs": [],
            "source": [
                "def pop_for_year(year):\n",
                "    ...\n",
                "\n",
                "decades = Table().with_column(\n",
                "    'decade', ...\n",
                ")\n",
                "\n",
                "pop_by_decade = ...\n",
                "\n",
                "# Uncomment the next line to improve the formatting of the table\n",
                "#pop_by_decade.set_format('population', NumberFormatter(0))\n",
                "pop_by_decade"
            ]
        },
        {
            "cell_type": "code",
            "execution_count": null,
            "metadata": {
                "deletable": false
            },
            "outputs": [],
            "source": [
                "check1_12(pop_by_decade)"
            ]
        },
        {
            "cell_type": "code",
            "execution_count": null,
            "metadata": {
                "nbgrader": {
                    "grade": true,
                    "grade_id": "test1_12",
                    "locked": true,
                    "points": 1,
                    "schema_version": 1,
                    "solution": false
                }
            },
            "outputs": [],
            "source": [
                "###\n",
                "### AUTOGRADER TEST - DO NOT REMOVE\n",
                "###\n"
            ]
        },
        {
            "cell_type": "markdown",
            "metadata": {
                "deletable": false
            },
            "source": [
                "Next we'll load a new table.  The `countries` table describes various characteristics of countries. The `country` column contains the same codes as the `geo` column in each of the other data tables (`population`, `fertility`, and `child_mortality`). The `world_6region` column classifies each country into a region of the world. Run the cell below to inspect the data."
            ]
        },
        {
            "cell_type": "code",
            "execution_count": null,
            "metadata": {
                "deletable": false
            },
            "outputs": [],
            "source": [
                "# Source: https:\/\/github.com\/open-numbers\/ddf--gapminder--systema_globalis\/raw\/master\/ddf--entities--geo--country.csv\n",
                "countries = Table.read_table('countries.csv').where('country', are.contained_in(population.group('geo').column(0)))\n",
                "countries.select('country', 'name', 'world_6region')"
            ]
        },
        {
            "cell_type": "markdown",
            "metadata": {
                "deletable": false
            },
            "source": [
                "**Question 13.** Create a table called `region_counts` that has two columns, `region` and `count`. It should describe the count of how many of the `big_50` countries are in each region. For example, one row would have `south_asia` as its `region` value and an integer as its `count` value.  That integer would be the number of `big_50` countries in `south_asia`."
            ]
        },
        {
            "cell_type": "code",
            "execution_count": null,
            "metadata": {
                "deletable": false
            },
            "outputs": [],
            "source": [
                "region_counts = ...\n",
                "region_counts"
            ]
        },
        {
            "cell_type": "code",
            "execution_count": null,
            "metadata": {
                "deletable": false
            },
            "outputs": [],
            "source": [
                "check1_13(region_counts)"
            ]
        },
        {
            "cell_type": "code",
            "execution_count": null,
            "metadata": {
                "nbgrader": {
                    "grade": true,
                    "grade_id": "test1_13",
                    "locked": true,
                    "points": 1,
                    "schema_version": 1,
                    "solution": false
                }
            },
            "outputs": [],
            "source": [
                "###\n",
                "### AUTOGRADER TEST - DO NOT REMOVE\n",
                "###\n"
            ]
        },
        {
            "cell_type": "markdown",
            "metadata": {
                "deletable": false
            },
            "source": [
                "The following scatter diagram compares total fertility rate and child mortality rate for each country in 1960. The area of each dot represents the population of the country, and the color represents its region of the world. Run the cell, but don't worry about understanding all the code."
            ]
        },
        {
            "cell_type": "code",
            "execution_count": null,
            "metadata": {
                "deletable": false
            },
            "outputs": [],
            "source": [
                "from functools import lru_cache as cache\n",
                "\n",
                "# This cache annotation makes sure that if the same year\n",
                "# is passed as an argument twice, the work of computing\n",
                "# the result is only carried out once. That speeds up \n",
                "# the computation.\n",
                "@cache(None)\n",
                "def stats_relabeled(year):\n",
                "    \"\"\"Relabeled and cached version of stats_for_year.\"\"\"\n",
                "    return stats_for_year(year)\\\n",
                "           .relabeled('children_per_woman_total_fertility', 'Children per woman')\\\n",
                "           .relabeled('child_mortality_under_5_per_1000_born', 'Child deaths per 1000 born')\n",
                "\n",
                "def fertilty_vs_child_mortality(year):\n",
                "    \"\"\"Draw a color scatter diagram comparing child mortality and fertility.\"\"\"\n",
                "    with_region = stats_relabeled(year).join('geo', \n",
                "                                             countries.select('country', 'world_6region'), \n",
                "                                             'country')\n",
                "    with_region.scatter('Children per woman', \n",
                "                        'Child deaths per 1000 born', \n",
                "                        sizes='population_total', \n",
                "                        colors='world_6region', \n",
                "                        s=500)\n",
                "    plots.xlim(0,10)\n",
                "    plots.ylim(-50, 500)\n",
                "    plots.title(year)"
            ]
        },
        {
            "cell_type": "code",
            "execution_count": null,
            "metadata": {},
            "outputs": [],
            "source": [
                "# Uncomment and run the next line to actually draw the scatter diagram\n",
                "# for Question 14.\n",
                "#fertilty_vs_child_mortality(1960)"
            ]
        },
        {
            "cell_type": "markdown",
            "metadata": {
                "deletable": false
            },
            "source": [
                "**Question 14.** Assign `scatter_statements` to a list of the numbers for each statement below that can be inferred from this scatter diagram for 1960. \n",
                "1. The `europe_central_asia` region has the most countries with child mortality rates below 100.\n",
                "2. The lowest child mortality rate of any country is from an `east_asian_pacific` country.\n",
                "3. Most countries have a fertility rate above 5.\n",
                "4. There is an association between child mortality and fertility.\n",
                "5. The two largest countries by population also have the two highest child mortality rates."
            ]
        },
        {
            "cell_type": "code",
            "execution_count": null,
            "metadata": {
                "deletable": false
            },
            "outputs": [],
            "source": [
                "scatter_statements = ...\n"
            ]
        },
        {
            "cell_type": "code",
            "execution_count": null,
            "metadata": {
                "deletable": false
            },
            "outputs": [],
            "source": [
                "check1_14(scatter_statements)"
            ]
        },
        {
            "cell_type": "code",
            "execution_count": null,
            "metadata": {
                "nbgrader": {
                    "grade": true,
                    "grade_id": "test1_14",
                    "locked": true,
                    "points": 1,
                    "schema_version": 1,
                    "solution": false
                }
            },
            "outputs": [],
            "source": [
                "###\n",
                "### AUTOGRADER TEST - DO NOT REMOVE\n",
                "###\n"
            ]
        },
        {
            "cell_type": "markdown",
            "metadata": {
                "deletable": false
            },
            "source": [
                "The result of the cell below is interactive. Drag the slider to the right to see how countries have changed over time. You'll find that the great divide between so-called \"developed\" and \"developing\" countries that existed in the 1960's has nearly disappeared. This shift in fertility rates is the reason that the global population is expected to grow more slowly in the 21st century than it did in the 19th and 20th centuries.\n",
                "\n",
                "On the flip-side, a lot of countries still put a lot of importance on having multiple children. For example, in Ghana people often have multiple children with the hope that when they grow older they will be able to help their parents out on the farm. An old tradition also rewards mothers who have their 10th children in a ceremony called `nyongmato`. Read more about it [here](https:\/\/www.bbc.com\/news\/world-africa-45344870)."
            ]
        },
        {
            "cell_type": "code",
            "execution_count": null,
            "metadata": {
                "deletable": false,
                "scrolled": true
            },
            "outputs": [],
            "source": [
                "import ipywidgets as widgets\n",
                "\n",
                "# If you uncomment the next two lines, the animation will go a lot more smoothly,\n",
                "# but it will take some time to run the cell.\n",
                "#for y in np.arange(1960, 2015+1):\n",
                "#    stats_relabeled(y)\n",
                "\n",
                "_ = widgets.interact(fertilty_vs_child_mortality, \n",
                "                     year=widgets.IntSlider(min=1960, max=2015, value=1960))"
            ]
        },
        {
            "cell_type": "markdown",
            "metadata": {
                "deletable": false
            },
            "source": [
                "Now is a great time to take a break and [watch the same data](https:\/\/www.gapminder.org\/videos\/reducing-child-mortality-a-moral-and-environmental-imperative) presented by Hans Rosling (d. 2017) in a 2010 TEDx talk with smoother animation and witty commentary (and a perfect Sweedish accent)."
            ]
        },
        {
            "cell_type": "markdown",
            "metadata": {
                "deletable": false
            },
            "source": [
                "## 2. Global Poverty\n"
            ]
        },
        {
            "cell_type": "markdown",
            "metadata": {
                "deletable": false
            },
            "source": [
                "In 1800, 85% of the world's 1 billion people lived in *absolute poverty*, [defined by the United Nations](http:\/\/www.un.org\/esa\/socdev\/wssd\/text-version\/agreements\/poach2.htm) as \"a condition characterized by severe deprivation of basic human needs, including food, safe drinking water, sanitation facilities, health, shelter, education and information.\" One measure of absolute *aka* [extreme poverty](https:\/\/en.wikipedia.org\/wiki\/Extreme_poverty) is a person living on less than $1.00 per day adjusted to 1996 US prices.\n",
                "\n",
                "Although the world rate of extreme poverty has declined consistently for hundreds of year, a [recent estimate](http:\/\/www.worldbank.org\/en\/publication\/poverty-and-shared-prosperity) of the proportion of people living in extreme poverty is 10.7%&mdash;that's about 1 in 10 people. That estimate, made in 2016, is of the poverty rate in 2013. The United Nations recently adopted an [ambitious goal](http:\/\/www.un.org\/sustainabledevelopment\/poverty\/): \"By 2030, eradicate extreme poverty for all people everywhere.\"\n",
                "In this section, we will examine extreme poverty trends around the world."
            ]
        },
        {
            "cell_type": "markdown",
            "metadata": {
                "deletable": false
            },
            "source": [
                "First, (re)load some tables. Although the `population` table has values for every recent year for many countries, the `poverty` table includes only years for each country in which a measurement of the rate of extreme poverty was available (and the data stops in the year 2015). The table defines extreme poverty as below 1.90 a day in 2011 US dollars, based on a [World Bank report](https:\/\/openknowledge.worldbank.org\/bitstream\/handle\/10986\/25078\/9781464809583.pdf#page=55). It contains data for many [periphery](https:\/\/en.wikipedia.org\/wiki\/World-systems_theory) and semi-periphery countries, but not for many core countries."
            ]
        },
        {
            "cell_type": "code",
            "execution_count": null,
            "metadata": {
                "deletable": false
            },
            "outputs": [],
            "source": [
                "# These two tables were already loaded above, but we'll reload them here just in case.\n",
                "population = Table.read_table('population.csv')\n",
                "countries = Table.read_table('countries.csv').where('country', are.contained_in(population.group('geo').column(0)))\n",
                "\n",
                "# Source: https:\/\/github.com\/open-numbers\/ddf--gapminder--systema_globalis\/raw\/master\/ddf--datapoints--extreme_poverty_percent_people_below_190_a_day--by--geo--time.csv\n",
                "poverty = Table.read_table('poverty.csv')\n",
                "poverty"
            ]
        },
        {
            "cell_type": "code",
            "execution_count": null,
            "metadata": {},
            "outputs": [],
            "source": [
                "poverty.where('geo', 'usa')"
            ]
        },
        {
            "cell_type": "markdown",
            "metadata": {
                "deletable": false
            },
            "source": [
                "**Question 1.** Assign `latest` to a three-column table with one row for each country that appears in the `poverty` table. The first column should be labeled `geo` and contain the 3-letter code for the country. The second column should be labeled `time` and contain the *most recent* year for which an extreme poverty rate is available for the country. The third column should be labeled `poverty_percent` and contain the poverty rate in that year.\n",
                "\n",
                "*Hint*: Sort `poverty` appropriately, then call `group` on it, passing `first` as an argument."
            ]
        },
        {
            "cell_type": "code",
            "execution_count": null,
            "metadata": {
                "deletable": false
            },
            "outputs": [],
            "source": [
                "def first(values):\n",
                "    \"\"\"Return the first element of an array.\"\"\"\n",
                "    return values.item(0)\n",
                "\n",
                "latest = ...\n",
                "latest"
            ]
        },
        {
            "cell_type": "code",
            "execution_count": null,
            "metadata": {
                "deletable": false
            },
            "outputs": [],
            "source": [
                "check2_1(latest)"
            ]
        },
        {
            "cell_type": "code",
            "execution_count": null,
            "metadata": {
                "nbgrader": {
                    "grade": true,
                    "grade_id": "test2_1",
                    "locked": true,
                    "points": 1,
                    "schema_version": 1,
                    "solution": false
                }
            },
            "outputs": [],
            "source": [
                "###\n",
                "### AUTOGRADER TEST - DO NOT REMOVE\n",
                "###\n"
            ]
        },
        {
            "cell_type": "markdown",
            "metadata": {
                "deletable": false
            },
            "source": [
                "**Question 2.** Using both `latest` and `population`, create a four-column table called `recent` with one row for each country in `latest`. The four columns should have the following labels and contents:\n",
                "1. `geo` contains the 3-letter country code,\n",
                "1. `poverty_percent` contains the most recent poverty percent,\n",
                "1. `population_total` contains the population of the country in 2010,\n",
                "1. `poverty_total` contains the number of people in poverty **rounded to the nearest integer** (*hint*: `np.round`), based on the 2010 population and most recent poverty rate (which might not be from 2010, but don't worry about that)."
            ]
        },
        {
            "cell_type": "code",
            "execution_count": null,
            "metadata": {
                "deletable": false
            },
            "outputs": [],
            "source": [
                "recent = ...\n",
                "# Uncomment the line below to improve the formatting of the table\n",
                "#recent.set_format(['population_total', 'poverty_total'], NumberFormatter(0))\n",
                "#recent"
            ]
        },
        {
            "cell_type": "code",
            "execution_count": null,
            "metadata": {
                "deletable": false
            },
            "outputs": [],
            "source": [
                "check2_2(recent)"
            ]
        },
        {
            "cell_type": "code",
            "execution_count": null,
            "metadata": {
                "nbgrader": {
                    "grade": true,
                    "grade_id": "test2_2",
                    "locked": true,
                    "points": 1,
                    "schema_version": 1,
                    "solution": false
                }
            },
            "outputs": [],
            "source": [
                "###\n",
                "### AUTOGRADER TEST - DO NOT REMOVE\n",
                "###\n"
            ]
        },
        {
            "cell_type": "markdown",
            "metadata": {
                "deletable": false
            },
            "source": [
                "**Question 3.** Assign the name `poverty_percent` to the percentage of the world's 2010 population that were living in extreme poverty.  To do that, you need to know the number of people in extreme poverty in 2010, as well as the total world population in 2010.  \n",
                "\n",
                "* For the former, use the `poverty_total` numbers from the `recent` table.  (Those numbers, as we observed above in Question 2, are not completely accurate for 2010, because not all countries had a 2010 poverty rate in the `latest` table.  Don't worry about that.)  \n",
                "\n",
                "* For the latter, use the `population` table, not the `recent` table, because the sum of the `population_total` column in the `recent` table is not the world population: only a subset of the world's countries have known poverty rates.\n",
                "\n",
                "*Hint*: you should get an answer that is close to the 10.7% estimate mentioned at the beginning of this problem.  But yours should be a little higher, since your estimate is for 2010 rather than 2013, and poverty is generally declining."
            ]
        },
        {
            "cell_type": "code",
            "execution_count": null,
            "metadata": {
                "deletable": false
            },
            "outputs": [],
            "source": [
                "poverty_percent = ...\n",
                "poverty_percent"
            ]
        },
        {
            "cell_type": "code",
            "execution_count": null,
            "metadata": {
                "deletable": false
            },
            "outputs": [],
            "source": [
                "check2_3(poverty_percent)"
            ]
        },
        {
            "cell_type": "code",
            "execution_count": null,
            "metadata": {
                "nbgrader": {
                    "grade": true,
                    "grade_id": "test2_3",
                    "locked": true,
                    "points": 1,
                    "schema_version": 1,
                    "solution": false
                }
            },
            "outputs": [],
            "source": [
                "###\n",
                "### AUTOGRADER TEST - DO NOT REMOVE\n",
                "###\n"
            ]
        },
        {
            "cell_type": "markdown",
            "metadata": {
                "deletable": false
            },
            "source": [
                "For most countries, the `countries` table includes their position on the globe.  Some countries are missing position data, so the table has `nan` for their position. (Recall that `nan` [means *not a number*](https:\/\/en.wikipedia.org\/wiki\/NaN).)  Don't worry about those; they won't be part of our analysis."
            ]
        },
        {
            "cell_type": "code",
            "execution_count": null,
            "metadata": {
                "deletable": false
            },
            "outputs": [],
            "source": [
                "countries.select('country', 'name', 'world_4region', 'latitude', 'longitude')"
            ]
        },
        {
            "cell_type": "markdown",
            "metadata": {
                "deletable": false
            },
            "source": [
                "**Question 4.** Using `countries` and `recent`, create a five-column table called `poverty_map` with one row for every country in `recent`.  The columns should have the following labels and contents:\n",
                "\n",
                "1. `name` contains the country's name\n",
                "2. `region` contains the country's region from the `world_4region` column of `countries`\n",
                "3. `latitude` contains the country's latitude\n",
                "4. `longitude` contains the country's longitude\n",
                "5. `poverty_total` contains the country's poverty total"
            ]
        },
        {
            "cell_type": "code",
            "execution_count": null,
            "metadata": {
                "deletable": false
            },
            "outputs": [],
            "source": [
                "poverty_map = ...\n",
                "poverty_map"
            ]
        },
        {
            "cell_type": "code",
            "execution_count": null,
            "metadata": {
                "deletable": false
            },
            "outputs": [],
            "source": [
                "check2_4(poverty_map)"
            ]
        },
        {
            "cell_type": "code",
            "execution_count": null,
            "metadata": {
                "nbgrader": {
                    "grade": true,
                    "grade_id": "test2_4",
                    "locked": true,
                    "points": 1,
                    "schema_version": 1,
                    "solution": false
                }
            },
            "outputs": [],
            "source": [
                "###\n",
                "### AUTOGRADER TEST - DO NOT REMOVE\n",
                "###\n"
            ]
        },
        {
            "cell_type": "markdown",
            "metadata": {
                "deletable": false
            },
            "source": [
                "Uncomment and run the cell below to draw a map of the world in which the areas of circles represent the number of people living in extreme poverty. (Don't worry about understanding the code.) Double-click on the map to zoom in."
            ]
        },
        {
            "cell_type": "code",
            "execution_count": null,
            "metadata": {
                "deletable": false
            },
            "outputs": [],
            "source": [
                "# Uncomment and run this code\n",
                "#colors = {'africa': 'blue', 'europe': 'black', 'asia': 'red', 'americas': 'green'}\n",
                "#scaled = poverty_map.select('latitude', 'longitude', 'name', 'region', 'poverty_total')\\\n",
                "#   .with_column(\n",
                "#     'poverty_total', 2e4 * poverty_map.column('poverty_total'),\n",
                "#     'region', poverty_map.apply(colors.get, 'region')\n",
                "# )\n",
                "#Circle.map_table(scaled)"
            ]
        },
        {
            "cell_type": "markdown",
            "metadata": {
                "deletable": false
            },
            "source": [
                "Although people live in extreme poverty throughout the world, the largest numbers in this dataset are in Asia and Africa."
            ]
        },
        {
            "cell_type": "markdown",
            "metadata": {
                "deletable": false
            },
            "source": [
                "**Question 5.** Assign `largest` to a two-column table with the `name` (not the 3-letter code) and `poverty_total` of the 10 countries with the largest number of people living in extreme poverty, according to the `poverty_map` table."
            ]
        },
        {
            "cell_type": "code",
            "execution_count": null,
            "metadata": {
                "deletable": false
            },
            "outputs": [],
            "source": [
                "largest = ...\n",
                "largest"
            ]
        },
        {
            "cell_type": "code",
            "execution_count": null,
            "metadata": {
                "deletable": false
            },
            "outputs": [],
            "source": [
                "check2_5(largest)"
            ]
        },
        {
            "cell_type": "code",
            "execution_count": null,
            "metadata": {
                "nbgrader": {
                    "grade": true,
                    "grade_id": "test2_5",
                    "locked": true,
                    "points": 1,
                    "schema_version": 1,
                    "solution": false
                }
            },
            "outputs": [],
            "source": [
                "###\n",
                "### AUTOGRADER TEST - DO NOT REMOVE\n",
                "###\n"
            ]
        },
        {
            "cell_type": "markdown",
            "metadata": {
                "deletable": false
            },
            "source": [
                "**Question 6.** Write a function called `country_poverty` that takes the name of a country as its argument. It should return a table with two columns, `Year` and `Number in poverty`.  The values in the `Year` column should be all the years for which the `poverty` table has data for that country.  The values in the `Number in poverty` column should be the number of people in extreme poverty in that country in that year, rounded to the nearest integer.  You can compute that quantity from the poverty percentage in the `poverty` table and the population (for that year and country) in the `population` table.\n",
                "\n",
                "*Hint*: Any way that you want to compute the table is fine. Our solution used about five assignment statements and computed some intermediate tables."
            ]
        },
        {
            "cell_type": "code",
            "execution_count": null,
            "metadata": {
                "deletable": false,
                "manual_grade": true,
                "manual_problem_id": "global_poverty_6"
            },
            "outputs": [],
            "source": [
                "def country_poverty(country):\n",
                "    ...\n",
                "    \n",
                "\n",
                "country_poverty('India')"
            ]
        },
        {
            "cell_type": "code",
            "execution_count": null,
            "metadata": {},
            "outputs": [],
            "source": [
                "check2_6(country_poverty)"
            ]
        },
        {
            "cell_type": "code",
            "execution_count": null,
            "metadata": {
                "nbgrader": {
                    "grade": true,
                    "grade_id": "test2_6",
                    "locked": true,
                    "points": 1,
                    "schema_version": 1,
                    "solution": false
                }
            },
            "outputs": [],
            "source": [
                "###\n",
                "### AUTOGRADER TEST - DO NOT REMOVE\n",
                "###\n"
            ]
        },
        {
            "cell_type": "markdown",
            "metadata": {
                "deletable": false
            },
            "source": [
                "Finally, use the function below to draw timelines to see how the world is changing. You can check your work by comparing your graphs to the ones on [gapminder.org](https:\/\/goo.gl\/lPujuh)."
            ]
        },
        {
            "cell_type": "code",
            "execution_count": null,
            "metadata": {},
            "outputs": [],
            "source": [
                "def poverty_timeline(country_name):\n",
                "    \"\"\"Draw a timeline of the poverty in a country.\"\"\"\n",
                "    country_poverty(country_name).plot('Year')    "
            ]
        },
        {
            "cell_type": "markdown",
            "metadata": {},
            "source": [
                "Call `poverty_timeline` on India, Nigeria, Ghana, and China to see some interesting charts."
            ]
        },
        {
            "cell_type": "code",
            "execution_count": null,
            "metadata": {},
            "outputs": [],
            "source": [
                "# try calling poverty_timeline on some countries\n",
                "..."
            ]
        },
        {
            "cell_type": "markdown",
            "metadata": {
                "deletable": false
            },
            "source": [
                "Although the number of people living in extreme poverty has been increasing in Nigeria, the massive decreases in China and India have shaped the overall trend that extreme poverty is decreasing worldwide, both in percentage and in absolute number. \n",
                "\n",
                "To learn more, watch [Hans Rosling in a 2015 film](https:\/\/www.gapminder.org\/videos\/dont-panic-end-poverty\/) about the UN goal of eradicating extreme poverty from the world. "
            ]
        },
        {
            "cell_type": "markdown",
            "metadata": {
                "deletable": false
            },
            "source": [
                "## 3. Submit\n",
                "\n",
                "**You're finished!** Congratulations on mastering data visualization and table manipulation. Time to submit. Make sure you're submitting to **Part 2** of the assignment."
            ]
        }
    ],
    "metadata": {
        "celltoolbar": "Create Assignment",
        "kernelspec": {
            "display_name": "Python 3",
            "language": "python",
            "name": "python3"
        },
        "language_info": {
            "codemirror_mode": {
                "name": "ipython",
                "version": 3
            },
            "file_extension": ".py",
            "mimetype": "text\/x-python",
            "name": "python",
            "nbconvert_exporter": "python",
            "pygments_lexer": "ipython3",
            "version": "3.6.5"
        }
    },
    "nbformat": 4,
    "nbformat_minor": 1
}