{
    "cells": [
        {
            "cell_type": "markdown",
            "metadata": {},
            "source": [
                "# Lab 4: Functions and Visualizations"
            ]
        },
        {
            "cell_type": "markdown",
            "metadata": {},
            "source": [
                "Welcome to lab 4! This week, we'll learn about functions and the table method `apply` from [Section 7.1](http:\/\/www.cs.cornell.edu\/courses\/cs1380\/2018sp\/textbook\/chapters\/07\/1\/applying-a-function-to-a-column.html).  We'll also learn about visualization using histograms from [Chapter 6](http:\/\/www.cs.cornell.edu\/courses\/cs1380\/2018sp\/textbook\/chapters\/06\/visualization.html).\n",
                "\n",
                "First, set up the tests and imports by running the cell below."
            ]
        },
        {
            "cell_type": "code",
            "execution_count": null,
            "metadata": {
                "collapsed": true
            },
            "outputs": [],
            "source": [
                "import numpy as np\n",
                "from datascience import *\n",
                "import matplotlib\n",
                "%matplotlib inline\n",
                "import matplotlib.pyplot as plt\n",
                "plt.style.use('fivethirtyeight')\n",
                "import warnings\n",
                "warnings.simplefilter('ignore', FutureWarning)\n",
                "from ipywidgets import interact, interactive, fixed, interact_manual\n",
                "import ipywidgets as widgets\n",
                "\n",
                "from test import *"
            ]
        },
        {
            "cell_type": "markdown",
            "metadata": {},
            "source": [
                "## 1. Functions and CEO Incomes\n",
                "\n",
                "Let's start with a real data analysis task.  We'll look at the 2015 compensation of CEOs at the 100 largest companies in California.  The data were compiled for a Los Angeles Times analysis [here](http:\/\/spreadsheets.latimes.com\/california-ceo-compensation\/), and ultimately came from [filings](https:\/\/www.sec.gov\/answers\/proxyhtf.htm) mandated by the SEC from all publicly-traded companies.  Two companies have two CEOs, so there are 102 CEOs in the dataset.\n",
                "\n",
                "We've copied the data in raw form from the LA Times page into a file called `raw_compensation.csv`.  The page notes that all dollar amounts are in millions of dollars. Run the following cell to view the table."
            ]
        },
        {
            "cell_type": "code",
            "execution_count": null,
            "metadata": {
                "collapsed": true
            },
            "outputs": [],
            "source": [
                "raw_compensation = Table.read_table('raw_compensation.csv')\n",
                "raw_compensation"
            ]
        },
        {
            "cell_type": "markdown",
            "metadata": {},
            "source": [
                "**Question 1.** We want to compute the average of the CEOs' pay. Try uncommenting (i.e., remove the `#`) and running the cell below."
            ]
        },
        {
            "cell_type": "code",
            "execution_count": null,
            "metadata": {
                "collapsed": true
            },
            "outputs": [],
            "source": [
                "# np.average(raw_compensation.column(\"Total Pay\"))"
            ]
        },
        {
            "cell_type": "markdown",
            "metadata": {},
            "source": [
                "After you uncomment and run the cell, you should see an error. Let's examine why this error occured by looking at the values in the \"Total Pay\" column. Use the `type` function and set `total_pay_type` to the type of the first value in the \"Total Pay\" column. Mark the answer choice corresponding to the type of the entries in the \"Total Pay\" column.\n",
                "\n",
                "1. str\n",
                "2. float\n",
                "3. list"
            ]
        },
        {
            "cell_type": "code",
            "execution_count": null,
            "metadata": {
                "collapsed": true
            },
            "outputs": [],
            "source": [
                "total_pay_type = ...\n",
                "total_pay_type"
            ]
        },
        {
            "cell_type": "code",
            "execution_count": null,
            "metadata": {
                "collapsed": true
            },
            "outputs": [],
            "source": [
                "check1_1(total_pay_type)"
            ]
        },
        {
            "cell_type": "code",
            "execution_count": null,
            "metadata": {
                "collapsed": true,
                "nbgrader": {
                    "grade": true,
                    "grade_id": "test1_1",
                    "locked": true,
                    "points": 1,
                    "schema_version": 1,
                    "solution": false
                }
            },
            "outputs": [],
            "source": [
                "#\n",
                "# AUTOGRADER TEST - DO NOT REMOVE\n",
                "#\n"
            ]
        },
        {
            "cell_type": "markdown",
            "metadata": {},
            "source": [
                "**Question 2.** You should have found that the values in \"Total Pay\" column are strings&mdash;that is, text&mdash;and have type `str`. Averaging is an operation that doesn't make sense for text, so we need to convert the values to numbers. Extract the first value in the \"Total Pay\" column.  It's Mark Hurd's pay in 2015, in millions of dollars.  Call it `mark_hurd_pay_string`."
            ]
        },
        {
            "cell_type": "code",
            "execution_count": null,
            "metadata": {
                "collapsed": true
            },
            "outputs": [],
            "source": [
                "mark_hurd_pay_string = ...\n",
                "mark_hurd_pay_string"
            ]
        },
        {
            "cell_type": "code",
            "execution_count": null,
            "metadata": {
                "collapsed": true
            },
            "outputs": [],
            "source": [
                "check1_2(mark_hurd_pay_string)"
            ]
        },
        {
            "cell_type": "code",
            "execution_count": null,
            "metadata": {
                "collapsed": true,
                "nbgrader": {
                    "grade": true,
                    "grade_id": "test1_2",
                    "locked": true,
                    "points": 1,
                    "schema_version": 1,
                    "solution": false
                }
            },
            "outputs": [],
            "source": [
                "#\n",
                "# AUTOGRADER TEST - DO NOT REMOVE\n",
                "#\n"
            ]
        },
        {
            "cell_type": "markdown",
            "metadata": {},
            "source": [
                "**Question 3.** Convert `mark_hurd_pay_string` to a number of *dollars*.  The string method `strip` will be useful for removing the dollar sign; it removes a specified character from the start or end of a string.  For example, the value of `\"100%\".strip(\"%\")` is the string `\"100\"`.  You'll also need the function `float`, which converts a string that looks like a number to an actual number.  Last, remember that the answer should be in dollars, not millions of dollars."
            ]
        },
        {
            "cell_type": "code",
            "execution_count": null,
            "metadata": {
                "collapsed": true
            },
            "outputs": [],
            "source": [
                "mark_hurd_pay = ...\n",
                "mark_hurd_pay"
            ]
        },
        {
            "cell_type": "code",
            "execution_count": null,
            "metadata": {
                "collapsed": true
            },
            "outputs": [],
            "source": [
                "check1_3(mark_hurd_pay)"
            ]
        },
        {
            "cell_type": "code",
            "execution_count": null,
            "metadata": {
                "collapsed": true,
                "nbgrader": {
                    "grade": true,
                    "grade_id": "test1_3",
                    "locked": true,
                    "points": 1,
                    "schema_version": 1,
                    "solution": false
                }
            },
            "outputs": [],
            "source": [
                "#\n",
                "# AUTOGRADER TEST - DO NOT REMOVE\n",
                "#\n"
            ]
        },
        {
            "cell_type": "markdown",
            "metadata": {},
            "source": [
                "To compute the average pay, we need to do this for every CEO.  But that looks like it would involve copying this code 102 times.\n",
                "\n",
                "This is where functions come in.  First, we'll define a new function, giving a name to the expression that converts \"total pay\" strings to numeric values.  Later in this lab we'll see the payoff: we can call that function on every pay string in the dataset at once.\n",
                "\n",
                "**Question 4.** Copy the expression you used to compute `mark_hurd_pay` as the `return` expression of the function below, but replace the specific `mark_hurd_pay_string` with the generic `pay_string` name specified in the first line of the `def` statement."
            ]
        },
        {
            "cell_type": "code",
            "execution_count": null,
            "metadata": {
                "collapsed": true,
                "for_assignment_type": "student"
            },
            "outputs": [],
            "source": [
                "def convert_pay_string_to_number(pay_string):\n",
                "    \"\"\"Converts a pay string like '$100' (in millions) to a number of dollars.\"\"\"\n",
                "    return ...\n",
                "\n"
            ]
        },
        {
            "cell_type": "code",
            "execution_count": null,
            "metadata": {
                "collapsed": true
            },
            "outputs": [],
            "source": [
                "check1_4(convert_pay_string_to_number)"
            ]
        },
        {
            "cell_type": "code",
            "execution_count": null,
            "metadata": {
                "collapsed": true,
                "nbgrader": {
                    "grade": true,
                    "grade_id": "test1_4",
                    "locked": true,
                    "points": 1,
                    "schema_version": 1,
                    "solution": false
                }
            },
            "outputs": [],
            "source": [
                "#\n",
                "# AUTOGRADER TEST - DO NOT REMOVE\n",
                "#\n"
            ]
        },
        {
            "cell_type": "markdown",
            "metadata": {},
            "source": [
                "Running that cell doesn't convert any particular pay string. Instead, it creates a function called `convert_pay_string_to_number` that can convert any string with the right format to a number representing millions of dollars.\n",
                "\n",
                "We can call our function just like we call the built-in functions we've seen. It takes one argument, a string, and it returns a number."
            ]
        },
        {
            "cell_type": "code",
            "execution_count": null,
            "metadata": {
                "collapsed": true
            },
            "outputs": [],
            "source": [
                "convert_pay_string_to_number('$42')"
            ]
        },
        {
            "cell_type": "code",
            "execution_count": null,
            "metadata": {
                "collapsed": true
            },
            "outputs": [],
            "source": [
                "convert_pay_string_to_number(mark_hurd_pay_string)"
            ]
        },
        {
            "cell_type": "code",
            "execution_count": null,
            "metadata": {
                "collapsed": true
            },
            "outputs": [],
            "source": [
                "# We can also compute Safra Catz's pay in the same way:\n",
                "convert_pay_string_to_number(raw_compensation.where(\"Name\", are.containing(\"Safra\")).column(\"Total Pay\").item(0))"
            ]
        },
        {
            "cell_type": "markdown",
            "metadata": {},
            "source": [
                "So, what have we gained by defining the `convert_pay_string_to_number` function? \n",
                "Well, without it, we'd have to copy code (that strips off the $ sign, converts to a float, and multiplies by 1 million) each time we wanted to convert a pay string.  Now we just call a function whose name says exactly what it's doing.\n",
                "\n",
                "Soon, we'll see how to apply this function to every pay string in a single expression. First, let's take a brief detour and introduce `interact`."
            ]
        },
        {
            "cell_type": "markdown",
            "metadata": {},
            "source": [
                "### Using `interact`\n",
                "\n",
                "We've imported a nifty function called `interact` that allows you to\n",
                "call a function with different arguments.\n",
                "\n",
                "To use it, call `interact` with the function you want to interact with as the\n",
                "first argument, then specify a default value for each argument of the original\n",
                "function like so:"
            ]
        },
        {
            "cell_type": "code",
            "execution_count": null,
            "metadata": {
                "collapsed": true
            },
            "outputs": [],
            "source": [
                "_ = interact(convert_pay_string_to_number, pay_string='$42')"
            ]
        },
        {
            "cell_type": "markdown",
            "metadata": {},
            "source": [
                "You can now change the value in the textbox to automatically call\n",
                "`convert_pay_string_to_number` with the argument you enter in the `pay_string`\n",
                "textbox. For example, entering in `'$49'` in the textbox will display the result of\n",
                "running `convert_pay_string_to_number('$49')`. Neat!\n",
                "\n",
                "Note that we'll never ask you to write the `interact` function calls yourself as\n",
                "part of a question. However, we'll include it here and there where it's helpful\n",
                "and you'll probably find it useful to use yourself.\n",
                "\n",
                "Now, let's continue on and write more functions."
            ]
        },
        {
            "cell_type": "markdown",
            "metadata": {},
            "source": [
                "## 2. Defining functions\n",
                "\n",
                "Let's write a very simple function that converts a proportion to a percentage by multiplying it by 100.  For example, the value of `to_percentage(.5)` should be the number 50.  (No percent sign.)\n",
                "\n",
                "A function definition has a few parts.\n",
                "\n",
                "##### `def`\n",
                "It always starts with `def` (short for **def**ine):\n",
                "\n",
                "    def\n",
                "\n",
                "##### Name\n",
                "Next comes the name of the function.  Let's call our function `to_percentage`.\n",
                "    \n",
                "    def to_percentage\n",
                "\n",
                "##### Signature\n",
                "Next comes something called the *signature* of the function.  This tells Python how many arguments your function should have, and what names you'll use to refer to those arguments in the function's code.  `to_percentage` should take one argument, and we'll call that argument `proportion` since it should be a proportion.\n",
                "\n",
                "    def to_percentage(proportion)\n",
                "\n",
                "We put a colon after the signature to tell Python it's over.\n",
                "\n",
                "    def to_percentage(proportion):\n",
                "\n",
                "##### Documentation\n",
                "Functions can do complicated things, so you should write an explanation of what your function does.  For small functions, this is less important, but it's a good habit to learn from the start.  Conventionally, Python functions are documented by writing a triple-quoted string:\n",
                "\n",
                "    def to_percentage(proportion):\n",
                "        \"\"\"Converts a proportion to a percentage.\"\"\"\n",
                "    \n",
                "    \n",
                "##### Body\n",
                "Now we start writing code that runs when the function is called.  This is called the *body* of the function.  Each line of the body of the function must be indented; we usually use the TAB key to indent the right number of spaces.  In the body, we're allowed to write any code we could write outside of a function.  First let's give a name to the number we multiply a proportion by to get a percentage.\n",
                "\n",
                "    def to_percentage(proportion):\n",
                "        \"\"\"Converts a proportion to a percentage.\"\"\"\n",
                "        factor = 100\n",
                "\n",
                "##### `return`\n",
                "The special instruction `return` in a function's body tells Python to make the value of the function call equal to whatever comes right after `return`.  We want the value of `to_percentage(.5)` to be the proportion .5 times the factor 100, so we write:\n",
                "\n",
                "    def to_percentage(proportion):\n",
                "        \"\"\"Converts a proportion to a percentage.\"\"\"\n",
                "        factor = 100\n",
                "        return proportion * factor"
            ]
        },
        {
            "cell_type": "markdown",
            "metadata": {},
            "source": [
                "**Question 1.** Define `to_percentage` in the cell below.  Call your function to convert the proportion .2 to a percentage.  Name that percentage `twenty_percent`."
            ]
        },
        {
            "cell_type": "code",
            "execution_count": null,
            "metadata": {
                "collapsed": true,
                "for_assignment_type": "student"
            },
            "outputs": [],
            "source": [
                "# Finish the definition of to_percentage:\n",
                "def to_percentage(proportion):\n",
                "    \"\"\"...\"\"\"\n",
                "    ...\n",
                "    return ...\n",
                "\n",
                "# Call to_percentage below.\n",
                "twenty_percent = ...\n",
                "twenty_percent\n",
                "\n"
            ]
        },
        {
            "cell_type": "code",
            "execution_count": null,
            "metadata": {
                "collapsed": true
            },
            "outputs": [],
            "source": [
                "check2_1(to_percentage)"
            ]
        },
        {
            "cell_type": "code",
            "execution_count": null,
            "metadata": {
                "collapsed": true,
                "nbgrader": {
                    "grade": true,
                    "grade_id": "test2_1",
                    "locked": true,
                    "points": 1,
                    "schema_version": 1,
                    "solution": false
                }
            },
            "outputs": [],
            "source": [
                "#\n",
                "# AUTOGRADER TEST - DO NOT REMOVE\n",
                "#\n"
            ]
        },
        {
            "cell_type": "markdown",
            "metadata": {},
            "source": [
                "You can use variables as arguments to functions you define yourself, just like you can use them as arguments to built-in functions.\n",
                "\n",
                "**Question 2.** Use `to_percentage` again to convert the value named `a_proportion` (defined below) to a percentage called `a_percentage`.\n",
                "\n",
                "*Note:* You don't need to define `to_percentage` again in this cell; just make sure you've run the cell above in which you previously defined it."
            ]
        },
        {
            "cell_type": "code",
            "execution_count": null,
            "metadata": {
                "collapsed": true
            },
            "outputs": [],
            "source": [
                "a_proportion = 2**(.5) \/ 2\n",
                "a_percentage = ...\n",
                "a_percentage\n",
                "\n"
            ]
        },
        {
            "cell_type": "code",
            "execution_count": null,
            "metadata": {
                "collapsed": true
            },
            "outputs": [],
            "source": [
                "check2_2(a_percentage)"
            ]
        },
        {
            "cell_type": "code",
            "execution_count": null,
            "metadata": {
                "collapsed": true,
                "nbgrader": {
                    "grade": true,
                    "grade_id": "test2_2",
                    "locked": true,
                    "points": 1,
                    "schema_version": 1,
                    "solution": false
                }
            },
            "outputs": [],
            "source": [
                "#\n",
                "# AUTOGRADER TEST - DO NOT REMOVE\n",
                "#\n"
            ]
        },
        {
            "cell_type": "markdown",
            "metadata": {},
            "source": [
                "Here's something important about functions: the names assigned within a function body are only accessible within the function body. Once the function has returned, those names are gone.  So even though you defined `factor = 100` inside `to_percentage` above and then called `to_percentage`, you cannot refer to `factor` anywhere except inside the body of `to_percentage`:"
            ]
        },
        {
            "cell_type": "code",
            "execution_count": null,
            "metadata": {
                "collapsed": true
            },
            "outputs": [],
            "source": [
                "# Uncomment the line below and run it; you should receive a NameError\n",
                "# factor"
            ]
        },
        {
            "cell_type": "markdown",
            "metadata": {},
            "source": [
                "As we've seen with the built-in functions, functions can also take strings (or arrays, or tables) as arguments, and they can return those things, too.\n",
                "\n",
                "**Question 3.** Define a function called `disemvowel`.  It should take a single string as its argument.  (You can call that argument whatever you want.)  It should return a copy of that string, but with all the characters that are vowels removed.  (In English, the vowels are the characters \"a\", \"e\", \"i\", \"o\", and \"u\". For this question, let's assume \"y\" is never a vowel.)\n",
                "\n",
                "*Hint:* To remove all the \"a\"s from a string named `that_string`, you can use `that_string.replace('a', '')`, which will return a new string and leave `that_string` unchanged.  You can call `replace` multiple times."
            ]
        },
        {
            "cell_type": "code",
            "execution_count": null,
            "metadata": {
                "collapsed": true
            },
            "outputs": [],
            "source": [
                "def disemvowel(a_string):\n",
                "    \"\"\"Remove the vowels from a_string.\"\"\"\n",
                "    ...\n",
                "    \n",
                "\n",
                "# An example call to your function.  (It's often helpful to run\n",
                "# an example call from time to time while you're writing a function,\n",
                "# to see how it currently works.)\n",
                "disemvowel(\"Can you read this without vowels?\")"
            ]
        },
        {
            "cell_type": "code",
            "execution_count": null,
            "metadata": {
                "collapsed": true
            },
            "outputs": [],
            "source": [
                "# Alternatively, you can use interact to call your function\n",
                "_ = interact(disemvowel, a_string='Hello world')"
            ]
        },
        {
            "cell_type": "code",
            "execution_count": null,
            "metadata": {
                "collapsed": true
            },
            "outputs": [],
            "source": [
                "check2_3(disemvowel)"
            ]
        },
        {
            "cell_type": "code",
            "execution_count": null,
            "metadata": {
                "collapsed": true,
                "nbgrader": {
                    "grade": true,
                    "grade_id": "test2_3",
                    "locked": true,
                    "points": 1,
                    "schema_version": 1,
                    "solution": false
                }
            },
            "outputs": [],
            "source": [
                "#\n",
                "# AUTOGRADER TEST - DO NOT REMOVE\n",
                "#\n"
            ]
        },
        {
            "cell_type": "markdown",
            "metadata": {},
            "source": [
                "##### Calls on calls on calls\n",
                "Just as you write a series of lines to build up a complex computation, it's useful to define a series of small functions that build on each other.  Since you can write any code inside a function's body, you can call other functions you've written.\n",
                "\n",
                "If a function is a like a recipe, then defining a function in terms of other functions is like having a recipe for cake telling you to follow (i) another recipe to make the frosting, and (ii) another recipe to make a filling.  Referring to other recipes makes the cake recipe itself shorter and clearer.\n",
                "\n",
                "For example, suppose you want to count the number of characters that *are not vowels* in a piece of text.  One way to do that is this to remove all the vowels and count the size of the remaining string.\n",
                "\n",
                "**Question 4.** Write a function called `num_non_vowels`.  It should take a string as its argument and return a number.  The number should be the number of characters in the argument string that are not vowels.\n",
                "\n",
                "*Hint:* The function `len` takes a string as its argument and returns the number of characters in it."
            ]
        },
        {
            "cell_type": "code",
            "execution_count": null,
            "metadata": {
                "collapsed": true
            },
            "outputs": [],
            "source": [
                "def num_non_vowels(a_string):\n",
                "    \"\"\"The number of characters in a_string that are not vowels.\"\"\"\n",
                "    ...\n",
                "\n",
                "    \n",
                "# Try calling your function yourself to make sure the output is what\n",
                "# you expect. You can also use the interact function if you'd like."
            ]
        },
        {
            "cell_type": "code",
            "execution_count": null,
            "metadata": {
                "collapsed": true
            },
            "outputs": [],
            "source": [
                "check2_4(num_non_vowels)"
            ]
        },
        {
            "cell_type": "code",
            "execution_count": null,
            "metadata": {
                "collapsed": true,
                "nbgrader": {
                    "grade": true,
                    "grade_id": "test2_4",
                    "locked": true,
                    "points": 1,
                    "schema_version": 1,
                    "solution": false
                }
            },
            "outputs": [],
            "source": [
                "#\n",
                "# AUTOGRADER TEST - DO NOT REMOVE\n",
                "#\n"
            ]
        },
        {
            "cell_type": "markdown",
            "metadata": {},
            "source": [
                "##### Abstraction\n",
                "\n",
                "The `movies_by_year` dataset in the textbook has information about movie sales in recent years.  Suppose you'd like to compute the year with the highest-ranking total gross movie sales.  You might do this:"
            ]
        },
        {
            "cell_type": "code",
            "execution_count": null,
            "metadata": {
                "collapsed": true
            },
            "outputs": [],
            "source": [
                "movies_by_year = Table.read_table(\"movies_by_year.csv\")\n",
                "rank = 1\n",
                "year = movies_by_year.sort(\"Total Gross\", descending=True).column(\"Year\").item(rank-1)\n",
                "year"
            ]
        },
        {
            "cell_type": "markdown",
            "metadata": {},
            "source": [
                "Suppose that, after writing the code above, you realize you also want to know the 5th and 10th-highest years.  Instead of copying your code, you decide to put it in a function.  Since the rank varies, you make that an argument to your function.  (Designing functions like this is known as *functional abstraction* in programming, because the function extracts or removes some details, in this case rank, from the computation and makes them function arguments.)\n",
                "\n",
                "**Question 5.** Write a function called `highest_ranking_year`.  It should take a single argument, the rank of the year (e.g., an integer such as 1, 5, or 10)."
            ]
        },
        {
            "cell_type": "code",
            "execution_count": null,
            "metadata": {
                "collapsed": true,
                "for_assignment_type": "student"
            },
            "outputs": [],
            "source": [
                "def highest_ranking_year(k):\n",
                "    ...\n",
                "\n",
                "\n",
                "# Example call to your function:\n",
                "highest_ranking_year(10)"
            ]
        },
        {
            "cell_type": "code",
            "execution_count": null,
            "metadata": {
                "collapsed": true
            },
            "outputs": [],
            "source": [
                "# interact also allows you to pass in an array for a function argument. It will\n",
                "# then present a dropdown menu of options.\n",
                "_ = interact(highest_ranking_year, k=np.arange(1, 11))"
            ]
        },
        {
            "cell_type": "code",
            "execution_count": null,
            "metadata": {
                "collapsed": true
            },
            "outputs": [],
            "source": [
                "check2_5(highest_ranking_year)"
            ]
        },
        {
            "cell_type": "code",
            "execution_count": null,
            "metadata": {
                "collapsed": true,
                "nbgrader": {
                    "grade": true,
                    "grade_id": "test2_5",
                    "locked": true,
                    "points": 1,
                    "schema_version": 1,
                    "solution": false
                }
            },
            "outputs": [],
            "source": [
                "#\n",
                "# AUTOGRADER TEST - DO NOT REMOVE\n",
                "#\n"
            ]
        },
        {
            "cell_type": "markdown",
            "metadata": {},
            "source": [
                "## 3. Applying functions\n",
                "\n",
                "Defining a function is a lot like giving a name to a value with `=`.  In fact, a function is a value just like the integer `1` or the string `\"the\"`!\n",
                "\n",
                "For example, we can make a new name for the built-in function `max` if we want:"
            ]
        },
        {
            "cell_type": "code",
            "execution_count": null,
            "metadata": {
                "collapsed": true
            },
            "outputs": [],
            "source": [
                "our_name_for_max = max\n",
                "our_name_for_max(2, 6)"
            ]
        },
        {
            "cell_type": "markdown",
            "metadata": {},
            "source": [
                "The old name for `max` is still around:"
            ]
        },
        {
            "cell_type": "code",
            "execution_count": null,
            "metadata": {
                "collapsed": true
            },
            "outputs": [],
            "source": [
                "max(2, 6)"
            ]
        },
        {
            "cell_type": "markdown",
            "metadata": {},
            "source": [
                "Try just writing `max` or `our_name_for_max` (or the name of any other function) in a cell, and run that cell.  Python will print out a (very brief) description of the function."
            ]
        },
        {
            "cell_type": "code",
            "execution_count": null,
            "metadata": {
                "collapsed": true
            },
            "outputs": [],
            "source": [
                "max"
            ]
        },
        {
            "cell_type": "markdown",
            "metadata": {},
            "source": [
                "Why is this useful?  Since functions are just values, it's possible to pass them as arguments to other functions. In fact, we've been doing that all along in the lab when we pass functions we define to `check` functions. \n",
                "\n",
                "Here's another simple (but not-so-useful example) of how functions are just values: we can make an array of functions."
            ]
        },
        {
            "cell_type": "code",
            "execution_count": null,
            "metadata": {
                "collapsed": true
            },
            "outputs": [],
            "source": [
                "make_array(max, np.average, are.equal_to)"
            ]
        },
        {
            "cell_type": "markdown",
            "metadata": {},
            "source": [
                "**Question 1.** Make an array containing any 4 other functions you've seen.  Call it `some_functions`."
            ]
        },
        {
            "cell_type": "code",
            "execution_count": null,
            "metadata": {
                "collapsed": true
            },
            "outputs": [],
            "source": [
                "some_functions = ...\n",
                "some_functions"
            ]
        },
        {
            "cell_type": "code",
            "execution_count": null,
            "metadata": {
                "collapsed": true
            },
            "outputs": [],
            "source": [
                "check3_1(some_functions)"
            ]
        },
        {
            "cell_type": "code",
            "execution_count": null,
            "metadata": {
                "collapsed": true,
                "nbgrader": {
                    "grade": true,
                    "grade_id": "test3_1",
                    "locked": true,
                    "points": 1,
                    "schema_version": 1,
                    "solution": false
                }
            },
            "outputs": [],
            "source": [
                "#\n",
                "# AUTOGRADER TEST - DO NOT REMOVE\n",
                "#\n"
            ]
        },
        {
            "cell_type": "markdown",
            "metadata": {},
            "source": [
                "Working with functions as values can lead to some funny-looking code.  For example, see if you can figure out why this works:"
            ]
        },
        {
            "cell_type": "code",
            "execution_count": null,
            "metadata": {
                "collapsed": true
            },
            "outputs": [],
            "source": [
                "make_array(max, np.average, are.equal_to, np.sum).item(0)(4, -2, 7)"
            ]
        },
        {
            "cell_type": "markdown",
            "metadata": {},
            "source": [
                "##### The `apply` method\n",
                "\n",
                "The table method `apply` calls a function many times, once on *each* element in a column of a table.  It produces an array of the results.  Here we use `apply` to convert every CEO's pay to a number, using the function you defined.  (Note that Python might choose to display the resulting array values using scientific notation, and that's okay.)"
            ]
        },
        {
            "cell_type": "code",
            "execution_count": null,
            "metadata": {
                "collapsed": true
            },
            "outputs": [],
            "source": [
                "raw_compensation.apply(convert_pay_string_to_number, \"Total Pay\")"
            ]
        },
        {
            "cell_type": "markdown",
            "metadata": {},
            "source": [
                "Here's an illustration of what that did:\n",
                "\n",
                "<img src=\"apply.png\"\/>\n",
                "\n",
                "Note that we didn't write something like `convert_pay_string_to_number()` or `convert_pay_string_to_number(\"Total Pay\")`.  The job of `apply` is to call the function we give it, so instead of calling `convert_pay_string_to_number` ourselves, we just write its name as an argument to `apply`.\n",
                "\n",
                "**Question 2.** Using `apply`, make a table that's a copy of `raw_compensation` with one more column called \"Total Pay (\\$)\".  It should be the result of applying `convert_pay_string_to_number` to the \"Total Pay\" column, as we did above.  Call the new table `compensation`."
            ]
        },
        {
            "cell_type": "code",
            "execution_count": null,
            "metadata": {
                "collapsed": true
            },
            "outputs": [],
            "source": [
                "compensation = raw_compensation.with_column(\n",
                "    \"Total Pay ($)\",\n",
                "    ...\n",
                ")\n",
                "\n",
                "compensation"
            ]
        },
        {
            "cell_type": "code",
            "execution_count": null,
            "metadata": {
                "collapsed": true
            },
            "outputs": [],
            "source": [
                "check3_2(compensation)"
            ]
        },
        {
            "cell_type": "code",
            "execution_count": null,
            "metadata": {
                "collapsed": true,
                "nbgrader": {
                    "grade": true,
                    "grade_id": "test3_2",
                    "locked": true,
                    "points": 1,
                    "schema_version": 1,
                    "solution": false
                }
            },
            "outputs": [],
            "source": [
                "#\n",
                "# AUTOGRADER TEST - DO NOT REMOVE\n",
                "#\n"
            ]
        },
        {
            "cell_type": "markdown",
            "metadata": {},
            "source": [
                "Now that we have the pay in numbers, instead of as strings, we can compute arithemtic operations with them.\n",
                "\n",
                "**Question 3.** Compute the mean total pay of the CEOs in the dataset. *Hint: there is a function `np.mean(a)` that will compute the average of array `a`, as well as an array method `a.mean()` that will do the same thing.*"
            ]
        },
        {
            "cell_type": "code",
            "execution_count": null,
            "metadata": {
                "collapsed": true
            },
            "outputs": [],
            "source": [
                "average_total_pay = ...\n",
                "average_total_pay"
            ]
        },
        {
            "cell_type": "code",
            "execution_count": null,
            "metadata": {
                "collapsed": true
            },
            "outputs": [],
            "source": [
                "check3_3(average_total_pay)"
            ]
        },
        {
            "cell_type": "code",
            "execution_count": null,
            "metadata": {
                "collapsed": true,
                "nbgrader": {
                    "grade": true,
                    "grade_id": "test3_3",
                    "locked": true,
                    "points": 1,
                    "schema_version": 1,
                    "solution": false
                }
            },
            "outputs": [],
            "source": [
                "#\n",
                "# AUTOGRADER TEST - DO NOT REMOVE\n",
                "#\n"
            ]
        },
        {
            "cell_type": "markdown",
            "metadata": {},
            "source": [
                "**Question 4.** Companies pay executives in a variety of ways: directly in cash, by granting stock or other \"equity\" in the company, or with ancillary benefits (e.g., private jets).  Compute the proportion of each CEO's pay that was cash.  Your answer should be an array of numbers, one for each CEO in the dataset.  \n",
                "\n",
                "*Hint 1:* There is a column of the `compensation` regarding cash in the table that will help.\n",
                "\n",
                "*Hint 2:* You will get a warning about an \"invalid value encountered in `true_divide`\".  That's okay. It's because Lawrence Page had a compensation of $0, and division by zero is undefined.  So his entry in your array will be `nan`, which stands for \"not a number\"."
            ]
        },
        {
            "cell_type": "code",
            "execution_count": null,
            "metadata": {
                "collapsed": true
            },
            "outputs": [],
            "source": [
                "cash_proportion = ...\n",
                "cash_proportion"
            ]
        },
        {
            "cell_type": "code",
            "execution_count": null,
            "metadata": {
                "collapsed": true
            },
            "outputs": [],
            "source": [
                "check3_4(cash_proportion)"
            ]
        },
        {
            "cell_type": "code",
            "execution_count": null,
            "metadata": {
                "collapsed": true,
                "nbgrader": {
                    "grade": true,
                    "grade_id": "test3_4",
                    "locked": true,
                    "points": 1,
                    "schema_version": 1,
                    "solution": false
                }
            },
            "outputs": [],
            "source": [
                "#\n",
                "# AUTOGRADER TEST - DO NOT REMOVE\n",
                "#\n"
            ]
        },
        {
            "cell_type": "markdown",
            "metadata": {},
            "source": [
                "Check out the \"% Change\" column in `compensation`.  It shows the percentage increase in the CEO's pay from the previous year.  For CEOs with no previous year on record, it instead says \"(No previous year)\".  The values in this column are *strings*, not numbers, so like the \"Total Pay\" column, it's not usable without a bit of extra work.\n",
                "\n",
                "Given your current pay and the percentage increase from the previous year, you can calculate your previous year's pay.  For example, if your pay is \\$100 this year, and that's an increase of 50% from the previous year, then your previous year's pay was $\\frac{\\$100}{1 + \\frac{50}{100}}$, or around \\$66.66.\n",
                "\n",
                "**Question 5.** Create a new table called `with_previous_compensation`.  It should be a copy of `compensation`, but with the \"(No previous year)\" CEOs filtered out, and with an extra column called \"2014 Total Pay ($)\".  That column should have each CEO's pay in 2014.\n",
                "\n",
                "*Hint 1:* This question takes several steps, but each one is still something you've seen before.  Take it one step at a time, using as many lines as you need.  You can examine your results after each step to make sure you're on the right track.\n",
                "\n",
                "*Hint 2:* You'll find it helpful to define a function or two.  You can do that just above your other code.  \n",
                "\n",
                "*Hint 3:* Recall your first introduction to the strip function in Question 1.3."
            ]
        },
        {
            "cell_type": "code",
            "execution_count": null,
            "metadata": {
                "collapsed": true,
                "for_assignment_type": "student"
            },
            "outputs": [],
            "source": [
                "# For reference, our solution involved around 10 lines of code, but shorter\n",
                "# and longer solutions are possible.\n",
                "with_previous_compensation = ...\n",
                "\n",
                "with_previous_compensation"
            ]
        },
        {
            "cell_type": "code",
            "execution_count": null,
            "metadata": {
                "collapsed": true
            },
            "outputs": [],
            "source": [
                "check3_5(with_previous_compensation)"
            ]
        },
        {
            "cell_type": "code",
            "execution_count": null,
            "metadata": {
                "collapsed": true,
                "nbgrader": {
                    "grade": true,
                    "grade_id": "test3_5",
                    "locked": true,
                    "points": 1,
                    "schema_version": 1,
                    "solution": false
                }
            },
            "outputs": [],
            "source": [
                "#\n",
                "# AUTOGRADER TEST - DO NOT REMOVE\n",
                "#\n"
            ]
        },
        {
            "cell_type": "markdown",
            "metadata": {},
            "source": [
                "**Question 6.** What was the average pay of these CEOs in 2014?"
            ]
        },
        {
            "cell_type": "code",
            "execution_count": null,
            "metadata": {
                "collapsed": true
            },
            "outputs": [],
            "source": [
                "average_pay_2014 = ...\n",
                "average_pay_2014"
            ]
        },
        {
            "cell_type": "code",
            "execution_count": null,
            "metadata": {
                "collapsed": true
            },
            "outputs": [],
            "source": [
                "check3_6(average_pay_2014)"
            ]
        },
        {
            "cell_type": "code",
            "execution_count": null,
            "metadata": {
                "collapsed": true,
                "nbgrader": {
                    "grade": true,
                    "grade_id": "test3_6",
                    "locked": true,
                    "points": 1,
                    "schema_version": 1,
                    "solution": false
                }
            },
            "outputs": [],
            "source": [
                "#\n",
                "# AUTOGRADER TEST - DO NOT REMOVE\n",
                "#\n"
            ]
        },
        {
            "cell_type": "markdown",
            "metadata": {},
            "source": [
                "## 4. Histograms\n",
                "Earlier, we computed the average pay among the CEOs in our dataset.  The average doesn't tell us everything about the amounts CEOs are paid, though.  For example, maybe just a few CEOs make the bulk of the money.\n",
                "\n",
                "We can use a *histogram* to visualize the dataset.  The table method `hist` takes a single argument, the name of a column of numbers.  It produces a histogram of the numbers in that column.  Run the following cell to make a histogram:"
            ]
        },
        {
            "cell_type": "code",
            "execution_count": null,
            "metadata": {
                "collapsed": true
            },
            "outputs": [],
            "source": [
                "def to_number(pay_string):\n",
                "    return float(pay_string.strip('$'))\n",
                "    \n",
                "pay = Table().with_columns(\n",
                "    'Name', raw_compensation.column('Name'),\n",
                "    'Total Pay', raw_compensation.apply(to_number, 'Total Pay')\n",
                ")\n",
                "pay.show(3)\n",
                "\n",
                "pay.hist('Total Pay')"
            ]
        },
        {
            "cell_type": "markdown",
            "metadata": {},
            "source": [
                "By default, `hist` produces a histogram with 10 equally spaced bins.  It's hard to tell quite how wide the bins are above, so let's try specifying that the bins should be $10 million wide. Run the following cell:"
            ]
        },
        {
            "cell_type": "code",
            "execution_count": null,
            "metadata": {
                "collapsed": true
            },
            "outputs": [],
            "source": [
                "pay.hist('Total Pay', bins=np.arange(0, 70, 10))"
            ]
        },
        {
            "cell_type": "markdown",
            "metadata": {},
            "source": [
                "Now the width of the bins is easy to read, but the labels on the axes could be improved. Run the following cell:"
            ]
        },
        {
            "cell_type": "code",
            "execution_count": null,
            "metadata": {
                "collapsed": true
            },
            "outputs": [],
            "source": [
                "pay.hist('Total Pay', bins=np.arange(0, 70, 10), unit=\"$1 Million\")"
            ]
        },
        {
            "cell_type": "markdown",
            "metadata": {},
            "source": [
                "Now both the x and y axes have labels that are easy to read."
            ]
        },
        {
            "cell_type": "markdown",
            "metadata": {},
            "source": [
                "**Question 1.** Based on the histogram, how many CEOs made more than $30 million?  Answer the question by looking at the chart, visually estimating the height of some bins, and doing some arithmetic.  Recall that there are 102 CEOs in the dataset.  Fill your answer in below.  *Do not write code that examines the table to answer this question; we'll do that in the next question. You are welcome, though, to write code that uses Python like a calculator to do some arithmetic.*"
            ]
        },
        {
            "cell_type": "code",
            "execution_count": null,
            "metadata": {
                "collapsed": true
            },
            "outputs": [],
            "source": [
                "estimate_ceos30 = ...\n",
                "estimate_ceos30"
            ]
        },
        {
            "cell_type": "code",
            "execution_count": null,
            "metadata": {
                "collapsed": true
            },
            "outputs": [],
            "source": [
                "check4_1(estimate_ceos30)"
            ]
        },
        {
            "cell_type": "code",
            "execution_count": null,
            "metadata": {
                "collapsed": true,
                "nbgrader": {
                    "grade": true,
                    "grade_id": "test4_1",
                    "locked": true,
                    "points": 1,
                    "schema_version": 1,
                    "solution": false
                }
            },
            "outputs": [],
            "source": [
                "#\n",
                "# AUTOGRADER TEST - DO NOT REMOVE\n",
                "#\n"
            ]
        },
        {
            "cell_type": "markdown",
            "metadata": {},
            "source": [
                "**Question 2.** Answer the same question, but use code that analyzes the `pay` table.  *Hint:* Use the table method `where` and the property `num_rows`."
            ]
        },
        {
            "cell_type": "code",
            "execution_count": null,
            "metadata": {
                "collapsed": true
            },
            "outputs": [],
            "source": [
                "num_ceos30 = ...\n",
                "num_ceos30"
            ]
        },
        {
            "cell_type": "code",
            "execution_count": null,
            "metadata": {
                "collapsed": true
            },
            "outputs": [],
            "source": [
                "check4_2(num_ceos30)"
            ]
        },
        {
            "cell_type": "code",
            "execution_count": null,
            "metadata": {
                "collapsed": true,
                "nbgrader": {
                    "grade": true,
                    "grade_id": "test4_2",
                    "locked": true,
                    "points": 1,
                    "schema_version": 1,
                    "solution": false
                }
            },
            "outputs": [],
            "source": [
                "#\n",
                "# AUTOGRADER TEST - DO NOT REMOVE\n",
                "#\n"
            ]
        },
        {
            "cell_type": "markdown",
            "metadata": {},
            "source": [
                "**Question 3.** Which of the following best describes the shape of the distribution?\n",
                "\n",
                "1. Symmetric - about the mean number total pay.\n",
                "2. Right skewed - the majority of the distribution is concentrated on the left with few values on the right.\n",
                "3. Left skewed - the majority of the distribution is concentrated on the right with few values on the left.\n",
                "4. Bimodal - there are two peaks for total pay."
            ]
        },
        {
            "cell_type": "code",
            "execution_count": null,
            "metadata": {
                "collapsed": true
            },
            "outputs": [],
            "source": [
                "dist_shape = ...\n"
            ]
        },
        {
            "cell_type": "code",
            "execution_count": null,
            "metadata": {
                "collapsed": true
            },
            "outputs": [],
            "source": [
                "check4_3(dist_shape)"
            ]
        },
        {
            "cell_type": "code",
            "execution_count": null,
            "metadata": {
                "collapsed": true,
                "nbgrader": {
                    "grade": true,
                    "grade_id": "test4_3",
                    "locked": true,
                    "points": "1",
                    "solution": false
                }
            },
            "outputs": [],
            "source": [
                "#\n",
                "# AUTOGRADER TEST - DO NOT REMOVE\n",
                "#\n"
            ]
        },
        {
            "cell_type": "markdown",
            "metadata": {},
            "source": [
                "## 5. Submit\n",
                "\n",
                "Great job; you're done with this lab! Please make sure to submit your assignment!\n",
                "\n",
                "Before submitting, we recommend that you use the menu item Kernel -> Restart & Run All. That will re-run all your cells from scratch, just to make sure they all work as you are expecting.  Take a close look to make sure all your cells are still passing the checks.  Then, if they are, click the blue Submit button. \n"
            ]
        }
    ],
    "metadata": {
        "anaconda-cloud": [],
        "celltoolbar": "Create Assignment",
        "kernelspec": {
            "display_name": "Python 3 [3.6]",
            "language": "python",
            "name": "python3"
        },
        "language_info": {
            "codemirror_mode": {
                "name": "ipython",
                "version": 3
            },
            "file_extension": ".py",
            "mimetype": "text\/x-python",
            "name": "python",
            "nbconvert_exporter": "python",
            "pygments_lexer": "ipython3",
            "version": "3.6.4"
        },
        "widgets": {
            "state": {
                "0fe728eba2e6465c9b452d2eb017fee1": {
                    "views": [
                        {
                            "cell_index": 26
                        }
                    ]
                },
                "282b6d570ecd448d9ad1c8ac5ebf7b0f": {
                    "views": [
                        {
                            "cell_index": 40
                        }
                    ]
                }
            },
            "version": "1.2.0"
        }
    },
    "nbformat": 4,
    "nbformat_minor": 1
}