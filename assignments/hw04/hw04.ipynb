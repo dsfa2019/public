{
 "cells": [
  {
   "cell_type": "markdown",
   "metadata": {},
   "source": [
    "# Homework 4: Probability and Sampling\n",
    "\n",
    "Note: We are beginning a new topic on probability distributions and random sampling. Much of this material will not be covered until lecture on  March 5th and 7th and lab05 on March 6th or 7th. Please do not feel alarmed if you initially have trouble starting this homework. If you would like to work ahead of lecture we recommend reading textbook chapter [8](http://www.cs.cornell.edu/courses/cs1380/2018sp/textbook/chapters/08/randomness.html)."
   ]
  },
  {
   "cell_type": "markdown",
   "metadata": {},
   "source": [
    "Please complete this notebook by filling in the cells provided. Before you begin, execute the following cell to load the provided tests. Each time you start your server, you will need to execute this cell again to load the tests."
   ]
  },
  {
   "cell_type": "code",
   "execution_count": null,
   "metadata": {
    "scrolled": true
   },
   "outputs": [],
   "source": [
    "# Don't change this cell; just run it. \n",
    "\n",
    "import numpy as np\n",
    "from datascience import *\n",
    "import math\n",
    "\n",
    "%matplotlib inline\n",
    "import matplotlib.pyplot as plots\n",
    "plots.style.use('fivethirtyeight')\n",
    "from test import *"
   ]
  },
  {
   "cell_type": "markdown",
   "metadata": {},
   "source": [
    "## 1. Sampling Basketball Players\n"
   ]
  },
  {
   "cell_type": "markdown",
   "metadata": {},
   "source": [
    "This exercise uses salary data and game statistics for basketball players from the 2014-2015 NBA season. The data were collected from [basketball-reference](http://www.basketball-reference.com) and [spotrac](http://www.spotrac.com).\n",
    "\n",
    "Run the next cell to load the two datasets and display the first five lines of the tables."
   ]
  },
  {
   "cell_type": "code",
   "execution_count": null,
   "metadata": {},
   "outputs": [],
   "source": [
    "player_data = Table.read_table('player_data.csv')\n",
    "salary_data = Table.read_table('salary_data.csv')\n",
    "player_data.show(5)\n",
    "salary_data.show(5)"
   ]
  },
  {
   "cell_type": "markdown",
   "metadata": {},
   "source": [
    "**Question 1.** We would like to relate players' game statistics to their salaries.  Compute a table called `full_data` that includes one row for each player who is listed in both `player_data` and `salary_data`.  It should include all the columns from `player_data` and `salary_data`, except the `\"PlayerName\"` column in `salary_data`."
   ]
  },
  {
   "cell_type": "code",
   "execution_count": null,
   "metadata": {},
   "outputs": [],
   "source": [
    "full_data = ...\n",
    "###BEGIN SOLUTION TEMPLATE=\n",
    "full_data = player_data.join('Name', salary_data, 'PlayerName')\n",
    "###END SOLUTION\n",
    "full_data"
   ]
  },
  {
   "cell_type": "code",
   "execution_count": null,
   "metadata": {},
   "outputs": [],
   "source": [
    "check1_1(full_data)"
   ]
  },
  {
   "cell_type": "code",
   "execution_count": null,
   "metadata": {
    "nbgrader": {
     "grade": true,
     "grade_id": "test1_1",
     "locked": true,
     "points": 1,
     "schema_version": 1,
     "solution": false
    }
   },
   "outputs": [],
   "source": [
    "###BEGIN HIDDEN TESTS\n",
    "check1_1(full_data, TEST)\n",
    "sol = Table().with_columns({ \\\n",
    "    'Age': [28, 30, 19], \\\n",
    "    'Assists':  [46, 261, 33], \\\n",
    "    'Blocks': [0, 15, 22], \\\n",
    "    'Games': [26, 82, 47], \\\n",
    "    'Name': [\"A.J. Price\", \"Aaron Brooks\", \"Aaron Gordon\"], \\\n",
    "    'Points': [133, 954, 243], \\\n",
    "    'Rebounds': [32, 166, 169], \\\n",
    "    'Salary': [62552, 1145685, 3992040], \\\n",
    "    'Steals': [7,54,21], \\\n",
    "    'Team': ['TOT', 'CHI','ORL'], \\\n",
    "    'Turnovers': [14, 157, 38]})\n",
    "ans = full_data.select(sorted(full_data.labels)).sort(4).take(range(3))\n",
    "correct = eq_table(ans, sol)\n",
    "check_bool(correct, TEST)\n",
    "###END HIDDEN TESTS"
   ]
  },
  {
   "cell_type": "markdown",
   "metadata": {},
   "source": [
    "Basketball team managers would like to hire players who perform well but don't command high salaries.  From this perspective, a very crude measure of a player's *value* to their team is the number of points the player scored in a season for every **\\$1000 of salary** (*Note*: the `Salary` column is in dollars, not thousands of dollars). For example, Al Horford scored 1156 points and has a salary of 12,000 thousands of dollars, so his value is $\\frac{1156}{12000}$.\n",
    "\n",
    "**Question 2.** Create a table called `full_data_with_value` that's a copy of `full_data`, with an extra column called `\"Value\"` containing each player's value (according to our crude measure).  Then make a histogram of players' values.  **Specify bins that make the histogram informative, and don't forget your units!**\n",
    "\n",
    "Hint: Informative histograms contain a majority of the data and exclude outliers. Don't worry about long decimals along the x-axis if your histogram has them."
   ]
  },
  {
   "cell_type": "code",
   "execution_count": null,
   "metadata": {
    "manual_grade": true,
    "manual_problem_id": "basic_sorting_6",
    "nbgrader": {
     "grade": true,
     "grade_id": "manual1_2",
     "locked": false,
     "points": 1,
     "schema_version": 1,
     "solution": true
    }
   },
   "outputs": [],
   "source": [
    "...\n",
    "###BEGIN SOLUTION TEMPLATE=\n",
    "full_data_with_value = full_data.with_column(\"Value\", full_data.column(\"Points\") / full_data.column(\"Salary\") * 1000)\n",
    "full_data_with_value.hist(\"Value\", bins=np.arange(0, 1.1, .1), unit=\"points/$1k\")\n",
    "# for credit, students need to provide a `bins` argument that restricts the \n",
    "# x axis to approximately the 0-1 range, and provide a `units` argument\n",
    "# with something sensible\n",
    "###END SOLUTION"
   ]
  },
  {
   "cell_type": "markdown",
   "metadata": {},
   "source": [
    "Now suppose we weren't able to find out every player's salary.  (Perhaps it was too costly to interview each player.)  Instead, we have gathered a *simple random sample* of 100 players' salaries.  The cell below loads those data."
   ]
  },
  {
   "cell_type": "code",
   "execution_count": null,
   "metadata": {
    "scrolled": true
   },
   "outputs": [],
   "source": [
    "sample_salary_data = Table.read_table(\"sample_salary_data.csv\")\n",
    "sample_salary_data.show(5)"
   ]
  },
  {
   "cell_type": "markdown",
   "metadata": {},
   "source": [
    "**Question 3.** Make a histogram of the values of the players in `sample_salary_data`, using the same method for measuring value we used in question 2.  **Use the same bins as you did in Question 2, and the same units.**  *Hint:* This will take several steps and utilize your work in Question 1 as well."
   ]
  },
  {
   "cell_type": "code",
   "execution_count": null,
   "metadata": {
    "manual_grade": true,
    "manual_problem_id": "basic_sorting_6",
    "nbgrader": {
     "grade": true,
     "grade_id": "manual1_3",
     "locked": false,
     "points": 1,
     "schema_version": 1,
     "solution": true
    }
   },
   "outputs": [],
   "source": [
    "###BEGIN SOLUTION TEMPLATE=\n",
    "sample_data = player_data.join('Name', sample_salary_data, 'PlayerName')\n",
    "sample_data_with_value = sample_data.with_column(\"Value\", sample_data.column(\"Points\") / sample_data.column(\"Salary\") * 1000)\n",
    "sample_data_with_value.hist(\"Value\", bins=np.arange(0, 1.1, .1), unit=\"points/$1k\")\n",
    "###END SOLUTION"
   ]
  },
  {
   "cell_type": "markdown",
   "metadata": {},
   "source": [
    "Now let us summarize what we have seen.  To guide you, we have written most of the summary already.\n",
    "\n",
    "**Question 4.** Choose the best answer.:"
   ]
  },
  {
   "cell_type": "markdown",
   "metadata": {
    "deletable": false,
    "for_assignment_type": "student",
    "manual_grade": true,
    "manual_problem_id": "sampling_players_4"
   },
   "source": [
    "1. The plot in question 2 displayed `a probability histogram` of the population of `492` players. The areas of the bars in the plot sum to `1`. The plot in question 3 displayed `an empirical histogram` of the sample of `492` players. The areas of the bars in the plot sum to `1`.\n",
    "\n",
    "2. The plot in question 2 displayed `an empirical histogram` of the population of `492` players. The areas of the bars in the plot sum to `1`. The plot in question 3 displayed `a probability histogram` of the sample of `100` players. The areas of the bars in the plot sum to `1`.\n",
    "\n",
    "3. The plot in question 2 displayed `a probability histogram` of the population of `492` players. The areas of the bars in the plot sum to `1`. The plot in question 3 displayed `an empirical histogram` of the sample of `100` players. The areas of the bars in the plot sum to `1`.\n",
    "\n",
    "4. The plot in question 2 displayed `a probability histogram` of the population of `100` players. The areas of the bars in the plot sum to `1`. The plot in question 3 displayed `an empirical histogram` of the sample of `100` players. The areas of the bars in the plot sum to `1`."
   ]
  },
  {
   "cell_type": "code",
   "execution_count": null,
   "metadata": {},
   "outputs": [],
   "source": [
    "# Answer either 1, 2, 3, or 4...\n",
    "data_types = ...\n",
    "###BEGIN SOLUTION TEMPLATE=\n",
    "data_types = 3\n",
    "###END SOLUTION\n",
    "data_types"
   ]
  },
  {
   "cell_type": "code",
   "execution_count": null,
   "metadata": {},
   "outputs": [],
   "source": [
    "check1_4(data_types) "
   ]
  },
  {
   "cell_type": "code",
   "execution_count": null,
   "metadata": {
    "nbgrader": {
     "grade": true,
     "grade_id": "test1_4",
     "locked": true,
     "points": 1,
     "schema_version": 1,
     "solution": false
    }
   },
   "outputs": [],
   "source": [
    "###BEGIN HIDDEN TESTS\n",
    "check1_4(data_types, TEST)\n",
    "check_bool(data_types == 3, TEST) \n",
    "###END HIDDEN TESTS"
   ]
  },
  {
   "cell_type": "markdown",
   "metadata": {},
   "source": [
    "**Question 5.** For which range of values does the plot in question 3 better depict the distribution of the **population's player values**: 0 to 0.5, or above 0.5? "
   ]
  },
  {
   "cell_type": "markdown",
   "metadata": {
    "deletable": false,
    "manual_grade": true,
    "manual_problem_id": "sampling_players_5"
   },
   "source": [
    "1. 0 to 0.5\n",
    "2. above 0.5"
   ]
  },
  {
   "cell_type": "code",
   "execution_count": null,
   "metadata": {},
   "outputs": [],
   "source": [
    "# Answer either 1 or 2\n",
    "data_types = ...\n",
    "###BEGIN SOLUTION TEMPLATE=\n",
    "data_types = 1\n",
    "###END SOLUTION\n",
    "data_types"
   ]
  },
  {
   "cell_type": "code",
   "execution_count": null,
   "metadata": {},
   "outputs": [],
   "source": [
    "check1_5(data_types) "
   ]
  },
  {
   "cell_type": "code",
   "execution_count": null,
   "metadata": {
    "nbgrader": {
     "grade": true,
     "grade_id": "test1_5",
     "locked": true,
     "points": 1,
     "schema_version": 1,
     "solution": false
    }
   },
   "outputs": [],
   "source": [
    "###BEGIN HIDDEN TESTS\n",
    "check1_5(data_types, TEST)\n",
    "check_bool(data_types == 1, TEST) \n",
    "###END HIDDEN TESTS"
   ]
  },
  {
   "cell_type": "markdown",
   "metadata": {},
   "source": [
    "## 2. How Many Devices?\n"
   ]
  },
  {
   "cell_type": "markdown",
   "metadata": {},
   "source": [
    "When a company produces medical devices, it must be sure that its devices will not fail.  Sampling is used ubiquitously in the medical device industry to test how well devices work.\n",
    "\n",
    "Suppose you work at a company that produces syringes, and you are responsible for ensuring the syringes work well.  After studying the manufacturing process for the syringes, you have a hunch that they have a 1% failure rate.  That is, you suspect that 1% of the syringes won't work when a doctor uses them to inject a patient with medicine.\n",
    "\n",
    "To test your hunch, you would like to find at least one faulty syringe.  You hire an expert consultant who can test a syringe to check whether it is faulty.  But the expert's time is expensive, so you need to avoid checking more syringes than you need to.\n",
    "\n",
    "**Important note:** This exercise asks you to compute numbers that are related to probabilities.  For all questions, you can calculate your answer using algebra, **or** you can write and run a simulation to compute an approximately-correct answer.  (For practice, we suggest trying both.)  An answer based on an appropriate simulation will receive full credit.  If you simulate, use at least **5,000** trials.\n",
    "\n",
    "**Question 1.** Suppose there is indeed a 1% failure rate among all syringes.  If you check 20 syringes chosen at random from among all syringes, what is the chance that you find at least 1 faulty syringe?  (You may assume that syringes are chosen with replacement from a population in which 1% of syringes are faulty.)  Name your answer `chance_to_find_syringe`.  *Hint: This one is fairly straightforward to do with algebra by considering the complement.*"
   ]
  },
  {
   "cell_type": "code",
   "execution_count": null,
   "metadata": {
    "for_assignment_type": "student"
   },
   "outputs": [],
   "source": [
    "# For your convenience, we have created an array containing\n",
    "# 99 copies of the number 0 (to represent good syringes)\n",
    "# and 1 copy of the number 1 (to represent a bad syringe).\n",
    "# This may be useful if you run a simulation.  Feel free\n",
    "# to delete it.\n",
    "faultiness = np.append(0*np.arange(99), 1)\n",
    "\n",
    "chance_to_find_syringe = ...\n",
    "###BEGIN SOLUTION TEMPLATE=\n",
    "\n",
    "# Simulation-based solution\n",
    "num_simulations = 5000\n",
    "faultiness = Table().with_column('Faulty', faultiness)\n",
    "\n",
    "def found_fault_in_simulation(num_checks):\n",
    "    \"\"\"Runs one simulation in which num_checks syringes are checked.\n",
    "    \n",
    "    Returns True if at least one syringe is found to be faulty, and\n",
    "    False otherwise.\"\"\"\n",
    "    num_faults_found = sum(faultiness.sample(num_checks).column(\"Faulty\"))\n",
    "    return num_faults_found > 0\n",
    "\n",
    "def proportion_faults_in_simulations(num_checks):\n",
    "    \"\"\"Runs many simulations, each one checking num_checks syringes.\n",
    "    \n",
    "    Returns the proportion of simulations in which at least one of\n",
    "    the num_checks syringes was found to be faulty.\"\"\"\n",
    "    num_simulations_finding_a_fault = 0\n",
    "    for i in np.arange(num_simulations):\n",
    "        if found_fault_in_simulation(num_checks):\n",
    "            num_simulations_finding_a_fault = num_simulations_finding_a_fault + 1\n",
    "    return num_simulations_finding_a_fault / num_simulations\n",
    "\n",
    "chance_to_find_syringe = proportion_faults_in_simulations(20)\n",
    "    \n",
    "# Algebraic solution\n",
    "# chance_to_find_syringe = 1 - (99/100)**20\n",
    "\n",
    "###END SOLUTION\n",
    "chance_to_find_syringe"
   ]
  },
  {
   "cell_type": "code",
   "execution_count": null,
   "metadata": {},
   "outputs": [],
   "source": [
    "check2_1(chance_to_find_syringe)"
   ]
  },
  {
   "cell_type": "code",
   "execution_count": null,
   "metadata": {
    "nbgrader": {
     "grade": true,
     "grade_id": "test2_1",
     "locked": true,
     "points": 1,
     "schema_version": 1,
     "solution": false
    }
   },
   "outputs": [],
   "source": [
    "###BEGIN HIDDEN TESTS\n",
    "check2_1(chance_to_find_syringe, TEST)\n",
    "correct = abs(chance_to_find_syringe - 0.182) < .06\n",
    "check_bool(correct, TEST)\n",
    "###END HIDDEN TESTS"
   ]
  },
  {
   "cell_type": "markdown",
   "metadata": {},
   "source": [
    "**Question 2.** Continue to assume that there is a 1% failure rate.  Find the smallest number of syringes you can check so that you have at least a 50% chance of finding a faulty syringe.  (Your answer should be an integer.)  Name that number `num_required_for_50_percent`.  *Hint: if solving this with algebra, you'll want to recall the $log$ function.  Solving it with simulation would certainly be good practice. You may also find the function `math.ceil(x)`, which computes the smallest integer value greater than x, helpful if you are solving the problem algebraically.* **It's okay if your answer is as much as 11 off from the theoretical answer for full credit.**"
   ]
  },
  {
   "cell_type": "code",
   "execution_count": null,
   "metadata": {},
   "outputs": [],
   "source": [
    "num_required_for_50_percent = ...\n",
    "###BEGIN SOLUTION TEMPLATE=\n",
    "\n",
    "# Simulation-based solution\n",
    "\n",
    "checks = np.arange(10, 80+1, 10)\n",
    "chances = make_array()\n",
    "for i in checks:\n",
    "    chances = np.append(chances, proportion_faults_in_simulations(i))\n",
    "    \n",
    "checks_table = Table().with_column(\n",
    "    'Number', checks,\n",
    "    'Chance', chances\n",
    ")\n",
    "num_required_for_50_percent = checks_table.where('Chance', are.above(.5)).column('Number').item(0)\n",
    "\n",
    "# Algebraic solution\n",
    "\n",
    "\"\"\"\n",
    "We want to solve for x in \n",
    "  1 - (99/100)**x >= .5\n",
    "  \n",
    "Simplifying:\n",
    "    1 - (99/100)**x >= .5\n",
    "==\n",
    "    .99**x <= .5\n",
    "== \n",
    "    log(.99**x) <= log(.5)\n",
    "==\n",
    "    x * log(.99) <= log(.5)\n",
    "== \n",
    "    x <= log(.5) / log(.99)\n",
    "    \n",
    "And we can use the following line of code to compute that answer:\n",
    "    \n",
    "    math.ceil(math.log(.5) / math.log(.99))\n",
    "    \n",
    "Note that students won't necessarily know math.ceil, but they\n",
    "do know np.round, and they could round to 0 decimal places and add 1,\n",
    "which is certainly within the bound of 11 specified in the problem:\n",
    "\n",
    "    int(np.round(math.log(.5) / math.log(.99))) + 1\n",
    "\"\"\"\n",
    "# num_required_for_50_percent = math.ceil(math.log(.5) / math.log(.99))\n",
    "###END SOLUTION\n",
    "num_required_for_50_percent"
   ]
  },
  {
   "cell_type": "code",
   "execution_count": null,
   "metadata": {},
   "outputs": [],
   "source": [
    "check2_2(num_required_for_50_percent)"
   ]
  },
  {
   "cell_type": "code",
   "execution_count": null,
   "metadata": {
    "nbgrader": {
     "grade": true,
     "grade_id": "test2_2",
     "locked": true,
     "points": 1,
     "schema_version": 1,
     "solution": false
    }
   },
   "outputs": [],
   "source": [
    "###BEGIN HIDDEN TESTS\n",
    "check2_2(num_required_for_50_percent, TEST)\n",
    "correct = abs(num_required_for_50_percent - 69) <= 11\n",
    "check_bool(correct, TEST)\n",
    "###END HIDDEN TESTS"
   ]
  },
  {
   "cell_type": "markdown",
   "metadata": {},
   "source": [
    "**Question 3.** A doctor purchased 5 syringes and found 4 of them to be faulty. Assuming that there is indeed a 1% failure rate, what was the probability of **exactly 4** out of 5 syringes being faulty?  Please solve this problem with algebra, and with the laws of probability we discussed in class."
   ]
  },
  {
   "cell_type": "code",
   "execution_count": null,
   "metadata": {},
   "outputs": [],
   "source": [
    "probability_of_four_faulty = ...\n",
    "###BEGIN SOLUTION TEMPLATE=\n",
    "probability_of_four_faulty = 5 * (0.01 ** 4) * 0.99\n",
    "###END SOLUTION\n",
    "probability_of_four_faulty"
   ]
  },
  {
   "cell_type": "code",
   "execution_count": null,
   "metadata": {},
   "outputs": [],
   "source": [
    "check2_3(probability_of_four_faulty)"
   ]
  },
  {
   "cell_type": "code",
   "execution_count": null,
   "metadata": {
    "nbgrader": {
     "grade": true,
     "grade_id": "test2_3",
     "locked": true,
     "points": 1,
     "schema_version": 1,
     "solution": false
    }
   },
   "outputs": [],
   "source": [
    "###BEGIN HIDDEN TESTS\n",
    "check2_3(probability_of_four_faulty, TEST)\n",
    "sol = 5 * (0.01 ** 4) * 0.99\n",
    "correct = is_close(probability_of_four_faulty,sol)\n",
    "check_bool(correct, TEST)\n",
    "###END HIDDEN TESTS"
   ]
  },
  {
   "cell_type": "markdown",
   "metadata": {},
   "source": [
    "**Question 4.** Assuming that there is indeed a 1% failure rate, assign `order` to a **list** of the numbers 1 through 7, ordered by the size of the quantities described below from smallest to largest. For example, `order` will start with 2 because list item 2 (`0`) is the smallest quantity.\n",
    "\n",
    "1. `.5`\n",
    "1. `0`\n",
    "1. The chance that **zero** out of 5 syringes are faulty.\n",
    "1. The chance that **exactly 4** out of 5 syringes are faulty.\n",
    "1. The chance that **at least 1** out of 5 syringes is faulty.\n",
    "1. The chance that **all 5** out of 5 syringes are faulty.\n",
    "1. The chance that **at least 4** out of 5 syringes are faulty."
   ]
  },
  {
   "cell_type": "code",
   "execution_count": null,
   "metadata": {},
   "outputs": [],
   "source": [
    "order = ...\n",
    "###BEGIN SOLUTION TEMPLATE=\n",
    "order = [2, 6, 4, 7, 5, 1, 3]\n",
    "###END SOLUTION\n",
    "order"
   ]
  },
  {
   "cell_type": "code",
   "execution_count": null,
   "metadata": {},
   "outputs": [],
   "source": [
    "check2_4(order)"
   ]
  },
  {
   "cell_type": "code",
   "execution_count": null,
   "metadata": {
    "nbgrader": {
     "grade": true,
     "grade_id": "test2_4",
     "locked": true,
     "points": 1,
     "schema_version": 1,
     "solution": false
    }
   },
   "outputs": [],
   "source": [
    "###BEGIN HIDDEN TESTS\n",
    "check2_4(order, TEST)\n",
    "correct = order == [2, 6, 4, 7, 5, 1, 3]\n",
    "check_bool(correct, TEST)\n",
    "###END HIDDEN TESTS"
   ]
  },
  {
   "cell_type": "markdown",
   "metadata": {},
   "source": [
    "## 3. Predicting Temperatures\n"
   ]
  },
  {
   "cell_type": "markdown",
   "metadata": {},
   "source": [
    "In this exercise, we will try to predict the weather in California using the prediction method  discussed in [section 7.1 of the textbook](http://www.cs.cornell.edu/courses/cs1380/2018sp/textbook/chapters/07/1/applying-a-function-to-a-column.html).  Much of the code is provided for you; you will be asked to understand and run the code and interpret the results.\n",
    "\n",
    "The US National Oceanic and Atmospheric Administration (NOAA) operates thousands of climate observation stations (mostly in the US) that collect information about local climate.  Among other things, each station records the highest and lowest observed temperature each day.  These data, called \"Quality Controlled Local Climatological Data,\" are publicly available [here](http://www.ncdc.noaa.gov/orders/qclcd/) and described [here](https://www.ncdc.noaa.gov/data-access/land-based-station-data/land-based-datasets/quality-controlled-local-climatological-data-qclcd).\n",
    "\n",
    "`temperatures.csv` contains an excerpt of that dataset.  Each row represents a temperature reading in Fahrenheit from one station on one day.  (The temperature is actually the highest temperature observed at that station on that day.)  All the readings are from 2015 and from California stations.\n",
    "\n",
    "Each entry in the column \"Date\" is a number in MMDD format, meaning that the last two digits denote the day of the month, and the first 1 or 2 digits denote the month."
   ]
  },
  {
   "cell_type": "code",
   "execution_count": null,
   "metadata": {},
   "outputs": [],
   "source": [
    "temperatures = Table.read_table(\"temperatures.csv\")\n",
    "temperatures.show(5)"
   ]
  },
  {
   "cell_type": "markdown",
   "metadata": {},
   "source": [
    "**Question 1.** Create a scatter plot of Date vs. Temperature. Why do the data form vertical bands with gaps?"
   ]
  },
  {
   "cell_type": "code",
   "execution_count": null,
   "metadata": {},
   "outputs": [],
   "source": [
    "# Write code to create your visualization here\n",
    "...\n",
    "###BEGIN SOLUTION TEMPLATE=\n",
    "temperatures.select('Date', 'Temperature').scatter('Date')\n",
    "# When we make the scatter plot, the values on the horizontal axis are the numbers in the \"Date\" column. \n",
    "# Days in each month only go up to 30 or 31, so there is a gap between, for example, date 331 (March 31) and\n",
    "# date 401 (April 1). Python doesn't know that the numbers in the \"Date\" column have this special meaning, \n",
    "# so it doesn't take out the gaps, and as a result there is roughly a 70-day gap in between each strip.\n",
    "###END SOLUTION"
   ]
  },
  {
   "cell_type": "markdown",
   "metadata": {
    "deletable": false,
    "manual_grade": true,
    "manual_problem_id": "predicting_temperatures_1",
    "nbgrader": {
     "grade": true,
     "grade_id": "manual3_1",
     "locked": false,
     "points": 1,
     "schema_version": 1,
     "solution": true
    }
   },
   "source": [
    "*Write your answer here, replacing this text.*"
   ]
  },
  {
   "cell_type": "markdown",
   "metadata": {},
   "source": [
    "Let us solve that problem.  We will convert each date to the number of days since the start of the year.  First, here is a function to retrieve the month:\n"
   ]
  },
  {
   "cell_type": "code",
   "execution_count": null,
   "metadata": {},
   "outputs": [],
   "source": [
    "def get_month(date):\n",
    "    \"\"\"The month in the year for a given date.\n",
    "    \n",
    "    >>> get_month(315)\n",
    "    3\n",
    "    \"\"\"\n",
    "    return int(date / 100) # Divide by 100 and round down to the nearest integer"
   ]
  },
  {
   "cell_type": "markdown",
   "metadata": {},
   "source": [
    "**Question 2.** Complete the `get_day_in_month` function, which retrieves the day from a  date, by changing the last line from `return 0` to something else.  The result should be an integer.  _Hint:_ Use the [remainder operator](https://www.cs.cornell.edu/courses/cs1380/2018sp/textbook/chapters/03/1/expressions.html) - `%` in python ."
   ]
  },
  {
   "cell_type": "code",
   "execution_count": null,
   "metadata": {},
   "outputs": [],
   "source": [
    "def get_day_in_month(date):\n",
    "    \"\"\"The day in the month for a given date.\n",
    "    \n",
    "    >>> get_day_in_month(315)\n",
    "    15\n",
    "    \"\"\"\n",
    "    return 0\n",
    "###BEGIN SOLUTION TEMPLATE=\n",
    "def get_day_in_month(date):\n",
    "    return (date % 100)\n",
    "###END SOLUTION"
   ]
  },
  {
   "cell_type": "code",
   "execution_count": null,
   "metadata": {},
   "outputs": [],
   "source": [
    "check3_2(get_day_in_month)"
   ]
  },
  {
   "cell_type": "code",
   "execution_count": null,
   "metadata": {
    "nbgrader": {
     "grade": true,
     "grade_id": "test3_2",
     "locked": true,
     "points": 1,
     "schema_version": 1,
     "solution": false
    }
   },
   "outputs": [],
   "source": [
    "###BEGIN HIDDEN TESTS\n",
    "check3_2(get_day_in_month,TEST)\n",
    "t1 = get_day_in_month(922) == 22 and get_day_in_month(515) == 15\n",
    "check_bool(t1, TEST)\n",
    "###END HIDDEN TESTS"
   ]
  },
  {
   "cell_type": "markdown",
   "metadata": {},
   "source": [
    "Next, we'll compute the *day of the year* for each temperature reading, which is the number of days from January 1 until the date of the reading."
   ]
  },
  {
   "cell_type": "code",
   "execution_count": null,
   "metadata": {},
   "outputs": [],
   "source": [
    "# You don't need to change this cell, but you do need\n",
    "# to read all of the code and understand it.\n",
    "\n",
    "days_in_month = make_array(31, 28, 31, 30, 31, 30, 31, 31, 30, 31, 30, 31)\n",
    "\n",
    "# A table with one row for each month.  For each month, we have\n",
    "# the number of the month (e.g. 3 for March), the number of\n",
    "# days in that month in 2015 (e.g. 31 for March), and the\n",
    "# number of days in the year before the first day of that month\n",
    "# (e.g. 0 for January or 59 for March).\n",
    "days_into_year =  Table().with_columns(\n",
    "    \"Month\", np.arange(12)+1,\n",
    "    \"Days until start of month\", np.cumsum(days_in_month) - days_in_month)\n",
    "\n",
    "# First, compute the month and day-of-month for each temperature.\n",
    "months = temperatures.apply(get_month, \"Date\")\n",
    "day_of_month = temperatures.apply(get_day_in_month, \"Date\")\n",
    "with_month_and_day = temperatures.with_columns(\n",
    "    \"Month\", months,\n",
    "    \"Day of month\", day_of_month\n",
    ")\n",
    "\n",
    "# Then, compute how many days have passed since \n",
    "# the start of the year to reach each date.\n",
    "t = with_month_and_day.join('Month', days_into_year)\n",
    "day_of_year = t.column('Days until start of month') + t.column('Day of month')\n",
    "with_dates_fixed = t.drop(0, 6, 7).with_column(\"Day of year\", day_of_year)\n",
    "with_dates_fixed"
   ]
  },
  {
   "cell_type": "markdown",
   "metadata": {},
   "source": [
    "**Question 3**. Set `missing` to an array of all the days of the year (integers from 1 through 365), in increasing order, that do not have any temperature readings in the `with_dates_fixed` dataset.\n",
    "\n",
    "\n",
    "*Hint:* One strategy is to start with a table of all days in the year, then use either the predicate `are.not_contained_in` ([docs](http://data8.org/datascience/predicates.html)) or the method `exclude` ([docs](http://data8.org/datascience/_autosummary/datascience.tables.Table.exclude.html#datascience.tables.Table.exclude))  to eliminate all of the days of the year that do have a temperature reading. "
   ]
  },
  {
   "cell_type": "code",
   "execution_count": null,
   "metadata": {},
   "outputs": [],
   "source": [
    "missing = ...\n",
    "###BEGIN SOLUTION TEMPLATE=\n",
    "missing = \\\n",
    "    Table().with_column('Day', np.arange(365)+1) \\\n",
    "           .where('Day', are.not_contained_in(with_dates_fixed.column('Day of year'))).column(0)\n",
    "###END SOLUTION\n",
    "missing"
   ]
  },
  {
   "cell_type": "code",
   "execution_count": null,
   "metadata": {},
   "outputs": [],
   "source": [
    "check3_3(missing)"
   ]
  },
  {
   "cell_type": "code",
   "execution_count": null,
   "metadata": {
    "nbgrader": {
     "grade": true,
     "grade_id": "test3_3",
     "locked": true,
     "points": 1,
     "schema_version": 1,
     "solution": false
    }
   },
   "outputs": [],
   "source": [
    "###BEGIN HIDDEN TESTS\n",
    "check3_3(missing, TEST)\n",
    "t2 = make_array(14, 33, 35, 57, 60, 76, 80, 81, 85, 96, 102, 103, 130, 143,\n",
    " 178, 181, 186, 210, 215, 227, 247, 258,264, 270, 272, 294, 319, 344, 354, 358)\n",
    "check_bool(np.array_equal(missing,t2), TEST)\n",
    "###END HIDDEN TESTS"
   ]
  },
  {
   "cell_type": "markdown",
   "metadata": {},
   "source": [
    "Using `with_dates_fixed`, we can make a better scatter plot."
   ]
  },
  {
   "cell_type": "code",
   "execution_count": null,
   "metadata": {},
   "outputs": [],
   "source": [
    "with_dates_fixed.scatter(\"Day of year\", \"Temperature\")"
   ]
  },
  {
   "cell_type": "markdown",
   "metadata": {},
   "source": [
    "Let's do some prediction.  For any reading on any day, we will predict its value using all the readings from the week before and after that day.  A reasonable prediction is that the reading will be the average of all those readings.  We will package our code in a function."
   ]
  },
  {
   "cell_type": "code",
   "execution_count": null,
   "metadata": {},
   "outputs": [],
   "source": [
    "def predict_temperature(day):\n",
    "    \"\"\"A prediction of the temperature (in Fahrenheit) on a given day at some station.\n",
    "    \"\"\"\n",
    "    nearby_readings = with_dates_fixed.where(\"Day of year\", are.between_or_equal_to(day - 7, day + 7))\n",
    "    return np.average(nearby_readings.column(\"Temperature\"))"
   ]
  },
  {
   "cell_type": "markdown",
   "metadata": {},
   "source": [
    "**Question 4.** Suppose you're planning a trip to California on May 1. Use `predict_temperature` to compute a prediction for a temperature reading on that day.\n",
    "\n",
    "*Hint:* One of the functions in that cell above that we asked you to read would be useful here."
   ]
  },
  {
   "cell_type": "code",
   "execution_count": null,
   "metadata": {},
   "outputs": [],
   "source": [
    "may1_prediction = ...\n",
    "###BEGIN SOLUTION TEMPLATE=\n",
    "may1_prediction = \\\n",
    "    predict_temperature(days_into_year.where('Month', 5) \\\n",
    "                        .column('Days until start of month').item(0) + 1)\n",
    "###END SOLUTION\n",
    "may1_prediction"
   ]
  },
  {
   "cell_type": "code",
   "execution_count": null,
   "metadata": {},
   "outputs": [],
   "source": [
    "check3_4(may1_prediction)"
   ]
  },
  {
   "cell_type": "code",
   "execution_count": null,
   "metadata": {
    "nbgrader": {
     "grade": true,
     "grade_id": "test3_4",
     "locked": true,
     "points": 1,
     "schema_version": 1,
     "solution": false
    }
   },
   "outputs": [],
   "source": [
    "###BEGIN HIDDEN TESTS\n",
    "check3_4(may1_prediction, TEST)\n",
    "check_bool(is_close(np.round(may1_prediction), 73), TEST)\n",
    "###END HIDDEN TESTS"
   ]
  },
  {
   "cell_type": "markdown",
   "metadata": {},
   "source": [
    "Below we have computed a predicted temperature for each reading in the table and plotted both.  (It may take a **minute or two** to run the cell.)"
   ]
  },
  {
   "cell_type": "code",
   "execution_count": null,
   "metadata": {},
   "outputs": [],
   "source": [
    "with_predictions = with_dates_fixed.with_column(\n",
    "    \"Predicted temperature\",\n",
    "    with_dates_fixed.apply(predict_temperature, \"Day of year\"))\n",
    "with_predictions.select(\"Day of year\", \"Temperature\", \"Predicted temperature\")\\\n",
    "                .scatter(\"Day of year\")"
   ]
  },
  {
   "cell_type": "markdown",
   "metadata": {},
   "source": [
    "**Question 5.** The scatter plot is called a *graph of averages*.  In the [example in the textbook](http://www.cs.cornell.edu/courses/cs1380/2018sp/textbook/chapters/07/1/applying-a-function-to-a-column.html#Example:-Prediction), the graph of averages roughly followed a straight line.  Is this observation true for this graph?  Using your knowledge about seasons, explain why or why not."
   ]
  },
  {
   "cell_type": "markdown",
   "metadata": {
    "deletable": false,
    "manual_grade": true,
    "manual_problem_id": "predicting_temperatures_5",
    "nbgrader": {
     "grade": true,
     "grade_id": "manual3_5",
     "locked": false,
     "points": 1,
     "schema_version": 1,
     "solution": true
    }
   },
   "source": [
    "*Write your answer here, replacing this text.*\n",
    "\n"
   ]
  },
  {
   "cell_type": "code",
   "execution_count": null,
   "metadata": {},
   "outputs": [],
   "source": [
    "# DO NOT DELETE THIS CELL\n",
    "###BEGIN SOLUTION TEMPLATE=\n",
    "# No, it doesn't follow a straight line. Temperatures go up in the summer and down \n",
    "# in the winter, so we would expect them to have a shape like this.\n",
    "###END SOLUTION"
   ]
  },
  {
   "cell_type": "markdown",
   "metadata": {},
   "source": [
    "**Question 6.** According to the [Wikipedia article](https://en.wikipedia.org/wiki/Climate_of_California) on California's climate, \"[t]he climate of California varies widely, from hot desert to subarctic.\"  \n",
    "\n",
    "Suppose we limited our data to weather stations in a smaller area whose climate varied less from place to place&mdash;for example, just the San Francisco Bay Area.  If we made the same graph for that dataset, in what ways would you expect it to look different? Be specific."
   ]
  },
  {
   "cell_type": "markdown",
   "metadata": {
    "deletable": false,
    "manual_grade": true,
    "manual_problem_id": "predicting_temperatures_6",
    "nbgrader": {
     "grade": true,
     "grade_id": "manual3_6",
     "locked": false,
     "points": 1,
     "schema_version": 1,
     "solution": true
    }
   },
   "source": [
    "*Write your answer here, replacing this text.*\n"
   ]
  },
  {
   "cell_type": "code",
   "execution_count": null,
   "metadata": {},
   "outputs": [],
   "source": [
    "# DO NOT DELETE THIS CELL\n",
    "###BEGIN SOLUTION TEMPLATE=\n",
    "# For any day, the temperature readings would probably be close to each other, \n",
    "# since they would all come from the same area. So probably the blue dots \n",
    "# (the actual readings) would be less scattered vertically. That means they \n",
    "# would also be scattered more tightly around the yellow dots (the predictions).\n",
    "###END SOLUTION"
   ]
  },
  {
   "cell_type": "markdown",
   "metadata": {},
   "source": [
    "## 4. Submission\n"
   ]
  },
  {
   "cell_type": "markdown",
   "metadata": {
    "collapsed": true
   },
   "source": [
    "To submit your assignment, click the blue Submit button above. You may submit as many times as you wish before the deadline. Only your final submission will be graded. No late work will be accepted, so please make sure you submit something before the deadline!\n",
    "\n",
    "Before you submit, it would be wise to click on the menu item Kernel -> Restart & Run All. That will re-run all your cells from scratch. Take a second look to make sure all your answers are passing the checks. Doing this will help catch any errors in your homework that result from running cells in a strange order."
   ]
  }
 ],
 "metadata": {
  "celltoolbar": "Create Assignment",
  "kernelspec": {
   "display_name": "Python 3",
   "language": "python",
   "name": "python3"
  },
  "language_info": {
   "codemirror_mode": {
    "name": "ipython",
    "version": 3
   },
   "file_extension": ".py",
   "mimetype": "text/x-python",
   "name": "python",
   "nbconvert_exporter": "python",
   "pygments_lexer": "ipython3",
   "version": "3.6.5"
  }
 },
 "nbformat": 4,
 "nbformat_minor": 1
}
