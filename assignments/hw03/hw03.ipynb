{
    "cells": [
        {
            "cell_type": "markdown",
            "metadata": {},
            "source": [
                "# Homework 3: Tables and Charts\n",
                "\n",
                "**Reading:** Textbook chapters [5](http:\/\/www.cs.cornell.edu\/courses\/cs1380\/2018sp\/textbook\/chapters\/05\/tables.html) and [6](http:\/\/www.cs.cornell.edu\/courses\/cs1380\/2018sp\/textbook\/chapters\/06\/visualization.html).\n",
                "\n",
                "**Deadline:** This assignment is due Friday, February 15 at 11:59 pm. You will receive an early submission bonus point if you turn in your final submission by Thursday, February 14 at 11:59 pm. Late work will not be accepted.  \n",
                "\n",
                "Usually homeworks are due on Thursdays.  We are giving you an extra day on this one, because the last problem is based on material from Lab 04, which takes place on Wednesday and Thursday.  Also, it means you don't have to skip any plans you might have on February 14.<\/font>\n",
                "\n",
                "**Academic Integrity:** Please review the [course policies on Academic Integrity][policies]. Directly sharing answers with other students is not permitted, but discussing problems with other students is allowed if you keep the discussion at a high level: use English, not code, to communicate.\n",
                "\n",
                "**Office Hours (OH):** Drop-in office hours are held Monday through Sunday. The [schedule][oh] is in a on the main website for the course.\n",
                "\n",
                "**Ask For Help:** If you get stuck, please visit OH to ask for help! And please start early, so that you have time to get help if you become stuck.\n",
                "\n",
                "**Checks vs. Tests:** Remember, the checks provided in the homework are just hints: they check for common errors to help guide you along the right path, but they don't tell you whether your answer is 100% correct. When your homework is graded, we will run rigorous tests for correct answers.\n",
                "\n",
                "**Submission:** See the end of this notebook for instructions on how to submit the assignment in Vocareum.\n",
                "\n",
                "[policies]: http:\/\/www.cs.cornell.edu\/courses\/cs1380\/2019sp\/policies.html\n",
                "[oh]: http:\/\/www.cs.cornell.edu\/courses\/cs1380\/2019sp\/oh.html"
            ]
        },
        {
            "cell_type": "markdown",
            "metadata": {},
            "source": [
                "# <font color='red'>First, run the import cell below.<\/font>"
            ]
        },
        {
            "cell_type": "code",
            "execution_count": null,
            "metadata": {},
            "outputs": [],
            "source": [
                "# Don't change this cell; just run it. \n",
                "# Each time you re-open Vocareum, you will need to execute this cell again.\n",
                "\n",
                "import numpy as np\n",
                "from datascience import *\n",
                "%matplotlib inline\n",
                "import matplotlib.pyplot as plots\n",
                "plots.style.use('fivethirtyeight')\n",
                "\n",
                "from test import *"
            ]
        },
        {
            "cell_type": "markdown",
            "metadata": {},
            "source": [
                "## 1. Differences between Universities, Part II\n"
            ]
        },
        {
            "cell_type": "markdown",
            "metadata": {},
            "source": [
                "**Question 1.** Suppose you're choosing a university to attend, and you'd like to quantify how *dissimilar* any two universities are.  You rate each university you're considering on several numerical traits.  You decide on a very detailed list of 1000 traits, and you measure all of them!  Some of those traits could include:\n",
                "\n",
                "* The cost per year to attend.\n",
                "* The average Yelp review of nearby Thai restaurants.\n",
                "* The USA Today ranking of the Medical school.\n",
                "* The number of inches it must snow before the university will cancel classes.\n",
                "* The average number of emails per week from Denice Cassaro.\n",
                "\n",
                "You decide to quantify the dissimilarity between two universities as the *total* of the differences in their traits.  That is, the dissimilarity is:\n",
                "\n",
                "* the sum of\n",
                "* the absolute values of\n",
                "* the differences of\n",
                "* the 1000 trait values.\n",
                "\n",
                "In the next cell, we've loaded arrays containing the 1000 trait values for Cornell and Harvard.  Compute the dissimilarity (according to the above definition) between Cornell and Harvard.  Call your answer `dissimilarity`.  Use a single line of code to compute the answer.\n",
                "\n",
                "*Note:* The data we're using aren't real&mdash;we made them up for this exercise."
            ]
        },
        {
            "cell_type": "code",
            "execution_count": null,
            "metadata": {},
            "outputs": [],
            "source": [
                "cornell = Table.read_table(\"cornell.csv\").column(\"Trait value\")\n",
                "harvard = Table.read_table(\"harvard.csv\").column(\"Trait value\")\n",
                "\n",
                "dissimilarity = ...\n",
                "dissimilarity"
            ]
        },
        {
            "cell_type": "code",
            "execution_count": null,
            "metadata": {},
            "outputs": [],
            "source": [
                "check1_1(dissimilarity)"
            ]
        },
        {
            "cell_type": "code",
            "execution_count": null,
            "metadata": {
                "nbgrader": {
                    "grade": true,
                    "grade_id": "test1_1",
                    "locked": true,
                    "points": 1,
                    "schema_version": 1,
                    "solution": false
                }
            },
            "outputs": [],
            "source": [
                "#\n",
                "# AUTOGRADER TEST - DO NOT REMOVE\n",
                "#\n"
            ]
        },
        {
            "cell_type": "markdown",
            "metadata": {},
            "source": [
                "**Question 2.** What is the type of each variable in Question 1?\n",
                "\n",
                "1. `cornell`, `harvard`, and `dissimilarity` are all numpy arrays\n",
                "2. `cornell` and `harvard` are numpy arrays, and `dissimilarity` is a floating-point number\n",
                "3. `cornell` and `harvard` are lists, and `dissimilarity` is a floating-point number"
            ]
        },
        {
            "cell_type": "code",
            "execution_count": null,
            "metadata": {
                "for_assignment_type": "student"
            },
            "outputs": [],
            "source": [
                "# Answer either 1, 2, or 3...\n",
                "data_types = ...\n",
                "data_types"
            ]
        },
        {
            "cell_type": "code",
            "execution_count": null,
            "metadata": {},
            "outputs": [],
            "source": [
                "check1_2(data_types) "
            ]
        },
        {
            "cell_type": "code",
            "execution_count": null,
            "metadata": {
                "nbgrader": {
                    "grade": true,
                    "grade_id": "test1_2",
                    "locked": true,
                    "points": 1,
                    "schema_version": 1,
                    "solution": false
                }
            },
            "outputs": [],
            "source": [
                "#\n",
                "# AUTOGRADER TEST - DO NOT REMOVE\n",
                "#\n"
            ]
        },
        {
            "cell_type": "markdown",
            "metadata": {},
            "source": [
                "**Question 3.** Why do we take the absolute value when computing `dissimilarity`?  Choose the best answer.\n",
                "\n",
                "1. Because the values of some traits might be negative.\n",
                "2. Because we want the final answer to be a positive number.\n",
                "3. Because the direction of the difference between traits does not matter.\n",
                "4. Because some traits are larger in magnitude (e.g., values around 1e5) and some are smaller (e.g., values around 1e-5)."
            ]
        },
        {
            "cell_type": "code",
            "execution_count": null,
            "metadata": {},
            "outputs": [],
            "source": [
                "why_abs_value = ...\n",
                "why_abs_value"
            ]
        },
        {
            "cell_type": "code",
            "execution_count": null,
            "metadata": {},
            "outputs": [],
            "source": [
                "check1_3(why_abs_value)"
            ]
        },
        {
            "cell_type": "code",
            "execution_count": null,
            "metadata": {
                "nbgrader": {
                    "grade": true,
                    "grade_id": "test1_3",
                    "locked": true,
                    "points": 1,
                    "schema_version": 1,
                    "solution": false
                }
            },
            "outputs": [],
            "source": [
                "#\n",
                "# AUTOGRADER TEST - DO NOT REMOVE\n",
                "#\n"
            ]
        },
        {
            "cell_type": "markdown",
            "metadata": {},
            "source": [
                "After computing dissimilarities between several schools, you notice a problem with your method: the scale of the traits matters a lot.\n",
                "\n",
                "Since schools cost tens of thousands of dollars to attend, the cost-to-attend trait is always a much bigger *number* than most other traits.  That makes it affect the dissimilarity a lot more than other traits.  Two schools that differ in cost-to-attend by \\$900, but are otherwise identical, get a dissimilarity of 900.  But two schools that differ in graduation rate by .9 (a huge difference!), but are otherwise identical, get a dissimilarity of only .9.\n",
                "\n",
                "One way to fix this problem is to assign different *weights* to different traits.  For example, we could fix the problem above by multiplying the difference in the cost-to-attend traits by .001, so that a difference of 900 dollars in cost to attend results in a dissimilarity of 900 $\\times$ .001, which is .9.\n",
                "\n",
                "\n",
                "Here's a revised method that does that for every trait:\n",
                "\n",
                "1. For each trait, subtract the two schools' trait values.\n",
                "2. Then take the absolute value of that difference.\n",
                "3. *Now multiply that absolute value by a weight specific to that trait, such as .001 or 2.*\n",
                "4. Now sum the 1000 resulting numbers.\n",
                "\n",
                "**Question 4.** Suppose you've already decided on a weight for each trait.  These are loaded into an array called `weights` in the cell below.  `weights.item(0)` is the weight for the first trait, `weights.item(1)` is the weight for the second trait, and so on.  Use the revised method to compute a revised dissimilarity between Cornell and Harvard.\n",
                "\n",
                "*Hint:* Using array arithmetic, your answer should be almost as short as in question 1."
            ]
        },
        {
            "cell_type": "code",
            "execution_count": null,
            "metadata": {},
            "outputs": [],
            "source": [
                "weights = Table.read_table(\"weights.csv\").column(\"Weight\")\n",
                "\n",
                "revised_dissimilarity = ...\n",
                "revised_dissimilarity"
            ]
        },
        {
            "cell_type": "code",
            "execution_count": null,
            "metadata": {
                "scrolled": true
            },
            "outputs": [],
            "source": [
                "check1_4(revised_dissimilarity)"
            ]
        },
        {
            "cell_type": "code",
            "execution_count": null,
            "metadata": {
                "nbgrader": {
                    "grade": true,
                    "grade_id": "test1_4",
                    "locked": true,
                    "points": 1,
                    "schema_version": 1,
                    "solution": false
                }
            },
            "outputs": [],
            "source": [
                "#\n",
                "# AUTOGRADER TEST - DO NOT REMOVE\n",
                "#\n"
            ]
        },
        {
            "cell_type": "markdown",
            "metadata": {},
            "source": [
                "## 2. Unemployment\n"
            ]
        },
        {
            "cell_type": "markdown",
            "metadata": {},
            "source": [
                "The Federal Reserve Bank of St. Louis [publishes data](https:\/\/fred.stlouisfed.org\/categories\/33509) about jobs in the US.  In this problem we'll analyze data on unemployment in the United States."
            ]
        },
        {
            "cell_type": "markdown",
            "metadata": {},
            "source": [
                "**Question 1.** Some data from the bank are in the CSV file `unemployment.csv`.  Load that file into a table named `unemployment`."
            ]
        },
        {
            "cell_type": "code",
            "execution_count": null,
            "metadata": {},
            "outputs": [],
            "source": [
                "unemployment = ...\n",
                "unemployment"
            ]
        },
        {
            "cell_type": "code",
            "execution_count": null,
            "metadata": {},
            "outputs": [],
            "source": [
                "check2_1(unemployment)"
            ]
        },
        {
            "cell_type": "code",
            "execution_count": null,
            "metadata": {
                "nbgrader": {
                    "grade": true,
                    "grade_id": "test2_1",
                    "locked": true,
                    "points": 1,
                    "schema_version": 1,
                    "solution": false
                }
            },
            "outputs": [],
            "source": [
                "#\n",
                "# AUTOGRADER TEST - DO NOT REMOVE\n",
                "#\n"
            ]
        },
        {
            "cell_type": "markdown",
            "metadata": {},
            "source": [
                "There are many ways of defining unemployment.  The dataset you just loaded includes two notions of the unemployment rate:\n",
                "\n",
                "1. The percentage who can't find a job among people who are able to work and are looking for a full-time job.  This is called the Non-Employment Index, which is abbreviated to NEI.\n",
                "2. The percentage who can't find any job *or* are only working at a part-time job, again among people who are able to work and are looking for a full-time job.  The group working part-time is called \"Part-Time for Economic Reasons,\" so the acronym for this index is NEI-PTER.  "
            ]
        },
        {
            "cell_type": "markdown",
            "metadata": {},
            "source": [
                "**Question 2.** Create a table named `by_nei` that is sorted in decreasing order by NEI.  And create another table named `by_nei_pter` that is sorted in decreasing order by NEI-PTER."
            ]
        },
        {
            "cell_type": "code",
            "execution_count": null,
            "metadata": {},
            "outputs": [],
            "source": [
                "by_nei = ...\n",
                "by_nei"
            ]
        },
        {
            "cell_type": "code",
            "execution_count": null,
            "metadata": {},
            "outputs": [],
            "source": [
                "by_nei_pter = ...\n",
                "by_nei_pter"
            ]
        },
        {
            "cell_type": "code",
            "execution_count": null,
            "metadata": {},
            "outputs": [],
            "source": [
                "# This check will give you two answers, one for each table.\n",
                "check2_2(by_nei, by_nei_pter)"
            ]
        },
        {
            "cell_type": "code",
            "execution_count": null,
            "metadata": {
                "nbgrader": {
                    "grade": true,
                    "grade_id": "test2_2",
                    "locked": true,
                    "points": 1,
                    "schema_version": 1,
                    "solution": false
                }
            },
            "outputs": [],
            "source": [
                "#\n",
                "# AUTOGRADER TEST - DO NOT REMOVE\n",
                "#\n"
            ]
        },
        {
            "cell_type": "markdown",
            "metadata": {},
            "source": [
                "**Question 3.** Use `take` to make a table containing the data for the 10 quarters when NEI was greatest.  Call that table `greatest_nei`."
            ]
        },
        {
            "cell_type": "code",
            "execution_count": null,
            "metadata": {},
            "outputs": [],
            "source": [
                "greatest_nei = ...\n",
                "greatest_nei"
            ]
        },
        {
            "cell_type": "code",
            "execution_count": null,
            "metadata": {},
            "outputs": [],
            "source": [
                "check2_3(greatest_nei)"
            ]
        },
        {
            "cell_type": "code",
            "execution_count": null,
            "metadata": {
                "nbgrader": {
                    "grade": true,
                    "grade_id": "test2_3",
                    "locked": true,
                    "points": 1,
                    "schema_version": 1,
                    "solution": false
                }
            },
            "outputs": [],
            "source": [
                "#\n",
                "# AUTOGRADER TEST - DO NOT REMOVE\n",
                "#\n"
            ]
        },
        {
            "cell_type": "markdown",
            "metadata": {},
            "source": [
                "**Question 4.** NEI-PTER is the percentage of people who are unemployed (hence counted in the NEI) plus the percentage of people who are PTER.  Compute an array containing the percentage of people who were PTER in each quarter.  (The first element of the array should correspond to the first row of `unemployment`, and so on.)\n",
                "\n",
                "*Note:* Use the original `unemployment` table for this."
            ]
        },
        {
            "cell_type": "code",
            "execution_count": null,
            "metadata": {},
            "outputs": [],
            "source": [
                "pter = ...\n",
                "pter"
            ]
        },
        {
            "cell_type": "code",
            "execution_count": null,
            "metadata": {},
            "outputs": [],
            "source": [
                "check2_4(pter)"
            ]
        },
        {
            "cell_type": "code",
            "execution_count": null,
            "metadata": {
                "nbgrader": {
                    "grade": true,
                    "grade_id": "test2_4",
                    "locked": true,
                    "points": 1,
                    "schema_version": 1,
                    "solution": false
                }
            },
            "outputs": [],
            "source": [
                "#\n",
                "# AUTOGRADER TEST - DO NOT REMOVE\n",
                "#\n"
            ]
        },
        {
            "cell_type": "markdown",
            "metadata": {},
            "source": [
                "**Question 5.** Add `pter` as a column named PTER to `unemployment`, and sort the resulting table by that column in decreasing order.  Call the table `by_pter`.\n",
                "\n",
                "Try to do this with a single line of code, if you can."
            ]
        },
        {
            "cell_type": "code",
            "execution_count": null,
            "metadata": {},
            "outputs": [],
            "source": [
                "by_pter = ...\n",
                "by_pter"
            ]
        },
        {
            "cell_type": "code",
            "execution_count": null,
            "metadata": {},
            "outputs": [],
            "source": [
                "check2_5(by_pter)"
            ]
        },
        {
            "cell_type": "code",
            "execution_count": null,
            "metadata": {
                "nbgrader": {
                    "grade": true,
                    "grade_id": "test2_5",
                    "locked": true,
                    "points": 1,
                    "schema_version": 1,
                    "solution": false
                }
            },
            "outputs": [],
            "source": [
                "#\n",
                "# AUTOGRADER TEST - DO NOT REMOVE\n",
                "#\n"
            ]
        },
        {
            "cell_type": "markdown",
            "metadata": {},
            "source": [
                "**Question 6.**  It has been claimed that the \"Great Recession\" of 2008-2009 might have caused many people to become part-time for economic reasons.  Does this dataset support that claim?  Specifically, is the PTER rate high during or shortly after the Great Recession, compared to other periods in the dataset?  Justify your answer by referring to specific values in a table or by producing a visualization of the data.\n",
                "\n",
                "*Note:* The rows of `unemployment` table are sorted by date, and each row corresponds to a quarter of a particular year. The question is easier to answer if you plot PTER values versus time."
            ]
        },
        {
            "cell_type": "markdown",
            "metadata": {
                "manual_grade": true,
                "manual_problem_id": "basic_sorting_6",
                "nbgrader": {
                    "grade": true,
                    "grade_id": "manual2_6",
                    "locked": false,
                    "points": 1,
                    "schema_version": 1,
                    "solution": true
                }
            },
            "source": [
                "*Write your answer here, replacing this text. Feel free to add code cells above or below if you want to generate new tables or charts.*"
            ]
        },
        {
            "cell_type": "code",
            "execution_count": null,
            "metadata": {},
            "outputs": [],
            "source": []
        },
        {
            "cell_type": "markdown",
            "metadata": {},
            "source": [
                "## 3. Birth Rates\n"
            ]
        },
        {
            "cell_type": "markdown",
            "metadata": {},
            "source": [
                "The following table contains population estimates based on census data.  There are 52 rows in the table, one for each state as well as Puerto Rico and the District of Columbia.  In the rest of this problem, just assume that the word \"states\" means all those 52 territories.  The columns include population estimates on July 1, 2015 and July 1, 2016.  The last four columns describe some components of the estimated change in population during this time interval."
            ]
        },
        {
            "cell_type": "code",
            "execution_count": null,
            "metadata": {},
            "outputs": [],
            "source": [
                "# Don't change this cell; just run it.\n",
                "# From http:\/\/www2.census.gov\/programs-surveys\/popest\/datasets\/2010-2016\/national\/totals\/nst-est2016-alldata.csv\n",
                "# See http:\/\/www2.census.gov\/programs-surveys\/popest\/datasets\/2010-2015\/national\/totals\/nst-est2015-alldata.pdf\n",
                "#     for column descriptions. (As of Feb. 2017, no descriptions were posted for 2010-2016.)\n",
                "pop = Table.read_table('nst-est2016-alldata.csv').where('SUMLEV', 40).select([1, 4, 12, 13, 27, 34, 62, 69])\n",
                "pop = pop.relabeled(2, '2015').relabeled(3, '2016')\n",
                "pop = pop.relabeled(4, 'BIRTHS').relabeled(5, 'DEATHS')\n",
                "pop = pop.relabeled(6, 'MIGRATION').relabeled(7, 'OTHER')\n",
                "pop.set_format(range(2,8), NumberFormatter(decimals=0)).show(3)"
            ]
        },
        {
            "cell_type": "markdown",
            "metadata": {},
            "source": [
                "**Question 1.** Assign `us_birth_rate` to the total US annual birth rate during this time interval. The annual birth rate for a year-long period is the number of births in that period as a proportion of the population at the start of the period."
            ]
        },
        {
            "cell_type": "code",
            "execution_count": null,
            "metadata": {},
            "outputs": [],
            "source": [
                "us_birth_rate = ...\n",
                "us_birth_rate"
            ]
        },
        {
            "cell_type": "code",
            "execution_count": null,
            "metadata": {},
            "outputs": [],
            "source": [
                "check3_1(us_birth_rate)"
            ]
        },
        {
            "cell_type": "code",
            "execution_count": null,
            "metadata": {
                "nbgrader": {
                    "grade": true,
                    "grade_id": "test3_1",
                    "locked": true,
                    "points": 1,
                    "schema_version": 1,
                    "solution": false
                }
            },
            "outputs": [],
            "source": [
                "#\n",
                "# AUTOGRADER TEST - DO NOT REMOVE\n",
                "#\n"
            ]
        },
        {
            "cell_type": "markdown",
            "metadata": {},
            "source": [
                "**Question 2.** Assign `fastest_growth` to an array of the names of the five states with the fastest population growth rates.  The elements of the array should be sorted in descending order of growth rate. The growth rate is the change in population during the time period as a proportion of the population at the start of the period."
            ]
        },
        {
            "cell_type": "code",
            "execution_count": null,
            "metadata": {},
            "outputs": [],
            "source": [
                "fastest_growth = ...\n",
                "fastest_growth"
            ]
        },
        {
            "cell_type": "code",
            "execution_count": null,
            "metadata": {},
            "outputs": [],
            "source": [
                "check3_2(fastest_growth)"
            ]
        },
        {
            "cell_type": "code",
            "execution_count": null,
            "metadata": {
                "nbgrader": {
                    "grade": true,
                    "grade_id": "test3_2",
                    "locked": true,
                    "points": 1,
                    "schema_version": 1,
                    "solution": false
                }
            },
            "outputs": [],
            "source": [
                "#\n",
                "# AUTOGRADER TEST - DO NOT REMOVE\n",
                "#\n"
            ]
        },
        {
            "cell_type": "markdown",
            "metadata": {},
            "source": [
                "**Question 3.** Assign `movers` to the number of states for which the absolute value of the annual rate of migration was above 1%. The annual rate of migration for a year-long period is the net number of migrations (in and out) as a proportion of the population at the start of the period. The `MIGRATION` column contains estimated annual net migration counts by state."
            ]
        },
        {
            "cell_type": "code",
            "execution_count": null,
            "metadata": {},
            "outputs": [],
            "source": [
                "movers = ...\n",
                "movers"
            ]
        },
        {
            "cell_type": "code",
            "execution_count": null,
            "metadata": {},
            "outputs": [],
            "source": [
                "check3_3(movers)"
            ]
        },
        {
            "cell_type": "code",
            "execution_count": null,
            "metadata": {
                "nbgrader": {
                    "grade": true,
                    "grade_id": "test3_3",
                    "locked": true,
                    "points": 1,
                    "schema_version": 1,
                    "solution": false
                }
            },
            "outputs": [],
            "source": [
                "#\n",
                "# AUTOGRADER TEST - DO NOT REMOVE\n",
                "#\n"
            ]
        },
        {
            "cell_type": "markdown",
            "metadata": {},
            "source": [
                "**Question 4.** Assign `ne_births` to the total number of births that occurred in region 1 (the Northeastern US)."
            ]
        },
        {
            "cell_type": "code",
            "execution_count": null,
            "metadata": {},
            "outputs": [],
            "source": [
                "ne_births = ...\n",
                "ne_births"
            ]
        },
        {
            "cell_type": "code",
            "execution_count": null,
            "metadata": {},
            "outputs": [],
            "source": [
                "check3_4(ne_births)"
            ]
        },
        {
            "cell_type": "code",
            "execution_count": null,
            "metadata": {
                "nbgrader": {
                    "grade": true,
                    "grade_id": "test3_4",
                    "locked": true,
                    "points": 1,
                    "schema_version": 1,
                    "solution": false
                }
            },
            "outputs": [],
            "source": [
                "#\n",
                "# AUTOGRADER TEST - DO NOT REMOVE\n",
                "#\n"
            ]
        },
        {
            "cell_type": "markdown",
            "metadata": {},
            "source": [
                "**Question 5.** Assign `less_than_ne_births` to the number of states that had a total population in 2016 that was smaller than the number of babies born in region 1 in this time period.\n",
                "\n",
                "*Note*: Consider computing the auxiliary value `ne_birth` first: the number of babies born in region 1 in this time period."
            ]
        },
        {
            "cell_type": "code",
            "execution_count": null,
            "metadata": {},
            "outputs": [],
            "source": [
                "less_than_ne_births = ...\n",
                "less_than_ne_births"
            ]
        },
        {
            "cell_type": "code",
            "execution_count": null,
            "metadata": {},
            "outputs": [],
            "source": [
                "check3_5(less_than_ne_births)"
            ]
        },
        {
            "cell_type": "code",
            "execution_count": null,
            "metadata": {
                "nbgrader": {
                    "grade": true,
                    "grade_id": "test3_5",
                    "locked": true,
                    "points": 1,
                    "schema_version": 1,
                    "solution": false
                }
            },
            "outputs": [],
            "source": [
                "#\n",
                "# AUTOGRADER TEST - DO NOT REMOVE\n",
                "#\n"
            ]
        },
        {
            "cell_type": "markdown",
            "metadata": {},
            "source": [
                "**Question 6.** Was there an association between birth rate and death rate during this time period? Use the code cell below to support your conclusion with a chart. If an association exists, what might explain it?"
            ]
        },
        {
            "cell_type": "markdown",
            "metadata": {
                "manual_grade": true,
                "manual_problem_id": "births_6",
                "nbgrader": {
                    "grade": true,
                    "grade_id": "manual3_6",
                    "locked": false,
                    "points": 1,
                    "schema_version": 1,
                    "solution": true
                }
            },
            "source": [
                "*Write your answer here, replacing this text.*"
            ]
        },
        {
            "cell_type": "code",
            "execution_count": null,
            "metadata": {},
            "outputs": [],
            "source": [
                "# Generate a chart here to support your conclusion\n"
            ]
        },
        {
            "cell_type": "markdown",
            "metadata": {},
            "source": [
                "## 4. Marginal Histograms\n"
            ]
        },
        {
            "cell_type": "markdown",
            "metadata": {},
            "source": [
                "Suppose we have a table called `t` that has two columns in it:\n",
                "\n",
                "- `x`: a column containing the x-values of some points\n",
                "- `y`: a column containing the y-values of some points\n",
                "\n",
                "Also suppose we use `t.scatter('x', 'y')` to produce a scatter plot of those points:\n",
                "\n",
                "![](scatter.png)\n"
            ]
        },
        {
            "cell_type": "markdown",
            "metadata": {},
            "source": [
                "**Question 1:** Below are two expressions, as well as two histograms.  Match each of the histograms to the expression that produced it. Edit the cell below to give your answer and explain your reasoning."
            ]
        },
        {
            "cell_type": "markdown",
            "metadata": {
                "for_assignment_type": "student",
                "nbgrader": {
                    "grade": true,
                    "grade_id": "manual4_1",
                    "locked": false,
                    "points": 1,
                    "schema_version": 1,
                    "solution": true
                }
            },
            "source": [
                "**Expression 1:** `t.hist('x')`\n",
                "\n",
                "**Histogram for Expression 1:**\n",
                "\n",
                "**Explanation:**\n",
                "\n",
                "* * *\n",
                "\n",
                "**Expression 2:** `t.hist('y')`\n",
                "\n",
                "**Histogram for Expression 2:**\n",
                "\n",
                "**Explanation:**"
            ]
        },
        {
            "cell_type": "markdown",
            "metadata": {},
            "source": [
                "**Histogram A:** ![](var1.png)\n",
                "**Histogram B:** ![](var2.png)"
            ]
        },
        {
            "cell_type": "markdown",
            "metadata": {},
            "source": [
                "## 5. Submission\n",
                "\n",
                "To submit your assignment, click the red Submit button above. You may submit as many times as you wish before the deadline. Only your final submission will be graded. No late work will be accepted, so please make sure you submit something before the deadline!\n",
                "\n",
                "Before you submit, it would be wise to click on the menu item Kernel -> Restart & Run All.  That will re-run all your cells from scratch.  Take a second look to make sure all your answers are passing the checks.  Doing this will help catch any errors in your homework that result from running cells in a strange order."
            ]
        }
    ],
    "metadata": {
        "celltoolbar": "Create Assignment",
        "kernelspec": {
            "display_name": "Python 3",
            "language": "python",
            "name": "python3"
        },
        "language_info": {
            "codemirror_mode": {
                "name": "ipython",
                "version": 3
            },
            "file_extension": ".py",
            "mimetype": "text\/x-python",
            "name": "python",
            "nbconvert_exporter": "python",
            "pygments_lexer": "ipython3",
            "version": "3.6.8"
        }
    },
    "nbformat": 4,
    "nbformat_minor": 1
}