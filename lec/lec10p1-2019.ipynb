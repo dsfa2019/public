{
 "cells": [
  {
   "cell_type": "code",
   "execution_count": null,
   "metadata": {},
   "outputs": [],
   "source": [
    "from datascience import *\n",
    "import numpy as np\n",
    "\n",
    "%matplotlib inline\n",
    "import matplotlib.pyplot as plots\n",
    "plots.style.use('fivethirtyeight')\n",
    "\n",
    "# Configure for presentation\n",
    "np.set_printoptions(threshold=50, linewidth=50)\n",
    "import matplotlib as mpl\n",
    "mpl.rc('font', size=16)"
   ]
  },
  {
   "cell_type": "markdown",
   "metadata": {},
   "source": [
    "## Table methods"
   ]
  },
  {
   "cell_type": "code",
   "execution_count": null,
   "metadata": {},
   "outputs": [],
   "source": [
    "drinks = Table(['Drink', 'Cafe', 'Price']).with_rows([\n",
    "    ['Milk Tea', 'Panda Tea Lounge', 4],\n",
    "    ['Espresso', 'Gimme',  2],\n",
    "    ['Coffee',    'Gimme',  3],\n",
    "    ['Espresso', \"Cafe Gola\",   2]\n",
    "])\n",
    "drinks"
   ]
  },
  {
   "cell_type": "code",
   "execution_count": null,
   "metadata": {},
   "outputs": [],
   "source": [
    "drinks.sort(\"Price\", distinct=True)"
   ]
  },
  {
   "cell_type": "code",
   "execution_count": null,
   "metadata": {},
   "outputs": [],
   "source": [
    "discounts = Table().with_columns(\n",
    "    'Coupon % off', make_array(25, 50, 5),\n",
    "    'Location', make_array('Panda Tea Lounge', 'Gimme', 'Gimme')\n",
    ")\n",
    "discounts"
   ]
  },
  {
   "cell_type": "markdown",
   "metadata": {},
   "source": [
    "**Q:** Create a table with the discounted price of each drink at each cafe that offers discounts, step by step."
   ]
  },
  {
   "cell_type": "markdown",
   "metadata": {},
   "source": [
    "Step 1. Join drinks with discounts"
   ]
  },
  {
   "cell_type": "code",
   "execution_count": null,
   "metadata": {},
   "outputs": [],
   "source": [
    "a = drinks.join('Cafe', discounts, 'Location')\n",
    "a"
   ]
  },
  {
   "cell_type": "markdown",
   "metadata": {},
   "source": [
    "Step 2. Compute discounts and discard unneccessary columns"
   ]
  },
  {
   "cell_type": "code",
   "execution_count": null,
   "metadata": {},
   "outputs": [],
   "source": [
    "a = a.with_column('Discounted Price', a.column('Price') * (1 - a.column(3)/100) )\n",
    "a = a.drop('Price', 'Coupon % off')\n",
    "a"
   ]
  },
  {
   "cell_type": "markdown",
   "metadata": {},
   "source": [
    "Step 3. Find the cheapest drink at each cafe."
   ]
  },
  {
   "cell_type": "code",
   "execution_count": null,
   "metadata": {},
   "outputs": [],
   "source": [
    "a.sort('Discounted Price').sort('Cafe', distinct=True) # Correct, Espresso is cheaper"
   ]
  },
  {
   "cell_type": "code",
   "execution_count": null,
   "metadata": {},
   "outputs": [],
   "source": [
    "a.group('Cafe', min) # Incorrect answer b/c Coffee is first alphabetically but *not* the cheapest drink at Gimme"
   ]
  },
  {
   "cell_type": "markdown",
   "metadata": {},
   "source": [
    "## Advanced Where"
   ]
  },
  {
   "cell_type": "code",
   "execution_count": 52,
   "metadata": {},
   "outputs": [
    {
     "data": {
      "text/plain": [
       "True"
      ]
     },
     "execution_count": 52,
     "metadata": {},
     "output_type": "execute_result"
    }
   ],
   "source": [
    "3 > 2"
   ]
  },
  {
   "cell_type": "code",
   "execution_count": 53,
   "metadata": {},
   "outputs": [
    {
     "data": {
      "text/plain": [
       "False"
      ]
     },
     "execution_count": 53,
     "metadata": {},
     "output_type": "execute_result"
    }
   ],
   "source": [
    "1 > 2"
   ]
  },
  {
   "cell_type": "code",
   "execution_count": 54,
   "metadata": {},
   "outputs": [
    {
     "data": {
      "text/plain": [
       "True"
      ]
     },
     "execution_count": 54,
     "metadata": {},
     "output_type": "execute_result"
    }
   ],
   "source": [
    "3 > 2 and 2 > 1"
   ]
  },
  {
   "cell_type": "code",
   "execution_count": 55,
   "metadata": {},
   "outputs": [
    {
     "data": {
      "text/plain": [
       "False"
      ]
     },
     "execution_count": 55,
     "metadata": {},
     "output_type": "execute_result"
    }
   ],
   "source": [
    "3 > 2 and 1 > 2"
   ]
  },
  {
   "cell_type": "code",
   "execution_count": 56,
   "metadata": {},
   "outputs": [
    {
     "data": {
      "text/plain": [
       "True"
      ]
     },
     "execution_count": 56,
     "metadata": {},
     "output_type": "execute_result"
    }
   ],
   "source": [
    "3 > 2 or 1 > 2"
   ]
  },
  {
   "cell_type": "code",
   "execution_count": 57,
   "metadata": {},
   "outputs": [
    {
     "data": {
      "text/plain": [
       "False"
      ]
     },
     "execution_count": 57,
     "metadata": {},
     "output_type": "execute_result"
    }
   ],
   "source": [
    "not 3 > 2"
   ]
  },
  {
   "cell_type": "code",
   "execution_count": 60,
   "metadata": {},
   "outputs": [
    {
     "data": {
      "text/plain": [
       "array([False, False, False,  True,  True])"
      ]
     },
     "execution_count": 60,
     "metadata": {},
     "output_type": "execute_result"
    }
   ],
   "source": [
    "np.arange(5) > 2\n",
    "#np.arange(5)"
   ]
  },
  {
   "cell_type": "code",
   "execution_count": 61,
   "metadata": {},
   "outputs": [
    {
     "data": {
      "text/plain": [
       "1"
      ]
     },
     "execution_count": 61,
     "metadata": {},
     "output_type": "execute_result"
    }
   ],
   "source": [
    "int(True)"
   ]
  },
  {
   "cell_type": "code",
   "execution_count": 62,
   "metadata": {},
   "outputs": [
    {
     "data": {
      "text/plain": [
       "0"
      ]
     },
     "execution_count": 62,
     "metadata": {},
     "output_type": "execute_result"
    }
   ],
   "source": [
    "int(False)"
   ]
  },
  {
   "cell_type": "code",
   "execution_count": 63,
   "metadata": {},
   "outputs": [
    {
     "data": {
      "text/plain": [
       "2"
      ]
     },
     "execution_count": 63,
     "metadata": {},
     "output_type": "execute_result"
    }
   ],
   "source": [
    "sum(np.arange(5) > 2)"
   ]
  },
  {
   "cell_type": "markdown",
   "metadata": {},
   "source": [
    "## Advanced where for Census"
   ]
  },
  {
   "cell_type": "code",
   "execution_count": 64,
   "metadata": {},
   "outputs": [
    {
     "data": {
      "text/html": [
       "<table border=\"1\" class=\"dataframe\">\n",
       "    <thead>\n",
       "        <tr>\n",
       "            <th>SEX</th> <th>AGE</th> <th>2010</th> <th>2015</th>\n",
       "        </tr>\n",
       "    </thead>\n",
       "    <tbody>\n",
       "        <tr>\n",
       "            <td>0   </td> <td>0   </td> <td>3951330</td> <td>3978038</td>\n",
       "        </tr>\n",
       "        <tr>\n",
       "            <td>0   </td> <td>1   </td> <td>3957888</td> <td>3968564</td>\n",
       "        </tr>\n",
       "        <tr>\n",
       "            <td>0   </td> <td>2   </td> <td>4090862</td> <td>3966583</td>\n",
       "        </tr>\n",
       "        <tr>\n",
       "            <td>0   </td> <td>3   </td> <td>4111920</td> <td>3974061</td>\n",
       "        </tr>\n",
       "        <tr>\n",
       "            <td>0   </td> <td>4   </td> <td>4077551</td> <td>4020035</td>\n",
       "        </tr>\n",
       "        <tr>\n",
       "            <td>0   </td> <td>5   </td> <td>4064653</td> <td>4018158</td>\n",
       "        </tr>\n",
       "        <tr>\n",
       "            <td>0   </td> <td>6   </td> <td>4073013</td> <td>4019207</td>\n",
       "        </tr>\n",
       "        <tr>\n",
       "            <td>0   </td> <td>7   </td> <td>4043046</td> <td>4148360</td>\n",
       "        </tr>\n",
       "        <tr>\n",
       "            <td>0   </td> <td>8   </td> <td>4025604</td> <td>4167887</td>\n",
       "        </tr>\n",
       "        <tr>\n",
       "            <td>0   </td> <td>9   </td> <td>4125415</td> <td>4133564</td>\n",
       "        </tr>\n",
       "    </tbody>\n",
       "</table>\n",
       "<p>... (296 rows omitted)</p>"
      ],
      "text/plain": [
       "SEX  | AGE  | 2010    | 2015\n",
       "0    | 0    | 3951330 | 3978038\n",
       "0    | 1    | 3957888 | 3968564\n",
       "0    | 2    | 4090862 | 3966583\n",
       "0    | 3    | 4111920 | 3974061\n",
       "0    | 4    | 4077551 | 4020035\n",
       "0    | 5    | 4064653 | 4018158\n",
       "0    | 6    | 4073013 | 4019207\n",
       "0    | 7    | 4043046 | 4148360\n",
       "0    | 8    | 4025604 | 4167887\n",
       "0    | 9    | 4125415 | 4133564\n",
       "... (296 rows omitted)"
      ]
     },
     "execution_count": 64,
     "metadata": {},
     "output_type": "execute_result"
    }
   ],
   "source": [
    "# As of Jan 2017, this census file is online here: \n",
    "# http://www2.census.gov/programs-surveys/popest/datasets/2010-2015/national/asrh/nc-est2015-agesex-res.csv\n",
    "\n",
    "full_census_table = Table.read_table('nc-est2015-agesex-res.csv')\n",
    "partial = full_census_table.select('SEX', 'AGE', 'POPESTIMATE2010', 'POPESTIMATE2015')\n",
    "us_pop = partial.relabeled(2, '2010').relabeled(3, '2015')\n",
    "us_pop"
   ]
  },
  {
   "cell_type": "code",
   "execution_count": 66,
   "metadata": {},
   "outputs": [
    {
     "data": {
      "text/html": [
       "<table border=\"1\" class=\"dataframe\">\n",
       "    <thead>\n",
       "        <tr>\n",
       "            <th>SEX</th> <th>AGE</th> <th>2010</th> <th>2015</th>\n",
       "        </tr>\n",
       "    </thead>\n",
       "    <tbody>\n",
       "        <tr>\n",
       "            <td>0   </td> <td>70  </td> <td>2062577</td> <td>2492490</td>\n",
       "        </tr>\n",
       "        <tr>\n",
       "            <td>1   </td> <td>70  </td> <td>954073 </td> <td>1162672</td>\n",
       "        </tr>\n",
       "        <tr>\n",
       "            <td>2   </td> <td>70  </td> <td>1108504</td> <td>1329818</td>\n",
       "        </tr>\n",
       "    </tbody>\n",
       "</table>"
      ],
      "text/plain": [
       "SEX  | AGE  | 2010    | 2015\n",
       "0    | 70   | 2062577 | 2492490\n",
       "1    | 70   | 954073  | 1162672\n",
       "2    | 70   | 1108504 | 1329818"
      ]
     },
     "execution_count": 66,
     "metadata": {},
     "output_type": "execute_result"
    }
   ],
   "source": [
    "us_pop.where('AGE', 70)"
   ]
  },
  {
   "cell_type": "code",
   "execution_count": 67,
   "metadata": {},
   "outputs": [
    {
     "data": {
      "text/html": [
       "<table border=\"1\" class=\"dataframe\">\n",
       "    <thead>\n",
       "        <tr>\n",
       "            <th>SEX</th> <th>AGE</th> <th>2010</th> <th>2015</th>\n",
       "        </tr>\n",
       "    </thead>\n",
       "    <tbody>\n",
       "        <tr>\n",
       "            <td>1   </td> <td>70  </td> <td>954073 </td> <td>1162672</td>\n",
       "        </tr>\n",
       "        <tr>\n",
       "            <td>2   </td> <td>70  </td> <td>1108504</td> <td>1329818</td>\n",
       "        </tr>\n",
       "    </tbody>\n",
       "</table>"
      ],
      "text/plain": [
       "SEX  | AGE  | 2010    | 2015\n",
       "1    | 70   | 954073  | 1162672\n",
       "2    | 70   | 1108504 | 1329818"
      ]
     },
     "execution_count": 67,
     "metadata": {},
     "output_type": "execute_result"
    }
   ],
   "source": [
    "us_pop.where('AGE', 70).where([False, True, True])"
   ]
  },
  {
   "cell_type": "code",
   "execution_count": 68,
   "metadata": {},
   "outputs": [
    {
     "data": {
      "text/plain": [
       "array([False,  True,  True])"
      ]
     },
     "execution_count": 68,
     "metadata": {},
     "output_type": "execute_result"
    }
   ],
   "source": [
    "seventy = us_pop.where('AGE', 70)\n",
    "seventy.column('2010') < 2000000"
   ]
  },
  {
   "cell_type": "code",
   "execution_count": 69,
   "metadata": {},
   "outputs": [
    {
     "data": {
      "text/html": [
       "<table border=\"1\" class=\"dataframe\">\n",
       "    <thead>\n",
       "        <tr>\n",
       "            <th>SEX</th> <th>AGE</th> <th>2010</th> <th>2015</th>\n",
       "        </tr>\n",
       "    </thead>\n",
       "    <tbody>\n",
       "        <tr>\n",
       "            <td>1   </td> <td>70  </td> <td>954073 </td> <td>1162672</td>\n",
       "        </tr>\n",
       "        <tr>\n",
       "            <td>2   </td> <td>70  </td> <td>1108504</td> <td>1329818</td>\n",
       "        </tr>\n",
       "    </tbody>\n",
       "</table>"
      ],
      "text/plain": [
       "SEX  | AGE  | 2010    | 2015\n",
       "1    | 70   | 954073  | 1162672\n",
       "2    | 70   | 1108504 | 1329818"
      ]
     },
     "execution_count": 69,
     "metadata": {},
     "output_type": "execute_result"
    }
   ],
   "source": [
    "seventy.where(seventy.column('2010') < 2000000)"
   ]
  },
  {
   "cell_type": "code",
   "execution_count": 71,
   "metadata": {},
   "outputs": [
    {
     "data": {
      "text/plain": [
       "array([False, False, False, ...,  True,  True,\n",
       "        True])"
      ]
     },
     "execution_count": 71,
     "metadata": {},
     "output_type": "execute_result"
    }
   ],
   "source": [
    "us_pop.column('2015') / us_pop.column('2010') > 1.01"
   ]
  },
  {
   "cell_type": "code",
   "execution_count": 72,
   "metadata": {},
   "outputs": [
    {
     "data": {
      "text/html": [
       "<table border=\"1\" class=\"dataframe\">\n",
       "    <thead>\n",
       "        <tr>\n",
       "            <th>SEX</th> <th>AGE</th> <th>2010</th> <th>2015</th>\n",
       "        </tr>\n",
       "    </thead>\n",
       "    <tbody>\n",
       "        <tr>\n",
       "            <td>1   </td> <td>94  </td> <td>43827</td> <td>68135</td>\n",
       "        </tr>\n",
       "        <tr>\n",
       "            <td>1   </td> <td>95  </td> <td>31736</td> <td>48015</td>\n",
       "        </tr>\n",
       "        <tr>\n",
       "            <td>1   </td> <td>97  </td> <td>14775</td> <td>23092</td>\n",
       "        </tr>\n",
       "        <tr>\n",
       "            <td>1   </td> <td>98  </td> <td>9505 </td> <td>14719</td>\n",
       "        </tr>\n",
       "        <tr>\n",
       "            <td>1   </td> <td>99  </td> <td>6104 </td> <td>9577 </td>\n",
       "        </tr>\n",
       "        <tr>\n",
       "            <td>1   </td> <td>100 </td> <td>9352 </td> <td>15088</td>\n",
       "        </tr>\n",
       "    </tbody>\n",
       "</table>"
      ],
      "text/plain": [
       "SEX  | AGE  | 2010  | 2015\n",
       "1    | 94   | 43827 | 68135\n",
       "1    | 95   | 31736 | 48015\n",
       "1    | 97   | 14775 | 23092\n",
       "1    | 98   | 9505  | 14719\n",
       "1    | 99   | 6104  | 9577\n",
       "1    | 100  | 9352  | 15088"
      ]
     },
     "execution_count": 72,
     "metadata": {},
     "output_type": "execute_result"
    }
   ],
   "source": [
    "us_pop.where(us_pop.column('2015') / us_pop.column('2010') > 1.5)"
   ]
  },
  {
   "cell_type": "markdown",
   "metadata": {},
   "source": [
    "## Advanced where for bike sharing\n",
    "Let's used advanced where to answer questions about bike sharing"
   ]
  },
  {
   "cell_type": "code",
   "execution_count": 73,
   "metadata": {},
   "outputs": [
    {
     "data": {
      "text/html": [
       "<table border=\"1\" class=\"dataframe\">\n",
       "    <thead>\n",
       "        <tr>\n",
       "            <th>start</th> <th>end</th> <th>duration</th>\n",
       "        </tr>\n",
       "    </thead>\n",
       "    <tbody>\n",
       "        <tr>\n",
       "            <td>Metropolitan Ave & Bedford Ave</td> <td>Bedford Ave & Nassau Ave</td> <td>6.06667 </td>\n",
       "        </tr>\n",
       "        <tr>\n",
       "            <td>Lafayette St & E 8 St         </td> <td>2 Ave  & E 104 St       </td> <td>35.7    </td>\n",
       "        </tr>\n",
       "        <tr>\n",
       "            <td>Schermerhorn St & Court St    </td> <td>Court St & Nelson St    </td> <td>5.46667 </td>\n",
       "        </tr>\n",
       "    </tbody>\n",
       "</table>\n",
       "<p>... (485616 rows omitted)</p>"
      ],
      "text/plain": [
       "<IPython.core.display.HTML object>"
      ]
     },
     "metadata": {},
     "output_type": "display_data"
    }
   ],
   "source": [
    "citi = Table.read_table('citibike_nyc_201707_500000.csv')\n",
    "trip = citi.relabeled(\"start station name\", \"start\")\\\n",
    "           .relabeled(\"end station name\", \"end\")\\\n",
    "           .select(\"start\", \"end\")\\\n",
    "           .with_column(\"duration\", citi.column(\"tripduration\")/60)\\\n",
    "           .where(\"duration\", are.below(46))\n",
    "trip.show(3)"
   ]
  },
  {
   "cell_type": "markdown",
   "metadata": {},
   "source": [
    "What was the average duration of all trips?"
   ]
  },
  {
   "cell_type": "code",
   "execution_count": 91,
   "metadata": {},
   "outputs": [
    {
     "data": {
      "text/plain": [
       "14.242164296152607"
      ]
     },
     "execution_count": 91,
     "metadata": {},
     "output_type": "execute_result"
    }
   ],
   "source": [
    "np.average(trip.column(\"duration\"))"
   ]
  },
  {
   "cell_type": "markdown",
   "metadata": {},
   "source": [
    "What was the average duration of trips that started and ended at the same station?"
   ]
  },
  {
   "cell_type": "code",
   "execution_count": 74,
   "metadata": {},
   "outputs": [
    {
     "data": {
      "text/plain": [
       "17.073637087146835"
      ]
     },
     "execution_count": 74,
     "metadata": {},
     "output_type": "execute_result"
    }
   ],
   "source": [
    "np.average(trip.where(trip.column('start') == trip.column('end')).column('duration'))"
   ]
  },
  {
   "cell_type": "markdown",
   "metadata": {},
   "source": [
    "What was the average duration of trips that started and ended at different stations?"
   ]
  },
  {
   "cell_type": "code",
   "execution_count": 76,
   "metadata": {},
   "outputs": [
    {
     "data": {
      "text/plain": [
       "14.166956274195622"
      ]
     },
     "execution_count": 76,
     "metadata": {},
     "output_type": "execute_result"
    }
   ],
   "source": [
    "np.average(trip.where(trip.column('start') != trip.column('end')).column('duration'))"
   ]
  },
  {
   "cell_type": "markdown",
   "metadata": {},
   "source": [
    "## Example Prelim Question\n",
    "\n",
    "Suppose you are given the following table of data:"
   ]
  },
  {
   "cell_type": "code",
   "execution_count": 77,
   "metadata": {},
   "outputs": [
    {
     "data": {
      "text/html": [
       "<table border=\"1\" class=\"dataframe\">\n",
       "    <thead>\n",
       "        <tr>\n",
       "            <th>start</th> <th>end</th> <th>duration</th>\n",
       "        </tr>\n",
       "    </thead>\n",
       "    <tbody>\n",
       "        <tr>\n",
       "            <td>Metropolitan Ave & Bedford Ave</td> <td>Bedford Ave & Nassau Ave</td> <td>6.06667 </td>\n",
       "        </tr>\n",
       "        <tr>\n",
       "            <td>Lafayette St & E 8 St         </td> <td>2 Ave  & E 104 St       </td> <td>35.7    </td>\n",
       "        </tr>\n",
       "        <tr>\n",
       "            <td>Schermerhorn St & Court St    </td> <td>Court St & Nelson St    </td> <td>5.46667 </td>\n",
       "        </tr>\n",
       "    </tbody>\n",
       "</table>\n",
       "<p>... (485616 rows omitted)</p>"
      ],
      "text/plain": [
       "<IPython.core.display.HTML object>"
      ]
     },
     "metadata": {},
     "output_type": "display_data"
    }
   ],
   "source": [
    "trip.show(3)"
   ]
  },
  {
   "cell_type": "markdown",
   "metadata": {},
   "source": [
    "What is the name of the station where the most rentals ended? (Assume no ties.)"
   ]
  },
  {
   "cell_type": "code",
   "execution_count": 79,
   "metadata": {},
   "outputs": [
    {
     "data": {
      "text/plain": [
       "'West St & Chambers St'"
      ]
     },
     "execution_count": 79,
     "metadata": {},
     "output_type": "execute_result"
    }
   ],
   "source": [
    "trip.group('end').sort('count', descending=True).column(0).item(0)\n"
   ]
  },
  {
   "cell_type": "markdown",
   "metadata": {},
   "source": [
    "For how many stations was the average duration of a trip ending at that station at least 10 minutes?"
   ]
  },
  {
   "cell_type": "code",
   "execution_count": 90,
   "metadata": {
    "scrolled": true
   },
   "outputs": [
    {
     "data": {
      "text/html": [
       "<table border=\"1\" class=\"dataframe\">\n",
       "    <thead>\n",
       "        <tr>\n",
       "            <th>end</th> <th>start average</th> <th>duration average</th>\n",
       "        </tr>\n",
       "    </thead>\n",
       "    <tbody>\n",
       "        <tr>\n",
       "            <td>1 Ave & E 16 St  </td> <td>             </td> <td>11.159          </td>\n",
       "        </tr>\n",
       "        <tr>\n",
       "            <td>1 Ave & E 18 St  </td> <td>             </td> <td>11.4329         </td>\n",
       "        </tr>\n",
       "        <tr>\n",
       "            <td>1 Ave & E 30 St  </td> <td>             </td> <td>11.9865         </td>\n",
       "        </tr>\n",
       "        <tr>\n",
       "            <td>1 Ave & E 44 St  </td> <td>             </td> <td>17.5904         </td>\n",
       "        </tr>\n",
       "        <tr>\n",
       "            <td>1 Ave & E 62 St  </td> <td>             </td> <td>14.6996         </td>\n",
       "        </tr>\n",
       "        <tr>\n",
       "            <td>1 Ave & E 68 St  </td> <td>             </td> <td>13.7909         </td>\n",
       "        </tr>\n",
       "        <tr>\n",
       "            <td>1 Ave & E 78 St  </td> <td>             </td> <td>14.0971         </td>\n",
       "        </tr>\n",
       "        <tr>\n",
       "            <td>1 Ave & E 94 St  </td> <td>             </td> <td>14.2071         </td>\n",
       "        </tr>\n",
       "        <tr>\n",
       "            <td>1 Pl & Clinton St</td> <td>             </td> <td>14.0875         </td>\n",
       "        </tr>\n",
       "        <tr>\n",
       "            <td>10 Hudson Yards  </td> <td>             </td> <td>15.4869         </td>\n",
       "        </tr>\n",
       "    </tbody>\n",
       "</table>\n",
       "<p>... (601 rows omitted)</p>"
      ],
      "text/plain": [
       "end               | start average | duration average\n",
       "1 Ave & E 16 St   |               | 11.159\n",
       "1 Ave & E 18 St   |               | 11.4329\n",
       "1 Ave & E 30 St   |               | 11.9865\n",
       "1 Ave & E 44 St   |               | 17.5904\n",
       "1 Ave & E 62 St   |               | 14.6996\n",
       "1 Ave & E 68 St   |               | 13.7909\n",
       "1 Ave & E 78 St   |               | 14.0971\n",
       "1 Ave & E 94 St   |               | 14.2071\n",
       "1 Pl & Clinton St |               | 14.0875\n",
       "10 Hudson Yards   |               | 15.4869\n",
       "... (601 rows omitted)"
      ]
     },
     "execution_count": 90,
     "metadata": {},
     "output_type": "execute_result"
    }
   ],
   "source": [
    "trip.group('end', np.average).where('duration average', are.above(10))#.num_rows"
   ]
  },
  {
   "cell_type": "code",
   "execution_count": null,
   "metadata": {},
   "outputs": [],
   "source": []
  }
 ],
 "metadata": {
  "kernelspec": {
   "display_name": "Python 3",
   "language": "python",
   "name": "python3"
  },
  "language_info": {
   "codemirror_mode": {
    "name": "ipython",
    "version": 3
   },
   "file_extension": ".py",
   "mimetype": "text/x-python",
   "name": "python",
   "nbconvert_exporter": "python",
   "pygments_lexer": "ipython3",
   "version": "3.7.0"
  }
 },
 "nbformat": 4,
 "nbformat_minor": 2
}
