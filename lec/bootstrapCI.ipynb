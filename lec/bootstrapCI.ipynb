{
 "cells": [
  {
   "cell_type": "code",
   "execution_count": null,
   "metadata": {},
   "outputs": [],
   "source": [
    "from datascience import *\n",
    "import numpy as np\n",
    "\n",
    "import matplotlib.pyplot as plots\n",
    "plots.style.use('fivethirtyeight')\n",
    "%matplotlib inline"
   ]
  },
  {
   "cell_type": "code",
   "execution_count": null,
   "metadata": {},
   "outputs": [],
   "source": [
    "sf = Table.read_table('san_francisco_2015.csv').select(3, 11, 21)\n",
    "sf.set_format('Total Compensation', NumberFormatter(0))\n",
    "sf = sf.where('Total Compensation', are.above(10000))\n",
    "sf.show(3)"
   ]
  },
  {
   "cell_type": "code",
   "execution_count": null,
   "metadata": {},
   "outputs": [],
   "source": [
    "comp_bins = np.arange(0, 700000, 25000)\n",
    "sf.hist('Total Compensation', bins=comp_bins, unit='dollar')"
   ]
  },
  {
   "cell_type": "code",
   "execution_count": null,
   "metadata": {},
   "outputs": [],
   "source": [
    "pop_median = np.median(sf.column('Total Compensation'))\n",
    "pop_median"
   ]
  },
  {
   "cell_type": "code",
   "execution_count": null,
   "metadata": {},
   "outputs": [],
   "source": [
    "sample_from_population = sf.sample(200, with_replacement=False)\n",
    "sample_from_population.show(3)\n",
    "np.median(sample_from_population.column('Total Compensation'))"
   ]
  },
  {
   "cell_type": "code",
   "execution_count": null,
   "metadata": {},
   "outputs": [],
   "source": [
    "# Calculate the median for each of 100 samples \n",
    "# of size 200 from the population\n",
    "\n",
    "num_samples = 100\n",
    "sample_size = 200\n",
    "sample_medians = make_array()\n",
    "repetitions = np.arange(num_samples)\n",
    "for i in repetitions:\n",
    "    sample = sf.sample(sample_size, with_replacement=False)\n",
    "    median = np.median(sample.column('Total Compensation'))\n",
    "    sample_medians = np.append(sample_medians, median)\n",
    "\n",
    "#Table().with_columns('trial', repetitions, 'median', medians).scatter('trial')\n",
    "Table().with_columns('median', sample_medians).hist()\n",
    "plots.scatter(pop_median, 0, color='red', s=400)"
   ]
  },
  {
   "cell_type": "code",
   "execution_count": null,
   "metadata": {},
   "outputs": [],
   "source": [
    "# Use the bootstrap to estimate 95% confidence interval\n",
    "# for median salary in the population based on a single sample\n",
    "\n",
    "sample_size = 200\n",
    "sample = sf.sample(sample_size, with_replacement=False)\n",
    "\n",
    "resampled_medians = make_array()\n",
    "for i in np.arange(1000):\n",
    "    resample = sample.sample(sample_size)\n",
    "    median = np.median(resample.column('Total Compensation'))\n",
    "    resampled_medians = np.append(resampled_medians, median)\n",
    "    \n",
    "lower = percentile(2.5, resampled_medians)\n",
    "upper = percentile(97.5, resampled_medians)\n",
    "interval_95 = [lower, upper]\n",
    "\n",
    "#print(interval_95)\n",
    "Table().with_column('Resampled median', resampled_medians).hist('Resampled median')\n",
    "plots.plot(interval_95, [0, 0], color='gold', lw=5)\n",
    "plots.scatter(pop_median, 0, color='red', s=400)"
   ]
  },
  {
   "cell_type": "code",
   "execution_count": null,
   "metadata": {},
   "outputs": [],
   "source": [
    "# Calculate 95% bootstrap confidence interval for each of 100\n",
    "# samples of size 200\n",
    "\n",
    "num_samples = 100\n",
    "sample_size = 200\n",
    "all_lower = make_array()\n",
    "all_upper = make_array()\n",
    "\n",
    "for i in np.arange(num_samples):\n",
    "    sample = sf.sample(sample_size, with_replacement=False)\n",
    "\n",
    "    resampled_medians = make_array()    \n",
    "    for _ in np.arange(1000):\n",
    "        resample = sample.sample()\n",
    "        median = np.median(resample.column('Total Compensation'))\n",
    "        resampled_medians = np.append(resampled_medians, median)\n",
    "    \n",
    "    lower = percentile(2.5, resampled_medians)\n",
    "    upper = percentile(97.5, resampled_medians)\n",
    "    print('Sample = ',i+1,', Interval Contains Population Median = ',\\\n",
    "          (lower < pop_median)*(upper > pop_median))\n",
    "    \n",
    "    all_lower = np.append(all_lower, lower)\n",
    "    all_upper = np.append(all_upper, upper)"
   ]
  },
  {
   "cell_type": "code",
   "execution_count": null,
   "metadata": {},
   "outputs": [],
   "source": [
    "intervals = Table().with_columns('Lower',all_lower,'Upper',all_upper)\n",
    "intervals.scatter('Lower')\n",
    "plots.hlines(pop_median,xmin=min(all_lower),xmax=pop_median)\n",
    "plots.vlines(pop_median,ymin=pop_median,ymax=max(all_upper))\n",
    "plots.scatter(pop_median, pop_median, color='red', s=200)"
   ]
  }
 ],
 "metadata": {
  "kernelspec": {
   "display_name": "Python 3",
   "language": "python",
   "name": "python3"
  },
  "language_info": {
   "codemirror_mode": {
    "name": "ipython",
    "version": 3
   },
   "file_extension": ".py",
   "mimetype": "text/x-python",
   "name": "python",
   "nbconvert_exporter": "python",
   "pygments_lexer": "ipython3",
   "version": "3.6.8"
  }
 },
 "nbformat": 4,
 "nbformat_minor": 2
}
