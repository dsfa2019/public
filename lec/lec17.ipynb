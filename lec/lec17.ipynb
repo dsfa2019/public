{
 "cells": [
  {
   "cell_type": "code",
   "execution_count": null,
   "metadata": {},
   "outputs": [],
   "source": [
    "from datascience import *\n",
    "import numpy as np\n",
    "\n",
    "import matplotlib.pyplot as plots\n",
    "%matplotlib inline\n",
    "plots.style.use('fivethirtyeight')"
   ]
  },
  {
   "cell_type": "markdown",
   "metadata": {},
   "source": [
    "## Linear Congruential Generator"
   ]
  },
  {
   "cell_type": "code",
   "execution_count": null,
   "metadata": {},
   "outputs": [],
   "source": [
    "def LCG(n,seed):\n",
    "    a = 1103515245\n",
    "    b = 12345\n",
    "    m = 2**31\n",
    "    X = make_array()\n",
    "    Xold = seed\n",
    "    for _ in np.arange(n):\n",
    "        Xnew = (a*Xold+b) % m\n",
    "        X = np.append(X,Xnew)\n",
    "        Xold = Xnew\n",
    "    return X/m"
   ]
  },
  {
   "cell_type": "code",
   "execution_count": null,
   "metadata": {},
   "outputs": [],
   "source": [
    "sample_size = 1000\n",
    "seed = 76543\n",
    "X = LCG(sample_size,seed)\n",
    "#np.histogram(X,bins=np.arange(0,1.1,0.1))[0]\n",
    "plots.hist(X,bins=np.arange(0,1.1,0.1))"
   ]
  },
  {
   "cell_type": "code",
   "execution_count": null,
   "metadata": {},
   "outputs": [],
   "source": [
    "sample_size = 1000\n",
    "np.random.seed()\n",
    "X = np.random.uniform(0,1,sample_size)\n",
    "plots.hist(X,bins=np.arange(0,1.1,0.1),density=True)"
   ]
  },
  {
   "cell_type": "markdown",
   "metadata": {},
   "source": [
    "## Chi-Square Statistic Simulation"
   ]
  },
  {
   "cell_type": "code",
   "execution_count": null,
   "metadata": {},
   "outputs": [],
   "source": [
    "sample_size = 200\n",
    "reps = 5000\n",
    "seed = 76543\n",
    "E = sample_size*np.ones(10)/10; print(E)\n",
    "chisq_stat = np.zeros(reps)\n",
    "for i in np.arange(reps):\n",
    "    sample = LCG(sample_size,seed)\n",
    "    O = np.histogram(sample,bins=np.arange(0,1.1,0.1))[0]\n",
    "    chisq_stat[i] = np.sum((O-E)**2/E)\n",
    "    \n",
    "plots.hist(chisq_stat,bins=np.arange(0,27,2),density=True)"
   ]
  },
  {
   "cell_type": "code",
   "execution_count": null,
   "metadata": {},
   "outputs": [],
   "source": [
    "hplot = plots.hist(chisq_stat,bins=np.arange(0,27,1),density=True)\n",
    "import scipy.stats as ss\n",
    "x = np.arange(0.1,25.2,0.1)\n",
    "y = ss.gamma.pdf(x, a=9/2, scale=2)\n",
    "lplot = plots.plot(x,y,lw=2) # theoretical distribution\n",
    "plots.show()"
   ]
  },
  {
   "cell_type": "markdown",
   "metadata": {},
   "source": [
    "## Mendel's Peas"
   ]
  },
  {
   "cell_type": "code",
   "execution_count": null,
   "metadata": {},
   "outputs": [],
   "source": [
    "pea_colors = Table().with_column('color', make_array('Purple', 'White'))\n",
    "pea_colors"
   ]
  },
  {
   "cell_type": "code",
   "execution_count": null,
   "metadata": {},
   "outputs": [],
   "source": [
    "def color_counts(sample):\n",
    "    return make_array(np.sum(sample == 'Purple'), np.sum(sample == \"White\"))"
   ]
  },
  {
   "cell_type": "code",
   "execution_count": null,
   "metadata": {},
   "outputs": [],
   "source": [
    "sample = pea_colors.sample(929, weights = make_array(.75, .25))\n",
    "color_counts(sample.column('color'))"
   ]
  },
  {
   "cell_type": "code",
   "execution_count": null,
   "metadata": {},
   "outputs": [],
   "source": []
  },
  {
   "cell_type": "code",
   "execution_count": null,
   "metadata": {},
   "outputs": [],
   "source": [
    "# Create table to represent population\n",
    "p0 = 0.75\n",
    "p = 0.75\n",
    "peas = Table().with_columns(\n",
    "    'color', make_array('Purple', 'White'),\n",
    "    'chance', make_array(p, 1-p)\n",
    ")\n",
    "peas"
   ]
  },
  {
   "cell_type": "code",
   "execution_count": null,
   "metadata": {},
   "outputs": [],
   "source": [
    "# Create empty array to accumulate statistics\n",
    "chisq_stats = make_array()\n",
    "\n",
    "# \"Tuning knobs\" for simulation\n",
    "repetitions = 5000\n",
    "sample_size = 929\n",
    "E = sample_size * make_array(p0, 1-p0)\n",
    "print('Expected counts: ',E)\n",
    "\n",
    "for _ in np.arange(repetitions):\n",
    "    sample = peas.sample(sample_size, weights=peas.column('chance'))\n",
    "    O = color_counts(sample.column('color'))\n",
    "    statistic = np.sum((O-E)**2/E)\n",
    "    chisq_stats = np.append(chisq_stats, statistic)\n",
    "\n",
    "chisq_stats"
   ]
  },
  {
   "cell_type": "code",
   "execution_count": null,
   "metadata": {},
   "outputs": [],
   "source": [
    "# Observed counts (purple, white)\n",
    "O = make_array(705, 929-705)\n",
    "# Observed chi-square statistic\n",
    "observed_chisq = sum((O-E)**2/E)\n",
    "observed_chisq"
   ]
  },
  {
   "cell_type": "code",
   "execution_count": null,
   "metadata": {},
   "outputs": [],
   "source": [
    "plots.hist(chisq_stats,bins=np.arange(0,7.7,0.5),density=True)\n",
    "plots.scatter(observed_chisq, 0, color='red', s=100);"
   ]
  },
  {
   "cell_type": "code",
   "execution_count": null,
   "metadata": {},
   "outputs": [],
   "source": [
    "hplot = plots.hist(chisq_stats,bins=np.arange(0,7.7,0.5),density=True)\n",
    "x = np.arange(0.1,7.5,0.1)\n",
    "y = ss.gamma.pdf(x, a=1/2, scale=2)\n",
    "lplot = plots.plot(x,y,lw=2) # theoretical distribution\n",
    "plots.show()"
   ]
  },
  {
   "cell_type": "markdown",
   "metadata": {},
   "source": [
    "## What if the Null Hypothesis is Wrong?"
   ]
  }
 ],
 "metadata": {
  "kernelspec": {
   "display_name": "Python 3",
   "language": "python",
   "name": "python3"
  },
  "language_info": {
   "codemirror_mode": {
    "name": "ipython",
    "version": 3
   },
   "file_extension": ".py",
   "mimetype": "text/x-python",
   "name": "python",
   "nbconvert_exporter": "python",
   "pygments_lexer": "ipython3",
   "version": "3.6.8"
  }
 },
 "nbformat": 4,
 "nbformat_minor": 2
}
