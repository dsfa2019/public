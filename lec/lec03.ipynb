{
 "cells": [
  {
   "cell_type": "markdown",
   "metadata": {},
   "source": [
    "# Lecture 03"
   ]
  },
  {
   "cell_type": "code",
   "execution_count": 95,
   "metadata": {},
   "outputs": [],
   "source": [
    "from datascience import *\n",
    "import numpy as np\n",
    "\n",
    "%matplotlib inline\n",
    "import matplotlib.pyplot as plots\n",
    "plots.style.use('fivethirtyeight')"
   ]
  },
  {
   "cell_type": "markdown",
   "metadata": {},
   "source": [
    "## Names"
   ]
  },
  {
   "cell_type": "code",
   "execution_count": 96,
   "metadata": {},
   "outputs": [
    {
     "data": {
      "text/plain": [
       "168"
      ]
     },
     "execution_count": 96,
     "metadata": {},
     "output_type": "execute_result"
    }
   ],
   "source": [
    "24 * 7"
   ]
  },
  {
   "cell_type": "code",
   "execution_count": 114,
   "metadata": {},
   "outputs": [],
   "source": [
    "hours_per_week = 24*7 "
   ]
  },
  {
   "cell_type": "code",
   "execution_count": 100,
   "metadata": {},
   "outputs": [
    {
     "data": {
      "text/plain": [
       "24"
      ]
     },
     "execution_count": 100,
     "metadata": {},
     "output_type": "execute_result"
    }
   ],
   "source": [
    "hours_per_week"
   ]
  },
  {
   "cell_type": "code",
   "execution_count": 115,
   "metadata": {},
   "outputs": [
    {
     "data": {
      "text/plain": [
       "10080"
      ]
     },
     "execution_count": 115,
     "metadata": {},
     "output_type": "execute_result"
    }
   ],
   "source": [
    "hours_per_week * 60"
   ]
  },
  {
   "cell_type": "markdown",
   "metadata": {},
   "source": [
    "Terminology:  *expressions*, *values*, *names*, *variables*, *statements*\n",
    "\n",
    "Naming rules:  letters, numbers, underscores; case sensitive; start with letter usually"
   ]
  },
  {
   "cell_type": "markdown",
   "metadata": {},
   "source": [
    "Calculate the number of seconds in a year."
   ]
  },
  {
   "cell_type": "code",
   "execution_count": 116,
   "metadata": {},
   "outputs": [
    {
     "data": {
      "text/plain": [
       "31536000"
      ]
     },
     "execution_count": 116,
     "metadata": {},
     "output_type": "execute_result"
    }
   ],
   "source": [
    "60 * 60 * 24 * 365"
   ]
  },
  {
   "cell_type": "code",
   "execution_count": 117,
   "metadata": {},
   "outputs": [],
   "source": [
    "seconds_per_year = 60 * 60 * 24 * 365"
   ]
  },
  {
   "cell_type": "code",
   "execution_count": 118,
   "metadata": {},
   "outputs": [
    {
     "data": {
      "text/plain": [
       "31536000"
      ]
     },
     "execution_count": 118,
     "metadata": {},
     "output_type": "execute_result"
    }
   ],
   "source": [
    "seconds_per_year"
   ]
  },
  {
   "cell_type": "code",
   "execution_count": 120,
   "metadata": {},
   "outputs": [
    {
     "data": {
      "text/plain": [
       "31536000"
      ]
     },
     "execution_count": 120,
     "metadata": {},
     "output_type": "execute_result"
    }
   ],
   "source": [
    "seconds_per_hour = 60 * 60\n",
    "hours_per_year = 24 * 365\n",
    "seconds_per_year = seconds_per_hour * hours_per_year\n",
    "seconds_per_year"
   ]
  },
  {
   "cell_type": "markdown",
   "metadata": {},
   "source": [
    "## Functions"
   ]
  },
  {
   "cell_type": "markdown",
   "metadata": {},
   "source": [
    "Terminology: *function*, *call*, *argument*, *parameter*"
   ]
  },
  {
   "cell_type": "code",
   "execution_count": 121,
   "metadata": {},
   "outputs": [
    {
     "data": {
      "text/plain": [
       "5"
      ]
     },
     "execution_count": 121,
     "metadata": {},
     "output_type": "execute_result"
    }
   ],
   "source": [
    "abs(-5)"
   ]
  },
  {
   "cell_type": "code",
   "execution_count": 122,
   "metadata": {},
   "outputs": [
    {
     "data": {
      "text/plain": [
       "5"
      ]
     },
     "execution_count": 122,
     "metadata": {},
     "output_type": "execute_result"
    }
   ],
   "source": [
    "abs(3-8)"
   ]
  },
  {
   "cell_type": "code",
   "execution_count": 123,
   "metadata": {},
   "outputs": [
    {
     "data": {
      "text/plain": [
       "4"
      ]
     },
     "execution_count": 123,
     "metadata": {},
     "output_type": "execute_result"
    }
   ],
   "source": [
    "max(3, 4)"
   ]
  },
  {
   "cell_type": "code",
   "execution_count": 124,
   "metadata": {},
   "outputs": [],
   "source": [
    "y = max(3, 4)"
   ]
  },
  {
   "cell_type": "code",
   "execution_count": 125,
   "metadata": {},
   "outputs": [
    {
     "data": {
      "text/plain": [
       "4"
      ]
     },
     "execution_count": 125,
     "metadata": {},
     "output_type": "execute_result"
    }
   ],
   "source": [
    "y"
   ]
  },
  {
   "cell_type": "markdown",
   "metadata": {},
   "source": [
    "## Tables"
   ]
  },
  {
   "cell_type": "markdown",
   "metadata": {},
   "source": [
    "CSV: comma separated values"
   ]
  },
  {
   "cell_type": "code",
   "execution_count": 126,
   "metadata": {},
   "outputs": [
    {
     "data": {
      "text/html": [
       "<table border=\"1\" class=\"dataframe\">\n",
       "    <thead>\n",
       "        <tr>\n",
       "            <th>Petals</th> <th>Name</th> <th>Color</th>\n",
       "        </tr>\n",
       "    </thead>\n",
       "    <tbody>\n",
       "        <tr>\n",
       "            <td>8     </td> <td>lotus    </td> <td>pink  </td>\n",
       "        </tr>\n",
       "        <tr>\n",
       "            <td>34    </td> <td>sunflower</td> <td>yellow</td>\n",
       "        </tr>\n",
       "        <tr>\n",
       "            <td>5     </td> <td>rose     </td> <td>red   </td>\n",
       "        </tr>\n",
       "    </tbody>\n",
       "</table>"
      ],
      "text/plain": [
       "Petals | Name      | Color\n",
       "8      | lotus     | pink\n",
       "34     | sunflower | yellow\n",
       "5      | rose      | red"
      ]
     },
     "execution_count": 126,
     "metadata": {},
     "output_type": "execute_result"
    }
   ],
   "source": [
    "Table.read_table('flowers.csv')"
   ]
  },
  {
   "cell_type": "code",
   "execution_count": 127,
   "metadata": {},
   "outputs": [],
   "source": [
    "flowers = Table.read_table('flowers.csv')"
   ]
  },
  {
   "cell_type": "code",
   "execution_count": 128,
   "metadata": {},
   "outputs": [
    {
     "data": {
      "text/html": [
       "<table border=\"1\" class=\"dataframe\">\n",
       "    <thead>\n",
       "        <tr>\n",
       "            <th>Petals</th> <th>Name</th> <th>Color</th>\n",
       "        </tr>\n",
       "    </thead>\n",
       "    <tbody>\n",
       "        <tr>\n",
       "            <td>8     </td> <td>lotus    </td> <td>pink  </td>\n",
       "        </tr>\n",
       "        <tr>\n",
       "            <td>34    </td> <td>sunflower</td> <td>yellow</td>\n",
       "        </tr>\n",
       "        <tr>\n",
       "            <td>5     </td> <td>rose     </td> <td>red   </td>\n",
       "        </tr>\n",
       "    </tbody>\n",
       "</table>"
      ],
      "text/plain": [
       "Petals | Name      | Color\n",
       "8      | lotus     | pink\n",
       "34     | sunflower | yellow\n",
       "5      | rose      | red"
      ]
     },
     "execution_count": 128,
     "metadata": {},
     "output_type": "execute_result"
    }
   ],
   "source": [
    "flowers"
   ]
  },
  {
   "cell_type": "markdown",
   "metadata": {},
   "source": [
    "## Table operations: selecting columns"
   ]
  },
  {
   "cell_type": "markdown",
   "metadata": {},
   "source": [
    "Terminology: *method*"
   ]
  },
  {
   "cell_type": "code",
   "execution_count": 133,
   "metadata": {},
   "outputs": [
    {
     "data": {
      "text/html": [
       "<table border=\"1\" class=\"dataframe\">\n",
       "    <thead>\n",
       "        <tr>\n",
       "            <th>Petals</th>\n",
       "        </tr>\n",
       "    </thead>\n",
       "    <tbody>\n",
       "        <tr>\n",
       "            <td>8     </td>\n",
       "        </tr>\n",
       "        <tr>\n",
       "            <td>34    </td>\n",
       "        </tr>\n",
       "        <tr>\n",
       "            <td>5     </td>\n",
       "        </tr>\n",
       "    </tbody>\n",
       "</table>"
      ],
      "text/plain": [
       "Petals\n",
       "8\n",
       "34\n",
       "5"
      ]
     },
     "execution_count": 133,
     "metadata": {},
     "output_type": "execute_result"
    }
   ],
   "source": [
    "flowers.select('Petals')"
   ]
  },
  {
   "cell_type": "code",
   "execution_count": 135,
   "metadata": {},
   "outputs": [
    {
     "data": {
      "text/html": [
       "<table border=\"1\" class=\"dataframe\">\n",
       "    <thead>\n",
       "        <tr>\n",
       "            <th>Petals</th> <th>Name</th> <th>Color</th>\n",
       "        </tr>\n",
       "    </thead>\n",
       "    <tbody>\n",
       "        <tr>\n",
       "            <td>8     </td> <td>lotus    </td> <td>pink  </td>\n",
       "        </tr>\n",
       "        <tr>\n",
       "            <td>34    </td> <td>sunflower</td> <td>yellow</td>\n",
       "        </tr>\n",
       "        <tr>\n",
       "            <td>5     </td> <td>rose     </td> <td>red   </td>\n",
       "        </tr>\n",
       "    </tbody>\n",
       "</table>"
      ],
      "text/plain": [
       "Petals | Name      | Color\n",
       "8      | lotus     | pink\n",
       "34     | sunflower | yellow\n",
       "5      | rose      | red"
      ]
     },
     "execution_count": 135,
     "metadata": {},
     "output_type": "execute_result"
    }
   ],
   "source": [
    "flowers"
   ]
  },
  {
   "cell_type": "code",
   "execution_count": 136,
   "metadata": {},
   "outputs": [],
   "source": [
    "petals = flowers.select('Petals')"
   ]
  },
  {
   "cell_type": "code",
   "execution_count": 137,
   "metadata": {},
   "outputs": [
    {
     "data": {
      "text/html": [
       "<table border=\"1\" class=\"dataframe\">\n",
       "    <thead>\n",
       "        <tr>\n",
       "            <th>Petals</th>\n",
       "        </tr>\n",
       "    </thead>\n",
       "    <tbody>\n",
       "        <tr>\n",
       "            <td>8     </td>\n",
       "        </tr>\n",
       "        <tr>\n",
       "            <td>34    </td>\n",
       "        </tr>\n",
       "        <tr>\n",
       "            <td>5     </td>\n",
       "        </tr>\n",
       "    </tbody>\n",
       "</table>"
      ],
      "text/plain": [
       "Petals\n",
       "8\n",
       "34\n",
       "5"
      ]
     },
     "execution_count": 137,
     "metadata": {},
     "output_type": "execute_result"
    }
   ],
   "source": [
    "petals"
   ]
  },
  {
   "cell_type": "code",
   "execution_count": 138,
   "metadata": {},
   "outputs": [
    {
     "data": {
      "text/html": [
       "<table border=\"1\" class=\"dataframe\">\n",
       "    <thead>\n",
       "        <tr>\n",
       "            <th>Petals</th> <th>Name</th>\n",
       "        </tr>\n",
       "    </thead>\n",
       "    <tbody>\n",
       "        <tr>\n",
       "            <td>8     </td> <td>lotus    </td>\n",
       "        </tr>\n",
       "        <tr>\n",
       "            <td>34    </td> <td>sunflower</td>\n",
       "        </tr>\n",
       "        <tr>\n",
       "            <td>5     </td> <td>rose     </td>\n",
       "        </tr>\n",
       "    </tbody>\n",
       "</table>"
      ],
      "text/plain": [
       "Petals | Name\n",
       "8      | lotus\n",
       "34     | sunflower\n",
       "5      | rose"
      ]
     },
     "execution_count": 138,
     "metadata": {},
     "output_type": "execute_result"
    }
   ],
   "source": [
    "flowers.select('Petals', 'Name')"
   ]
  },
  {
   "cell_type": "code",
   "execution_count": 144,
   "metadata": {},
   "outputs": [],
   "source": [
    "flowers_no_color=flowers.drop('Color')"
   ]
  },
  {
   "cell_type": "code",
   "execution_count": 145,
   "metadata": {},
   "outputs": [
    {
     "data": {
      "text/html": [
       "<table border=\"1\" class=\"dataframe\">\n",
       "    <thead>\n",
       "        <tr>\n",
       "            <th>Petals</th> <th>Name</th>\n",
       "        </tr>\n",
       "    </thead>\n",
       "    <tbody>\n",
       "        <tr>\n",
       "            <td>8     </td> <td>lotus    </td>\n",
       "        </tr>\n",
       "        <tr>\n",
       "            <td>34    </td> <td>sunflower</td>\n",
       "        </tr>\n",
       "        <tr>\n",
       "            <td>5     </td> <td>rose     </td>\n",
       "        </tr>\n",
       "    </tbody>\n",
       "</table>"
      ],
      "text/plain": [
       "Petals | Name\n",
       "8      | lotus\n",
       "34     | sunflower\n",
       "5      | rose"
      ]
     },
     "execution_count": 145,
     "metadata": {},
     "output_type": "execute_result"
    }
   ],
   "source": [
    "flowers_no_color"
   ]
  },
  {
   "cell_type": "markdown",
   "metadata": {},
   "source": [
    "## Table operations: Sorting"
   ]
  },
  {
   "cell_type": "code",
   "execution_count": 146,
   "metadata": {},
   "outputs": [],
   "source": [
    "# Data as of 2015 in dollars\n",
    "movies = Table.read_table('top_movies_by_title.csv')"
   ]
  },
  {
   "cell_type": "code",
   "execution_count": 147,
   "metadata": {},
   "outputs": [
    {
     "data": {
      "text/html": [
       "<table border=\"1\" class=\"dataframe\">\n",
       "    <thead>\n",
       "        <tr>\n",
       "            <th>Title</th> <th>Studio</th> <th>Gross</th> <th>Gross (Adjusted)</th> <th>Year</th>\n",
       "        </tr>\n",
       "    </thead>\n",
       "    <tbody>\n",
       "        <tr>\n",
       "            <td>101 Dalmatians            </td> <td>Disney              </td> <td>144880014</td> <td>869280100       </td> <td>1961</td>\n",
       "        </tr>\n",
       "        <tr>\n",
       "            <td>2001: A Space Odyssey     </td> <td>MGM                 </td> <td>56954992 </td> <td>377027700       </td> <td>1968</td>\n",
       "        </tr>\n",
       "        <tr>\n",
       "            <td>9 to 5                    </td> <td>Fox                 </td> <td>103290500</td> <td>334062200       </td> <td>1980</td>\n",
       "        </tr>\n",
       "        <tr>\n",
       "            <td>A Star Is Born (1976)     </td> <td>Warner Bros.        </td> <td>80000000 </td> <td>326760600       </td> <td>1976</td>\n",
       "        </tr>\n",
       "        <tr>\n",
       "            <td>Air Force One             </td> <td>Sony                </td> <td>172956409</td> <td>327752300       </td> <td>1997</td>\n",
       "        </tr>\n",
       "        <tr>\n",
       "            <td>Airport                   </td> <td>Universal           </td> <td>100489151</td> <td>575168200       </td> <td>1970</td>\n",
       "        </tr>\n",
       "        <tr>\n",
       "            <td>Aladdin                   </td> <td>Buena Vista (Disney)</td> <td>217350219</td> <td>456248400       </td> <td>1992</td>\n",
       "        </tr>\n",
       "        <tr>\n",
       "            <td>Alice in Wonderland (2010)</td> <td>Buena Vista (Disney)</td> <td>334191110</td> <td>365718600       </td> <td>2010</td>\n",
       "        </tr>\n",
       "        <tr>\n",
       "            <td>American Graffiti         </td> <td>Universal           </td> <td>115000000</td> <td>571714300       </td> <td>1973</td>\n",
       "        </tr>\n",
       "        <tr>\n",
       "            <td>American Sniper           </td> <td>Warner Bros.        </td> <td>350126372</td> <td>374796000       </td> <td>2014</td>\n",
       "        </tr>\n",
       "    </tbody>\n",
       "</table>\n",
       "<p>... (190 rows omitted)</p>"
      ],
      "text/plain": [
       "Title                      | Studio               | Gross     | Gross (Adjusted) | Year\n",
       "101 Dalmatians             | Disney               | 144880014 | 869280100        | 1961\n",
       "2001: A Space Odyssey      | MGM                  | 56954992  | 377027700        | 1968\n",
       "9 to 5                     | Fox                  | 103290500 | 334062200        | 1980\n",
       "A Star Is Born (1976)      | Warner Bros.         | 80000000  | 326760600        | 1976\n",
       "Air Force One              | Sony                 | 172956409 | 327752300        | 1997\n",
       "Airport                    | Universal            | 100489151 | 575168200        | 1970\n",
       "Aladdin                    | Buena Vista (Disney) | 217350219 | 456248400        | 1992\n",
       "Alice in Wonderland (2010) | Buena Vista (Disney) | 334191110 | 365718600        | 2010\n",
       "American Graffiti          | Universal            | 115000000 | 571714300        | 1973\n",
       "American Sniper            | Warner Bros.         | 350126372 | 374796000        | 2014\n",
       "... (190 rows omitted)"
      ]
     },
     "execution_count": 147,
     "metadata": {},
     "output_type": "execute_result"
    }
   ],
   "source": [
    "movies"
   ]
  },
  {
   "cell_type": "markdown",
   "metadata": {},
   "source": [
    "Terminology:  *named argument*"
   ]
  },
  {
   "cell_type": "code",
   "execution_count": 148,
   "metadata": {},
   "outputs": [
    {
     "data": {
      "text/html": [
       "<table border=\"1\" class=\"dataframe\">\n",
       "    <thead>\n",
       "        <tr>\n",
       "            <th>Title</th> <th>Studio</th> <th>Gross</th> <th>Gross (Adjusted)</th> <th>Year</th>\n",
       "        </tr>\n",
       "    </thead>\n",
       "    <tbody>\n",
       "        <tr>\n",
       "            <td>Star Wars: The Force Awakens         </td> <td>Buena Vista (Disney)</td> <td>906723418</td> <td>906723400       </td> <td>2015</td>\n",
       "        </tr>\n",
       "        <tr>\n",
       "            <td>Minions                              </td> <td>Universal           </td> <td>336045770</td> <td>354213900       </td> <td>2015</td>\n",
       "        </tr>\n",
       "        <tr>\n",
       "            <td>Jurassic World                       </td> <td>Universal           </td> <td>652270625</td> <td>687728000       </td> <td>2015</td>\n",
       "        </tr>\n",
       "        <tr>\n",
       "            <td>Inside Out                           </td> <td>Buena Vista (Disney)</td> <td>356461711</td> <td>375723400       </td> <td>2015</td>\n",
       "        </tr>\n",
       "        <tr>\n",
       "            <td>Furious 7                            </td> <td>Universal           </td> <td>353007020</td> <td>356907000       </td> <td>2015</td>\n",
       "        </tr>\n",
       "        <tr>\n",
       "            <td>Avengers: Age of Ultron              </td> <td>Buena Vista (Disney)</td> <td>459005868</td> <td>465684200       </td> <td>2015</td>\n",
       "        </tr>\n",
       "        <tr>\n",
       "            <td>The Hunger Games: Mockingjay - Part 1</td> <td>Lionsgate           </td> <td>337135885</td> <td>354324000       </td> <td>2014</td>\n",
       "        </tr>\n",
       "        <tr>\n",
       "            <td>Guardians of the Galaxy              </td> <td>Buena Vista (Disney)</td> <td>333176600</td> <td>358244800       </td> <td>2014</td>\n",
       "        </tr>\n",
       "        <tr>\n",
       "            <td>American Sniper                      </td> <td>Warner Bros.        </td> <td>350126372</td> <td>374796000       </td> <td>2014</td>\n",
       "        </tr>\n",
       "        <tr>\n",
       "            <td>The Hunger Games: Catching Fire      </td> <td>Lionsgate           </td> <td>424668047</td> <td>444697400       </td> <td>2013</td>\n",
       "        </tr>\n",
       "    </tbody>\n",
       "</table>\n",
       "<p>... (190 rows omitted)</p>"
      ],
      "text/plain": [
       "Title                                 | Studio               | Gross     | Gross (Adjusted) | Year\n",
       "Star Wars: The Force Awakens          | Buena Vista (Disney) | 906723418 | 906723400        | 2015\n",
       "Minions                               | Universal            | 336045770 | 354213900        | 2015\n",
       "Jurassic World                        | Universal            | 652270625 | 687728000        | 2015\n",
       "Inside Out                            | Buena Vista (Disney) | 356461711 | 375723400        | 2015\n",
       "Furious 7                             | Universal            | 353007020 | 356907000        | 2015\n",
       "Avengers: Age of Ultron               | Buena Vista (Disney) | 459005868 | 465684200        | 2015\n",
       "The Hunger Games: Mockingjay - Part 1 | Lionsgate            | 337135885 | 354324000        | 2014\n",
       "Guardians of the Galaxy               | Buena Vista (Disney) | 333176600 | 358244800        | 2014\n",
       "American Sniper                       | Warner Bros.         | 350126372 | 374796000        | 2014\n",
       "The Hunger Games: Catching Fire       | Lionsgate            | 424668047 | 444697400        | 2013\n",
       "... (190 rows omitted)"
      ]
     },
     "execution_count": 148,
     "metadata": {},
     "output_type": "execute_result"
    }
   ],
   "source": [
    "movies.sort('Year', descending=True)"
   ]
  },
  {
   "cell_type": "code",
   "execution_count": 151,
   "metadata": {},
   "outputs": [
    {
     "data": {
      "text/html": [
       "<table border=\"1\" class=\"dataframe\">\n",
       "    <thead>\n",
       "        <tr>\n",
       "            <th>Title</th> <th>Studio</th> <th>Gross</th> <th>Gross (Adjusted)</th> <th>Year</th>\n",
       "        </tr>\n",
       "    </thead>\n",
       "    <tbody>\n",
       "        <tr>\n",
       "            <td>101 Dalmatians       </td> <td>Disney</td> <td>144880014</td> <td>869280100       </td> <td>1961</td>\n",
       "        </tr>\n",
       "        <tr>\n",
       "            <td>2001: A Space Odyssey</td> <td>MGM   </td> <td>56954992 </td> <td>377027700       </td> <td>1968</td>\n",
       "        </tr>\n",
       "        <tr>\n",
       "            <td>9 to 5               </td> <td>Fox   </td> <td>103290500</td> <td>334062200       </td> <td>1980</td>\n",
       "        </tr>\n",
       "    </tbody>\n",
       "</table>\n",
       "<p>... (197 rows omitted)</p>"
      ],
      "text/plain": [
       "<IPython.core.display.HTML object>"
      ]
     },
     "metadata": {},
     "output_type": "display_data"
    }
   ],
   "source": [
    "movies.show(3)"
   ]
  },
  {
   "cell_type": "code",
   "execution_count": 152,
   "metadata": {},
   "outputs": [
    {
     "data": {
      "text/html": [
       "<table border=\"1\" class=\"dataframe\">\n",
       "    <thead>\n",
       "        <tr>\n",
       "            <th>Title</th> <th>Studio</th> <th>Gross</th> <th>Gross (Adjusted)</th> <th>Year</th>\n",
       "        </tr>\n",
       "    </thead>\n",
       "    <tbody>\n",
       "        <tr>\n",
       "            <td>The Four Horsemen of the Apocalypse</td> <td>MPC         </td> <td>9183673 </td> <td>399489800       </td> <td>1921</td>\n",
       "        </tr>\n",
       "        <tr>\n",
       "            <td>Sergeant York                      </td> <td>Warner Bros.</td> <td>16361885</td> <td>418671800       </td> <td>1941</td>\n",
       "        </tr>\n",
       "        <tr>\n",
       "            <td>Duel in the Sun                    </td> <td>Selz.       </td> <td>20408163</td> <td>443877500       </td> <td>1946</td>\n",
       "        </tr>\n",
       "        <tr>\n",
       "            <td>The Bells of St. Mary's            </td> <td>RKO         </td> <td>21333333</td> <td>545882400       </td> <td>1945</td>\n",
       "        </tr>\n",
       "        <tr>\n",
       "            <td>The Caine Mutiny                   </td> <td>Columbia    </td> <td>21750000</td> <td>386173500       </td> <td>1954</td>\n",
       "        </tr>\n",
       "        <tr>\n",
       "            <td>The Best Years of Our Lives        </td> <td>RKO         </td> <td>23650000</td> <td>478500000       </td> <td>1946</td>\n",
       "        </tr>\n",
       "        <tr>\n",
       "            <td>House of Wax                       </td> <td>Warner Bros.</td> <td>23750000</td> <td>439627700       </td> <td>1953</td>\n",
       "        </tr>\n",
       "        <tr>\n",
       "            <td>The Bridge on the River Kwai       </td> <td>Columbia    </td> <td>27200000</td> <td>473280000       </td> <td>1957</td>\n",
       "        </tr>\n",
       "        <tr>\n",
       "            <td>Psycho                             </td> <td>Universal   </td> <td>32000000</td> <td>371200100       </td> <td>1960</td>\n",
       "        </tr>\n",
       "        <tr>\n",
       "            <td>The Greatest Show on Earth         </td> <td>Paramount   </td> <td>36000000</td> <td>522000000       </td> <td>1952</td>\n",
       "        </tr>\n",
       "    </tbody>\n",
       "</table>\n",
       "<p>... (190 rows omitted)</p>"
      ],
      "text/plain": [
       "Title                               | Studio       | Gross    | Gross (Adjusted) | Year\n",
       "The Four Horsemen of the Apocalypse | MPC          | 9183673  | 399489800        | 1921\n",
       "Sergeant York                       | Warner Bros. | 16361885 | 418671800        | 1941\n",
       "Duel in the Sun                     | Selz.        | 20408163 | 443877500        | 1946\n",
       "The Bells of St. Mary's             | RKO          | 21333333 | 545882400        | 1945\n",
       "The Caine Mutiny                    | Columbia     | 21750000 | 386173500        | 1954\n",
       "The Best Years of Our Lives         | RKO          | 23650000 | 478500000        | 1946\n",
       "House of Wax                        | Warner Bros. | 23750000 | 439627700        | 1953\n",
       "The Bridge on the River Kwai        | Columbia     | 27200000 | 473280000        | 1957\n",
       "Psycho                              | Universal    | 32000000 | 371200100        | 1960\n",
       "The Greatest Show on Earth          | Paramount    | 36000000 | 522000000        | 1952\n",
       "... (190 rows omitted)"
      ]
     },
     "execution_count": 152,
     "metadata": {},
     "output_type": "execute_result"
    }
   ],
   "source": [
    "movies.sort('Gross')"
   ]
  },
  {
   "cell_type": "code",
   "execution_count": 153,
   "metadata": {},
   "outputs": [
    {
     "data": {
      "text/html": [
       "<table border=\"1\" class=\"dataframe\">\n",
       "    <thead>\n",
       "        <tr>\n",
       "            <th>Title</th> <th>Studio</th> <th>Gross</th> <th>Gross (Adjusted)</th> <th>Year</th>\n",
       "        </tr>\n",
       "    </thead>\n",
       "    <tbody>\n",
       "        <tr>\n",
       "            <td>Star Wars: The Force Awakens             </td> <td>Buena Vista (Disney)</td> <td>906723418</td> <td>906723400       </td> <td>2015</td>\n",
       "        </tr>\n",
       "        <tr>\n",
       "            <td>Avatar                                   </td> <td>Fox                 </td> <td>760507625</td> <td>846120800       </td> <td>2009</td>\n",
       "        </tr>\n",
       "        <tr>\n",
       "            <td>Titanic                                  </td> <td>Paramount           </td> <td>658672302</td> <td>1178627900      </td> <td>1997</td>\n",
       "        </tr>\n",
       "        <tr>\n",
       "            <td>Jurassic World                           </td> <td>Universal           </td> <td>652270625</td> <td>687728000       </td> <td>2015</td>\n",
       "        </tr>\n",
       "        <tr>\n",
       "            <td>Marvel's The Avengers                    </td> <td>Buena Vista (Disney)</td> <td>623357910</td> <td>668866600       </td> <td>2012</td>\n",
       "        </tr>\n",
       "        <tr>\n",
       "            <td>The Dark Knight                          </td> <td>Warner Bros.        </td> <td>534858444</td> <td>647761600       </td> <td>2008</td>\n",
       "        </tr>\n",
       "        <tr>\n",
       "            <td>Star Wars: Episode I - The Phantom Menace</td> <td>Fox                 </td> <td>474544677</td> <td>785715000       </td> <td>1999</td>\n",
       "        </tr>\n",
       "        <tr>\n",
       "            <td>Star Wars                                </td> <td>Fox                 </td> <td>460998007</td> <td>1549640500      </td> <td>1977</td>\n",
       "        </tr>\n",
       "        <tr>\n",
       "            <td>Avengers: Age of Ultron                  </td> <td>Buena Vista (Disney)</td> <td>459005868</td> <td>465684200       </td> <td>2015</td>\n",
       "        </tr>\n",
       "        <tr>\n",
       "            <td>The Dark Knight Rises                    </td> <td>Warner Bros.        </td> <td>448139099</td> <td>500961700       </td> <td>2012</td>\n",
       "        </tr>\n",
       "    </tbody>\n",
       "</table>\n",
       "<p>... (190 rows omitted)</p>"
      ],
      "text/plain": [
       "Title                                     | Studio               | Gross     | Gross (Adjusted) | Year\n",
       "Star Wars: The Force Awakens              | Buena Vista (Disney) | 906723418 | 906723400        | 2015\n",
       "Avatar                                    | Fox                  | 760507625 | 846120800        | 2009\n",
       "Titanic                                   | Paramount            | 658672302 | 1178627900       | 1997\n",
       "Jurassic World                            | Universal            | 652270625 | 687728000        | 2015\n",
       "Marvel's The Avengers                     | Buena Vista (Disney) | 623357910 | 668866600        | 2012\n",
       "The Dark Knight                           | Warner Bros.         | 534858444 | 647761600        | 2008\n",
       "Star Wars: Episode I - The Phantom Menace | Fox                  | 474544677 | 785715000        | 1999\n",
       "Star Wars                                 | Fox                  | 460998007 | 1549640500       | 1977\n",
       "Avengers: Age of Ultron                   | Buena Vista (Disney) | 459005868 | 465684200        | 2015\n",
       "The Dark Knight Rises                     | Warner Bros.         | 448139099 | 500961700        | 2012\n",
       "... (190 rows omitted)"
      ]
     },
     "execution_count": 153,
     "metadata": {},
     "output_type": "execute_result"
    }
   ],
   "source": [
    "movies.sort('Gross', descending=True)"
   ]
  },
  {
   "cell_type": "code",
   "execution_count": 154,
   "metadata": {},
   "outputs": [],
   "source": [
    "sorted_by_gross = movies.sort('Gross', descending=True)"
   ]
  },
  {
   "cell_type": "code",
   "execution_count": 155,
   "metadata": {},
   "outputs": [
    {
     "data": {
      "text/html": [
       "<table border=\"1\" class=\"dataframe\">\n",
       "    <thead>\n",
       "        <tr>\n",
       "            <th>Title</th> <th>Studio</th> <th>Gross</th> <th>Gross (Adjusted)</th> <th>Year</th>\n",
       "        </tr>\n",
       "    </thead>\n",
       "    <tbody>\n",
       "        <tr>\n",
       "            <td>The Graduate                              </td> <td>AVCO                </td> <td>104945305</td> <td>744517700       </td> <td>1967</td>\n",
       "        </tr>\n",
       "        <tr>\n",
       "            <td>Star Wars: The Force Awakens              </td> <td>Buena Vista (Disney)</td> <td>906723418</td> <td>906723400       </td> <td>2015</td>\n",
       "        </tr>\n",
       "        <tr>\n",
       "            <td>Marvel's The Avengers                     </td> <td>Buena Vista (Disney)</td> <td>623357910</td> <td>668866600       </td> <td>2012</td>\n",
       "        </tr>\n",
       "        <tr>\n",
       "            <td>Avengers: Age of Ultron                   </td> <td>Buena Vista (Disney)</td> <td>459005868</td> <td>465684200       </td> <td>2015</td>\n",
       "        </tr>\n",
       "        <tr>\n",
       "            <td>Pirates of the Caribbean: Dead Man's Chest</td> <td>Buena Vista (Disney)</td> <td>423315812</td> <td>562266800       </td> <td>2006</td>\n",
       "        </tr>\n",
       "        <tr>\n",
       "            <td>The Lion King                             </td> <td>Buena Vista (Disney)</td> <td>422783777</td> <td>775573900       </td> <td>1994</td>\n",
       "        </tr>\n",
       "        <tr>\n",
       "            <td>Toy Story 3                               </td> <td>Buena Vista (Disney)</td> <td>415004880</td> <td>454156300       </td> <td>2010</td>\n",
       "        </tr>\n",
       "        <tr>\n",
       "            <td>Iron Man 3                                </td> <td>Buena Vista (Disney)</td> <td>409013994</td> <td>424632700       </td> <td>2013</td>\n",
       "        </tr>\n",
       "        <tr>\n",
       "            <td>Frozen                                    </td> <td>Buena Vista (Disney)</td> <td>400738009</td> <td>426656900       </td> <td>2013</td>\n",
       "        </tr>\n",
       "        <tr>\n",
       "            <td>Finding Nemo                              </td> <td>Buena Vista (Disney)</td> <td>380843261</td> <td>535802700       </td> <td>2003</td>\n",
       "        </tr>\n",
       "    </tbody>\n",
       "</table>\n",
       "<p>... (190 rows omitted)</p>"
      ],
      "text/plain": [
       "Title                                      | Studio               | Gross     | Gross (Adjusted) | Year\n",
       "The Graduate                               | AVCO                 | 104945305 | 744517700        | 1967\n",
       "Star Wars: The Force Awakens               | Buena Vista (Disney) | 906723418 | 906723400        | 2015\n",
       "Marvel's The Avengers                      | Buena Vista (Disney) | 623357910 | 668866600        | 2012\n",
       "Avengers: Age of Ultron                    | Buena Vista (Disney) | 459005868 | 465684200        | 2015\n",
       "Pirates of the Caribbean: Dead Man's Chest | Buena Vista (Disney) | 423315812 | 562266800        | 2006\n",
       "The Lion King                              | Buena Vista (Disney) | 422783777 | 775573900        | 1994\n",
       "Toy Story 3                                | Buena Vista (Disney) | 415004880 | 454156300        | 2010\n",
       "Iron Man 3                                 | Buena Vista (Disney) | 409013994 | 424632700        | 2013\n",
       "Frozen                                     | Buena Vista (Disney) | 400738009 | 426656900        | 2013\n",
       "Finding Nemo                               | Buena Vista (Disney) | 380843261 | 535802700        | 2003\n",
       "... (190 rows omitted)"
      ]
     },
     "execution_count": 155,
     "metadata": {},
     "output_type": "execute_result"
    }
   ],
   "source": [
    "sorted_by_gross.sort('Studio')"
   ]
  },
  {
   "cell_type": "code",
   "execution_count": 156,
   "metadata": {},
   "outputs": [
    {
     "data": {
      "text/html": [
       "<table border=\"1\" class=\"dataframe\">\n",
       "    <thead>\n",
       "        <tr>\n",
       "            <th>Title</th> <th>Studio</th> <th>Gross</th> <th>Gross (Adjusted)</th> <th>Year</th>\n",
       "        </tr>\n",
       "    </thead>\n",
       "    <tbody>\n",
       "        <tr>\n",
       "            <td>The Graduate                       </td> <td>AVCO                </td> <td>104945305</td> <td>744517700       </td> <td>1967</td>\n",
       "        </tr>\n",
       "        <tr>\n",
       "            <td>Star Wars: The Force Awakens       </td> <td>Buena Vista (Disney)</td> <td>906723418</td> <td>906723400       </td> <td>2015</td>\n",
       "        </tr>\n",
       "        <tr>\n",
       "            <td>Ghostbusters                       </td> <td>Columbia            </td> <td>242212467</td> <td>619211400       </td> <td>1984</td>\n",
       "        </tr>\n",
       "        <tr>\n",
       "            <td>Snow White and the Seven Dwarfs    </td> <td>Disney              </td> <td>184925486</td> <td>948300000       </td> <td>1937</td>\n",
       "        </tr>\n",
       "        <tr>\n",
       "            <td>Shrek 2                            </td> <td>Dreamworks          </td> <td>441226247</td> <td>618143100       </td> <td>2004</td>\n",
       "        </tr>\n",
       "        <tr>\n",
       "            <td>Avatar                             </td> <td>Fox                 </td> <td>760507625</td> <td>846120800       </td> <td>2009</td>\n",
       "        </tr>\n",
       "        <tr>\n",
       "            <td>My Big Fat Greek Wedding           </td> <td>IFC                 </td> <td>241438208</td> <td>360349500       </td> <td>2002</td>\n",
       "        </tr>\n",
       "        <tr>\n",
       "            <td>The Hunger Games: Catching Fire    </td> <td>Lionsgate           </td> <td>424668047</td> <td>444697400       </td> <td>2013</td>\n",
       "        </tr>\n",
       "        <tr>\n",
       "            <td>Gone with the Wind                 </td> <td>MGM                 </td> <td>198676459</td> <td>1757788200      </td> <td>1939</td>\n",
       "        </tr>\n",
       "        <tr>\n",
       "            <td>The Four Horsemen of the Apocalypse</td> <td>MPC                 </td> <td>9183673  </td> <td>399489800       </td> <td>1921</td>\n",
       "        </tr>\n",
       "    </tbody>\n",
       "</table>\n",
       "<p>... (14 rows omitted)</p>"
      ],
      "text/plain": [
       "Title                               | Studio               | Gross     | Gross (Adjusted) | Year\n",
       "The Graduate                        | AVCO                 | 104945305 | 744517700        | 1967\n",
       "Star Wars: The Force Awakens        | Buena Vista (Disney) | 906723418 | 906723400        | 2015\n",
       "Ghostbusters                        | Columbia             | 242212467 | 619211400        | 1984\n",
       "Snow White and the Seven Dwarfs     | Disney               | 184925486 | 948300000        | 1937\n",
       "Shrek 2                             | Dreamworks           | 441226247 | 618143100        | 2004\n",
       "Avatar                              | Fox                  | 760507625 | 846120800        | 2009\n",
       "My Big Fat Greek Wedding            | IFC                  | 241438208 | 360349500        | 2002\n",
       "The Hunger Games: Catching Fire     | Lionsgate            | 424668047 | 444697400        | 2013\n",
       "Gone with the Wind                  | MGM                  | 198676459 | 1757788200       | 1939\n",
       "The Four Horsemen of the Apocalypse | MPC                  | 9183673   | 399489800        | 1921\n",
       "... (14 rows omitted)"
      ]
     },
     "execution_count": 156,
     "metadata": {},
     "output_type": "execute_result"
    }
   ],
   "source": [
    "sorted_by_gross.sort('Studio', distinct=True)"
   ]
  },
  {
   "cell_type": "markdown",
   "metadata": {},
   "source": [
    "## Visualization"
   ]
  },
  {
   "cell_type": "code",
   "execution_count": 159,
   "metadata": {},
   "outputs": [
    {
     "data": {
      "text/html": [
       "<table border=\"1\" class=\"dataframe\">\n",
       "    <thead>\n",
       "        <tr>\n",
       "            <th>Title</th> <th>Studio</th> <th>Gross</th> <th>Gross (Adjusted)</th> <th>Year</th>\n",
       "        </tr>\n",
       "    </thead>\n",
       "    <tbody>\n",
       "        <tr>\n",
       "            <td>The Graduate                       </td> <td>AVCO                </td> <td>104945305</td> <td>744517700       </td> <td>1967</td>\n",
       "        </tr>\n",
       "        <tr>\n",
       "            <td>Star Wars: The Force Awakens       </td> <td>Buena Vista (Disney)</td> <td>906723418</td> <td>906723400       </td> <td>2015</td>\n",
       "        </tr>\n",
       "        <tr>\n",
       "            <td>Ghostbusters                       </td> <td>Columbia            </td> <td>242212467</td> <td>619211400       </td> <td>1984</td>\n",
       "        </tr>\n",
       "        <tr>\n",
       "            <td>Snow White and the Seven Dwarfs    </td> <td>Disney              </td> <td>184925486</td> <td>948300000       </td> <td>1937</td>\n",
       "        </tr>\n",
       "        <tr>\n",
       "            <td>Shrek 2                            </td> <td>Dreamworks          </td> <td>441226247</td> <td>618143100       </td> <td>2004</td>\n",
       "        </tr>\n",
       "        <tr>\n",
       "            <td>Avatar                             </td> <td>Fox                 </td> <td>760507625</td> <td>846120800       </td> <td>2009</td>\n",
       "        </tr>\n",
       "        <tr>\n",
       "            <td>My Big Fat Greek Wedding           </td> <td>IFC                 </td> <td>241438208</td> <td>360349500       </td> <td>2002</td>\n",
       "        </tr>\n",
       "        <tr>\n",
       "            <td>The Hunger Games: Catching Fire    </td> <td>Lionsgate           </td> <td>424668047</td> <td>444697400       </td> <td>2013</td>\n",
       "        </tr>\n",
       "        <tr>\n",
       "            <td>Gone with the Wind                 </td> <td>MGM                 </td> <td>198676459</td> <td>1757788200      </td> <td>1939</td>\n",
       "        </tr>\n",
       "        <tr>\n",
       "            <td>The Four Horsemen of the Apocalypse</td> <td>MPC                 </td> <td>9183673  </td> <td>399489800       </td> <td>1921</td>\n",
       "        </tr>\n",
       "    </tbody>\n",
       "</table>\n",
       "<p>... (14 rows omitted)</p>"
      ],
      "text/plain": [
       "Title                               | Studio               | Gross     | Gross (Adjusted) | Year\n",
       "The Graduate                        | AVCO                 | 104945305 | 744517700        | 1967\n",
       "Star Wars: The Force Awakens        | Buena Vista (Disney) | 906723418 | 906723400        | 2015\n",
       "Ghostbusters                        | Columbia             | 242212467 | 619211400        | 1984\n",
       "Snow White and the Seven Dwarfs     | Disney               | 184925486 | 948300000        | 1937\n",
       "Shrek 2                             | Dreamworks           | 441226247 | 618143100        | 2004\n",
       "Avatar                              | Fox                  | 760507625 | 846120800        | 2009\n",
       "My Big Fat Greek Wedding            | IFC                  | 241438208 | 360349500        | 2002\n",
       "The Hunger Games: Catching Fire     | Lionsgate            | 424668047 | 444697400        | 2013\n",
       "Gone with the Wind                  | MGM                  | 198676459 | 1757788200       | 1939\n",
       "The Four Horsemen of the Apocalypse | MPC                  | 9183673   | 399489800        | 1921\n",
       "... (14 rows omitted)"
      ]
     },
     "execution_count": 159,
     "metadata": {},
     "output_type": "execute_result"
    }
   ],
   "source": [
    "top_per_studio = sorted_by_gross.sort('Studio', distinct=True)\n",
    "top_per_studio"
   ]
  },
  {
   "cell_type": "code",
   "execution_count": 160,
   "metadata": {
    "scrolled": true
   },
   "outputs": [
    {
     "data": {
      "image/png": "[encoded data removed]",
      "text/plain": [
       "<Figure size 432x864 with 1 Axes>"
      ]
     },
     "metadata": {},
     "output_type": "display_data"
    }
   ],
   "source": [
    "# Which studio has the highest grossing movie?\n",
    "# Bar chart: visualize categorical data\n",
    "top_per_studio.barh('Studio', 'Gross')"
   ]
  },
  {
   "cell_type": "code",
   "execution_count": 162,
   "metadata": {},
   "outputs": [
    {
     "data": {
      "image/png": "[encoded data removed]",
      "text/plain": [
       "<Figure size 432x864 with 1 Axes>"
      ]
     },
     "metadata": {},
     "output_type": "display_data"
    }
   ],
   "source": [
    "# Sort: make it easier for the eye to compare\n",
    "top_studios = top_per_studio.sort('Gross', descending=True)\n",
    "top_studios.barh('Studio', 'Gross')"
   ]
  },
  {
   "cell_type": "code",
   "execution_count": 163,
   "metadata": {},
   "outputs": [],
   "source": [
    "# Compare unadjusted vs. adjusted gross\n",
    "just_revenues = top_studios.select('Studio', 'Gross', 'Gross (Adjusted)')"
   ]
  },
  {
   "cell_type": "code",
   "execution_count": 164,
   "metadata": {},
   "outputs": [
    {
     "data": {
      "text/html": [
       "<table border=\"1\" class=\"dataframe\">\n",
       "    <thead>\n",
       "        <tr>\n",
       "            <th>Studio</th> <th>Gross</th> <th>Gross (Adjusted)</th>\n",
       "        </tr>\n",
       "    </thead>\n",
       "    <tbody>\n",
       "        <tr>\n",
       "            <td>Buena Vista (Disney)</td> <td>906723418</td> <td>906723400       </td>\n",
       "        </tr>\n",
       "        <tr>\n",
       "            <td>Fox                 </td> <td>760507625</td> <td>846120800       </td>\n",
       "        </tr>\n",
       "        <tr>\n",
       "            <td>Paramount           </td> <td>658672302</td> <td>1178627900      </td>\n",
       "        </tr>\n",
       "        <tr>\n",
       "            <td>Universal           </td> <td>652270625</td> <td>687728000       </td>\n",
       "        </tr>\n",
       "        <tr>\n",
       "            <td>Warner Bros.        </td> <td>534858444</td> <td>647761600       </td>\n",
       "        </tr>\n",
       "        <tr>\n",
       "            <td>Dreamworks          </td> <td>441226247</td> <td>618143100       </td>\n",
       "        </tr>\n",
       "        <tr>\n",
       "            <td>Lionsgate           </td> <td>424668047</td> <td>444697400       </td>\n",
       "        </tr>\n",
       "        <tr>\n",
       "            <td>Sony                </td> <td>403706375</td> <td>604517300       </td>\n",
       "        </tr>\n",
       "        <tr>\n",
       "            <td>Paramount/Dreamworks</td> <td>402111870</td> <td>468938100       </td>\n",
       "        </tr>\n",
       "        <tr>\n",
       "            <td>New Line            </td> <td>377845905</td> <td>536265400       </td>\n",
       "        </tr>\n",
       "    </tbody>\n",
       "</table>\n",
       "<p>... (14 rows omitted)</p>"
      ],
      "text/plain": [
       "Studio               | Gross     | Gross (Adjusted)\n",
       "Buena Vista (Disney) | 906723418 | 906723400\n",
       "Fox                  | 760507625 | 846120800\n",
       "Paramount            | 658672302 | 1178627900\n",
       "Universal            | 652270625 | 687728000\n",
       "Warner Bros.         | 534858444 | 647761600\n",
       "Dreamworks           | 441226247 | 618143100\n",
       "Lionsgate            | 424668047 | 444697400\n",
       "Sony                 | 403706375 | 604517300\n",
       "Paramount/Dreamworks | 402111870 | 468938100\n",
       "New Line             | 377845905 | 536265400\n",
       "... (14 rows omitted)"
      ]
     },
     "execution_count": 164,
     "metadata": {},
     "output_type": "execute_result"
    }
   ],
   "source": [
    "just_revenues"
   ]
  },
  {
   "cell_type": "code",
   "execution_count": 165,
   "metadata": {},
   "outputs": [
    {
     "data": {
      "image/png": "[encoded data removed]",
      "text/plain": [
       "<Figure size 432x864 with 1 Axes>"
      ]
     },
     "metadata": {},
     "output_type": "display_data"
    }
   ],
   "source": [
    "just_revenues.barh('Studio')"
   ]
  },
  {
   "cell_type": "markdown",
   "metadata": {},
   "source": [
    "## Table operations: where"
   ]
  },
  {
   "cell_type": "code",
   "execution_count": 166,
   "metadata": {},
   "outputs": [],
   "source": [
    "# This table can be found online: https://www.statcrunch.com/app/index.php?dataid=1843341\n",
    "# Salaries are in millions of $\n",
    "nba = Table.read_table('nba_salaries.csv')"
   ]
  },
  {
   "cell_type": "code",
   "execution_count": 169,
   "metadata": {},
   "outputs": [
    {
     "data": {
      "text/html": [
       "<table border=\"1\" class=\"dataframe\">\n",
       "    <thead>\n",
       "        <tr>\n",
       "            <th>PLAYER</th> <th>POSITION</th> <th>TEAM</th> <th>2015-2016 SALARY</th>\n",
       "        </tr>\n",
       "    </thead>\n",
       "    <tbody>\n",
       "        <tr>\n",
       "            <td>Paul Millsap    </td> <td>PF      </td> <td>Atlanta Hawks</td> <td>18.6717         </td>\n",
       "        </tr>\n",
       "        <tr>\n",
       "            <td>Al Horford      </td> <td>C       </td> <td>Atlanta Hawks</td> <td>12              </td>\n",
       "        </tr>\n",
       "        <tr>\n",
       "            <td>Tiago Splitter  </td> <td>C       </td> <td>Atlanta Hawks</td> <td>9.75625         </td>\n",
       "        </tr>\n",
       "        <tr>\n",
       "            <td>Jeff Teague     </td> <td>PG      </td> <td>Atlanta Hawks</td> <td>8               </td>\n",
       "        </tr>\n",
       "        <tr>\n",
       "            <td>Kyle Korver     </td> <td>SG      </td> <td>Atlanta Hawks</td> <td>5.74648         </td>\n",
       "        </tr>\n",
       "        <tr>\n",
       "            <td>Thabo Sefolosha </td> <td>SF      </td> <td>Atlanta Hawks</td> <td>4               </td>\n",
       "        </tr>\n",
       "        <tr>\n",
       "            <td>Mike Scott      </td> <td>PF      </td> <td>Atlanta Hawks</td> <td>3.33333         </td>\n",
       "        </tr>\n",
       "        <tr>\n",
       "            <td>Kent Bazemore   </td> <td>SF      </td> <td>Atlanta Hawks</td> <td>2               </td>\n",
       "        </tr>\n",
       "        <tr>\n",
       "            <td>Dennis Schroder </td> <td>PG      </td> <td>Atlanta Hawks</td> <td>1.7634          </td>\n",
       "        </tr>\n",
       "        <tr>\n",
       "            <td>Tim Hardaway Jr.</td> <td>SG      </td> <td>Atlanta Hawks</td> <td>1.30452         </td>\n",
       "        </tr>\n",
       "    </tbody>\n",
       "</table>\n",
       "<p>... (407 rows omitted)</p>"
      ],
      "text/plain": [
       "PLAYER           | POSITION | TEAM          | 2015-2016 SALARY\n",
       "Paul Millsap     | PF       | Atlanta Hawks | 18.6717\n",
       "Al Horford       | C        | Atlanta Hawks | 12\n",
       "Tiago Splitter   | C        | Atlanta Hawks | 9.75625\n",
       "Jeff Teague      | PG       | Atlanta Hawks | 8\n",
       "Kyle Korver      | SG       | Atlanta Hawks | 5.74648\n",
       "Thabo Sefolosha  | SF       | Atlanta Hawks | 4\n",
       "Mike Scott       | PF       | Atlanta Hawks | 3.33333\n",
       "Kent Bazemore    | SF       | Atlanta Hawks | 2\n",
       "Dennis Schroder  | PG       | Atlanta Hawks | 1.7634\n",
       "Tim Hardaway Jr. | SG       | Atlanta Hawks | 1.30452\n",
       "... (407 rows omitted)"
      ]
     },
     "execution_count": 169,
     "metadata": {},
     "output_type": "execute_result"
    }
   ],
   "source": [
    "nba"
   ]
  },
  {
   "cell_type": "code",
   "execution_count": 170,
   "metadata": {},
   "outputs": [
    {
     "data": {
      "text/html": [
       "<table border=\"1\" class=\"dataframe\">\n",
       "    <thead>\n",
       "        <tr>\n",
       "            <th>PLAYER</th> <th>POSITION</th> <th>TEAM</th> <th>2015-2016 SALARY</th>\n",
       "        </tr>\n",
       "    </thead>\n",
       "    <tbody>\n",
       "        <tr>\n",
       "            <td>Thanasis Antetokounmpo</td> <td>SF      </td> <td>New York Knicks     </td> <td>0.030888        </td>\n",
       "        </tr>\n",
       "        <tr>\n",
       "            <td>Jordan McRae          </td> <td>SG      </td> <td>Phoenix Suns        </td> <td>0.049709        </td>\n",
       "        </tr>\n",
       "        <tr>\n",
       "            <td>Cory Jefferson        </td> <td>PF      </td> <td>Phoenix Suns        </td> <td>0.049709        </td>\n",
       "        </tr>\n",
       "        <tr>\n",
       "            <td>Elliot Williams       </td> <td>SG      </td> <td>Memphis Grizzlies   </td> <td>0.055722        </td>\n",
       "        </tr>\n",
       "        <tr>\n",
       "            <td>Orlando Johnson       </td> <td>SG      </td> <td>Phoenix Suns        </td> <td>0.055722        </td>\n",
       "        </tr>\n",
       "        <tr>\n",
       "            <td>Phil Pressey          </td> <td>PG      </td> <td>Phoenix Suns        </td> <td>0.055722        </td>\n",
       "        </tr>\n",
       "        <tr>\n",
       "            <td>Keith Appling         </td> <td>PG      </td> <td>Orlando Magic       </td> <td>0.061776        </td>\n",
       "        </tr>\n",
       "        <tr>\n",
       "            <td>Sean Kilpatrick       </td> <td>SG      </td> <td>Denver Nuggets      </td> <td>0.099418        </td>\n",
       "        </tr>\n",
       "        <tr>\n",
       "            <td>Erick Green           </td> <td>PG      </td> <td>Utah Jazz           </td> <td>0.099418        </td>\n",
       "        </tr>\n",
       "        <tr>\n",
       "            <td>Jeff Ayres            </td> <td>PF      </td> <td>Los Angeles Clippers</td> <td>0.111444        </td>\n",
       "        </tr>\n",
       "    </tbody>\n",
       "</table>\n",
       "<p>... (407 rows omitted)</p>"
      ],
      "text/plain": [
       "PLAYER                 | POSITION | TEAM                 | 2015-2016 SALARY\n",
       "Thanasis Antetokounmpo | SF       | New York Knicks      | 0.030888\n",
       "Jordan McRae           | SG       | Phoenix Suns         | 0.049709\n",
       "Cory Jefferson         | PF       | Phoenix Suns         | 0.049709\n",
       "Elliot Williams        | SG       | Memphis Grizzlies    | 0.055722\n",
       "Orlando Johnson        | SG       | Phoenix Suns         | 0.055722\n",
       "Phil Pressey           | PG       | Phoenix Suns         | 0.055722\n",
       "Keith Appling          | PG       | Orlando Magic        | 0.061776\n",
       "Sean Kilpatrick        | SG       | Denver Nuggets       | 0.099418\n",
       "Erick Green            | PG       | Utah Jazz            | 0.099418\n",
       "Jeff Ayres             | PF       | Los Angeles Clippers | 0.111444\n",
       "... (407 rows omitted)"
      ]
     },
     "execution_count": 170,
     "metadata": {},
     "output_type": "execute_result"
    }
   ],
   "source": [
    "nba.sort('2015-2016 SALARY')"
   ]
  },
  {
   "cell_type": "code",
   "execution_count": 176,
   "metadata": {},
   "outputs": [
    {
     "data": {
      "text/html": [
       "<table border=\"1\" class=\"dataframe\">\n",
       "    <thead>\n",
       "        <tr>\n",
       "            <th>PLAYER</th> <th>POSITION</th> <th>TEAM</th> <th>2015-2016 SALARY</th>\n",
       "        </tr>\n",
       "    </thead>\n",
       "    <tbody>\n",
       "        <tr>\n",
       "            <td>Paul Millsap  </td> <td>PF      </td> <td>Atlanta Hawks    </td> <td>18.6717         </td>\n",
       "        </tr>\n",
       "        <tr>\n",
       "            <td>Al Horford    </td> <td>C       </td> <td>Atlanta Hawks    </td> <td>12              </td>\n",
       "        </tr>\n",
       "        <tr>\n",
       "            <td>Joe Johnson   </td> <td>SF      </td> <td>Brooklyn Nets    </td> <td>24.8949         </td>\n",
       "        </tr>\n",
       "        <tr>\n",
       "            <td>Thaddeus Young</td> <td>PF      </td> <td>Brooklyn Nets    </td> <td>11.236          </td>\n",
       "        </tr>\n",
       "        <tr>\n",
       "            <td>Al Jefferson  </td> <td>C       </td> <td>Charlotte Hornets</td> <td>13.5            </td>\n",
       "        </tr>\n",
       "        <tr>\n",
       "            <td>Nicolas Batum </td> <td>SG      </td> <td>Charlotte Hornets</td> <td>13.1253         </td>\n",
       "        </tr>\n",
       "        <tr>\n",
       "            <td>Kemba Walker  </td> <td>PG      </td> <td>Charlotte Hornets</td> <td>12              </td>\n",
       "        </tr>\n",
       "        <tr>\n",
       "            <td>Derrick Rose  </td> <td>PG      </td> <td>Chicago Bulls    </td> <td>20.0931         </td>\n",
       "        </tr>\n",
       "        <tr>\n",
       "            <td>Jimmy Butler  </td> <td>SG      </td> <td>Chicago Bulls    </td> <td>16.4075         </td>\n",
       "        </tr>\n",
       "        <tr>\n",
       "            <td>Joakim Noah   </td> <td>C       </td> <td>Chicago Bulls    </td> <td>13.4            </td>\n",
       "        </tr>\n",
       "    </tbody>\n",
       "</table>\n",
       "<p>... (59 rows omitted)</p>"
      ],
      "text/plain": [
       "PLAYER         | POSITION | TEAM              | 2015-2016 SALARY\n",
       "Paul Millsap   | PF       | Atlanta Hawks     | 18.6717\n",
       "Al Horford     | C        | Atlanta Hawks     | 12\n",
       "Joe Johnson    | SF       | Brooklyn Nets     | 24.8949\n",
       "Thaddeus Young | PF       | Brooklyn Nets     | 11.236\n",
       "Al Jefferson   | C        | Charlotte Hornets | 13.5\n",
       "Nicolas Batum  | SG       | Charlotte Hornets | 13.1253\n",
       "Kemba Walker   | PG       | Charlotte Hornets | 12\n",
       "Derrick Rose   | PG       | Chicago Bulls     | 20.0931\n",
       "Jimmy Butler   | SG       | Chicago Bulls     | 16.4075\n",
       "Joakim Noah    | C        | Chicago Bulls     | 13.4\n",
       "... (59 rows omitted)"
      ]
     },
     "execution_count": 176,
     "metadata": {},
     "output_type": "execute_result"
    }
   ],
   "source": [
    "nba.where('2015-2016 SALARY', are.above(10))"
   ]
  },
  {
   "cell_type": "code",
   "execution_count": 174,
   "metadata": {},
   "outputs": [
    {
     "data": {
      "text/html": [
       "<table border=\"1\" class=\"dataframe\">\n",
       "    <thead>\n",
       "        <tr>\n",
       "            <th>PLAYER</th> <th>POSITION</th> <th>TEAM</th> <th>2015-2016 SALARY</th>\n",
       "        </tr>\n",
       "    </thead>\n",
       "    <tbody>\n",
       "        <tr>\n",
       "            <td>DeMar DeRozan  </td> <td>SG      </td> <td>Toronto Raptors     </td> <td>10.05           </td>\n",
       "        </tr>\n",
       "        <tr>\n",
       "            <td>Gerald Wallace </td> <td>SF      </td> <td>Philadelphia 76ers  </td> <td>10.1059         </td>\n",
       "        </tr>\n",
       "        <tr>\n",
       "            <td>Luol Deng      </td> <td>SF      </td> <td>Miami Heat          </td> <td>10.1516         </td>\n",
       "        </tr>\n",
       "        <tr>\n",
       "            <td>Monta Ellis    </td> <td>SG      </td> <td>Indiana Pacers      </td> <td>10.3            </td>\n",
       "        </tr>\n",
       "        <tr>\n",
       "            <td>Wilson Chandler</td> <td>SF      </td> <td>Denver Nuggets      </td> <td>10.4494         </td>\n",
       "        </tr>\n",
       "        <tr>\n",
       "            <td>Brendan Haywood</td> <td>C       </td> <td>Cleveland Cavaliers </td> <td>10.5225         </td>\n",
       "        </tr>\n",
       "        <tr>\n",
       "            <td>Jrue Holiday   </td> <td>PG      </td> <td>New Orleans Pelicans</td> <td>10.5955         </td>\n",
       "        </tr>\n",
       "        <tr>\n",
       "            <td>Tyreke Evans   </td> <td>SG      </td> <td>New Orleans Pelicans</td> <td>10.7346         </td>\n",
       "        </tr>\n",
       "        <tr>\n",
       "            <td>Marcin Gortat  </td> <td>C       </td> <td>Washington Wizards  </td> <td>11.2174         </td>\n",
       "        </tr>\n",
       "        <tr>\n",
       "            <td>Thaddeus Young </td> <td>PF      </td> <td>Brooklyn Nets       </td> <td>11.236          </td>\n",
       "        </tr>\n",
       "    </tbody>\n",
       "</table>\n",
       "<p>... (59 rows omitted)</p>"
      ],
      "text/plain": [
       "PLAYER          | POSITION | TEAM                 | 2015-2016 SALARY\n",
       "DeMar DeRozan   | SG       | Toronto Raptors      | 10.05\n",
       "Gerald Wallace  | SF       | Philadelphia 76ers   | 10.1059\n",
       "Luol Deng       | SF       | Miami Heat           | 10.1516\n",
       "Monta Ellis     | SG       | Indiana Pacers       | 10.3\n",
       "Wilson Chandler | SF       | Denver Nuggets       | 10.4494\n",
       "Brendan Haywood | C        | Cleveland Cavaliers  | 10.5225\n",
       "Jrue Holiday    | PG       | New Orleans Pelicans | 10.5955\n",
       "Tyreke Evans    | SG       | New Orleans Pelicans | 10.7346\n",
       "Marcin Gortat   | C        | Washington Wizards   | 11.2174\n",
       "Thaddeus Young  | PF       | Brooklyn Nets        | 11.236\n",
       "... (59 rows omitted)"
      ]
     },
     "execution_count": 174,
     "metadata": {},
     "output_type": "execute_result"
    }
   ],
   "source": [
    "nba.where('2015-2016 SALARY', are.above(10)).sort('2015-2016 SALARY')"
   ]
  },
  {
   "cell_type": "code",
   "execution_count": 177,
   "metadata": {},
   "outputs": [
    {
     "data": {
      "text/html": [
       "<table border=\"1\" class=\"dataframe\">\n",
       "    <thead>\n",
       "        <tr>\n",
       "            <th>PLAYER</th> <th>POSITION</th> <th>TEAM</th> <th>2015-2016 SALARY</th>\n",
       "        </tr>\n",
       "    </thead>\n",
       "    <tbody>\n",
       "        <tr>\n",
       "            <td>LeBron James</td> <td>SF      </td> <td>Cleveland Cavaliers</td> <td>22.9705         </td>\n",
       "        </tr>\n",
       "    </tbody>\n",
       "</table>"
      ],
      "text/plain": [
       "PLAYER       | POSITION | TEAM                | 2015-2016 SALARY\n",
       "LeBron James | SF       | Cleveland Cavaliers | 22.9705"
      ]
     },
     "execution_count": 177,
     "metadata": {},
     "output_type": "execute_result"
    }
   ],
   "source": [
    "nba.where('PLAYER', are.equal_to('LeBron James'))"
   ]
  },
  {
   "cell_type": "code",
   "execution_count": 179,
   "metadata": {},
   "outputs": [
    {
     "data": {
      "text/html": [
       "<table border=\"1\" class=\"dataframe\">\n",
       "    <thead>\n",
       "        <tr>\n",
       "            <th>PLAYER</th> <th>POSITION</th> <th>TEAM</th> <th>2015-2016 SALARY</th>\n",
       "        </tr>\n",
       "    </thead>\n",
       "    <tbody>\n",
       "        <tr>\n",
       "            <td>Carmelo Anthony   </td> <td>SF      </td> <td>New York Knicks</td> <td>22.875          </td>\n",
       "        </tr>\n",
       "        <tr>\n",
       "            <td>Robin Lopez       </td> <td>C       </td> <td>New York Knicks</td> <td>12.65           </td>\n",
       "        </tr>\n",
       "        <tr>\n",
       "            <td>Arron Afflalo     </td> <td>SG      </td> <td>New York Knicks</td> <td>8               </td>\n",
       "        </tr>\n",
       "        <tr>\n",
       "            <td>Jose Calderon     </td> <td>PG      </td> <td>New York Knicks</td> <td>7.40281         </td>\n",
       "        </tr>\n",
       "        <tr>\n",
       "            <td>Kristaps Porzingis</td> <td>PF      </td> <td>New York Knicks</td> <td>4.13172         </td>\n",
       "        </tr>\n",
       "        <tr>\n",
       "            <td>Derrick Williams  </td> <td>PF      </td> <td>New York Knicks</td> <td>4               </td>\n",
       "        </tr>\n",
       "        <tr>\n",
       "            <td>Kyle O'Quinn      </td> <td>PF      </td> <td>New York Knicks</td> <td>3.75            </td>\n",
       "        </tr>\n",
       "        <tr>\n",
       "            <td>Lance Thomas      </td> <td>SF      </td> <td>New York Knicks</td> <td>1.63684         </td>\n",
       "        </tr>\n",
       "        <tr>\n",
       "            <td>Lou Amundson      </td> <td>PF      </td> <td>New York Knicks</td> <td>1.63548         </td>\n",
       "        </tr>\n",
       "        <tr>\n",
       "            <td>Jerian Grant      </td> <td>PG      </td> <td>New York Knicks</td> <td>1.57236         </td>\n",
       "        </tr>\n",
       "    </tbody>\n",
       "</table>\n",
       "<p>... (3 rows omitted)</p>"
      ],
      "text/plain": [
       "PLAYER             | POSITION | TEAM            | 2015-2016 SALARY\n",
       "Carmelo Anthony    | SF       | New York Knicks | 22.875\n",
       "Robin Lopez        | C        | New York Knicks | 12.65\n",
       "Arron Afflalo      | SG       | New York Knicks | 8\n",
       "Jose Calderon      | PG       | New York Knicks | 7.40281\n",
       "Kristaps Porzingis | PF       | New York Knicks | 4.13172\n",
       "Derrick Williams   | PF       | New York Knicks | 4\n",
       "Kyle O'Quinn       | PF       | New York Knicks | 3.75\n",
       "Lance Thomas       | SF       | New York Knicks | 1.63684\n",
       "Lou Amundson       | PF       | New York Knicks | 1.63548\n",
       "Jerian Grant       | PG       | New York Knicks | 1.57236\n",
       "... (3 rows omitted)"
      ]
     },
     "execution_count": 179,
     "metadata": {},
     "output_type": "execute_result"
    }
   ],
   "source": [
    "nba.where('TEAM', are.equal_to('New York Knicks'))"
   ]
  },
  {
   "cell_type": "code",
   "execution_count": 180,
   "metadata": {},
   "outputs": [
    {
     "data": {
      "text/html": [
       "<table border=\"1\" class=\"dataframe\">\n",
       "    <thead>\n",
       "        <tr>\n",
       "            <th>PLAYER</th> <th>POSITION</th> <th>TEAM</th> <th>2015-2016 SALARY</th>\n",
       "        </tr>\n",
       "    </thead>\n",
       "    <tbody>\n",
       "        <tr>\n",
       "            <td>Carmelo Anthony   </td> <td>SF      </td> <td>New York Knicks</td> <td>22.875          </td>\n",
       "        </tr>\n",
       "        <tr>\n",
       "            <td>Robin Lopez       </td> <td>C       </td> <td>New York Knicks</td> <td>12.65           </td>\n",
       "        </tr>\n",
       "        <tr>\n",
       "            <td>Arron Afflalo     </td> <td>SG      </td> <td>New York Knicks</td> <td>8               </td>\n",
       "        </tr>\n",
       "        <tr>\n",
       "            <td>Jose Calderon     </td> <td>PG      </td> <td>New York Knicks</td> <td>7.40281         </td>\n",
       "        </tr>\n",
       "        <tr>\n",
       "            <td>Kristaps Porzingis</td> <td>PF      </td> <td>New York Knicks</td> <td>4.13172         </td>\n",
       "        </tr>\n",
       "        <tr>\n",
       "            <td>Derrick Williams  </td> <td>PF      </td> <td>New York Knicks</td> <td>4               </td>\n",
       "        </tr>\n",
       "        <tr>\n",
       "            <td>Kyle O'Quinn      </td> <td>PF      </td> <td>New York Knicks</td> <td>3.75            </td>\n",
       "        </tr>\n",
       "        <tr>\n",
       "            <td>Lance Thomas      </td> <td>SF      </td> <td>New York Knicks</td> <td>1.63684         </td>\n",
       "        </tr>\n",
       "        <tr>\n",
       "            <td>Lou Amundson      </td> <td>PF      </td> <td>New York Knicks</td> <td>1.63548         </td>\n",
       "        </tr>\n",
       "        <tr>\n",
       "            <td>Jerian Grant      </td> <td>PG      </td> <td>New York Knicks</td> <td>1.57236         </td>\n",
       "        </tr>\n",
       "    </tbody>\n",
       "</table>\n",
       "<p>... (3 rows omitted)</p>"
      ],
      "text/plain": [
       "PLAYER             | POSITION | TEAM            | 2015-2016 SALARY\n",
       "Carmelo Anthony    | SF       | New York Knicks | 22.875\n",
       "Robin Lopez        | C        | New York Knicks | 12.65\n",
       "Arron Afflalo      | SG       | New York Knicks | 8\n",
       "Jose Calderon      | PG       | New York Knicks | 7.40281\n",
       "Kristaps Porzingis | PF       | New York Knicks | 4.13172\n",
       "Derrick Williams   | PF       | New York Knicks | 4\n",
       "Kyle O'Quinn       | PF       | New York Knicks | 3.75\n",
       "Lance Thomas       | SF       | New York Knicks | 1.63684\n",
       "Lou Amundson       | PF       | New York Knicks | 1.63548\n",
       "Jerian Grant       | PG       | New York Knicks | 1.57236\n",
       "... (3 rows omitted)"
      ]
     },
     "execution_count": 180,
     "metadata": {},
     "output_type": "execute_result"
    }
   ],
   "source": [
    "nba.where('TEAM', are.equal_to('New York Knicks')).sort('2015-2016 SALARY', descending=True)"
   ]
  },
  {
   "cell_type": "code",
   "execution_count": 181,
   "metadata": {},
   "outputs": [
    {
     "data": {
      "text/html": [
       "<table border=\"1\" class=\"dataframe\">\n",
       "    <thead>\n",
       "        <tr>\n",
       "            <th>PLAYER</th> <th>POSITION</th> <th>TEAM</th> <th>2015-2016 SALARY</th>\n",
       "        </tr>\n",
       "    </thead>\n",
       "    <tbody>\n",
       "        <tr>\n",
       "            <td>Thaddeus Young </td> <td>PF      </td> <td>Brooklyn Nets        </td> <td>11.236          </td>\n",
       "        </tr>\n",
       "        <tr>\n",
       "            <td>Brendan Haywood</td> <td>C       </td> <td>Cleveland Cavaliers  </td> <td>10.5225         </td>\n",
       "        </tr>\n",
       "        <tr>\n",
       "            <td>Kenneth Faried </td> <td>PF      </td> <td>Denver Nuggets       </td> <td>11.236          </td>\n",
       "        </tr>\n",
       "        <tr>\n",
       "            <td>Wilson Chandler</td> <td>SF      </td> <td>Denver Nuggets       </td> <td>10.4494         </td>\n",
       "        </tr>\n",
       "        <tr>\n",
       "            <td>Andre Iguodala </td> <td>SF      </td> <td>Golden State Warriors</td> <td>11.7105         </td>\n",
       "        </tr>\n",
       "        <tr>\n",
       "            <td>Stephen Curry  </td> <td>PG      </td> <td>Golden State Warriors</td> <td>11.3708         </td>\n",
       "        </tr>\n",
       "        <tr>\n",
       "            <td>Monta Ellis    </td> <td>SG      </td> <td>Indiana Pacers       </td> <td>10.3            </td>\n",
       "        </tr>\n",
       "        <tr>\n",
       "            <td>Luol Deng      </td> <td>SF      </td> <td>Miami Heat           </td> <td>10.1516         </td>\n",
       "        </tr>\n",
       "        <tr>\n",
       "            <td>Tyreke Evans   </td> <td>SG      </td> <td>New Orleans Pelicans </td> <td>10.7346         </td>\n",
       "        </tr>\n",
       "        <tr>\n",
       "            <td>Jrue Holiday   </td> <td>PG      </td> <td>New Orleans Pelicans </td> <td>10.5955         </td>\n",
       "        </tr>\n",
       "    </tbody>\n",
       "</table>\n",
       "<p>... (5 rows omitted)</p>"
      ],
      "text/plain": [
       "PLAYER          | POSITION | TEAM                  | 2015-2016 SALARY\n",
       "Thaddeus Young  | PF       | Brooklyn Nets         | 11.236\n",
       "Brendan Haywood | C        | Cleveland Cavaliers   | 10.5225\n",
       "Kenneth Faried  | PF       | Denver Nuggets        | 11.236\n",
       "Wilson Chandler | SF       | Denver Nuggets        | 10.4494\n",
       "Andre Iguodala  | SF       | Golden State Warriors | 11.7105\n",
       "Stephen Curry   | PG       | Golden State Warriors | 11.3708\n",
       "Monta Ellis     | SG       | Indiana Pacers        | 10.3\n",
       "Luol Deng       | SF       | Miami Heat            | 10.1516\n",
       "Tyreke Evans    | SG       | New Orleans Pelicans  | 10.7346\n",
       "Jrue Holiday    | PG       | New Orleans Pelicans  | 10.5955\n",
       "... (5 rows omitted)"
      ]
     },
     "execution_count": 181,
     "metadata": {},
     "output_type": "execute_result"
    }
   ],
   "source": [
    "nba.where('2015-2016 SALARY', are.between(10, 12))"
   ]
  },
  {
   "cell_type": "code",
   "execution_count": null,
   "metadata": {},
   "outputs": [],
   "source": []
  }
 ],
 "metadata": {
  "kernelspec": {
   "display_name": "Python 3",
   "language": "python",
   "name": "python3"
  },
  "language_info": {
   "codemirror_mode": {
    "name": "ipython",
    "version": 3
   },
   "file_extension": ".py",
   "mimetype": "text/x-python",
   "name": "python",
   "nbconvert_exporter": "python",
   "pygments_lexer": "ipython3",
   "version": "3.7.0"
  }
 },
 "nbformat": 4,
 "nbformat_minor": 2
}
