{
 "cells": [
  {
   "cell_type": "markdown",
   "metadata": {},
   "source": [
    "# Lecture 16: Estimation"
   ]
  },
  {
   "cell_type": "code",
   "execution_count": 33,
   "metadata": {},
   "outputs": [],
   "source": [
    "from datascience import *\n",
    "import numpy as np\n",
    "\n",
    "import matplotlib.pyplot as plots\n",
    "plots.style.use('fivethirtyeight')\n",
    "%matplotlib inline"
   ]
  },
  {
   "cell_type": "markdown",
   "metadata": {},
   "source": [
    "## Estimating enemy planes"
   ]
  },
  {
   "cell_type": "code",
   "execution_count": 34,
   "metadata": {},
   "outputs": [
    {
     "data": {
      "text/html": [
       "<table border=\"1\" class=\"dataframe\">\n",
       "    <thead>\n",
       "        <tr>\n",
       "            <th>Serial number</th>\n",
       "        </tr>\n",
       "    </thead>\n",
       "    <tbody>\n",
       "        <tr>\n",
       "            <td>1            </td>\n",
       "        </tr>\n",
       "        <tr>\n",
       "            <td>2            </td>\n",
       "        </tr>\n",
       "        <tr>\n",
       "            <td>3            </td>\n",
       "        </tr>\n",
       "        <tr>\n",
       "            <td>4            </td>\n",
       "        </tr>\n",
       "        <tr>\n",
       "            <td>5            </td>\n",
       "        </tr>\n",
       "        <tr>\n",
       "            <td>6            </td>\n",
       "        </tr>\n",
       "        <tr>\n",
       "            <td>7            </td>\n",
       "        </tr>\n",
       "        <tr>\n",
       "            <td>8            </td>\n",
       "        </tr>\n",
       "        <tr>\n",
       "            <td>9            </td>\n",
       "        </tr>\n",
       "        <tr>\n",
       "            <td>10           </td>\n",
       "        </tr>\n",
       "    </tbody>\n",
       "</table>\n",
       "<p>... (290 rows omitted)</p>"
      ],
      "text/plain": [
       "Serial number\n",
       "1\n",
       "2\n",
       "3\n",
       "4\n",
       "5\n",
       "6\n",
       "7\n",
       "8\n",
       "9\n",
       "10\n",
       "... (290 rows omitted)"
      ]
     },
     "execution_count": 34,
     "metadata": {},
     "output_type": "execute_result"
    }
   ],
   "source": [
    "N = 300\n",
    "serialno = Table().with_column('Serial number', np.arange(N)+1)\n",
    "serialno"
   ]
  },
  {
   "cell_type": "code",
   "execution_count": 39,
   "metadata": {},
   "outputs": [
    {
     "data": {
      "text/plain": [
       "289"
      ]
     },
     "execution_count": 39,
     "metadata": {},
     "output_type": "execute_result"
    }
   ],
   "source": [
    "serialno.sample(30).column(0).max()"
   ]
  },
  {
   "cell_type": "markdown",
   "metadata": {},
   "source": [
    "### Interlude:  appending to arrays"
   ]
  },
  {
   "cell_type": "code",
   "execution_count": 40,
   "metadata": {},
   "outputs": [
    {
     "data": {
      "text/plain": [
       "array([1, 2, 3, 4, 5])"
      ]
     },
     "execution_count": 40,
     "metadata": {},
     "output_type": "execute_result"
    }
   ],
   "source": [
    "a = make_array(1, 2, 3, 4, 5)\n",
    "a"
   ]
  },
  {
   "cell_type": "code",
   "execution_count": 41,
   "metadata": {},
   "outputs": [
    {
     "data": {
      "text/plain": [
       "array([ 1,  2,  3,  4,  5, 42])"
      ]
     },
     "execution_count": 41,
     "metadata": {},
     "output_type": "execute_result"
    }
   ],
   "source": [
    "np.append(a, 42)"
   ]
  },
  {
   "cell_type": "code",
   "execution_count": 42,
   "metadata": {},
   "outputs": [
    {
     "data": {
      "text/plain": [
       "array([1, 2, 3, 4, 5])"
      ]
     },
     "execution_count": 42,
     "metadata": {},
     "output_type": "execute_result"
    }
   ],
   "source": [
    "a"
   ]
  },
  {
   "cell_type": "code",
   "execution_count": 43,
   "metadata": {},
   "outputs": [
    {
     "data": {
      "text/plain": [
       "array([ 1,  2,  3,  4,  5, 42])"
      ]
     },
     "execution_count": 43,
     "metadata": {},
     "output_type": "execute_result"
    }
   ],
   "source": [
    "a = np.append(a, 42)\n",
    "a"
   ]
  },
  {
   "cell_type": "markdown",
   "metadata": {},
   "source": [
    "What is the result of this code?\n",
    "\n",
    "```\n",
    "x = make_array(100, 42, 7)\n",
    "x = np.append(x, 0)\n",
    "x = np.append(x, 1)\n",
    "x\n",
    "```\n",
    "\n",
    "A. `array([100, 42, 7])`  \n",
    "B. `array([1, 0, 100, 42, 7, 0, 1])`  \n",
    "C. `array([100, 42, 7, 0, 1])`  \n",
    "D. I don't know  \n",
    "E. none of the above  "
   ]
  },
  {
   "cell_type": "code",
   "execution_count": 44,
   "metadata": {},
   "outputs": [
    {
     "data": {
      "text/plain": [
       "array([100,  42,   7,   0,   1])"
      ]
     },
     "execution_count": 44,
     "metadata": {},
     "output_type": "execute_result"
    }
   ],
   "source": [
    "x = make_array(100, 42, 7)\n",
    "x = np.append(x, 0)\n",
    "x = np.append(x, 1)\n",
    "x"
   ]
  },
  {
   "cell_type": "markdown",
   "metadata": {},
   "source": [
    "### Simulation of estimation with max"
   ]
  },
  {
   "cell_type": "code",
   "execution_count": 50,
   "metadata": {},
   "outputs": [
    {
     "data": {
      "text/html": [
       "<table border=\"1\" class=\"dataframe\">\n",
       "    <thead>\n",
       "        <tr>\n",
       "            <th>Sample Max</th>\n",
       "        </tr>\n",
       "    </thead>\n",
       "    <tbody>\n",
       "        <tr>\n",
       "            <td>232       </td>\n",
       "        </tr>\n",
       "        <tr>\n",
       "            <td>296       </td>\n",
       "        </tr>\n",
       "        <tr>\n",
       "            <td>300       </td>\n",
       "        </tr>\n",
       "        <tr>\n",
       "            <td>274       </td>\n",
       "        </tr>\n",
       "        <tr>\n",
       "            <td>285       </td>\n",
       "        </tr>\n",
       "        <tr>\n",
       "            <td>299       </td>\n",
       "        </tr>\n",
       "        <tr>\n",
       "            <td>295       </td>\n",
       "        </tr>\n",
       "        <tr>\n",
       "            <td>282       </td>\n",
       "        </tr>\n",
       "        <tr>\n",
       "            <td>272       </td>\n",
       "        </tr>\n",
       "        <tr>\n",
       "            <td>263       </td>\n",
       "        </tr>\n",
       "    </tbody>\n",
       "</table>\n",
       "<p>... (740 rows omitted)</p>"
      ],
      "text/plain": [
       "Sample Max\n",
       "232\n",
       "296\n",
       "300\n",
       "274\n",
       "285\n",
       "299\n",
       "295\n",
       "282\n",
       "272\n",
       "263\n",
       "... (740 rows omitted)"
      ]
     },
     "execution_count": 50,
     "metadata": {},
     "output_type": "execute_result"
    }
   ],
   "source": [
    "sample_size = 10\n",
    "repetitions = 750\n",
    "\n",
    "maxes = make_array()\n",
    "\n",
    "for _ in np.arange(repetitions):\n",
    "    sampled_numbers = serialno.sample(sample_size).column(0)\n",
    "    statistic = sampled_numbers.max()\n",
    "    maxes = np.append(maxes, statistic)\n",
    "\n",
    "estimates = Table().with_column('Sample Max', maxes)\n",
    "estimates"
   ]
  },
  {
   "cell_type": "code",
   "execution_count": 51,
   "metadata": {},
   "outputs": [
    {
     "data": {
      "image/png": "[encoded data removed]",
      "text/plain": [
       "<Figure size 432x288 with 1 Axes>"
      ]
     },
     "metadata": {
      "needs_background": "light"
     },
     "output_type": "display_data"
    }
   ],
   "source": [
    "estimates.hist(bins=np.arange(1, N+100, 10), unit='serial number')"
   ]
  },
  {
   "cell_type": "markdown",
   "metadata": {},
   "source": [
    "What would happen if we changed sample size to 10 instead of 30?\n",
    "\n",
    "A. The histogram would spread out, with more area to the left of 300.  \n",
    "B. The histogram would spread out, with more area to the right of 300.  \n",
    "C. The histogram would compress, with more area concentrated around 300.  \n",
    "D. I don't know  \n",
    "E. None of the above  "
   ]
  },
  {
   "cell_type": "markdown",
   "metadata": {},
   "source": [
    "### Simulation of estimate with average"
   ]
  },
  {
   "cell_type": "code",
   "execution_count": 52,
   "metadata": {},
   "outputs": [
    {
     "data": {
      "text/plain": [
       "301.0"
      ]
     },
     "execution_count": 52,
     "metadata": {},
     "output_type": "execute_result"
    }
   ],
   "source": [
    "2*np.mean(np.arange(1, 300+1))"
   ]
  },
  {
   "cell_type": "code",
   "execution_count": 53,
   "metadata": {},
   "outputs": [
    {
     "data": {
      "text/html": [
       "<table border=\"1\" class=\"dataframe\">\n",
       "    <thead>\n",
       "        <tr>\n",
       "            <th>2 * average</th>\n",
       "        </tr>\n",
       "    </thead>\n",
       "    <tbody>\n",
       "        <tr>\n",
       "            <td>306.533    </td>\n",
       "        </tr>\n",
       "        <tr>\n",
       "            <td>310.667    </td>\n",
       "        </tr>\n",
       "        <tr>\n",
       "            <td>258.4      </td>\n",
       "        </tr>\n",
       "        <tr>\n",
       "            <td>294.667    </td>\n",
       "        </tr>\n",
       "        <tr>\n",
       "            <td>277.4      </td>\n",
       "        </tr>\n",
       "        <tr>\n",
       "            <td>291.267    </td>\n",
       "        </tr>\n",
       "        <tr>\n",
       "            <td>294.667    </td>\n",
       "        </tr>\n",
       "        <tr>\n",
       "            <td>281.067    </td>\n",
       "        </tr>\n",
       "        <tr>\n",
       "            <td>321.8      </td>\n",
       "        </tr>\n",
       "        <tr>\n",
       "            <td>279        </td>\n",
       "        </tr>\n",
       "    </tbody>\n",
       "</table>\n",
       "<p>... (740 rows omitted)</p>"
      ],
      "text/plain": [
       "2 * average\n",
       "306.533\n",
       "310.667\n",
       "258.4\n",
       "294.667\n",
       "277.4\n",
       "291.267\n",
       "294.667\n",
       "281.067\n",
       "321.8\n",
       "279\n",
       "... (740 rows omitted)"
      ]
     },
     "execution_count": 53,
     "metadata": {},
     "output_type": "execute_result"
    }
   ],
   "source": [
    "sample_size = 30\n",
    "repetitions = 750\n",
    "\n",
    "double_averages = make_array()\n",
    "\n",
    "for _ in np.arange(repetitions):\n",
    "    sampled_numbers = serialno.sample(sample_size).column(0)\n",
    "    statistic = 2 * sampled_numbers.mean()\n",
    "    double_averages = np.append(double_averages, statistic)\n",
    "\n",
    "estimates = Table().with_columns(\n",
    "    '2 * average', double_averages\n",
    ")\n",
    "\n",
    "estimates"
   ]
  },
  {
   "cell_type": "code",
   "execution_count": 54,
   "metadata": {},
   "outputs": [
    {
     "data": {
      "image/png": "[encoded data removed]",
      "text/plain": [
       "<Figure size 432x288 with 1 Axes>"
      ]
     },
     "metadata": {
      "needs_background": "light"
     },
     "output_type": "display_data"
    }
   ],
   "source": [
    "estimates.hist(bins=np.arange(1, N+100, 10), unit='serial number')"
   ]
  },
  {
   "cell_type": "markdown",
   "metadata": {},
   "source": [
    "### Comparison of statistics"
   ]
  },
  {
   "cell_type": "code",
   "execution_count": 55,
   "metadata": {},
   "outputs": [
    {
     "data": {
      "text/html": [
       "<table border=\"1\" class=\"dataframe\">\n",
       "    <thead>\n",
       "        <tr>\n",
       "            <th>Max</th> <th>2 * average</th>\n",
       "        </tr>\n",
       "    </thead>\n",
       "    <tbody>\n",
       "        <tr>\n",
       "            <td>281 </td> <td>277.4      </td>\n",
       "        </tr>\n",
       "        <tr>\n",
       "            <td>296 </td> <td>273.533    </td>\n",
       "        </tr>\n",
       "        <tr>\n",
       "            <td>300 </td> <td>282.333    </td>\n",
       "        </tr>\n",
       "        <tr>\n",
       "            <td>299 </td> <td>294.2      </td>\n",
       "        </tr>\n",
       "        <tr>\n",
       "            <td>269 </td> <td>314.333    </td>\n",
       "        </tr>\n",
       "        <tr>\n",
       "            <td>290 </td> <td>313.4      </td>\n",
       "        </tr>\n",
       "        <tr>\n",
       "            <td>295 </td> <td>281.2      </td>\n",
       "        </tr>\n",
       "        <tr>\n",
       "            <td>284 </td> <td>251.267    </td>\n",
       "        </tr>\n",
       "        <tr>\n",
       "            <td>299 </td> <td>346.4      </td>\n",
       "        </tr>\n",
       "        <tr>\n",
       "            <td>299 </td> <td>326.6      </td>\n",
       "        </tr>\n",
       "    </tbody>\n",
       "</table>\n",
       "<p>... (740 rows omitted)</p>"
      ],
      "text/plain": [
       "Max  | 2 * average\n",
       "281  | 277.4\n",
       "296  | 273.533\n",
       "300  | 282.333\n",
       "299  | 294.2\n",
       "269  | 314.333\n",
       "290  | 313.4\n",
       "295  | 281.2\n",
       "284  | 251.267\n",
       "299  | 346.4\n",
       "299  | 326.6\n",
       "... (740 rows omitted)"
      ]
     },
     "execution_count": 55,
     "metadata": {},
     "output_type": "execute_result"
    }
   ],
   "source": [
    "sample_size = 30\n",
    "repetitions = 750\n",
    "\n",
    "maxes = make_array()\n",
    "double_averages = make_array()\n",
    "\n",
    "for _ in np.arange(repetitions):\n",
    "    sampled_numbers = serialno.sample(sample_size).column(0)\n",
    "    maxes = np.append(maxes, sampled_numbers.max())  \n",
    "    double_averages = np.append(double_averages, 2 * sampled_numbers.mean())\n",
    "\n",
    "estimates = Table().with_columns(\n",
    "    'Max', maxes,\n",
    "    '2 * average', double_averages\n",
    ")\n",
    "\n",
    "estimates"
   ]
  },
  {
   "cell_type": "code",
   "execution_count": 56,
   "metadata": {},
   "outputs": [
    {
     "data": {
      "image/png": "[encoded data removed]",
      "text/plain": [
       "<Figure size 432x288 with 1 Axes>"
      ]
     },
     "metadata": {
      "needs_background": "light"
     },
     "output_type": "display_data"
    }
   ],
   "source": [
    "estimates.hist(bins=np.arange(1, N+100, 10), unit='serial number')"
   ]
  },
  {
   "cell_type": "markdown",
   "metadata": {},
   "source": [
    "**Discussion question:** which estimate would be better for the Allies?"
   ]
  }
 ],
 "metadata": {
  "kernelspec": {
   "display_name": "Python 3",
   "language": "python",
   "name": "python3"
  },
  "language_info": {
   "codemirror_mode": {
    "name": "ipython",
    "version": 3
   },
   "file_extension": ".py",
   "mimetype": "text/x-python",
   "name": "python",
   "nbconvert_exporter": "python",
   "pygments_lexer": "ipython3",
   "version": "3.7.0"
  }
 },
 "nbformat": 4,
 "nbformat_minor": 2
}
