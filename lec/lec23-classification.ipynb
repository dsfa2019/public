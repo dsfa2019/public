{
 "cells": [
  {
   "cell_type": "markdown",
   "metadata": {},
   "source": [
    "# Lecture 23: Classification"
   ]
  },
  {
   "cell_type": "code",
   "execution_count": null,
   "metadata": {},
   "outputs": [],
   "source": [
    "from datascience import *\n",
    "import numpy as np\n",
    "\n",
    "import matplotlib.pyplot as plots\n",
    "plots.style.use('fivethirtyeight')\n",
    "%matplotlib inline\n",
    "np.set_printoptions(legacy='1.13')"
   ]
  },
  {
   "cell_type": "markdown",
   "metadata": {},
   "source": [
    "## Chronic kidney disease"
   ]
  },
  {
   "cell_type": "code",
   "execution_count": null,
   "metadata": {},
   "outputs": [],
   "source": [
    "# Source: https://archive.ics.uci.edu/ml/datasets/chronic_kidney_disease\n",
    "ckd = Table.read_table('ckd.csv').relabeled('Blood Glucose Random', 'Glucose')\n",
    "    \n",
    "def ckd_label(number):\n",
    "    if number == 0:\n",
    "        return \"notckd\"\n",
    "    elif number == 1:\n",
    "        return \"ckd\"\n",
    "    else:\n",
    "        return \"unknown\"\n",
    "  \n",
    "ckd = ckd.with_column(\n",
    "    'Class', ckd.apply(ckd_label, 'Class')\n",
    ")    \n",
    "ckd.show(3)"
   ]
  },
  {
   "cell_type": "code",
   "execution_count": null,
   "metadata": {},
   "outputs": [],
   "source": [
    "ckd.group('Class')"
   ]
  },
  {
   "cell_type": "code",
   "execution_count": null,
   "metadata": {},
   "outputs": [],
   "source": [
    "ckd.scatter('White Blood Cell Count', 'Glucose', colors='Class')"
   ]
  },
  {
   "cell_type": "markdown",
   "metadata": {},
   "source": [
    "**Q:** As a human, how would you classify based on Glucose and White Blood Cell Count? \n",
    "\n",
    "<br/><br/><br/><br/><br/>"
   ]
  },
  {
   "cell_type": "code",
   "execution_count": null,
   "metadata": {},
   "outputs": [],
   "source": [
    "def my_classifier(wbc, glc):\n",
    "    if wbc <= 12000 and glc <= 140:\n",
    "        return 'notckd'\n",
    "    else:\n",
    "        return 'ckd'"
   ]
  },
  {
   "cell_type": "code",
   "execution_count": null,
   "metadata": {},
   "outputs": [],
   "source": [
    "my_classifier(8000, 100)"
   ]
  },
  {
   "cell_type": "code",
   "execution_count": null,
   "metadata": {},
   "outputs": [],
   "source": [
    "ckd_classified = ckd.with_column(\n",
    "    'My Class', ckd.apply(my_classifier, \n",
    "                         'White Blood Cell Count',\n",
    "                         'Glucose' )\n",
    ")\n",
    "ckd_classified.show(3)"
   ]
  },
  {
   "cell_type": "markdown",
   "metadata": {},
   "source": [
    "**Q:** How would you assess whether `my_classifier` is doing a good job?\n",
    "\n",
    "<br/><br/><br/><br/><br/>"
   ]
  },
  {
   "cell_type": "code",
   "execution_count": null,
   "metadata": {},
   "outputs": [],
   "source": [
    "correct = ckd_classified.column('Class')\\\n",
    "  == ckd_classified.column('My Class')\n",
    "correct"
   ]
  },
  {
   "cell_type": "code",
   "execution_count": null,
   "metadata": {},
   "outputs": [],
   "source": [
    "np.sum(correct) / ckd_classified.num_rows"
   ]
  },
  {
   "cell_type": "code",
   "execution_count": null,
   "metadata": {},
   "outputs": [],
   "source": [
    "np.mean(correct)"
   ]
  },
  {
   "cell_type": "markdown",
   "metadata": {},
   "source": [
    "**Problem:** we are misclassifying.  (We'll come back to this next lecture.)  What if we try another pair of variables?"
   ]
  },
  {
   "cell_type": "code",
   "execution_count": null,
   "metadata": {},
   "outputs": [],
   "source": [
    "ckd.scatter('Hemoglobin', 'Glucose', colors='Class')"
   ]
  },
  {
   "cell_type": "code",
   "execution_count": null,
   "metadata": {},
   "outputs": [],
   "source": [
    "def another_classifier(hgb, glc):\n",
    "    if glc <= 140 and hgb >= 13:\n",
    "        return 'notckd'\n",
    "    else:\n",
    "        return 'ckd'\n",
    "\n",
    "ckd_reclassified = ckd.with_column(\n",
    "    'My Class', ckd.apply(another_classifier, \n",
    "                          'Hemoglobin', \n",
    "                          'Glucose')\n",
    ")\n",
    "\n",
    "np.mean(ckd_reclassified.column('Class') \n",
    "        == ckd_reclassified.column('My Class'))\n"
   ]
  },
  {
   "cell_type": "markdown",
   "metadata": {},
   "source": [
    "**Problem:** What if we get a new individual to classify?"
   ]
  },
  {
   "cell_type": "code",
   "execution_count": null,
   "metadata": {},
   "outputs": [],
   "source": [
    "ckd.scatter('Hemoglobin', 'Glucose', colors='Class')\n",
    "plots.scatter([13,13,13], [150,200,250], color='red');"
   ]
  },
  {
   "cell_type": "markdown",
   "metadata": {},
   "source": [
    "**Q:** How would you label the bottom red point?\n",
    "\n",
    "A. ckd  \n",
    "B. notckd  \n"
   ]
  },
  {
   "cell_type": "markdown",
   "metadata": {},
   "source": [
    "**Q:** How would you label the middle red point?\n",
    "\n",
    "A. ckd  \n",
    "B. notckd  \n"
   ]
  },
  {
   "cell_type": "markdown",
   "metadata": {},
   "source": [
    "## Nearest Neighbor"
   ]
  },
  {
   "cell_type": "markdown",
   "metadata": {},
   "source": [
    "**Distance between points.**"
   ]
  },
  {
   "cell_type": "code",
   "execution_count": null,
   "metadata": {},
   "outputs": [],
   "source": [
    "plots.scatter([0,4], [0,3], color='red', s=80);\n",
    "plots.plot([0,4], [0,3], linestyle='dashed');"
   ]
  },
  {
   "cell_type": "code",
   "execution_count": null,
   "metadata": {},
   "outputs": [],
   "source": [
    "def distance(a, b):\n",
    "    \"\"\"Returns the distance between a and b, where a and b\n",
    "    are both arrays representing points.\"\"\"\n",
    "    return np.sqrt(np.sum((a - b)**2))"
   ]
  },
  {
   "cell_type": "code",
   "execution_count": null,
   "metadata": {},
   "outputs": [],
   "source": [
    "distance(make_array(0,0), make_array(4,3))"
   ]
  },
  {
   "cell_type": "markdown",
   "metadata": {},
   "source": [
    "**Classifying a new individual.**"
   ]
  },
  {
   "cell_type": "code",
   "execution_count": null,
   "metadata": {},
   "outputs": [],
   "source": [
    "hgb_glc = ckd.select('Hemoglobin', 'Glucose', 'Class')\n",
    "hgb_glc    "
   ]
  },
  {
   "cell_type": "code",
   "execution_count": null,
   "metadata": {},
   "outputs": [],
   "source": [
    "hgb_glc.scatter('Hemoglobin', 'Glucose', colors='Class')\n",
    "plots.scatter([13], [150], color='red');"
   ]
  },
  {
   "cell_type": "markdown",
   "metadata": {},
   "source": [
    "**Aside: Rows.**"
   ]
  },
  {
   "cell_type": "code",
   "execution_count": null,
   "metadata": {},
   "outputs": [],
   "source": [
    "hgb_glc.row(0)"
   ]
  },
  {
   "cell_type": "code",
   "execution_count": null,
   "metadata": {},
   "outputs": [],
   "source": [
    "np.array(hgb_glc.row(0))"
   ]
  },
  {
   "cell_type": "code",
   "execution_count": null,
   "metadata": {},
   "outputs": [],
   "source": [
    "np.array(hgb_glc.drop('Class').row(0))"
   ]
  },
  {
   "cell_type": "code",
   "execution_count": null,
   "metadata": {},
   "outputs": [],
   "source": [
    "hgb_glc.drop('Class').apply(np.array)"
   ]
  },
  {
   "cell_type": "code",
   "execution_count": null,
   "metadata": {},
   "outputs": [],
   "source": [
    "def mean_of_row(row):\n",
    "    row_as_array = np.array(row)\n",
    "    return np.mean(row_as_array)\n",
    "\n",
    "hgb_glc.with_column(\n",
    "    'Mean of row', hgb_glc.drop('Class').apply(mean_of_row)\n",
    ")"
   ]
  },
  {
   "cell_type": "markdown",
   "metadata": {},
   "source": [
    "**End Aside, back to classifying**"
   ]
  },
  {
   "cell_type": "code",
   "execution_count": null,
   "metadata": {},
   "outputs": [],
   "source": [
    "new_point = make_array(13, 150)\n",
    "\n",
    "def distance_from_new(row):\n",
    "    \"\"\"Return the distance between row and new_point.\n",
    "    Row is an input to the function and can change every\n",
    "    time the function is called.  new_point is the same\n",
    "    every time, though.\"\"\"\n",
    "    return distance(np.array(row), new_point)\n",
    "    \n",
    "distances = hgb_glc.with_column(\n",
    "    'Distance', hgb_glc.drop('Class').apply(distance_from_new)\n",
    ").sort('Distance')\n",
    "\n",
    "distances"
   ]
  },
  {
   "cell_type": "markdown",
   "metadata": {},
   "source": [
    "**Note:** What we just did with `distance_from_new` is incredibly important to understand."
   ]
  },
  {
   "cell_type": "code",
   "execution_count": null,
   "metadata": {},
   "outputs": [],
   "source": [
    "hgb_glc.scatter('Hemoglobin', 'Glucose', colors='Class')\n",
    "plots.scatter([13, 5.6], [150, 157], color='red');"
   ]
  },
  {
   "cell_type": "markdown",
   "metadata": {},
   "source": [
    "**Q:** What's wrong with my classifier?\n",
    "\n",
    "A.  Nothing.  \n",
    "B.  I must have coded the `distance` function wrong.  \n",
    "C.  Something else is wrong."
   ]
  },
  {
   "cell_type": "code",
   "execution_count": null,
   "metadata": {},
   "outputs": [],
   "source": [
    "hgb_glc.scatter('Hemoglobin', 'Glucose', colors='Class')\n",
    "plots.scatter([13, 5.6], [150, 157], color='red');\n",
    "plots.xlim(0,500);\n",
    "plots.ylim(0,500);"
   ]
  },
  {
   "cell_type": "code",
   "execution_count": null,
   "metadata": {},
   "outputs": [],
   "source": [
    "hgb_glc.scatter('Hemoglobin', 'Glucose', colors='Class')\n",
    "plots.scatter([13, 5.6], [150, 157], color='red');\n",
    "plots.xlim(0,50);\n",
    "plots.ylim(125,175);"
   ]
  }
 ],
 "metadata": {
  "anaconda-cloud": {},
  "kernelspec": {
   "display_name": "Python 3",
   "language": "python",
   "name": "python3"
  },
  "language_info": {
   "codemirror_mode": {
    "name": "ipython",
    "version": 3
   },
   "file_extension": ".py",
   "mimetype": "text/x-python",
   "name": "python",
   "nbconvert_exporter": "python",
   "pygments_lexer": "ipython3",
   "version": "3.6.8"
  }
 },
 "nbformat": 4,
 "nbformat_minor": 1
}
