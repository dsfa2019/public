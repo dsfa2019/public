{
 "cells": [
  {
   "cell_type": "code",
   "execution_count": 41,
   "metadata": {},
   "outputs": [],
   "source": [
    "from datascience import *\n",
    "import numpy as np\n",
    "\n",
    "%matplotlib inline\n",
    "import matplotlib.pyplot as plots\n",
    "plots.style.use('fivethirtyeight')"
   ]
  },
  {
   "cell_type": "markdown",
   "metadata": {},
   "source": [
    "## Rows"
   ]
  },
  {
   "cell_type": "code",
   "execution_count": 42,
   "metadata": {},
   "outputs": [
    {
     "data": {
      "text/html": [
       "<table border=\"1\" class=\"dataframe\">\n",
       "    <thead>\n",
       "        <tr>\n",
       "            <th>Even</th> <th>Odd</th>\n",
       "        </tr>\n",
       "    </thead>\n",
       "    <tbody>\n",
       "    </tbody>\n",
       "</table>"
      ],
      "text/plain": [
       "Even | Odd"
      ]
     },
     "execution_count": 42,
     "metadata": {},
     "output_type": "execute_result"
    }
   ],
   "source": [
    "Table(['Even', 'Odd'])"
   ]
  },
  {
   "cell_type": "code",
   "execution_count": 43,
   "metadata": {},
   "outputs": [
    {
     "data": {
      "text/html": [
       "<table border=\"1\" class=\"dataframe\">\n",
       "    <thead>\n",
       "        <tr>\n",
       "            <th>Even</th> <th>Odd</th>\n",
       "        </tr>\n",
       "    </thead>\n",
       "    <tbody>\n",
       "        <tr>\n",
       "            <td>2   </td> <td>3   </td>\n",
       "        </tr>\n",
       "    </tbody>\n",
       "</table>"
      ],
      "text/plain": [
       "Even | Odd\n",
       "2    | 3"
      ]
     },
     "execution_count": 43,
     "metadata": {},
     "output_type": "execute_result"
    }
   ],
   "source": [
    "Table(['Even', 'Odd']).with_row([2, 3])"
   ]
  },
  {
   "cell_type": "code",
   "execution_count": 44,
   "metadata": {},
   "outputs": [
    {
     "data": {
      "text/html": [
       "<table border=\"1\" class=\"dataframe\">\n",
       "    <thead>\n",
       "        <tr>\n",
       "            <th>Even</th> <th>Odd</th>\n",
       "        </tr>\n",
       "    </thead>\n",
       "    <tbody>\n",
       "        <tr>\n",
       "            <td>2   </td> <td>3   </td>\n",
       "        </tr>\n",
       "        <tr>\n",
       "            <td>4   </td> <td>5   </td>\n",
       "        </tr>\n",
       "    </tbody>\n",
       "</table>"
      ],
      "text/plain": [
       "Even | Odd\n",
       "2    | 3\n",
       "4    | 5"
      ]
     },
     "execution_count": 44,
     "metadata": {},
     "output_type": "execute_result"
    }
   ],
   "source": [
    "t = Table(['Even', 'Odd']).with_row([2, 3]).with_row([4, 5])\n",
    "t"
   ]
  },
  {
   "cell_type": "code",
   "execution_count": 45,
   "metadata": {},
   "outputs": [],
   "source": [
    "t = t.with_row([6, 7])"
   ]
  },
  {
   "cell_type": "code",
   "execution_count": 46,
   "metadata": {},
   "outputs": [
    {
     "data": {
      "text/html": [
       "<table border=\"1\" class=\"dataframe\">\n",
       "    <thead>\n",
       "        <tr>\n",
       "            <th>Even</th> <th>Odd</th>\n",
       "        </tr>\n",
       "    </thead>\n",
       "    <tbody>\n",
       "        <tr>\n",
       "            <td>2   </td> <td>3   </td>\n",
       "        </tr>\n",
       "        <tr>\n",
       "            <td>4   </td> <td>5   </td>\n",
       "        </tr>\n",
       "        <tr>\n",
       "            <td>6   </td> <td>7   </td>\n",
       "        </tr>\n",
       "    </tbody>\n",
       "</table>"
      ],
      "text/plain": [
       "Even | Odd\n",
       "2    | 3\n",
       "4    | 5\n",
       "6    | 7"
      ]
     },
     "execution_count": 46,
     "metadata": {},
     "output_type": "execute_result"
    }
   ],
   "source": [
    "t"
   ]
  },
  {
   "cell_type": "code",
   "execution_count": 47,
   "metadata": {},
   "outputs": [
    {
     "data": {
      "text/html": [
       "<table border=\"1\" class=\"dataframe\">\n",
       "    <thead>\n",
       "        <tr>\n",
       "            <th>Even</th> <th>Odd</th>\n",
       "        </tr>\n",
       "    </thead>\n",
       "    <tbody>\n",
       "        <tr>\n",
       "            <td>2   </td> <td>3   </td>\n",
       "        </tr>\n",
       "        <tr>\n",
       "            <td>4   </td> <td>5   </td>\n",
       "        </tr>\n",
       "        <tr>\n",
       "            <td>6   </td> <td>7   </td>\n",
       "        </tr>\n",
       "        <tr>\n",
       "            <td>4   </td> <td>7   </td>\n",
       "        </tr>\n",
       "    </tbody>\n",
       "</table>"
      ],
      "text/plain": [
       "Even | Odd\n",
       "2    | 3\n",
       "4    | 5\n",
       "6    | 7\n",
       "4    | 7"
      ]
     },
     "execution_count": 47,
     "metadata": {},
     "output_type": "execute_result"
    }
   ],
   "source": [
    "t = t.with_row([4, 7])\n",
    "t"
   ]
  },
  {
   "cell_type": "code",
   "execution_count": 48,
   "metadata": {},
   "outputs": [
    {
     "data": {
      "text/html": [
       "<table border=\"1\" class=\"dataframe\">\n",
       "    <thead>\n",
       "        <tr>\n",
       "            <th>Even</th> <th>Odd</th>\n",
       "        </tr>\n",
       "    </thead>\n",
       "    <tbody>\n",
       "        <tr>\n",
       "            <td>4   </td> <td>5   </td>\n",
       "        </tr>\n",
       "        <tr>\n",
       "            <td>4   </td> <td>7   </td>\n",
       "        </tr>\n",
       "    </tbody>\n",
       "</table>"
      ],
      "text/plain": [
       "Even | Odd\n",
       "4    | 5\n",
       "4    | 7"
      ]
     },
     "execution_count": 48,
     "metadata": {},
     "output_type": "execute_result"
    }
   ],
   "source": [
    "t.where('Even', 4)"
   ]
  },
  {
   "cell_type": "code",
   "execution_count": 50,
   "metadata": {},
   "outputs": [
    {
     "data": {
      "text/html": [
       "<table border=\"1\" class=\"dataframe\">\n",
       "    <thead>\n",
       "        <tr>\n",
       "            <th>Even</th> <th>Odd</th>\n",
       "        </tr>\n",
       "    </thead>\n",
       "    <tbody>\n",
       "        <tr>\n",
       "            <td>4   </td> <td>5   </td>\n",
       "        </tr>\n",
       "        <tr>\n",
       "            <td>4   </td> <td>7   </td>\n",
       "        </tr>\n",
       "    </tbody>\n",
       "</table>"
      ],
      "text/plain": [
       "Even | Odd\n",
       "4    | 5\n",
       "4    | 7"
      ]
     },
     "execution_count": 50,
     "metadata": {},
     "output_type": "execute_result"
    }
   ],
   "source": [
    "t.where(0, 4)"
   ]
  },
  {
   "cell_type": "code",
   "execution_count": 51,
   "metadata": {},
   "outputs": [
    {
     "data": {
      "text/html": [
       "<table border=\"1\" class=\"dataframe\">\n",
       "    <thead>\n",
       "        <tr>\n",
       "            <th>Even</th> <th>Odd</th>\n",
       "        </tr>\n",
       "    </thead>\n",
       "    <tbody>\n",
       "        <tr>\n",
       "            <td>2   </td> <td>3   </td>\n",
       "        </tr>\n",
       "        <tr>\n",
       "            <td>4   </td> <td>5   </td>\n",
       "        </tr>\n",
       "    </tbody>\n",
       "</table>"
      ],
      "text/plain": [
       "Even | Odd\n",
       "2    | 3\n",
       "4    | 5"
      ]
     },
     "execution_count": 51,
     "metadata": {},
     "output_type": "execute_result"
    }
   ],
   "source": [
    "t.where(1, are.not_above(5))"
   ]
  },
  {
   "cell_type": "code",
   "execution_count": 52,
   "metadata": {},
   "outputs": [
    {
     "data": {
      "text/html": [
       "<table border=\"1\" class=\"dataframe\">\n",
       "    <thead>\n",
       "        <tr>\n",
       "            <th>Even</th> <th>Odd</th>\n",
       "        </tr>\n",
       "    </thead>\n",
       "    <tbody>\n",
       "        <tr>\n",
       "            <td>2   </td> <td>3   </td>\n",
       "        </tr>\n",
       "        <tr>\n",
       "            <td>4   </td> <td>5   </td>\n",
       "        </tr>\n",
       "        <tr>\n",
       "            <td>6   </td> <td>7   </td>\n",
       "        </tr>\n",
       "        <tr>\n",
       "            <td>4   </td> <td>7   </td>\n",
       "        </tr>\n",
       "    </tbody>\n",
       "</table>"
      ],
      "text/plain": [
       "Even | Odd\n",
       "2    | 3\n",
       "4    | 5\n",
       "6    | 7\n",
       "4    | 7"
      ]
     },
     "execution_count": 52,
     "metadata": {},
     "output_type": "execute_result"
    }
   ],
   "source": [
    "t"
   ]
  },
  {
   "cell_type": "code",
   "execution_count": 53,
   "metadata": {},
   "outputs": [
    {
     "name": "stdout",
     "output_type": "stream",
     "text": [
      "Help on class are in module datascience.predicates:\n",
      "\n",
      "class are(builtins.object)\n",
      " |  Predicate functions. The class is named \"are\" for calls to where.\n",
      " |  \n",
      " |  For example, given a table, predicates can be used to pick rows as follows.\n",
      " |  \n",
      " |  >>> from datascience import Table\n",
      " |  >>> t = Table().with_columns([\n",
      " |  ...    'Sizes', ['S', 'M', 'L', 'XL'],\n",
      " |  ...    'Waists', [30, 34, 38, 42],\n",
      " |  ... ])\n",
      " |  >>> t.where('Sizes',  are.equal_to('L'))\n",
      " |  Sizes | Waists\n",
      " |  L     | 38\n",
      " |  >>> t.where('Waists', are.above(38))\n",
      " |  Sizes | Waists\n",
      " |  XL    | 42\n",
      " |  >>> t.where('Waists', are.above_or_equal_to(38))\n",
      " |  Sizes | Waists\n",
      " |  L     | 38\n",
      " |  XL    | 42\n",
      " |  >>> t.where('Waists', are.below(38))\n",
      " |  Sizes | Waists\n",
      " |  S     | 30\n",
      " |  M     | 34\n",
      " |  >>> t.where('Waists', are.below_or_equal_to(38))\n",
      " |  Sizes | Waists\n",
      " |  S     | 30\n",
      " |  M     | 34\n",
      " |  L     | 38\n",
      " |  >>> t.where('Waists', are.strictly_between(30, 38))\n",
      " |  Sizes | Waists\n",
      " |  M     | 34\n",
      " |  >>> t.where('Waists', are.between(30, 38))\n",
      " |  Sizes | Waists\n",
      " |  S     | 30\n",
      " |  M     | 34\n",
      " |  >>> t.where('Waists', are.between_or_equal_to(30, 38))\n",
      " |  Sizes | Waists\n",
      " |  S     | 30\n",
      " |  M     | 34\n",
      " |  L     | 38\n",
      " |  >>> t.where('Sizes',  are.equal_to('L'))\n",
      " |  Sizes | Waists\n",
      " |  L     | 38\n",
      " |  >>> t.where('Waists', are.not_above(38))\n",
      " |  Sizes | Waists\n",
      " |  S     | 30\n",
      " |  M     | 34\n",
      " |  L     | 38\n",
      " |  >>> t.where('Waists', are.not_above_or_equal_to(38))\n",
      " |  Sizes | Waists\n",
      " |  S     | 30\n",
      " |  M     | 34\n",
      " |  >>> t.where('Waists', are.not_below(38))\n",
      " |  Sizes | Waists\n",
      " |  L     | 38\n",
      " |  XL    | 42\n",
      " |  >>> t.where('Waists', are.not_below_or_equal_to(38))\n",
      " |  Sizes | Waists\n",
      " |  XL    | 42\n",
      " |  >>> t.where('Waists', are.not_strictly_between(30, 38))\n",
      " |  Sizes | Waists\n",
      " |  S     | 30\n",
      " |  L     | 38\n",
      " |  XL    | 42\n",
      " |  >>> t.where('Waists', are.not_between(30, 38))\n",
      " |  Sizes | Waists\n",
      " |  L     | 38\n",
      " |  XL    | 42\n",
      " |  >>> t.where('Waists', are.not_between_or_equal_to(30, 38))\n",
      " |  Sizes | Waists\n",
      " |  XL    | 42\n",
      " |  >>> t.where('Sizes', are.containing('L'))\n",
      " |  Sizes | Waists\n",
      " |  L     | 38\n",
      " |  XL    | 42\n",
      " |  >>> t.where('Sizes', are.not_containing('L'))\n",
      " |  Sizes | Waists\n",
      " |  S     | 30\n",
      " |  M     | 34\n",
      " |  >>> t.where('Sizes', are.contained_in('MXL'))\n",
      " |  Sizes | Waists\n",
      " |  M     | 34\n",
      " |  L     | 38\n",
      " |  XL    | 42\n",
      " |  >>> t.where('Sizes', are.contained_in('L'))\n",
      " |  Sizes | Waists\n",
      " |  L     | 38\n",
      " |  >>> t.where('Sizes', are.not_contained_in('MXL'))\n",
      " |  Sizes | Waists\n",
      " |  S     | 30\n",
      " |  \n",
      " |  Static methods defined here:\n",
      " |  \n",
      " |  above(y)\n",
      " |      Greater than y.\n",
      " |  \n",
      " |  above_or_equal_to(y)\n",
      " |      Greater than or equal to y.\n",
      " |  \n",
      " |  below(y)\n",
      " |      Less than y.\n",
      " |  \n",
      " |  below_or_equal_to(y)\n",
      " |      Less than or equal to y.\n",
      " |  \n",
      " |  between(y, z)\n",
      " |      Greater than or equal to y and less than z.\n",
      " |  \n",
      " |  between_or_equal_to(y, z)\n",
      " |      Greater than or equal to y and less than or equal to z.\n",
      " |  \n",
      " |  contained_in(superstring)\n",
      " |      A string that is part of the given superstring.\n",
      " |  \n",
      " |  containing(substring)\n",
      " |      A string that contains within it the given substring.\n",
      " |  \n",
      " |  equal_to(y)\n",
      " |      Equal to y.\n",
      " |  \n",
      " |  not_above(y)\n",
      " |      Is not above y\n",
      " |  \n",
      " |  not_above_or_equal_to(y)\n",
      " |      Is neither above y nor equal to y\n",
      " |  \n",
      " |  not_below(y)\n",
      " |      Is not below y\n",
      " |  \n",
      " |  not_below_or_equal_to(y)\n",
      " |      Is neither below y nor equal to y\n",
      " |  \n",
      " |  not_between(y, z)\n",
      " |      Is equal to y or less than y or greater than z\n",
      " |  \n",
      " |  not_between_or_equal_to(y, z)\n",
      " |      Is less than y or greater than z\n",
      " |  \n",
      " |  not_contained_in(superstring)\n",
      " |      A string that is not contained within the superstring\n",
      " |  \n",
      " |  not_containing(substring)\n",
      " |      A string that does not contain substring\n",
      " |  \n",
      " |  not_equal_to(y)\n",
      " |      Is not equal to y\n",
      " |  \n",
      " |  not_strictly_between(y, z)\n",
      " |      Is equal to y or equal to z or less than y or greater than z\n",
      " |  \n",
      " |  strictly_between(y, z)\n",
      " |      Greater than y and less than z.\n",
      " |  \n",
      " |  ----------------------------------------------------------------------\n",
      " |  Data descriptors defined here:\n",
      " |  \n",
      " |  __dict__\n",
      " |      dictionary for instance variables (if defined)\n",
      " |  \n",
      " |  __weakref__\n",
      " |      list of weak references to the object (if defined)\n",
      "\n"
     ]
    }
   ],
   "source": [
    "help(are)"
   ]
  },
  {
   "cell_type": "markdown",
   "metadata": {},
   "source": [
    "#### Discussion"
   ]
  },
  {
   "cell_type": "code",
   "execution_count": 54,
   "metadata": {},
   "outputs": [
    {
     "data": {
      "text/html": [
       "<table border=\"1\" class=\"dataframe\">\n",
       "    <thead>\n",
       "        <tr>\n",
       "            <th>PLAYER</th> <th>POSITION</th> <th>TEAM</th> <th>2015-2016 SALARY</th>\n",
       "        </tr>\n",
       "    </thead>\n",
       "    <tbody>\n",
       "        <tr>\n",
       "            <td>Paul Millsap    </td> <td>PF      </td> <td>Atlanta Hawks </td> <td>18.6717         </td>\n",
       "        </tr>\n",
       "        <tr>\n",
       "            <td>Al Horford      </td> <td>C       </td> <td>Atlanta Hawks </td> <td>12              </td>\n",
       "        </tr>\n",
       "        <tr>\n",
       "            <td>Tiago Splitter  </td> <td>C       </td> <td>Atlanta Hawks </td> <td>9.75625         </td>\n",
       "        </tr>\n",
       "        <tr>\n",
       "            <td>Jeff Teague     </td> <td>PG      </td> <td>Atlanta Hawks </td> <td>8               </td>\n",
       "        </tr>\n",
       "        <tr>\n",
       "            <td>Kyle Korver     </td> <td>SG      </td> <td>Atlanta Hawks </td> <td>5.74648         </td>\n",
       "        </tr>\n",
       "        <tr>\n",
       "            <td>Thabo Sefolosha </td> <td>SF      </td> <td>Atlanta Hawks </td> <td>4               </td>\n",
       "        </tr>\n",
       "        <tr>\n",
       "            <td>Mike Scott      </td> <td>PF      </td> <td>Atlanta Hawks </td> <td>3.33333         </td>\n",
       "        </tr>\n",
       "        <tr>\n",
       "            <td>Kent Bazemore   </td> <td>SF      </td> <td>Atlanta Hawks </td> <td>2               </td>\n",
       "        </tr>\n",
       "        <tr>\n",
       "            <td>Dennis Schroder </td> <td>PG      </td> <td>Atlanta Hawks </td> <td>1.7634          </td>\n",
       "        </tr>\n",
       "        <tr>\n",
       "            <td>Tim Hardaway Jr.</td> <td>SG      </td> <td>Atlanta Hawks </td> <td>1.30452         </td>\n",
       "        </tr>\n",
       "        <tr>\n",
       "            <td>Walter Tavares  </td> <td>C       </td> <td>Atlanta Hawks </td> <td>1               </td>\n",
       "        </tr>\n",
       "        <tr>\n",
       "            <td>Jason Richardson</td> <td>SG      </td> <td>Atlanta Hawks </td> <td>0.947276        </td>\n",
       "        </tr>\n",
       "        <tr>\n",
       "            <td>Lamar Patterson </td> <td>SG      </td> <td>Atlanta Hawks </td> <td>0.525093        </td>\n",
       "        </tr>\n",
       "        <tr>\n",
       "            <td>Terran Petteway </td> <td>SG      </td> <td>Atlanta Hawks </td> <td>0.525093        </td>\n",
       "        </tr>\n",
       "        <tr>\n",
       "            <td>Avery Bradley   </td> <td>PG      </td> <td>Boston Celtics</td> <td>7.73034         </td>\n",
       "        </tr>\n",
       "        <tr>\n",
       "            <td>Isaiah Thomas   </td> <td>PG      </td> <td>Boston Celtics</td> <td>6.91287         </td>\n",
       "        </tr>\n",
       "        <tr>\n",
       "            <td>Jae Crowder     </td> <td>SF      </td> <td>Boston Celtics</td> <td>6.79612         </td>\n",
       "        </tr>\n",
       "        <tr>\n",
       "            <td>Jonas Jerebko   </td> <td>PF      </td> <td>Boston Celtics</td> <td>5               </td>\n",
       "        </tr>\n",
       "        <tr>\n",
       "            <td>Marcus Smart    </td> <td>PG      </td> <td>Boston Celtics</td> <td>3.43104         </td>\n",
       "        </tr>\n",
       "        <tr>\n",
       "            <td>Evan Turner     </td> <td>SG      </td> <td>Boston Celtics</td> <td>3.42551         </td>\n",
       "        </tr>\n",
       "    </tbody>\n",
       "</table>\n",
       "<p>... (397 rows omitted)</p>"
      ],
      "text/plain": [
       "<IPython.core.display.HTML object>"
      ]
     },
     "metadata": {},
     "output_type": "display_data"
    }
   ],
   "source": [
    "nba = Table.read_table('nba_salaries.csv')\n",
    "nba.show(20)"
   ]
  },
  {
   "cell_type": "code",
   "execution_count": 55,
   "metadata": {},
   "outputs": [
    {
     "data": {
      "text/html": [
       "<table border=\"1\" class=\"dataframe\">\n",
       "    <thead>\n",
       "        <tr>\n",
       "            <th>NAME</th> <th>POSITION</th> <th>SALARY</th>\n",
       "        </tr>\n",
       "    </thead>\n",
       "    <tbody>\n",
       "        <tr>\n",
       "            <td>Paul Millsap    </td> <td>PF      </td> <td>18.6717</td>\n",
       "        </tr>\n",
       "        <tr>\n",
       "            <td>Al Horford      </td> <td>C       </td> <td>12     </td>\n",
       "        </tr>\n",
       "        <tr>\n",
       "            <td>Tiago Splitter  </td> <td>C       </td> <td>9.75625</td>\n",
       "        </tr>\n",
       "        <tr>\n",
       "            <td>Jeff Teague     </td> <td>PG      </td> <td>8      </td>\n",
       "        </tr>\n",
       "        <tr>\n",
       "            <td>Kyle Korver     </td> <td>SG      </td> <td>5.74648</td>\n",
       "        </tr>\n",
       "        <tr>\n",
       "            <td>Thabo Sefolosha </td> <td>SF      </td> <td>4      </td>\n",
       "        </tr>\n",
       "        <tr>\n",
       "            <td>Mike Scott      </td> <td>PF      </td> <td>3.33333</td>\n",
       "        </tr>\n",
       "        <tr>\n",
       "            <td>Kent Bazemore   </td> <td>SF      </td> <td>2      </td>\n",
       "        </tr>\n",
       "        <tr>\n",
       "            <td>Dennis Schroder </td> <td>PG      </td> <td>1.7634 </td>\n",
       "        </tr>\n",
       "        <tr>\n",
       "            <td>Tim Hardaway Jr.</td> <td>SG      </td> <td>1.30452</td>\n",
       "        </tr>\n",
       "    </tbody>\n",
       "</table>\n",
       "<p>... (407 rows omitted)</p>"
      ],
      "text/plain": [
       "NAME             | POSITION | SALARY\n",
       "Paul Millsap     | PF       | 18.6717\n",
       "Al Horford       | C        | 12\n",
       "Tiago Splitter   | C        | 9.75625\n",
       "Jeff Teague      | PG       | 8\n",
       "Kyle Korver      | SG       | 5.74648\n",
       "Thabo Sefolosha  | SF       | 4\n",
       "Mike Scott       | PF       | 3.33333\n",
       "Kent Bazemore    | SF       | 2\n",
       "Dennis Schroder  | PG       | 1.7634\n",
       "Tim Hardaway Jr. | SG       | 1.30452\n",
       "... (407 rows omitted)"
      ]
     },
     "execution_count": 55,
     "metadata": {},
     "output_type": "execute_result"
    }
   ],
   "source": [
    "nba = nba.drop('TEAM').relabeled(0, 'NAME').relabeled(2, 'SALARY')\n",
    "nba"
   ]
  },
  {
   "cell_type": "markdown",
   "metadata": {},
   "source": [
    "Create an array containing the names of all point guards (PG) who make more than $15M/year"
   ]
  },
  {
   "cell_type": "code",
   "execution_count": 56,
   "metadata": {},
   "outputs": [
    {
     "data": {
      "text/plain": [
       "array(['Derrick Rose', 'Kyrie Irving', 'Chris Paul', 'Russell Westbrook',\n",
       "       'John Wall'], dtype='<U24')"
      ]
     },
     "execution_count": 56,
     "metadata": {},
     "output_type": "execute_result"
    }
   ],
   "source": [
    "nba.where(\"POSITION\", \"PG\").where(\"SALARY\", are.above(15)).column(0)"
   ]
  },
  {
   "cell_type": "markdown",
   "metadata": {},
   "source": [
    "What does this code return?"
   ]
  },
  {
   "cell_type": "code",
   "execution_count": 58,
   "metadata": {},
   "outputs": [
    {
     "data": {
      "text/html": [
       "<table border=\"1\" class=\"dataframe\">\n",
       "    <thead>\n",
       "        <tr>\n",
       "            <th>NAME</th> <th>POSITION</th> <th>SALARY</th>\n",
       "        </tr>\n",
       "    </thead>\n",
       "    <tbody>\n",
       "        <tr>\n",
       "            <td>Samosa</td> <td>Mascot  </td> <td>100   </td>\n",
       "        </tr>\n",
       "        <tr>\n",
       "            <td>Samosa</td> <td>Mascot  </td> <td>100   </td>\n",
       "        </tr>\n",
       "    </tbody>\n",
       "</table>"
      ],
      "text/plain": [
       "NAME   | POSITION | SALARY\n",
       "Samosa | Mascot   | 100\n",
       "Samosa | Mascot   | 100"
      ]
     },
     "execution_count": 58,
     "metadata": {},
     "output_type": "execute_result"
    }
   ],
   "source": [
    "nba = nba.with_row(['Samosa', 'Mascot', 100])\n",
    "nba.where('NAME', are.containing('Samo'))"
   ]
  },
  {
   "cell_type": "markdown",
   "metadata": {},
   "source": [
    "## Census"
   ]
  },
  {
   "cell_type": "code",
   "execution_count": 59,
   "metadata": {},
   "outputs": [
    {
     "data": {
      "text/html": [
       "<table border=\"1\" class=\"dataframe\">\n",
       "    <thead>\n",
       "        <tr>\n",
       "            <th>SEX</th> <th>AGE</th> <th>CENSUS2010POP</th> <th>ESTIMATESBASE2010</th> <th>POPESTIMATE2010</th> <th>POPESTIMATE2011</th> <th>POPESTIMATE2012</th> <th>POPESTIMATE2013</th> <th>POPESTIMATE2014</th>\n",
       "        </tr>\n",
       "    </thead>\n",
       "    <tbody>\n",
       "        <tr>\n",
       "            <td>0   </td> <td>0   </td> <td>3944153      </td> <td>3944160          </td> <td>3951330        </td> <td>3963071        </td> <td>3926665        </td> <td>3945610        </td> <td>3948350        </td>\n",
       "        </tr>\n",
       "        <tr>\n",
       "            <td>0   </td> <td>1   </td> <td>3978070      </td> <td>3978090          </td> <td>3957888        </td> <td>3966510        </td> <td>3978006        </td> <td>3943077        </td> <td>3962123        </td>\n",
       "        </tr>\n",
       "        <tr>\n",
       "            <td>0   </td> <td>2   </td> <td>4096929      </td> <td>4096939          </td> <td>4090862        </td> <td>3971573        </td> <td>3979952        </td> <td>3992690        </td> <td>3957772        </td>\n",
       "        </tr>\n",
       "        <tr>\n",
       "            <td>0   </td> <td>3   </td> <td>4119040      </td> <td>4119051          </td> <td>4111920        </td> <td>4102501        </td> <td>3983049        </td> <td>3992425        </td> <td>4005190        </td>\n",
       "        </tr>\n",
       "        <tr>\n",
       "            <td>0   </td> <td>4   </td> <td>4063170      </td> <td>4063186          </td> <td>4077552        </td> <td>4122303        </td> <td>4112638        </td> <td>3994047        </td> <td>4003448        </td>\n",
       "        </tr>\n",
       "        <tr>\n",
       "            <td>0   </td> <td>5   </td> <td>4056858      </td> <td>4056872          </td> <td>4064653        </td> <td>4087713        </td> <td>4132210        </td> <td>4123408        </td> <td>4004858        </td>\n",
       "        </tr>\n",
       "        <tr>\n",
       "            <td>0   </td> <td>6   </td> <td>4066381      </td> <td>4066412          </td> <td>4073013        </td> <td>4074979        </td> <td>4097780        </td> <td>4143094        </td> <td>4134352        </td>\n",
       "        </tr>\n",
       "        <tr>\n",
       "            <td>0   </td> <td>7   </td> <td>4030579      </td> <td>4030594          </td> <td>4043047        </td> <td>4083240        </td> <td>4084964        </td> <td>4108615        </td> <td>4154000        </td>\n",
       "        </tr>\n",
       "        <tr>\n",
       "            <td>0   </td> <td>8   </td> <td>4046486      </td> <td>4046497          </td> <td>4025604        </td> <td>4053206        </td> <td>4093213        </td> <td>4095827        </td> <td>4119524        </td>\n",
       "        </tr>\n",
       "        <tr>\n",
       "            <td>0   </td> <td>9   </td> <td>4148353      </td> <td>4148369          </td> <td>4125415        </td> <td>4035769        </td> <td>4063193        </td> <td>4104133        </td> <td>4106832        </td>\n",
       "        </tr>\n",
       "    </tbody>\n",
       "</table>\n",
       "<p>... (296 rows omitted)</p>"
      ],
      "text/plain": [
       "SEX  | AGE  | CENSUS2010POP | ESTIMATESBASE2010 | POPESTIMATE2010 | POPESTIMATE2011 | POPESTIMATE2012 | POPESTIMATE2013 | POPESTIMATE2014\n",
       "0    | 0    | 3944153       | 3944160           | 3951330         | 3963071         | 3926665         | 3945610         | 3948350\n",
       "0    | 1    | 3978070       | 3978090           | 3957888         | 3966510         | 3978006         | 3943077         | 3962123\n",
       "0    | 2    | 4096929       | 4096939           | 4090862         | 3971573         | 3979952         | 3992690         | 3957772\n",
       "0    | 3    | 4119040       | 4119051           | 4111920         | 4102501         | 3983049         | 3992425         | 4005190\n",
       "0    | 4    | 4063170       | 4063186           | 4077552         | 4122303         | 4112638         | 3994047         | 4003448\n",
       "0    | 5    | 4056858       | 4056872           | 4064653         | 4087713         | 4132210         | 4123408         | 4004858\n",
       "0    | 6    | 4066381       | 4066412           | 4073013         | 4074979         | 4097780         | 4143094         | 4134352\n",
       "0    | 7    | 4030579       | 4030594           | 4043047         | 4083240         | 4084964         | 4108615         | 4154000\n",
       "0    | 8    | 4046486       | 4046497           | 4025604         | 4053206         | 4093213         | 4095827         | 4119524\n",
       "0    | 9    | 4148353       | 4148369           | 4125415         | 4035769         | 4063193         | 4104133         | 4106832\n",
       "... (296 rows omitted)"
      ]
     },
     "execution_count": 59,
     "metadata": {},
     "output_type": "execute_result"
    }
   ],
   "source": [
    "full = Table.read_table('NC-EST2014-AGESEX-RES.csv')\n",
    "full"
   ]
  },
  {
   "cell_type": "code",
   "execution_count": 62,
   "metadata": {},
   "outputs": [
    {
     "data": {
      "text/html": [
       "<table border=\"1\" class=\"dataframe\">\n",
       "    <thead>\n",
       "        <tr>\n",
       "            <th>SEX</th> <th>AGE</th> <th>CENSUS2010POP</th> <th>ESTIMATESBASE2010</th> <th>POPESTIMATE2010</th> <th>POPESTIMATE2011</th> <th>POPESTIMATE2012</th> <th>POPESTIMATE2013</th> <th>POPESTIMATE2014</th>\n",
       "        </tr>\n",
       "    </thead>\n",
       "    <tbody>\n",
       "        <tr>\n",
       "            <td>0   </td> <td>0   </td> <td>3944153      </td> <td>3944160          </td> <td>3951330        </td> <td>3963071        </td> <td>3926665        </td> <td>3945610        </td> <td>3948350        </td>\n",
       "        </tr>\n",
       "        <tr>\n",
       "            <td>1   </td> <td>0   </td> <td>2014276      </td> <td>2014278          </td> <td>2018420        </td> <td>2028434        </td> <td>2007693        </td> <td>2015537        </td> <td>2017857        </td>\n",
       "        </tr>\n",
       "        <tr>\n",
       "            <td>2   </td> <td>0   </td> <td>1929877      </td> <td>1929882          </td> <td>1932910        </td> <td>1934637        </td> <td>1918972        </td> <td>1930073        </td> <td>1930493        </td>\n",
       "        </tr>\n",
       "    </tbody>\n",
       "</table>"
      ],
      "text/plain": [
       "SEX  | AGE  | CENSUS2010POP | ESTIMATESBASE2010 | POPESTIMATE2010 | POPESTIMATE2011 | POPESTIMATE2012 | POPESTIMATE2013 | POPESTIMATE2014\n",
       "0    | 0    | 3944153       | 3944160           | 3951330         | 3963071         | 3926665         | 3945610         | 3948350\n",
       "1    | 0    | 2014276       | 2014278           | 2018420         | 2028434         | 2007693         | 2015537         | 2017857\n",
       "2    | 0    | 1929877       | 1929882           | 1932910         | 1934637         | 1918972         | 1930073         | 1930493"
      ]
     },
     "execution_count": 62,
     "metadata": {},
     "output_type": "execute_result"
    }
   ],
   "source": [
    "full.where(1, 0)"
   ]
  },
  {
   "cell_type": "code",
   "execution_count": 61,
   "metadata": {},
   "outputs": [
    {
     "data": {
      "text/html": [
       "<table border=\"1\" class=\"dataframe\">\n",
       "    <thead>\n",
       "        <tr>\n",
       "            <th>SEX</th> <th>AGE</th> <th>POPESTIMATE2010</th> <th>POPESTIMATE2014</th>\n",
       "        </tr>\n",
       "    </thead>\n",
       "    <tbody>\n",
       "        <tr>\n",
       "            <td>0   </td> <td>0   </td> <td>3951330        </td> <td>3948350        </td>\n",
       "        </tr>\n",
       "        <tr>\n",
       "            <td>0   </td> <td>1   </td> <td>3957888        </td> <td>3962123        </td>\n",
       "        </tr>\n",
       "        <tr>\n",
       "            <td>0   </td> <td>2   </td> <td>4090862        </td> <td>3957772        </td>\n",
       "        </tr>\n",
       "        <tr>\n",
       "            <td>0   </td> <td>3   </td> <td>4111920        </td> <td>4005190        </td>\n",
       "        </tr>\n",
       "        <tr>\n",
       "            <td>0   </td> <td>4   </td> <td>4077552        </td> <td>4003448        </td>\n",
       "        </tr>\n",
       "        <tr>\n",
       "            <td>0   </td> <td>5   </td> <td>4064653        </td> <td>4004858        </td>\n",
       "        </tr>\n",
       "        <tr>\n",
       "            <td>0   </td> <td>6   </td> <td>4073013        </td> <td>4134352        </td>\n",
       "        </tr>\n",
       "        <tr>\n",
       "            <td>0   </td> <td>7   </td> <td>4043047        </td> <td>4154000        </td>\n",
       "        </tr>\n",
       "        <tr>\n",
       "            <td>0   </td> <td>8   </td> <td>4025604        </td> <td>4119524        </td>\n",
       "        </tr>\n",
       "        <tr>\n",
       "            <td>0   </td> <td>9   </td> <td>4125415        </td> <td>4106832        </td>\n",
       "        </tr>\n",
       "    </tbody>\n",
       "</table>\n",
       "<p>... (296 rows omitted)</p>"
      ],
      "text/plain": [
       "SEX  | AGE  | POPESTIMATE2010 | POPESTIMATE2014\n",
       "0    | 0    | 3951330         | 3948350\n",
       "0    | 1    | 3957888         | 3962123\n",
       "0    | 2    | 4090862         | 3957772\n",
       "0    | 3    | 4111920         | 4005190\n",
       "0    | 4    | 4077552         | 4003448\n",
       "0    | 5    | 4064653         | 4004858\n",
       "0    | 6    | 4073013         | 4134352\n",
       "0    | 7    | 4043047         | 4154000\n",
       "0    | 8    | 4025604         | 4119524\n",
       "0    | 9    | 4125415         | 4106832\n",
       "... (296 rows omitted)"
      ]
     },
     "execution_count": 61,
     "metadata": {},
     "output_type": "execute_result"
    }
   ],
   "source": [
    "partial = full.select(['SEX', 'AGE', 4, 8])\n",
    "partial"
   ]
  },
  {
   "cell_type": "code",
   "execution_count": 63,
   "metadata": {},
   "outputs": [
    {
     "data": {
      "text/html": [
       "<table border=\"1\" class=\"dataframe\">\n",
       "    <thead>\n",
       "        <tr>\n",
       "            <th>SEX</th> <th>AGE</th> <th>2010</th> <th>2014</th>\n",
       "        </tr>\n",
       "    </thead>\n",
       "    <tbody>\n",
       "        <tr>\n",
       "            <td>0   </td> <td>0   </td> <td>3951330</td> <td>3948350</td>\n",
       "        </tr>\n",
       "        <tr>\n",
       "            <td>0   </td> <td>1   </td> <td>3957888</td> <td>3962123</td>\n",
       "        </tr>\n",
       "        <tr>\n",
       "            <td>0   </td> <td>2   </td> <td>4090862</td> <td>3957772</td>\n",
       "        </tr>\n",
       "        <tr>\n",
       "            <td>0   </td> <td>3   </td> <td>4111920</td> <td>4005190</td>\n",
       "        </tr>\n",
       "        <tr>\n",
       "            <td>0   </td> <td>4   </td> <td>4077552</td> <td>4003448</td>\n",
       "        </tr>\n",
       "        <tr>\n",
       "            <td>0   </td> <td>5   </td> <td>4064653</td> <td>4004858</td>\n",
       "        </tr>\n",
       "        <tr>\n",
       "            <td>0   </td> <td>6   </td> <td>4073013</td> <td>4134352</td>\n",
       "        </tr>\n",
       "        <tr>\n",
       "            <td>0   </td> <td>7   </td> <td>4043047</td> <td>4154000</td>\n",
       "        </tr>\n",
       "        <tr>\n",
       "            <td>0   </td> <td>8   </td> <td>4025604</td> <td>4119524</td>\n",
       "        </tr>\n",
       "        <tr>\n",
       "            <td>0   </td> <td>9   </td> <td>4125415</td> <td>4106832</td>\n",
       "        </tr>\n",
       "    </tbody>\n",
       "</table>\n",
       "<p>... (296 rows omitted)</p>"
      ],
      "text/plain": [
       "SEX  | AGE  | 2010    | 2014\n",
       "0    | 0    | 3951330 | 3948350\n",
       "0    | 1    | 3957888 | 3962123\n",
       "0    | 2    | 4090862 | 3957772\n",
       "0    | 3    | 4111920 | 4005190\n",
       "0    | 4    | 4077552 | 4003448\n",
       "0    | 5    | 4064653 | 4004858\n",
       "0    | 6    | 4073013 | 4134352\n",
       "0    | 7    | 4043047 | 4154000\n",
       "0    | 8    | 4025604 | 4119524\n",
       "0    | 9    | 4125415 | 4106832\n",
       "... (296 rows omitted)"
      ]
     },
     "execution_count": 63,
     "metadata": {},
     "output_type": "execute_result"
    }
   ],
   "source": [
    "simple = partial.relabeled('POPESTIMATE2010', '2010').relabeled(3, '2014')\n",
    "simple"
   ]
  },
  {
   "cell_type": "code",
   "execution_count": 64,
   "metadata": {},
   "outputs": [
    {
     "data": {
      "text/plain": [
       "array([  0,   1,   2,   3,   4,   5,   6,   7,   8,   9,  10,  11,  12,\n",
       "        13,  14,  15,  16,  17,  18,  19,  20,  21,  22,  23,  24,  25,\n",
       "        26,  27,  28,  29,  30,  31,  32,  33,  34,  35,  36,  37,  38,\n",
       "        39,  40,  41,  42,  43,  44,  45,  46,  47,  48,  49,  50,  51,\n",
       "        52,  53,  54,  55,  56,  57,  58,  59,  60,  61,  62,  63,  64,\n",
       "        65,  66,  67,  68,  69,  70,  71,  72,  73,  74,  75,  76,  77,\n",
       "        78,  79,  80,  81,  82,  83,  84,  85,  86,  87,  88,  89,  90,\n",
       "        91,  92,  93,  94,  95,  96,  97,  98,  99, 100, 999,   0,   1,\n",
       "         2,   3,   4,   5,   6,   7,   8,   9,  10,  11,  12,  13,  14,\n",
       "        15,  16,  17,  18,  19,  20,  21,  22,  23,  24,  25,  26,  27,\n",
       "        28,  29,  30,  31,  32,  33,  34,  35,  36,  37,  38,  39,  40,\n",
       "        41,  42,  43,  44,  45,  46,  47,  48,  49,  50,  51,  52,  53,\n",
       "        54,  55,  56,  57,  58,  59,  60,  61,  62,  63,  64,  65,  66,\n",
       "        67,  68,  69,  70,  71,  72,  73,  74,  75,  76,  77,  78,  79,\n",
       "        80,  81,  82,  83,  84,  85,  86,  87,  88,  89,  90,  91,  92,\n",
       "        93,  94,  95,  96,  97,  98,  99, 100, 999,   0,   1,   2,   3,\n",
       "         4,   5,   6,   7,   8,   9,  10,  11,  12,  13,  14,  15,  16,\n",
       "        17,  18,  19,  20,  21,  22,  23,  24,  25,  26,  27,  28,  29,\n",
       "        30,  31,  32,  33,  34,  35,  36,  37,  38,  39,  40,  41,  42,\n",
       "        43,  44,  45,  46,  47,  48,  49,  50,  51,  52,  53,  54,  55,\n",
       "        56,  57,  58,  59,  60,  61,  62,  63,  64,  65,  66,  67,  68,\n",
       "        69,  70,  71,  72,  73,  74,  75,  76,  77,  78,  79,  80,  81,\n",
       "        82,  83,  84,  85,  86,  87,  88,  89,  90,  91,  92,  93,  94,\n",
       "        95,  96,  97,  98,  99, 100, 999])"
      ]
     },
     "execution_count": 64,
     "metadata": {},
     "output_type": "execute_result"
    }
   ],
   "source": [
    "partial.column(\"AGE\")"
   ]
  },
  {
   "cell_type": "markdown",
   "metadata": {},
   "source": [
    "What does AGE 999 mean?"
   ]
  },
  {
   "cell_type": "code",
   "execution_count": 65,
   "metadata": {},
   "outputs": [
    {
     "data": {
      "text/html": [
       "<table border=\"1\" class=\"dataframe\">\n",
       "    <thead>\n",
       "        <tr>\n",
       "            <th>SEX</th> <th>AGE</th> <th>POPESTIMATE2010</th> <th>POPESTIMATE2014</th>\n",
       "        </tr>\n",
       "    </thead>\n",
       "    <tbody>\n",
       "        <tr>\n",
       "            <td>0   </td> <td>999 </td> <td>309347057      </td> <td>318857056      </td>\n",
       "        </tr>\n",
       "        <tr>\n",
       "            <td>1   </td> <td>999 </td> <td>152089484      </td> <td>156936487      </td>\n",
       "        </tr>\n",
       "        <tr>\n",
       "            <td>2   </td> <td>999 </td> <td>157257573      </td> <td>161920569      </td>\n",
       "        </tr>\n",
       "    </tbody>\n",
       "</table>"
      ],
      "text/plain": [
       "SEX  | AGE  | POPESTIMATE2010 | POPESTIMATE2014\n",
       "0    | 999  | 309347057       | 318857056\n",
       "1    | 999  | 152089484       | 156936487\n",
       "2    | 999  | 157257573       | 161920569"
      ]
     },
     "execution_count": 65,
     "metadata": {},
     "output_type": "execute_result"
    }
   ],
   "source": [
    "partial.where('AGE', 999)"
   ]
  },
  {
   "cell_type": "markdown",
   "metadata": {},
   "source": [
    "Which age groups have populations that are changing fastest?"
   ]
  },
  {
   "cell_type": "code",
   "execution_count": 67,
   "metadata": {},
   "outputs": [
    {
     "data": {
      "text/html": [
       "<table border=\"1\" class=\"dataframe\">\n",
       "    <thead>\n",
       "        <tr>\n",
       "            <th>SEX</th> <th>AGE</th> <th>2010</th> <th>2014</th> <th>Change</th> <th>Growth</th>\n",
       "        </tr>\n",
       "    </thead>\n",
       "    <tbody>\n",
       "        <tr>\n",
       "            <td>0   </td> <td>0   </td> <td>3951330</td> <td>3948350</td> <td>-2980  </td> <td>-0.000188597</td>\n",
       "        </tr>\n",
       "        <tr>\n",
       "            <td>0   </td> <td>1   </td> <td>3957888</td> <td>3962123</td> <td>4235   </td> <td>0.000267397 </td>\n",
       "        </tr>\n",
       "        <tr>\n",
       "            <td>0   </td> <td>2   </td> <td>4090862</td> <td>3957772</td> <td>-133090</td> <td>-0.00823453 </td>\n",
       "        </tr>\n",
       "        <tr>\n",
       "            <td>0   </td> <td>3   </td> <td>4111920</td> <td>4005190</td> <td>-106730</td> <td>-0.0065532  </td>\n",
       "        </tr>\n",
       "        <tr>\n",
       "            <td>0   </td> <td>4   </td> <td>4077552</td> <td>4003448</td> <td>-74104 </td> <td>-0.00457471 </td>\n",
       "        </tr>\n",
       "        <tr>\n",
       "            <td>0   </td> <td>5   </td> <td>4064653</td> <td>4004858</td> <td>-59795 </td> <td>-0.00369821 </td>\n",
       "        </tr>\n",
       "        <tr>\n",
       "            <td>0   </td> <td>6   </td> <td>4073013</td> <td>4134352</td> <td>61339  </td> <td>0.00374389  </td>\n",
       "        </tr>\n",
       "        <tr>\n",
       "            <td>0   </td> <td>7   </td> <td>4043047</td> <td>4154000</td> <td>110953 </td> <td>0.00679123  </td>\n",
       "        </tr>\n",
       "        <tr>\n",
       "            <td>0   </td> <td>8   </td> <td>4025604</td> <td>4119524</td> <td>93920  </td> <td>0.00578232  </td>\n",
       "        </tr>\n",
       "        <tr>\n",
       "            <td>0   </td> <td>9   </td> <td>4125415</td> <td>4106832</td> <td>-18583 </td> <td>-0.00112804 </td>\n",
       "        </tr>\n",
       "    </tbody>\n",
       "</table>\n",
       "<p>... (296 rows omitted)</p>"
      ],
      "text/plain": [
       "SEX  | AGE  | 2010    | 2014    | Change  | Growth\n",
       "0    | 0    | 3951330 | 3948350 | -2980   | -0.000188597\n",
       "0    | 1    | 3957888 | 3962123 | 4235    | 0.000267397\n",
       "0    | 2    | 4090862 | 3957772 | -133090 | -0.00823453\n",
       "0    | 3    | 4111920 | 4005190 | -106730 | -0.0065532\n",
       "0    | 4    | 4077552 | 4003448 | -74104  | -0.00457471\n",
       "0    | 5    | 4064653 | 4004858 | -59795  | -0.00369821\n",
       "0    | 6    | 4073013 | 4134352 | 61339   | 0.00374389\n",
       "0    | 7    | 4043047 | 4154000 | 110953  | 0.00679123\n",
       "0    | 8    | 4025604 | 4119524 | 93920   | 0.00578232\n",
       "0    | 9    | 4125415 | 4106832 | -18583  | -0.00112804\n",
       "... (296 rows omitted)"
      ]
     },
     "execution_count": 67,
     "metadata": {},
     "output_type": "execute_result"
    }
   ],
   "source": [
    "census = simple.with_columns(\n",
    "        'Change', simple.column(3) - simple.column(2), \n",
    "        'Growth', (simple.column(3) / simple.column(2)) ** (1/4) - 1)\n",
    "census"
   ]
  },
  {
   "cell_type": "code",
   "execution_count": 68,
   "metadata": {},
   "outputs": [
    {
     "data": {
      "text/html": [
       "<table border=\"1\" class=\"dataframe\">\n",
       "    <thead>\n",
       "        <tr>\n",
       "            <th>SEX</th> <th>AGE</th> <th>2010</th> <th>2014</th> <th>Change</th> <th>Growth</th>\n",
       "        </tr>\n",
       "    </thead>\n",
       "    <tbody>\n",
       "        <tr>\n",
       "            <td>0   </td> <td>0   </td> <td>3,951,330</td> <td>3,948,350</td> <td>-2,980  </td> <td>-0.02%</td>\n",
       "        </tr>\n",
       "        <tr>\n",
       "            <td>0   </td> <td>1   </td> <td>3,957,888</td> <td>3,962,123</td> <td>4,235   </td> <td>0.03% </td>\n",
       "        </tr>\n",
       "        <tr>\n",
       "            <td>0   </td> <td>2   </td> <td>4,090,862</td> <td>3,957,772</td> <td>-133,090</td> <td>-0.82%</td>\n",
       "        </tr>\n",
       "        <tr>\n",
       "            <td>0   </td> <td>3   </td> <td>4,111,920</td> <td>4,005,190</td> <td>-106,730</td> <td>-0.66%</td>\n",
       "        </tr>\n",
       "        <tr>\n",
       "            <td>0   </td> <td>4   </td> <td>4,077,552</td> <td>4,003,448</td> <td>-74,104 </td> <td>-0.46%</td>\n",
       "        </tr>\n",
       "        <tr>\n",
       "            <td>0   </td> <td>5   </td> <td>4,064,653</td> <td>4,004,858</td> <td>-59,795 </td> <td>-0.37%</td>\n",
       "        </tr>\n",
       "        <tr>\n",
       "            <td>0   </td> <td>6   </td> <td>4,073,013</td> <td>4,134,352</td> <td>61,339  </td> <td>0.37% </td>\n",
       "        </tr>\n",
       "        <tr>\n",
       "            <td>0   </td> <td>7   </td> <td>4,043,047</td> <td>4,154,000</td> <td>110,953 </td> <td>0.68% </td>\n",
       "        </tr>\n",
       "        <tr>\n",
       "            <td>0   </td> <td>8   </td> <td>4,025,604</td> <td>4,119,524</td> <td>93,920  </td> <td>0.58% </td>\n",
       "        </tr>\n",
       "        <tr>\n",
       "            <td>0   </td> <td>9   </td> <td>4,125,415</td> <td>4,106,832</td> <td>-18,583 </td> <td>-0.11%</td>\n",
       "        </tr>\n",
       "    </tbody>\n",
       "</table>\n",
       "<p>... (296 rows omitted)</p>"
      ],
      "text/plain": [
       "SEX  | AGE  | 2010      | 2014      | Change   | Growth\n",
       "0    | 0    | 3,951,330 | 3,948,350 | -2,980   | -0.02%\n",
       "0    | 1    | 3,957,888 | 3,962,123 | 4,235    | 0.03%\n",
       "0    | 2    | 4,090,862 | 3,957,772 | -133,090 | -0.82%\n",
       "0    | 3    | 4,111,920 | 4,005,190 | -106,730 | -0.66%\n",
       "0    | 4    | 4,077,552 | 4,003,448 | -74,104  | -0.46%\n",
       "0    | 5    | 4,064,653 | 4,004,858 | -59,795  | -0.37%\n",
       "0    | 6    | 4,073,013 | 4,134,352 | 61,339   | 0.37%\n",
       "0    | 7    | 4,043,047 | 4,154,000 | 110,953  | 0.68%\n",
       "0    | 8    | 4,025,604 | 4,119,524 | 93,920   | 0.58%\n",
       "0    | 9    | 4,125,415 | 4,106,832 | -18,583  | -0.11%\n",
       "... (296 rows omitted)"
      ]
     },
     "execution_count": 68,
     "metadata": {},
     "output_type": "execute_result"
    }
   ],
   "source": [
    "census.set_format('Growth', PercentFormatter)\n",
    "census.set_format([2, 3, 4], NumberFormatter)"
   ]
  },
  {
   "cell_type": "markdown",
   "metadata": {},
   "source": [
    "How do the age distributions of men and women differ?"
   ]
  },
  {
   "cell_type": "code",
   "execution_count": 69,
   "metadata": {},
   "outputs": [],
   "source": [
    "males = census.where('SEX', 1).where('AGE', are.below(999))\n",
    "females = census.where('SEX', 2).where('AGE', are.below(999))"
   ]
  },
  {
   "cell_type": "code",
   "execution_count": 70,
   "metadata": {},
   "outputs": [
    {
     "data": {
      "text/html": [
       "<table border=\"1\" class=\"dataframe\">\n",
       "    <thead>\n",
       "        <tr>\n",
       "            <th>SEX</th> <th>AGE</th> <th>2010</th> <th>2014</th> <th>Change</th> <th>Growth</th>\n",
       "        </tr>\n",
       "    </thead>\n",
       "    <tbody>\n",
       "        <tr>\n",
       "            <td>2   </td> <td>54  </td> <td>2,196,798</td> <td>2,331,961</td> <td>135,163</td> <td>1.50% </td>\n",
       "        </tr>\n",
       "        <tr>\n",
       "            <td>2   </td> <td>53  </td> <td>2,268,457</td> <td>2,316,131</td> <td>47,674 </td> <td>0.52% </td>\n",
       "        </tr>\n",
       "        <tr>\n",
       "            <td>2   </td> <td>24  </td> <td>2,082,209</td> <td>2,301,237</td> <td>219,028</td> <td>2.53% </td>\n",
       "        </tr>\n",
       "        <tr>\n",
       "            <td>2   </td> <td>23  </td> <td>2,066,126</td> <td>2,298,701</td> <td>232,575</td> <td>2.70% </td>\n",
       "        </tr>\n",
       "        <tr>\n",
       "            <td>2   </td> <td>51  </td> <td>2,289,164</td> <td>2,283,261</td> <td>-5,903 </td> <td>-0.06%</td>\n",
       "        </tr>\n",
       "    </tbody>\n",
       "</table>\n",
       "<p>... (96 rows omitted)</p>"
      ],
      "text/plain": [
       "<IPython.core.display.HTML object>"
      ]
     },
     "metadata": {},
     "output_type": "display_data"
    }
   ],
   "source": [
    "females.sort('2014', descending=True).show(5)"
   ]
  },
  {
   "cell_type": "code",
   "execution_count": 71,
   "metadata": {},
   "outputs": [
    {
     "data": {
      "text/html": [
       "<table border=\"1\" class=\"dataframe\">\n",
       "    <thead>\n",
       "        <tr>\n",
       "            <th>SEX</th> <th>AGE</th> <th>2010</th> <th>2014</th> <th>Change</th> <th>Growth</th>\n",
       "        </tr>\n",
       "    </thead>\n",
       "    <tbody>\n",
       "        <tr>\n",
       "            <td>1   </td> <td>23  </td> <td>2,151,095</td> <td>2,399,883</td> <td>248,788</td> <td>2.77% </td>\n",
       "        </tr>\n",
       "        <tr>\n",
       "            <td>1   </td> <td>24  </td> <td>2,161,380</td> <td>2,391,398</td> <td>230,018</td> <td>2.56% </td>\n",
       "        </tr>\n",
       "        <tr>\n",
       "            <td>1   </td> <td>22  </td> <td>2,188,228</td> <td>2,367,842</td> <td>179,614</td> <td>1.99% </td>\n",
       "        </tr>\n",
       "        <tr>\n",
       "            <td>1   </td> <td>21  </td> <td>2,241,095</td> <td>2,310,734</td> <td>69,639 </td> <td>0.77% </td>\n",
       "        </tr>\n",
       "        <tr>\n",
       "            <td>1   </td> <td>25  </td> <td>2,177,171</td> <td>2,295,836</td> <td>118,665</td> <td>1.34% </td>\n",
       "        </tr>\n",
       "    </tbody>\n",
       "</table>\n",
       "<p>... (96 rows omitted)</p>"
      ],
      "text/plain": [
       "<IPython.core.display.HTML object>"
      ]
     },
     "metadata": {},
     "output_type": "display_data"
    }
   ],
   "source": [
    "males.sort('2014', descending=True).show(5)"
   ]
  },
  {
   "cell_type": "code",
   "execution_count": 72,
   "metadata": {},
   "outputs": [
    {
     "data": {
      "image/png": "[encoded data removed]",
      "text/plain": [
       "<Figure size 432x288 with 1 Axes>"
      ]
     },
     "metadata": {},
     "output_type": "display_data"
    }
   ],
   "source": [
    "Table().with_columns(\n",
    "    'Age in 2014', females.column('AGE'),\n",
    "    'Females', females.column('2014'),\n",
    "    'Males', males.column('2014'),\n",
    ").plot('Age in 2014')"
   ]
  },
  {
   "cell_type": "code",
   "execution_count": 73,
   "metadata": {},
   "outputs": [
    {
     "data": {
      "image/png": "[encoded data removed]",
      "text/plain": [
       "<Figure size 432x288 with 1 Axes>"
      ]
     },
     "metadata": {},
     "output_type": "display_data"
    }
   ],
   "source": [
    "Table().with_columns(\n",
    "    'Age in 2014', females.column('AGE'),\n",
    "    'Ratio', females.column('2014') / males.column('2014'),\n",
    ").plot('Age in 2014')"
   ]
  },
  {
   "cell_type": "code",
   "execution_count": 76,
   "metadata": {},
   "outputs": [
    {
     "data": {
      "text/html": [
       "<table border=\"1\" class=\"dataframe\">\n",
       "    <thead>\n",
       "        <tr>\n",
       "            <th>SEX</th> <th>AGE</th> <th>2010</th> <th>2014</th> <th>Change</th> <th>Growth</th>\n",
       "        </tr>\n",
       "    </thead>\n",
       "    <tbody>\n",
       "        <tr>\n",
       "            <td>2   </td> <td>64  </td> <td>1,414,220</td> <td>1,826,662</td> <td>412,442</td> <td>6.61% </td>\n",
       "        </tr>\n",
       "        <tr>\n",
       "            <td>2   </td> <td>65  </td> <td>1,405,839</td> <td>1,776,761</td> <td>370,922</td> <td>6.03% </td>\n",
       "        </tr>\n",
       "        <tr>\n",
       "            <td>2   </td> <td>66  </td> <td>1,381,541</td> <td>1,758,649</td> <td>377,108</td> <td>6.22% </td>\n",
       "        </tr>\n",
       "        <tr>\n",
       "            <td>2   </td> <td>67  </td> <td>1,423,561</td> <td>1,832,245</td> <td>408,684</td> <td>6.51% </td>\n",
       "        </tr>\n",
       "    </tbody>\n",
       "</table>"
      ],
      "text/plain": [
       "<IPython.core.display.HTML object>"
      ]
     },
     "metadata": {},
     "output_type": "display_data"
    }
   ],
   "source": [
    "females.where('Change', are.above(350000)).sort('AGE').show()"
   ]
  },
  {
   "cell_type": "code",
   "execution_count": 77,
   "metadata": {},
   "outputs": [
    {
     "data": {
      "text/html": [
       "<table border=\"1\" class=\"dataframe\">\n",
       "    <thead>\n",
       "        <tr>\n",
       "            <th>SEX</th> <th>AGE</th> <th>2010</th> <th>2014</th> <th>Change</th> <th>Growth</th>\n",
       "        </tr>\n",
       "    </thead>\n",
       "    <tbody>\n",
       "        <tr>\n",
       "            <td>2   </td> <td>55  </td> <td>2,183,762</td> <td>2,263,367</td> <td>79,605 </td> <td>0.90% </td>\n",
       "        </tr>\n",
       "        <tr>\n",
       "            <td>2   </td> <td>56  </td> <td>2,108,681</td> <td>2,254,749</td> <td>146,068</td> <td>1.69% </td>\n",
       "        </tr>\n",
       "        <tr>\n",
       "            <td>2   </td> <td>57  </td> <td>2,036,520</td> <td>2,237,030</td> <td>200,510</td> <td>2.38% </td>\n",
       "        </tr>\n",
       "        <tr>\n",
       "            <td>2   </td> <td>58  </td> <td>1,963,764</td> <td>2,163,798</td> <td>200,034</td> <td>2.45% </td>\n",
       "        </tr>\n",
       "        <tr>\n",
       "            <td>2   </td> <td>59  </td> <td>1,914,772</td> <td>2,148,517</td> <td>233,745</td> <td>2.92% </td>\n",
       "        </tr>\n",
       "        <tr>\n",
       "            <td>2   </td> <td>60  </td> <td>1,874,501</td> <td>2,071,358</td> <td>196,857</td> <td>2.53% </td>\n",
       "        </tr>\n",
       "        <tr>\n",
       "            <td>2   </td> <td>61  </td> <td>1,828,708</td> <td>1,997,348</td> <td>168,640</td> <td>2.23% </td>\n",
       "        </tr>\n",
       "        <tr>\n",
       "            <td>2   </td> <td>62  </td> <td>1,815,999</td> <td>1,922,318</td> <td>106,319</td> <td>1.43% </td>\n",
       "        </tr>\n",
       "        <tr>\n",
       "            <td>2   </td> <td>63  </td> <td>1,898,260</td> <td>1,870,552</td> <td>-27,708</td> <td>-0.37%</td>\n",
       "        </tr>\n",
       "        <tr>\n",
       "            <td>2   </td> <td>64  </td> <td>1,414,220</td> <td>1,826,662</td> <td>412,442</td> <td>6.61% </td>\n",
       "        </tr>\n",
       "        <tr>\n",
       "            <td>2   </td> <td>65  </td> <td>1,405,839</td> <td>1,776,761</td> <td>370,922</td> <td>6.03% </td>\n",
       "        </tr>\n",
       "        <tr>\n",
       "            <td>2   </td> <td>66  </td> <td>1,381,541</td> <td>1,758,649</td> <td>377,108</td> <td>6.22% </td>\n",
       "        </tr>\n",
       "        <tr>\n",
       "            <td>2   </td> <td>67  </td> <td>1,423,561</td> <td>1,832,245</td> <td>408,684</td> <td>6.51% </td>\n",
       "        </tr>\n",
       "        <tr>\n",
       "            <td>2   </td> <td>68  </td> <td>1,254,117</td> <td>1,361,047</td> <td>106,930</td> <td>2.07% </td>\n",
       "        </tr>\n",
       "        <tr>\n",
       "            <td>2   </td> <td>69  </td> <td>1,161,047</td> <td>1,347,458</td> <td>186,411</td> <td>3.79% </td>\n",
       "        </tr>\n",
       "    </tbody>\n",
       "</table>"
      ],
      "text/plain": [
       "<IPython.core.display.HTML object>"
      ]
     },
     "metadata": {},
     "output_type": "display_data"
    }
   ],
   "source": [
    "females.where('AGE', are.between(55, 70)).show()"
   ]
  },
  {
   "cell_type": "code",
   "execution_count": 78,
   "metadata": {},
   "outputs": [
    {
     "data": {
      "text/plain": [
       "array([1947, 1948, 1949, 1950])"
      ]
     },
     "execution_count": 78,
     "metadata": {},
     "output_type": "execute_result"
    }
   ],
   "source": [
    "2014 - make_array(67, 66, 65, 64)"
   ]
  },
  {
   "cell_type": "code",
   "execution_count": null,
   "metadata": {},
   "outputs": [],
   "source": []
  }
 ],
 "metadata": {
  "kernelspec": {
   "display_name": "Python 3",
   "language": "python",
   "name": "python3"
  },
  "language_info": {
   "codemirror_mode": {
    "name": "ipython",
    "version": 3
   },
   "file_extension": ".py",
   "mimetype": "text/x-python",
   "name": "python",
   "nbconvert_exporter": "python",
   "pygments_lexer": "ipython3",
   "version": "3.7.0"
  }
 },
 "nbformat": 4,
 "nbformat_minor": 1
}
