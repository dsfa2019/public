{
 "cells": [
  {
   "cell_type": "markdown",
   "metadata": {},
   "source": [
    "# Lecture 04 "
   ]
  },
  {
   "cell_type": "code",
   "execution_count": 1,
   "metadata": {},
   "outputs": [],
   "source": [
    "from datascience import *\n",
    "import numpy as np\n",
    "\n",
    "%matplotlib inline\n",
    "import matplotlib.pyplot as plots\n",
    "plots.style.use('fivethirtyeight')"
   ]
  },
  {
   "cell_type": "markdown",
   "metadata": {},
   "source": [
    "## Class Composition"
   ]
  },
  {
   "cell_type": "code",
   "execution_count": 2,
   "metadata": {},
   "outputs": [
    {
     "data": {
      "text/html": [
       "<table border=\"1\" class=\"dataframe\">\n",
       "    <thead>\n",
       "        <tr>\n",
       "            <th>College</th> <th>Students</th>\n",
       "        </tr>\n",
       "    </thead>\n",
       "    <tbody>\n",
       "        <tr>\n",
       "            <td>Agriculture and Life Sciences </td> <td>10      </td>\n",
       "        </tr>\n",
       "        <tr>\n",
       "            <td>Architecture                  </td> <td>2       </td>\n",
       "        </tr>\n",
       "        <tr>\n",
       "            <td>Architecture, Art and Planning</td> <td>2       </td>\n",
       "        </tr>\n",
       "        <tr>\n",
       "            <td>Arts and Sciences             </td> <td>40      </td>\n",
       "        </tr>\n",
       "        <tr>\n",
       "            <td>Business                      </td> <td>4       </td>\n",
       "        </tr>\n",
       "        <tr>\n",
       "            <td>Continuing Education          </td> <td>1       </td>\n",
       "        </tr>\n",
       "        <tr>\n",
       "            <td>Engineering                   </td> <td>3       </td>\n",
       "        </tr>\n",
       "        <tr>\n",
       "            <td>Human Ecology                 </td> <td>3       </td>\n",
       "        </tr>\n",
       "        <tr>\n",
       "            <td>Industrial and Labor Relations</td> <td>7       </td>\n",
       "        </tr>\n",
       "        <tr>\n",
       "            <td>Prof Masters Business         </td> <td>4       </td>\n",
       "        </tr>\n",
       "    </tbody>\n",
       "</table>\n",
       "<p>... (1 rows omitted)</p>"
      ],
      "text/plain": [
       "College                        | Students\n",
       "Agriculture and Life Sciences  | 10\n",
       "Architecture                   | 2\n",
       "Architecture, Art and Planning | 2\n",
       "Arts and Sciences              | 40\n",
       "Business                       | 4\n",
       "Continuing Education           | 1\n",
       "Engineering                    | 3\n",
       "Human Ecology                  | 3\n",
       "Industrial and Labor Relations | 7\n",
       "Prof Masters Business          | 4\n",
       "... (1 rows omitted)"
      ]
     },
     "execution_count": 2,
     "metadata": {},
     "output_type": "execute_result"
    }
   ],
   "source": [
    "College_info = Table.read_table('college_counts.csv')\n",
    "College_info"
   ]
  },
  {
   "cell_type": "code",
   "execution_count": 5,
   "metadata": {},
   "outputs": [
    {
     "data": {
      "text/html": [
       "<table border=\"1\" class=\"dataframe\">\n",
       "    <thead>\n",
       "        <tr>\n",
       "            <th>College</th> <th>Students</th>\n",
       "        </tr>\n",
       "    </thead>\n",
       "    <tbody>\n",
       "        <tr>\n",
       "            <td>Arts and Sciences             </td> <td>40      </td>\n",
       "        </tr>\n",
       "        <tr>\n",
       "            <td>Agriculture and Life Sciences </td> <td>10      </td>\n",
       "        </tr>\n",
       "        <tr>\n",
       "            <td>Industrial and Labor Relations</td> <td>7       </td>\n",
       "        </tr>\n",
       "        <tr>\n",
       "            <td>Prof Masters Business         </td> <td>4       </td>\n",
       "        </tr>\n",
       "        <tr>\n",
       "            <td>Business                      </td> <td>4       </td>\n",
       "        </tr>\n",
       "        <tr>\n",
       "            <td>Human Ecology                 </td> <td>3       </td>\n",
       "        </tr>\n",
       "        <tr>\n",
       "            <td>Engineering                   </td> <td>3       </td>\n",
       "        </tr>\n",
       "        <tr>\n",
       "            <td>Architecture, Art and Planning</td> <td>2       </td>\n",
       "        </tr>\n",
       "        <tr>\n",
       "            <td>Architecture                  </td> <td>2       </td>\n",
       "        </tr>\n",
       "        <tr>\n",
       "            <td>Prof Masters Human Ecology    </td> <td>1       </td>\n",
       "        </tr>\n",
       "    </tbody>\n",
       "</table>\n",
       "<p>... (1 rows omitted)</p>"
      ],
      "text/plain": [
       "College                        | Students\n",
       "Arts and Sciences              | 40\n",
       "Agriculture and Life Sciences  | 10\n",
       "Industrial and Labor Relations | 7\n",
       "Prof Masters Business          | 4\n",
       "Business                       | 4\n",
       "Human Ecology                  | 3\n",
       "Engineering                    | 3\n",
       "Architecture, Art and Planning | 2\n",
       "Architecture                   | 2\n",
       "Prof Masters Human Ecology     | 1\n",
       "... (1 rows omitted)"
      ]
     },
     "execution_count": 5,
     "metadata": {},
     "output_type": "execute_result"
    }
   ],
   "source": [
    "College_info_sorted = College_info.sort('Students',descending=True)\n",
    "College_info_sorted"
   ]
  },
  {
   "cell_type": "code",
   "execution_count": 6,
   "metadata": {},
   "outputs": [
    {
     "data": {
      "image/png": "[encoded data removed]",
      "text/plain": [
       "<Figure size 432x396 with 1 Axes>"
      ]
     },
     "metadata": {},
     "output_type": "display_data"
    }
   ],
   "source": [
    "College_info_sorted.barh('College')"
   ]
  },
  {
   "cell_type": "code",
   "execution_count": 7,
   "metadata": {},
   "outputs": [
    {
     "data": {
      "text/html": [
       "<table border=\"1\" class=\"dataframe\">\n",
       "    <thead>\n",
       "        <tr>\n",
       "            <th>College</th> <th>Students</th>\n",
       "        </tr>\n",
       "    </thead>\n",
       "    <tbody>\n",
       "        <tr>\n",
       "            <td>Agriculture and Life Sciences </td> <td>10      </td>\n",
       "        </tr>\n",
       "        <tr>\n",
       "            <td>Arts and Sciences             </td> <td>40      </td>\n",
       "        </tr>\n",
       "        <tr>\n",
       "            <td>Industrial and Labor Relations</td> <td>7       </td>\n",
       "        </tr>\n",
       "    </tbody>\n",
       "</table>"
      ],
      "text/plain": [
       "College                        | Students\n",
       "Agriculture and Life Sciences  | 10\n",
       "Arts and Sciences              | 40\n",
       "Industrial and Labor Relations | 7"
      ]
     },
     "execution_count": 7,
     "metadata": {},
     "output_type": "execute_result"
    }
   ],
   "source": [
    "College_info_above_5 = College_info.where('Students',are.above(5))\n",
    "College_info_above_5"
   ]
  },
  {
   "cell_type": "code",
   "execution_count": 8,
   "metadata": {},
   "outputs": [
    {
     "name": "stdout",
     "output_type": "stream",
     "text": [
      "Help on class are in module datascience.predicates:\n",
      "\n",
      "class are(builtins.object)\n",
      " |  Predicate functions. The class is named \"are\" for calls to where.\n",
      " |  \n",
      " |  For example, given a table, predicates can be used to pick rows as follows.\n",
      " |  \n",
      " |  >>> from datascience import Table\n",
      " |  >>> t = Table().with_columns([\n",
      " |  ...    'Sizes', ['S', 'M', 'L', 'XL'],\n",
      " |  ...    'Waists', [30, 34, 38, 42],\n",
      " |  ... ])\n",
      " |  >>> t.where('Sizes',  are.equal_to('L'))\n",
      " |  Sizes | Waists\n",
      " |  L     | 38\n",
      " |  >>> t.where('Waists', are.above(38))\n",
      " |  Sizes | Waists\n",
      " |  XL    | 42\n",
      " |  >>> t.where('Waists', are.above_or_equal_to(38))\n",
      " |  Sizes | Waists\n",
      " |  L     | 38\n",
      " |  XL    | 42\n",
      " |  >>> t.where('Waists', are.below(38))\n",
      " |  Sizes | Waists\n",
      " |  S     | 30\n",
      " |  M     | 34\n",
      " |  >>> t.where('Waists', are.below_or_equal_to(38))\n",
      " |  Sizes | Waists\n",
      " |  S     | 30\n",
      " |  M     | 34\n",
      " |  L     | 38\n",
      " |  >>> t.where('Waists', are.strictly_between(30, 38))\n",
      " |  Sizes | Waists\n",
      " |  M     | 34\n",
      " |  >>> t.where('Waists', are.between(30, 38))\n",
      " |  Sizes | Waists\n",
      " |  S     | 30\n",
      " |  M     | 34\n",
      " |  >>> t.where('Waists', are.between_or_equal_to(30, 38))\n",
      " |  Sizes | Waists\n",
      " |  S     | 30\n",
      " |  M     | 34\n",
      " |  L     | 38\n",
      " |  >>> t.where('Sizes',  are.equal_to('L'))\n",
      " |  Sizes | Waists\n",
      " |  L     | 38\n",
      " |  >>> t.where('Waists', are.not_above(38))\n",
      " |  Sizes | Waists\n",
      " |  S     | 30\n",
      " |  M     | 34\n",
      " |  L     | 38\n",
      " |  >>> t.where('Waists', are.not_above_or_equal_to(38))\n",
      " |  Sizes | Waists\n",
      " |  S     | 30\n",
      " |  M     | 34\n",
      " |  >>> t.where('Waists', are.not_below(38))\n",
      " |  Sizes | Waists\n",
      " |  L     | 38\n",
      " |  XL    | 42\n",
      " |  >>> t.where('Waists', are.not_below_or_equal_to(38))\n",
      " |  Sizes | Waists\n",
      " |  XL    | 42\n",
      " |  >>> t.where('Waists', are.not_strictly_between(30, 38))\n",
      " |  Sizes | Waists\n",
      " |  S     | 30\n",
      " |  L     | 38\n",
      " |  XL    | 42\n",
      " |  >>> t.where('Waists', are.not_between(30, 38))\n",
      " |  Sizes | Waists\n",
      " |  L     | 38\n",
      " |  XL    | 42\n",
      " |  >>> t.where('Waists', are.not_between_or_equal_to(30, 38))\n",
      " |  Sizes | Waists\n",
      " |  XL    | 42\n",
      " |  >>> t.where('Sizes', are.containing('L'))\n",
      " |  Sizes | Waists\n",
      " |  L     | 38\n",
      " |  XL    | 42\n",
      " |  >>> t.where('Sizes', are.not_containing('L'))\n",
      " |  Sizes | Waists\n",
      " |  S     | 30\n",
      " |  M     | 34\n",
      " |  >>> t.where('Sizes', are.contained_in('MXL'))\n",
      " |  Sizes | Waists\n",
      " |  M     | 34\n",
      " |  L     | 38\n",
      " |  XL    | 42\n",
      " |  >>> t.where('Sizes', are.contained_in('L'))\n",
      " |  Sizes | Waists\n",
      " |  L     | 38\n",
      " |  >>> t.where('Sizes', are.not_contained_in('MXL'))\n",
      " |  Sizes | Waists\n",
      " |  S     | 30\n",
      " |  \n",
      " |  Static methods defined here:\n",
      " |  \n",
      " |  above(y)\n",
      " |      Greater than y.\n",
      " |  \n",
      " |  above_or_equal_to(y)\n",
      " |      Greater than or equal to y.\n",
      " |  \n",
      " |  below(y)\n",
      " |      Less than y.\n",
      " |  \n",
      " |  below_or_equal_to(y)\n",
      " |      Less than or equal to y.\n",
      " |  \n",
      " |  between(y, z)\n",
      " |      Greater than or equal to y and less than z.\n",
      " |  \n",
      " |  between_or_equal_to(y, z)\n",
      " |      Greater than or equal to y and less than or equal to z.\n",
      " |  \n",
      " |  contained_in(superstring)\n",
      " |      A string that is part of the given superstring.\n",
      " |  \n",
      " |  containing(substring)\n",
      " |      A string that contains within it the given substring.\n",
      " |  \n",
      " |  equal_to(y)\n",
      " |      Equal to y.\n",
      " |  \n",
      " |  not_above(y)\n",
      " |      Is not above y\n",
      " |  \n",
      " |  not_above_or_equal_to(y)\n",
      " |      Is neither above y nor equal to y\n",
      " |  \n",
      " |  not_below(y)\n",
      " |      Is not below y\n",
      " |  \n",
      " |  not_below_or_equal_to(y)\n",
      " |      Is neither below y nor equal to y\n",
      " |  \n",
      " |  not_between(y, z)\n",
      " |      Is equal to y or less than y or greater than z\n",
      " |  \n",
      " |  not_between_or_equal_to(y, z)\n",
      " |      Is less than y or greater than z\n",
      " |  \n",
      " |  not_contained_in(superstring)\n",
      " |      A string that is not contained within the superstring\n",
      " |  \n",
      " |  not_containing(substring)\n",
      " |      A string that does not contain substring\n",
      " |  \n",
      " |  not_equal_to(y)\n",
      " |      Is not equal to y\n",
      " |  \n",
      " |  not_strictly_between(y, z)\n",
      " |      Is equal to y or equal to z or less than y or greater than z\n",
      " |  \n",
      " |  strictly_between(y, z)\n",
      " |      Greater than y and less than z.\n",
      " |  \n",
      " |  ----------------------------------------------------------------------\n",
      " |  Data descriptors defined here:\n",
      " |  \n",
      " |  __dict__\n",
      " |      dictionary for instance variables (if defined)\n",
      " |  \n",
      " |  __weakref__\n",
      " |      list of weak references to the object (if defined)\n",
      "\n"
     ]
    }
   ],
   "source": [
    "help(are)"
   ]
  },
  {
   "cell_type": "code",
   "execution_count": 9,
   "metadata": {},
   "outputs": [
    {
     "data": {
      "text/html": [
       "<table border=\"1\" class=\"dataframe\">\n",
       "    <thead>\n",
       "        <tr>\n",
       "            <th>College</th> <th>Students</th>\n",
       "        </tr>\n",
       "    </thead>\n",
       "    <tbody>\n",
       "        <tr>\n",
       "            <td>Agriculture and Life Sciences </td> <td>10      </td>\n",
       "        </tr>\n",
       "        <tr>\n",
       "            <td>Arts and Sciences             </td> <td>40      </td>\n",
       "        </tr>\n",
       "        <tr>\n",
       "            <td>Industrial and Labor Relations</td> <td>7       </td>\n",
       "        </tr>\n",
       "        <tr>\n",
       "            <td>Human Ecology                 </td> <td>3       </td>\n",
       "        </tr>\n",
       "    </tbody>\n",
       "</table>"
      ],
      "text/plain": [
       "College                        | Students\n",
       "Agriculture and Life Sciences  | 10\n",
       "Arts and Sciences              | 40\n",
       "Industrial and Labor Relations | 7\n",
       "Human Ecology                  | 3"
      ]
     },
     "execution_count": 9,
     "metadata": {},
     "output_type": "execute_result"
    }
   ],
   "source": [
    "College_info_above_5_andHE = College_info_above_5.with_row(['Human Ecology',3])\n",
    "College_info_above_5_andHE"
   ]
  },
  {
   "cell_type": "code",
   "execution_count": 10,
   "metadata": {},
   "outputs": [
    {
     "data": {
      "text/html": [
       "<table border=\"1\" class=\"dataframe\">\n",
       "    <thead>\n",
       "        <tr>\n",
       "            <th>Major</th> <th>Count</th>\n",
       "        </tr>\n",
       "    </thead>\n",
       "    <tbody>\n",
       "        <tr>\n",
       "            <td>Advanced Architectural Design, Architectural Design</td> <td>2    </td>\n",
       "        </tr>\n",
       "        <tr>\n",
       "            <td>American Studies, English                          </td> <td>1    </td>\n",
       "        </tr>\n",
       "        <tr>\n",
       "            <td>Applied Economics and Mgmt                         </td> <td>1    </td>\n",
       "        </tr>\n",
       "        <tr>\n",
       "            <td>Applied Economics and Mngmt                        </td> <td>4    </td>\n",
       "        </tr>\n",
       "        <tr>\n",
       "            <td>Astronomy                                          </td> <td>1    </td>\n",
       "        </tr>\n",
       "        <tr>\n",
       "            <td>Biological Sciences                                </td> <td>3    </td>\n",
       "        </tr>\n",
       "        <tr>\n",
       "            <td>Biology and Society                                </td> <td>1    </td>\n",
       "        </tr>\n",
       "        <tr>\n",
       "            <td>Business Administration                            </td> <td>1    </td>\n",
       "        </tr>\n",
       "        <tr>\n",
       "            <td>Chemistry and Chemical Biology                     </td> <td>1    </td>\n",
       "        </tr>\n",
       "        <tr>\n",
       "            <td>College Scholar, Government                        </td> <td>1    </td>\n",
       "        </tr>\n",
       "    </tbody>\n",
       "</table>\n",
       "<p>... (28 rows omitted)</p>"
      ],
      "text/plain": [
       "Major                                               | Count\n",
       "Advanced Architectural Design, Architectural Design | 2\n",
       "American Studies, English                           | 1\n",
       "Applied Economics and Mgmt                          | 1\n",
       "Applied Economics and Mngmt                         | 4\n",
       "Astronomy                                           | 1\n",
       "Biological Sciences                                 | 3\n",
       "Biology and Society                                 | 1\n",
       "Business Administration                             | 1\n",
       "Chemistry and Chemical Biology                      | 1\n",
       "College Scholar, Government                         | 1\n",
       "... (28 rows omitted)"
      ]
     },
     "execution_count": 10,
     "metadata": {},
     "output_type": "execute_result"
    }
   ],
   "source": [
    "Major_info = Table.read_table('major_counts.csv')\n",
    "Major_info"
   ]
  },
  {
   "cell_type": "code",
   "execution_count": 11,
   "metadata": {},
   "outputs": [
    {
     "data": {
      "text/html": [
       "<table border=\"1\" class=\"dataframe\">\n",
       "    <thead>\n",
       "        <tr>\n",
       "            <th>Major</th> <th>Count</th>\n",
       "        </tr>\n",
       "    </thead>\n",
       "    <tbody>\n",
       "        <tr>\n",
       "            <td>Advanced Architectural Design, Architectural Design</td> <td>2    </td>\n",
       "        </tr>\n",
       "        <tr>\n",
       "            <td>American Studies, English                          </td> <td>1    </td>\n",
       "        </tr>\n",
       "        <tr>\n",
       "            <td>Applied Economics and Mgmt                         </td> <td>1    </td>\n",
       "        </tr>\n",
       "        <tr>\n",
       "            <td>Applied Economics and Mngmt                        </td> <td>4    </td>\n",
       "        </tr>\n",
       "        <tr>\n",
       "            <td>Astronomy                                          </td> <td>1    </td>\n",
       "        </tr>\n",
       "        <tr>\n",
       "            <td>Biological Sciences                                </td> <td>3    </td>\n",
       "        </tr>\n",
       "        <tr>\n",
       "            <td>Biology and Society                                </td> <td>1    </td>\n",
       "        </tr>\n",
       "        <tr>\n",
       "            <td>Business Administration                            </td> <td>1    </td>\n",
       "        </tr>\n",
       "        <tr>\n",
       "            <td>Chemistry and Chemical Biology                     </td> <td>1    </td>\n",
       "        </tr>\n",
       "        <tr>\n",
       "            <td>College Scholar, Government                        </td> <td>1    </td>\n",
       "        </tr>\n",
       "        <tr>\n",
       "            <td>Communication                                      </td> <td>2    </td>\n",
       "        </tr>\n",
       "        <tr>\n",
       "            <td>Continuing Education                               </td> <td>1    </td>\n",
       "        </tr>\n",
       "        <tr>\n",
       "            <td>Development Sociology                              </td> <td>1    </td>\n",
       "        </tr>\n",
       "        <tr>\n",
       "            <td>Economics                                          </td> <td>7    </td>\n",
       "        </tr>\n",
       "        <tr>\n",
       "            <td>English                                            </td> <td>1    </td>\n",
       "        </tr>\n",
       "        <tr>\n",
       "            <td>Envr/Sustainability Sciences                       </td> <td>1    </td>\n",
       "        </tr>\n",
       "        <tr>\n",
       "            <td>French                                             </td> <td>1    </td>\n",
       "        </tr>\n",
       "        <tr>\n",
       "            <td>Government                                         </td> <td>2    </td>\n",
       "        </tr>\n",
       "        <tr>\n",
       "            <td>Government, Global Health                          </td> <td>1    </td>\n",
       "        </tr>\n",
       "        <tr>\n",
       "            <td>History of Art                                     </td> <td>2    </td>\n",
       "        </tr>\n",
       "        <tr>\n",
       "            <td>Hotel and Restaurant Admin                         </td> <td>1    </td>\n",
       "        </tr>\n",
       "        <tr>\n",
       "            <td>Industrial and Labor Relations                     </td> <td>7    </td>\n",
       "        </tr>\n",
       "        <tr>\n",
       "            <td>Information Science                                </td> <td>1    </td>\n",
       "        </tr>\n",
       "        <tr>\n",
       "            <td>Inter Agriculture & Rural Dev                      </td> <td>1    </td>\n",
       "        </tr>\n",
       "        <tr>\n",
       "            <td>Interdisciplinary Study in ALS                     </td> <td>1    </td>\n",
       "        </tr>\n",
       "        <tr>\n",
       "            <td>Linguistics                                        </td> <td>1    </td>\n",
       "        </tr>\n",
       "        <tr>\n",
       "            <td>Materials Science and Engr                         </td> <td>1    </td>\n",
       "        </tr>\n",
       "        <tr>\n",
       "            <td>Near Eastern Studies, Philosophy                   </td> <td>1    </td>\n",
       "        </tr>\n",
       "        <tr>\n",
       "            <td>Performing and Media Arts                          </td> <td>1    </td>\n",
       "        </tr>\n",
       "        <tr>\n",
       "            <td>Policy Analysis and Management                     </td> <td>3    </td>\n",
       "        </tr>\n",
       "        <tr>\n",
       "            <td>Psychology, Information Science                    </td> <td>1    </td>\n",
       "        </tr>\n",
       "        <tr>\n",
       "            <td>Public Administration                              </td> <td>1    </td>\n",
       "        </tr>\n",
       "        <tr>\n",
       "            <td>Science & Technology Studies                       </td> <td>1    </td>\n",
       "        </tr>\n",
       "        <tr>\n",
       "            <td>Sociology                                          </td> <td>1    </td>\n",
       "        </tr>\n",
       "        <tr>\n",
       "            <td>Unaffiliated                                       </td> <td>2    </td>\n",
       "        </tr>\n",
       "        <tr>\n",
       "            <td>Undeclared                                         </td> <td>15   </td>\n",
       "        </tr>\n",
       "        <tr>\n",
       "            <td>Undergraduate Non-Candidate, Exchange Program In   </td> <td>1    </td>\n",
       "        </tr>\n",
       "        <tr>\n",
       "            <td>Urban & Regional Studies                           </td> <td>2    </td>\n",
       "        </tr>\n",
       "    </tbody>\n",
       "</table>"
      ],
      "text/plain": [
       "<IPython.core.display.HTML object>"
      ]
     },
     "metadata": {},
     "output_type": "display_data"
    }
   ],
   "source": [
    "Major_info.show(38)"
   ]
  },
  {
   "cell_type": "code",
   "execution_count": 13,
   "metadata": {},
   "outputs": [
    {
     "data": {
      "text/plain": [
       "77"
      ]
     },
     "execution_count": 13,
     "metadata": {},
     "output_type": "execute_result"
    }
   ],
   "source": [
    "sum(Major_info.column('Count'))"
   ]
  },
  {
   "cell_type": "markdown",
   "metadata": {},
   "source": [
    "## Arithmetic"
   ]
  },
  {
   "cell_type": "code",
   "execution_count": null,
   "metadata": {},
   "outputs": [],
   "source": [
    "2 + 3"
   ]
  },
  {
   "cell_type": "code",
   "execution_count": null,
   "metadata": {},
   "outputs": [],
   "source": [
    "2 * 3"
   ]
  },
  {
   "cell_type": "code",
   "execution_count": null,
   "metadata": {},
   "outputs": [],
   "source": [
    "2 ** 3"
   ]
  },
  {
   "cell_type": "code",
   "execution_count": null,
   "metadata": {},
   "outputs": [],
   "source": [
    "2 * * 3"
   ]
  },
  {
   "cell_type": "code",
   "execution_count": 15,
   "metadata": {},
   "outputs": [
    {
     "data": {
      "text/plain": [
       "8000"
      ]
     },
     "execution_count": 15,
     "metadata": {},
     "output_type": "execute_result"
    }
   ],
   "source": [
    "(10 * 2) ** 3"
   ]
  },
  {
   "cell_type": "code",
   "execution_count": 16,
   "metadata": {},
   "outputs": [
    {
     "data": {
      "text/plain": [
       "0.6666666666666666"
      ]
     },
     "execution_count": 16,
     "metadata": {},
     "output_type": "execute_result"
    }
   ],
   "source": [
    "2 / 3"
   ]
  },
  {
   "cell_type": "code",
   "execution_count": null,
   "metadata": {},
   "outputs": [],
   "source": [
    "2 / 0"
   ]
  },
  {
   "cell_type": "code",
   "execution_count": null,
   "metadata": {},
   "outputs": [],
   "source": [
    "2 / 3000"
   ]
  },
  {
   "cell_type": "code",
   "execution_count": null,
   "metadata": {},
   "outputs": [],
   "source": [
    "2 / 3000000"
   ]
  },
  {
   "cell_type": "code",
   "execution_count": 17,
   "metadata": {},
   "outputs": [
    {
     "data": {
      "text/plain": [
       "0.0"
      ]
     },
     "execution_count": 17,
     "metadata": {},
     "output_type": "execute_result"
    }
   ],
   "source": [
    "0.6666666666666666 - 0.6666666666666666123456789"
   ]
  },
  {
   "cell_type": "code",
   "execution_count": null,
   "metadata": {},
   "outputs": [],
   "source": [
    "0.000000000000000123456789"
   ]
  },
  {
   "cell_type": "code",
   "execution_count": null,
   "metadata": {},
   "outputs": [],
   "source": [
    "0.000000000000000000000000000000000000000000000000000000000000000000000123456789"
   ]
  },
  {
   "cell_type": "code",
   "execution_count": null,
   "metadata": {},
   "outputs": [],
   "source": [
    "2 ** 0.5"
   ]
  },
  {
   "cell_type": "code",
   "execution_count": null,
   "metadata": {},
   "outputs": [],
   "source": [
    "2 ** 0.5 * 2 ** 0.5"
   ]
  },
  {
   "cell_type": "code",
   "execution_count": null,
   "metadata": {},
   "outputs": [],
   "source": [
    "2 ** 0.5 * 2 ** 0.5 - 2"
   ]
  },
  {
   "cell_type": "markdown",
   "metadata": {},
   "source": [
    "## Strings"
   ]
  },
  {
   "cell_type": "code",
   "execution_count": null,
   "metadata": {},
   "outputs": [],
   "source": [
    "'hello'"
   ]
  },
  {
   "cell_type": "code",
   "execution_count": null,
   "metadata": {},
   "outputs": [],
   "source": [
    "'2.3'"
   ]
  },
  {
   "cell_type": "code",
   "execution_count": null,
   "metadata": {},
   "outputs": [],
   "source": [
    "'2.3' + 4"
   ]
  },
  {
   "cell_type": "code",
   "execution_count": 18,
   "metadata": {},
   "outputs": [
    {
     "data": {
      "text/plain": [
       "'2.32.32.32.3'"
      ]
     },
     "execution_count": 18,
     "metadata": {},
     "output_type": "execute_result"
    }
   ],
   "source": [
    "'2.3' * 4"
   ]
  },
  {
   "cell_type": "code",
   "execution_count": 19,
   "metadata": {},
   "outputs": [
    {
     "data": {
      "text/plain": [
       "2.3"
      ]
     },
     "execution_count": 19,
     "metadata": {},
     "output_type": "execute_result"
    }
   ],
   "source": [
    "float('2.3')"
   ]
  },
  {
   "cell_type": "code",
   "execution_count": 20,
   "metadata": {},
   "outputs": [
    {
     "data": {
      "text/plain": [
       "'2.3'"
      ]
     },
     "execution_count": 20,
     "metadata": {},
     "output_type": "execute_result"
    }
   ],
   "source": [
    "str(2.3)"
   ]
  },
  {
   "cell_type": "code",
   "execution_count": 21,
   "metadata": {},
   "outputs": [
    {
     "data": {
      "text/plain": [
       "2"
      ]
     },
     "execution_count": 21,
     "metadata": {},
     "output_type": "execute_result"
    }
   ],
   "source": [
    "int('2')"
   ]
  },
  {
   "cell_type": "code",
   "execution_count": 22,
   "metadata": {},
   "outputs": [
    {
     "data": {
      "text/plain": [
       "25.0"
      ]
     },
     "execution_count": 22,
     "metadata": {},
     "output_type": "execute_result"
    }
   ],
   "source": [
    "int('23') + float('2.0')"
   ]
  },
  {
   "cell_type": "code",
   "execution_count": 26,
   "metadata": {},
   "outputs": [
    {
     "data": {
      "text/plain": [
       "122"
      ]
     },
     "execution_count": 26,
     "metadata": {},
     "output_type": "execute_result"
    }
   ],
   "source": [
    "x = 12\n",
    "int(str(x) + '2')"
   ]
  },
  {
   "cell_type": "markdown",
   "metadata": {},
   "source": [
    "## Arrays"
   ]
  },
  {
   "cell_type": "markdown",
   "metadata": {},
   "source": [
    "Array:  sequence of values, all the same type, \"boxed up\""
   ]
  },
  {
   "cell_type": "code",
   "execution_count": 27,
   "metadata": {},
   "outputs": [
    {
     "data": {
      "text/plain": [
       "array(['1', '2', 'hello'], dtype='<U21')"
      ]
     },
     "execution_count": 27,
     "metadata": {},
     "output_type": "execute_result"
    }
   ],
   "source": [
    "make_array(1, 2, 'hello')"
   ]
  },
  {
   "cell_type": "code",
   "execution_count": 28,
   "metadata": {},
   "outputs": [
    {
     "data": {
      "text/plain": [
       "array([1, 2, 3])"
      ]
     },
     "execution_count": 28,
     "metadata": {},
     "output_type": "execute_result"
    }
   ],
   "source": [
    "a = make_array(1, 2, 3)\n",
    "a"
   ]
  },
  {
   "cell_type": "markdown",
   "metadata": {},
   "source": [
    "Arithmetic operations are *broadcast*"
   ]
  },
  {
   "cell_type": "code",
   "execution_count": null,
   "metadata": {},
   "outputs": [],
   "source": [
    "a * 2"
   ]
  },
  {
   "cell_type": "code",
   "execution_count": null,
   "metadata": {},
   "outputs": [],
   "source": [
    "a + 5"
   ]
  },
  {
   "cell_type": "code",
   "execution_count": 29,
   "metadata": {},
   "outputs": [
    {
     "data": {
      "text/plain": [
       "array([   11,   102,  1003, 10004])"
      ]
     },
     "execution_count": 29,
     "metadata": {},
     "output_type": "execute_result"
    }
   ],
   "source": [
    "make_array(1,2,3,4) + make_array(10, 100, 1000, 10_000)"
   ]
  },
  {
   "cell_type": "code",
   "execution_count": null,
   "metadata": {},
   "outputs": [],
   "source": [
    "a"
   ]
  },
  {
   "cell_type": "code",
   "execution_count": null,
   "metadata": {},
   "outputs": [],
   "source": [
    "len(a)"
   ]
  },
  {
   "cell_type": "code",
   "execution_count": null,
   "metadata": {},
   "outputs": [],
   "source": [
    "max(a)"
   ]
  },
  {
   "cell_type": "code",
   "execution_count": null,
   "metadata": {},
   "outputs": [],
   "source": [
    "min(a)"
   ]
  },
  {
   "cell_type": "code",
   "execution_count": null,
   "metadata": {},
   "outputs": [],
   "source": [
    "sum(a)"
   ]
  },
  {
   "cell_type": "code",
   "execution_count": 30,
   "metadata": {},
   "outputs": [
    {
     "ename": "ValueError",
     "evalue": "operands could not be broadcast together with shapes (3,) (2,) ",
     "output_type": "error",
     "traceback": [
      "\u001b[0;31m---------------------------------------------------------------------------\u001b[0m",
      "\u001b[0;31mValueError\u001b[0m                                Traceback (most recent call last)",
      "\u001b[0;32m<ipython-input-30-6af9054627f0>\u001b[0m in \u001b[0;36m<module>\u001b[0;34m()\u001b[0m\n\u001b[0;32m----> 1\u001b[0;31m \u001b[0mmake_array\u001b[0m\u001b[0;34m(\u001b[0m\u001b[0;36m1\u001b[0m\u001b[0;34m,\u001b[0m\u001b[0;36m2\u001b[0m\u001b[0;34m,\u001b[0m\u001b[0;36m3\u001b[0m\u001b[0;34m)\u001b[0m \u001b[0;34m+\u001b[0m \u001b[0mmake_array\u001b[0m\u001b[0;34m(\u001b[0m\u001b[0;36m1\u001b[0m\u001b[0;34m,\u001b[0m\u001b[0;36m2\u001b[0m\u001b[0;34m)\u001b[0m\u001b[0;34m\u001b[0m\u001b[0m\n\u001b[0m",
      "\u001b[0;31mValueError\u001b[0m: operands could not be broadcast together with shapes (3,) (2,) "
     ]
    }
   ],
   "source": [
    "make_array(1,2,3) + make_array(1,2)"
   ]
  },
  {
   "cell_type": "markdown",
   "metadata": {},
   "source": [
    "*Index* into array to retrieve items.  Indices start at 0."
   ]
  },
  {
   "cell_type": "code",
   "execution_count": 31,
   "metadata": {},
   "outputs": [
    {
     "data": {
      "text/plain": [
       "1"
      ]
     },
     "execution_count": 31,
     "metadata": {},
     "output_type": "execute_result"
    }
   ],
   "source": [
    "a.item(0)"
   ]
  },
  {
   "cell_type": "code",
   "execution_count": null,
   "metadata": {},
   "outputs": [],
   "source": [
    "a.item(1)"
   ]
  },
  {
   "cell_type": "code",
   "execution_count": 32,
   "metadata": {},
   "outputs": [
    {
     "ename": "IndexError",
     "evalue": "index 3 is out of bounds for axis 0 with size 3",
     "output_type": "error",
     "traceback": [
      "\u001b[0;31m---------------------------------------------------------------------------\u001b[0m",
      "\u001b[0;31mIndexError\u001b[0m                                Traceback (most recent call last)",
      "\u001b[0;32m<ipython-input-32-19784940673a>\u001b[0m in \u001b[0;36m<module>\u001b[0;34m()\u001b[0m\n\u001b[0;32m----> 1\u001b[0;31m \u001b[0ma\u001b[0m\u001b[0;34m.\u001b[0m\u001b[0mitem\u001b[0m\u001b[0;34m(\u001b[0m\u001b[0;36m3\u001b[0m\u001b[0;34m)\u001b[0m\u001b[0;34m\u001b[0m\u001b[0m\n\u001b[0m",
      "\u001b[0;31mIndexError\u001b[0m: index 3 is out of bounds for axis 0 with size 3"
     ]
    }
   ],
   "source": [
    "a.item(3)"
   ]
  },
  {
   "cell_type": "markdown",
   "metadata": {},
   "source": [
    "Think of `item(n)` as asking for the item that has `n` items before it."
   ]
  },
  {
   "cell_type": "markdown",
   "metadata": {},
   "source": [
    "## Range"
   ]
  },
  {
   "cell_type": "markdown",
   "metadata": {},
   "source": [
    "`np.arange`: a library function that produces an array containing a range of values"
   ]
  },
  {
   "cell_type": "code",
   "execution_count": 33,
   "metadata": {},
   "outputs": [
    {
     "data": {
      "text/plain": [
       "array([1, 2, 3, 4])"
      ]
     },
     "execution_count": 33,
     "metadata": {},
     "output_type": "execute_result"
    }
   ],
   "source": [
    "np.arange(1, 5)"
   ]
  },
  {
   "cell_type": "markdown",
   "metadata": {},
   "source": [
    "Range includes beginning, excludes ending:  $[1, 5)$"
   ]
  },
  {
   "cell_type": "code",
   "execution_count": 37,
   "metadata": {},
   "outputs": [
    {
     "data": {
      "text/plain": [
       "array([ 0,  2,  4,  6,  8, 10, 12, 14, 16, 18])"
      ]
     },
     "execution_count": 37,
     "metadata": {},
     "output_type": "execute_result"
    }
   ],
   "source": [
    "b = np.arange(0, 20, 2)\n",
    "b"
   ]
  },
  {
   "cell_type": "code",
   "execution_count": 35,
   "metadata": {},
   "outputs": [
    {
     "data": {
      "text/plain": [
       "array([ 2,  1,  0, -1])"
      ]
     },
     "execution_count": 35,
     "metadata": {},
     "output_type": "execute_result"
    }
   ],
   "source": [
    "c = np.arange(2,-2,-1)\n",
    "c"
   ]
  },
  {
   "cell_type": "markdown",
   "metadata": {},
   "source": [
    "## Columns"
   ]
  },
  {
   "cell_type": "markdown",
   "metadata": {},
   "source": [
    "Table columns are arrays"
   ]
  },
  {
   "cell_type": "code",
   "execution_count": 38,
   "metadata": {},
   "outputs": [
    {
     "data": {
      "text/html": [
       "<table border=\"1\" class=\"dataframe\">\n",
       "    <thead>\n",
       "        <tr>\n",
       "            <th>Title</th> <th>Studio</th> <th>Gross</th> <th>Gross (Adjusted)</th> <th>Year</th>\n",
       "        </tr>\n",
       "    </thead>\n",
       "    <tbody>\n",
       "        <tr>\n",
       "            <td>Star Wars: The Force Awakens              </td> <td>Buena Vista (Disney)</td> <td>906723418</td> <td>906723400       </td> <td>2015</td>\n",
       "        </tr>\n",
       "        <tr>\n",
       "            <td>Avatar                                    </td> <td>Fox                 </td> <td>760507625</td> <td>846120800       </td> <td>2009</td>\n",
       "        </tr>\n",
       "        <tr>\n",
       "            <td>Titanic                                   </td> <td>Paramount           </td> <td>658672302</td> <td>1178627900      </td> <td>1997</td>\n",
       "        </tr>\n",
       "        <tr>\n",
       "            <td>Jurassic World                            </td> <td>Universal           </td> <td>652270625</td> <td>687728000       </td> <td>2015</td>\n",
       "        </tr>\n",
       "        <tr>\n",
       "            <td>Marvel's The Avengers                     </td> <td>Buena Vista (Disney)</td> <td>623357910</td> <td>668866600       </td> <td>2012</td>\n",
       "        </tr>\n",
       "        <tr>\n",
       "            <td>The Dark Knight                           </td> <td>Warner Bros.        </td> <td>534858444</td> <td>647761600       </td> <td>2008</td>\n",
       "        </tr>\n",
       "        <tr>\n",
       "            <td>Star Wars: Episode I - The Phantom Menace </td> <td>Fox                 </td> <td>474544677</td> <td>785715000       </td> <td>1999</td>\n",
       "        </tr>\n",
       "        <tr>\n",
       "            <td>Star Wars                                 </td> <td>Fox                 </td> <td>460998007</td> <td>1549640500      </td> <td>1977</td>\n",
       "        </tr>\n",
       "        <tr>\n",
       "            <td>Avengers: Age of Ultron                   </td> <td>Buena Vista (Disney)</td> <td>459005868</td> <td>465684200       </td> <td>2015</td>\n",
       "        </tr>\n",
       "        <tr>\n",
       "            <td>The Dark Knight Rises                     </td> <td>Warner Bros.        </td> <td>448139099</td> <td>500961700       </td> <td>2012</td>\n",
       "        </tr>\n",
       "        <tr>\n",
       "            <td>Shrek 2                                   </td> <td>Dreamworks          </td> <td>441226247</td> <td>618143100       </td> <td>2004</td>\n",
       "        </tr>\n",
       "        <tr>\n",
       "            <td>E.T.: The Extra-Terrestrial               </td> <td>Universal           </td> <td>435110554</td> <td>1234132700      </td> <td>1982</td>\n",
       "        </tr>\n",
       "        <tr>\n",
       "            <td>The Hunger Games: Catching Fire           </td> <td>Lionsgate           </td> <td>424668047</td> <td>444697400       </td> <td>2013</td>\n",
       "        </tr>\n",
       "        <tr>\n",
       "            <td>Pirates of the Caribbean: Dead Man's Chest</td> <td>Buena Vista (Disney)</td> <td>423315812</td> <td>562266800       </td> <td>2006</td>\n",
       "        </tr>\n",
       "        <tr>\n",
       "            <td>The Lion King                             </td> <td>Buena Vista (Disney)</td> <td>422783777</td> <td>775573900       </td> <td>1994</td>\n",
       "        </tr>\n",
       "    </tbody>\n",
       "</table>\n",
       "<p>... (185 rows omitted)</p>"
      ],
      "text/plain": [
       "<IPython.core.display.HTML object>"
      ]
     },
     "metadata": {},
     "output_type": "display_data"
    }
   ],
   "source": [
    "# From http://www.boxofficemojo.com/alltime/adjusted.htm\n",
    "movies = Table.read_table('top_movies.csv')\n",
    "movies.show(15)"
   ]
  },
  {
   "cell_type": "code",
   "execution_count": 39,
   "metadata": {},
   "outputs": [
    {
     "data": {
      "text/plain": [
       "array([2015, 2009, 1997, 2015, 2012, 2008, 1999, 1977, 2015, 2012, 2004,\n",
       "       1982, 2013, 2006, 1994, 2010, 2013, 2012, 2002, 1993, 2009, 2013,\n",
       "       2011, 2003, 2005, 2003, 2004, 2004, 2013, 2015, 2015, 2011, 2014,\n",
       "       2002, 2014, 2007, 2015, 2010, 2014, 1994, 2007, 2007, 2008, 2001,\n",
       "       2008, 2001, 2010, 2002, 2007, 1983, 1996, 2003, 2012, 2012, 2009,\n",
       "       2010, 2009, 1999, 2009, 2007, 2005, 1980, 2005, 2001, 1990, 2003,\n",
       "       2004, 2009, 2001, 2002, 2004, 2000, 1975, 1989, 2006, 1997, 2004,\n",
       "       1981, 1999, 2006, 2003, 1984, 1996, 2002, 1984, 2000, 1973, 1997,\n",
       "       2002, 2001, 1993, 1991, 1990, 1992, 1998, 2000, 1985, 1999, 1991,\n",
       "       1998, 1939, 1989, 1995, 1978, 1937, 1990, 1995, 1993, 1997, 1996,\n",
       "       1984, 1986, 1990, 1982, 1998, 1986, 1995, 1992, 1997, 1988, 1987,\n",
       "       1991, 1992, 1965, 1993, 1987, 1988, 1973, 1987, 1984, 1985, 1989,\n",
       "       1961, 1967, 1978, 1972, 1978, 1977, 1982, 1977, 1982, 1974, 1981,\n",
       "       1976, 1974, 1973, 1975, 1965, 1982, 1975, 1981, 1970, 1979, 1967,\n",
       "       1980, 1969, 1964, 1942, 1980, 1970, 1977, 1955, 1950, 1953, 1974,\n",
       "       1972, 1940, 1970, 1976, 1974, 1941, 1959, 1964, 1972, 1956, 1965,\n",
       "       1970, 1963, 1968, 1967, 1968, 1959, 1964, 1963, 1962, 1961, 1956,\n",
       "       1960, 1954, 1953, 1952, 1960, 1957, 1953, 1946, 1954, 1945, 1946,\n",
       "       1941, 1921])"
      ]
     },
     "execution_count": 39,
     "metadata": {},
     "output_type": "execute_result"
    }
   ],
   "source": [
    "movies.column('Year')"
   ]
  },
  {
   "cell_type": "markdown",
   "metadata": {},
   "source": [
    "Let's make a table that also contains the age of the movie.  (2019 is 0 years old, 2017 is 2 year old, etc.)"
   ]
  },
  {
   "cell_type": "code",
   "execution_count": 40,
   "metadata": {},
   "outputs": [
    {
     "data": {
      "text/plain": [
       "array([ 4, 10, 22,  4,  7, 11, 20, 42,  4,  7, 15, 37,  6, 13, 25,  9,  6,\n",
       "        7, 17, 26, 10,  6,  8, 16, 14, 16, 15, 15,  6,  4,  4,  8,  5, 17,\n",
       "        5, 12,  4,  9,  5, 25, 12, 12, 11, 18, 11, 18,  9, 17, 12, 36, 23,\n",
       "       16,  7,  7, 10,  9, 10, 20, 10, 12, 14, 39, 14, 18, 29, 16, 15, 10,\n",
       "       18, 17, 15, 19, 44, 30, 13, 22, 15, 38, 20, 13, 16, 35, 23, 17, 35,\n",
       "       19, 46, 22, 17, 18, 26, 28, 29, 27, 21, 19, 34, 20, 28, 21, 80, 30,\n",
       "       24, 41, 82, 29, 24, 26, 22, 23, 35, 33, 29, 37, 21, 33, 24, 27, 22,\n",
       "       31, 32, 28, 27, 54, 26, 32, 31, 46, 32, 35, 34, 30, 58, 52, 41, 47,\n",
       "       41, 42, 37, 42, 37, 45, 38, 43, 45, 46, 44, 54, 37, 44, 38, 49, 40,\n",
       "       52, 39, 50, 55, 77, 39, 49, 42, 64, 69, 66, 45, 47, 79, 49, 43, 45,\n",
       "       78, 60, 55, 47, 63, 54, 49, 56, 51, 52, 51, 60, 55, 56, 57, 58, 63,\n",
       "       59, 65, 66, 67, 59, 62, 66, 73, 65, 74, 73, 78, 98])"
      ]
     },
     "execution_count": 40,
     "metadata": {},
     "output_type": "execute_result"
    }
   ],
   "source": [
    "2019 - movies.column('Year')"
   ]
  },
  {
   "cell_type": "code",
   "execution_count": 41,
   "metadata": {},
   "outputs": [
    {
     "data": {
      "text/html": [
       "<table border=\"1\" class=\"dataframe\">\n",
       "    <thead>\n",
       "        <tr>\n",
       "            <th>Title</th> <th>Studio</th> <th>Gross</th> <th>Gross (Adjusted)</th> <th>Year</th> <th>Age</th>\n",
       "        </tr>\n",
       "    </thead>\n",
       "    <tbody>\n",
       "        <tr>\n",
       "            <td>Star Wars: The Force Awakens             </td> <td>Buena Vista (Disney)</td> <td>906723418</td> <td>906723400       </td> <td>2015</td> <td>4   </td>\n",
       "        </tr>\n",
       "        <tr>\n",
       "            <td>Avatar                                   </td> <td>Fox                 </td> <td>760507625</td> <td>846120800       </td> <td>2009</td> <td>10  </td>\n",
       "        </tr>\n",
       "        <tr>\n",
       "            <td>Titanic                                  </td> <td>Paramount           </td> <td>658672302</td> <td>1178627900      </td> <td>1997</td> <td>22  </td>\n",
       "        </tr>\n",
       "        <tr>\n",
       "            <td>Jurassic World                           </td> <td>Universal           </td> <td>652270625</td> <td>687728000       </td> <td>2015</td> <td>4   </td>\n",
       "        </tr>\n",
       "        <tr>\n",
       "            <td>Marvel's The Avengers                    </td> <td>Buena Vista (Disney)</td> <td>623357910</td> <td>668866600       </td> <td>2012</td> <td>7   </td>\n",
       "        </tr>\n",
       "        <tr>\n",
       "            <td>The Dark Knight                          </td> <td>Warner Bros.        </td> <td>534858444</td> <td>647761600       </td> <td>2008</td> <td>11  </td>\n",
       "        </tr>\n",
       "        <tr>\n",
       "            <td>Star Wars: Episode I - The Phantom Menace</td> <td>Fox                 </td> <td>474544677</td> <td>785715000       </td> <td>1999</td> <td>20  </td>\n",
       "        </tr>\n",
       "        <tr>\n",
       "            <td>Star Wars                                </td> <td>Fox                 </td> <td>460998007</td> <td>1549640500      </td> <td>1977</td> <td>42  </td>\n",
       "        </tr>\n",
       "        <tr>\n",
       "            <td>Avengers: Age of Ultron                  </td> <td>Buena Vista (Disney)</td> <td>459005868</td> <td>465684200       </td> <td>2015</td> <td>4   </td>\n",
       "        </tr>\n",
       "        <tr>\n",
       "            <td>The Dark Knight Rises                    </td> <td>Warner Bros.        </td> <td>448139099</td> <td>500961700       </td> <td>2012</td> <td>7   </td>\n",
       "        </tr>\n",
       "    </tbody>\n",
       "</table>\n",
       "<p>... (190 rows omitted)</p>"
      ],
      "text/plain": [
       "Title                                     | Studio               | Gross     | Gross (Adjusted) | Year | Age\n",
       "Star Wars: The Force Awakens              | Buena Vista (Disney) | 906723418 | 906723400        | 2015 | 4\n",
       "Avatar                                    | Fox                  | 760507625 | 846120800        | 2009 | 10\n",
       "Titanic                                   | Paramount            | 658672302 | 1178627900       | 1997 | 22\n",
       "Jurassic World                            | Universal            | 652270625 | 687728000        | 2015 | 4\n",
       "Marvel's The Avengers                     | Buena Vista (Disney) | 623357910 | 668866600        | 2012 | 7\n",
       "The Dark Knight                           | Warner Bros.         | 534858444 | 647761600        | 2008 | 11\n",
       "Star Wars: Episode I - The Phantom Menace | Fox                  | 474544677 | 785715000        | 1999 | 20\n",
       "Star Wars                                 | Fox                  | 460998007 | 1549640500       | 1977 | 42\n",
       "Avengers: Age of Ultron                   | Buena Vista (Disney) | 459005868 | 465684200        | 2015 | 4\n",
       "The Dark Knight Rises                     | Warner Bros.         | 448139099 | 500961700        | 2012 | 7\n",
       "... (190 rows omitted)"
      ]
     },
     "execution_count": 41,
     "metadata": {},
     "output_type": "execute_result"
    }
   ],
   "source": [
    "movies.with_column(\n",
    "  'Age', 2019 - movies.column('Year')\n",
    ")"
   ]
  },
  {
   "cell_type": "code",
   "execution_count": 42,
   "metadata": {},
   "outputs": [
    {
     "data": {
      "text/plain": [
       "array([ 4, 10, 22,  4,  7, 11, 20, 42,  4,  7, 15, 37,  6, 13, 25,  9,  6,\n",
       "        7, 17, 26, 10,  6,  8, 16, 14, 16, 15, 15,  6,  4,  4,  8,  5, 17,\n",
       "        5, 12,  4,  9,  5, 25, 12, 12, 11, 18, 11, 18,  9, 17, 12, 36, 23,\n",
       "       16,  7,  7, 10,  9, 10, 20, 10, 12, 14, 39, 14, 18, 29, 16, 15, 10,\n",
       "       18, 17, 15, 19, 44, 30, 13, 22, 15, 38, 20, 13, 16, 35, 23, 17, 35,\n",
       "       19, 46, 22, 17, 18, 26, 28, 29, 27, 21, 19, 34, 20, 28, 21, 80, 30,\n",
       "       24, 41, 82, 29, 24, 26, 22, 23, 35, 33, 29, 37, 21, 33, 24, 27, 22,\n",
       "       31, 32, 28, 27, 54, 26, 32, 31, 46, 32, 35, 34, 30, 58, 52, 41, 47,\n",
       "       41, 42, 37, 42, 37, 45, 38, 43, 45, 46, 44, 54, 37, 44, 38, 49, 40,\n",
       "       52, 39, 50, 55, 77, 39, 49, 42, 64, 69, 66, 45, 47, 79, 49, 43, 45,\n",
       "       78, 60, 55, 47, 63, 54, 49, 56, 51, 52, 51, 60, 55, 56, 57, 58, 63,\n",
       "       59, 65, 66, 67, 59, 62, 66, 73, 65, 74, 73, 78, 98])"
      ]
     },
     "execution_count": 42,
     "metadata": {},
     "output_type": "execute_result"
    }
   ],
   "source": [
    "age = 2019 - movies.column('Year')\n",
    "age"
   ]
  },
  {
   "cell_type": "code",
   "execution_count": 43,
   "metadata": {
    "scrolled": true
   },
   "outputs": [
    {
     "data": {
      "text/html": [
       "<table border=\"1\" class=\"dataframe\">\n",
       "    <thead>\n",
       "        <tr>\n",
       "            <th>Title</th> <th>Studio</th> <th>Gross</th> <th>Gross (Adjusted)</th> <th>Year</th> <th>Age</th>\n",
       "        </tr>\n",
       "    </thead>\n",
       "    <tbody>\n",
       "        <tr>\n",
       "            <td>Star Wars: The Force Awakens             </td> <td>Buena Vista (Disney)</td> <td>906723418</td> <td>906723400       </td> <td>2015</td> <td>4   </td>\n",
       "        </tr>\n",
       "        <tr>\n",
       "            <td>Avatar                                   </td> <td>Fox                 </td> <td>760507625</td> <td>846120800       </td> <td>2009</td> <td>10  </td>\n",
       "        </tr>\n",
       "        <tr>\n",
       "            <td>Titanic                                  </td> <td>Paramount           </td> <td>658672302</td> <td>1178627900      </td> <td>1997</td> <td>22  </td>\n",
       "        </tr>\n",
       "        <tr>\n",
       "            <td>Jurassic World                           </td> <td>Universal           </td> <td>652270625</td> <td>687728000       </td> <td>2015</td> <td>4   </td>\n",
       "        </tr>\n",
       "        <tr>\n",
       "            <td>Marvel's The Avengers                    </td> <td>Buena Vista (Disney)</td> <td>623357910</td> <td>668866600       </td> <td>2012</td> <td>7   </td>\n",
       "        </tr>\n",
       "        <tr>\n",
       "            <td>The Dark Knight                          </td> <td>Warner Bros.        </td> <td>534858444</td> <td>647761600       </td> <td>2008</td> <td>11  </td>\n",
       "        </tr>\n",
       "        <tr>\n",
       "            <td>Star Wars: Episode I - The Phantom Menace</td> <td>Fox                 </td> <td>474544677</td> <td>785715000       </td> <td>1999</td> <td>20  </td>\n",
       "        </tr>\n",
       "        <tr>\n",
       "            <td>Star Wars                                </td> <td>Fox                 </td> <td>460998007</td> <td>1549640500      </td> <td>1977</td> <td>42  </td>\n",
       "        </tr>\n",
       "        <tr>\n",
       "            <td>Avengers: Age of Ultron                  </td> <td>Buena Vista (Disney)</td> <td>459005868</td> <td>465684200       </td> <td>2015</td> <td>4   </td>\n",
       "        </tr>\n",
       "        <tr>\n",
       "            <td>The Dark Knight Rises                    </td> <td>Warner Bros.        </td> <td>448139099</td> <td>500961700       </td> <td>2012</td> <td>7   </td>\n",
       "        </tr>\n",
       "    </tbody>\n",
       "</table>\n",
       "<p>... (190 rows omitted)</p>"
      ],
      "text/plain": [
       "Title                                     | Studio               | Gross     | Gross (Adjusted) | Year | Age\n",
       "Star Wars: The Force Awakens              | Buena Vista (Disney) | 906723418 | 906723400        | 2015 | 4\n",
       "Avatar                                    | Fox                  | 760507625 | 846120800        | 2009 | 10\n",
       "Titanic                                   | Paramount            | 658672302 | 1178627900       | 1997 | 22\n",
       "Jurassic World                            | Universal            | 652270625 | 687728000        | 2015 | 4\n",
       "Marvel's The Avengers                     | Buena Vista (Disney) | 623357910 | 668866600        | 2012 | 7\n",
       "The Dark Knight                           | Warner Bros.         | 534858444 | 647761600        | 2008 | 11\n",
       "Star Wars: Episode I - The Phantom Menace | Fox                  | 474544677 | 785715000        | 1999 | 20\n",
       "Star Wars                                 | Fox                  | 460998007 | 1549640500       | 1977 | 42\n",
       "Avengers: Age of Ultron                   | Buena Vista (Disney) | 459005868 | 465684200        | 2015 | 4\n",
       "The Dark Knight Rises                     | Warner Bros.         | 448139099 | 500961700        | 2012 | 7\n",
       "... (190 rows omitted)"
      ]
     },
     "execution_count": 43,
     "metadata": {},
     "output_type": "execute_result"
    }
   ],
   "source": [
    "movies = movies.with_column('Age', age)\n",
    "movies"
   ]
  },
  {
   "cell_type": "code",
   "execution_count": 44,
   "metadata": {},
   "outputs": [
    {
     "data": {
      "text/html": [
       "<table border=\"1\" class=\"dataframe\">\n",
       "    <thead>\n",
       "        <tr>\n",
       "            <th>Title</th> <th>Studio</th> <th>Gross</th> <th>Gross (Adjusted)</th> <th>Year</th> <th>Age</th>\n",
       "        </tr>\n",
       "    </thead>\n",
       "    <tbody>\n",
       "        <tr>\n",
       "            <td>Star Wars: The Force Awakens               </td> <td>Buena Vista (Disney)   </td> <td>906723418</td> <td>906723400       </td> <td>2015</td> <td>4   </td>\n",
       "        </tr>\n",
       "        <tr>\n",
       "            <td>Jurassic World                             </td> <td>Universal              </td> <td>652270625</td> <td>687728000       </td> <td>2015</td> <td>4   </td>\n",
       "        </tr>\n",
       "        <tr>\n",
       "            <td>Avengers: Age of Ultron                    </td> <td>Buena Vista (Disney)   </td> <td>459005868</td> <td>465684200       </td> <td>2015</td> <td>4   </td>\n",
       "        </tr>\n",
       "        <tr>\n",
       "            <td>Inside Out                                 </td> <td>Buena Vista (Disney)   </td> <td>356461711</td> <td>375723400       </td> <td>2015</td> <td>4   </td>\n",
       "        </tr>\n",
       "        <tr>\n",
       "            <td>Furious 7                                  </td> <td>Universal              </td> <td>353007020</td> <td>356907000       </td> <td>2015</td> <td>4   </td>\n",
       "        </tr>\n",
       "        <tr>\n",
       "            <td>Minions                                    </td> <td>Universal              </td> <td>336045770</td> <td>354213900       </td> <td>2015</td> <td>4   </td>\n",
       "        </tr>\n",
       "        <tr>\n",
       "            <td>American Sniper                            </td> <td>Warner Bros.           </td> <td>350126372</td> <td>374796000       </td> <td>2014</td> <td>5   </td>\n",
       "        </tr>\n",
       "        <tr>\n",
       "            <td>The Hunger Games: Mockingjay - Part 1      </td> <td>Lionsgate              </td> <td>337135885</td> <td>354324000       </td> <td>2014</td> <td>5   </td>\n",
       "        </tr>\n",
       "        <tr>\n",
       "            <td>Guardians of the Galaxy                    </td> <td>Buena Vista (Disney)   </td> <td>333176600</td> <td>358244800       </td> <td>2014</td> <td>5   </td>\n",
       "        </tr>\n",
       "        <tr>\n",
       "            <td>The Hunger Games: Catching Fire            </td> <td>Lionsgate              </td> <td>424668047</td> <td>444697400       </td> <td>2013</td> <td>6   </td>\n",
       "        </tr>\n",
       "        <tr>\n",
       "            <td>Iron Man 3                                 </td> <td>Buena Vista (Disney)   </td> <td>409013994</td> <td>424632700       </td> <td>2013</td> <td>6   </td>\n",
       "        </tr>\n",
       "        <tr>\n",
       "            <td>Frozen                                     </td> <td>Buena Vista (Disney)   </td> <td>400738009</td> <td>426656900       </td> <td>2013</td> <td>6   </td>\n",
       "        </tr>\n",
       "        <tr>\n",
       "            <td>Despicable Me 2                            </td> <td>Universal              </td> <td>368061265</td> <td>407978700       </td> <td>2013</td> <td>6   </td>\n",
       "        </tr>\n",
       "        <tr>\n",
       "            <td>Marvel's The Avengers                      </td> <td>Buena Vista (Disney)   </td> <td>623357910</td> <td>668866600       </td> <td>2012</td> <td>7   </td>\n",
       "        </tr>\n",
       "        <tr>\n",
       "            <td>The Dark Knight Rises                      </td> <td>Warner Bros.           </td> <td>448139099</td> <td>500961700       </td> <td>2012</td> <td>7   </td>\n",
       "        </tr>\n",
       "        <tr>\n",
       "            <td>The Hunger Games                           </td> <td>Lionsgate              </td> <td>408010692</td> <td>442510400       </td> <td>2012</td> <td>7   </td>\n",
       "        </tr>\n",
       "        <tr>\n",
       "            <td>Skyfall                                    </td> <td>Sony                   </td> <td>304360277</td> <td>329225400       </td> <td>2012</td> <td>7   </td>\n",
       "        </tr>\n",
       "        <tr>\n",
       "            <td>The Hobbit: An Unexpected Journey          </td> <td>Warner Bros. (New Line)</td> <td>303003568</td> <td>329153300       </td> <td>2012</td> <td>7   </td>\n",
       "        </tr>\n",
       "        <tr>\n",
       "            <td>Harry Potter and the Deathly Hallows Part 2</td> <td>Warner Bros.           </td> <td>381011219</td> <td>417512200       </td> <td>2011</td> <td>8   </td>\n",
       "        </tr>\n",
       "        <tr>\n",
       "            <td>Transformers: Dark of the Moon             </td> <td>Paramount/Dreamworks   </td> <td>352390543</td> <td>385069700       </td> <td>2011</td> <td>8   </td>\n",
       "        </tr>\n",
       "    </tbody>\n",
       "</table>\n",
       "<p>... (180 rows omitted)</p>"
      ],
      "text/plain": [
       "<IPython.core.display.HTML object>"
      ]
     },
     "metadata": {},
     "output_type": "display_data"
    }
   ],
   "source": [
    "movies.sort('Age').show(20)"
   ]
  },
  {
   "cell_type": "markdown",
   "metadata": {},
   "source": [
    "How does age relate to proceeds?"
   ]
  },
  {
   "cell_type": "code",
   "execution_count": 45,
   "metadata": {},
   "outputs": [
    {
     "data": {
      "image/png": "[encoded data removed]",
      "text/plain": [
       "<Figure size 360x360 with 1 Axes>"
      ]
     },
     "metadata": {},
     "output_type": "display_data"
    }
   ],
   "source": [
    "movies.scatter('Age', 'Gross')"
   ]
  },
  {
   "cell_type": "code",
   "execution_count": 46,
   "metadata": {},
   "outputs": [
    {
     "data": {
      "image/png": "[encoded data removed]",
      "text/plain": [
       "<Figure size 360x360 with 1 Axes>"
      ]
     },
     "metadata": {},
     "output_type": "display_data"
    }
   ],
   "source": [
    "movies.scatter('Age', 'Gross (Adjusted)')"
   ]
  },
  {
   "cell_type": "code",
   "execution_count": null,
   "metadata": {},
   "outputs": [],
   "source": []
  }
 ],
 "metadata": {
  "kernelspec": {
   "display_name": "Python 3",
   "language": "python",
   "name": "python3"
  },
  "language_info": {
   "codemirror_mode": {
    "name": "ipython",
    "version": 3
   },
   "file_extension": ".py",
   "mimetype": "text/x-python",
   "name": "python",
   "nbconvert_exporter": "python",
   "pygments_lexer": "ipython3",
   "version": "3.7.0"
  }
 },
 "nbformat": 4,
 "nbformat_minor": 1
}
