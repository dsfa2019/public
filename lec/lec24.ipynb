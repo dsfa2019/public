{
 "cells": [
  {
   "cell_type": "markdown",
   "metadata": {},
   "source": [
    "# Lecture 24: Nearest Neighbor"
   ]
  },
  {
   "cell_type": "code",
   "execution_count": null,
   "metadata": {},
   "outputs": [],
   "source": [
    "from datascience import *\n",
    "import numpy as np\n",
    "\n",
    "import matplotlib.pyplot as plots\n",
    "from mpl_toolkits.mplot3d import Axes3D\n",
    "plots.style.use('fivethirtyeight')\n",
    "%matplotlib inline\n",
    "np.set_printoptions(legacy='1.13')\n",
    "\n",
    "#NUM_REPETITIONS = 5"
   ]
  },
  {
   "cell_type": "markdown",
   "metadata": {},
   "source": [
    "## Recap previous lecture"
   ]
  },
  {
   "cell_type": "code",
   "execution_count": null,
   "metadata": {},
   "outputs": [],
   "source": [
    "raw_ckd = Table.read_table('ckd.csv').relabeled('Blood Glucose Random', 'Glucose')\n",
    "raw_ckd.show(3)"
   ]
  },
  {
   "cell_type": "code",
   "execution_count": null,
   "metadata": {},
   "outputs": [],
   "source": [
    "def ckd_label(number):\n",
    "    if number == 0:\n",
    "        return \"notckd\"\n",
    "    elif number == 1:\n",
    "        return \"ckd\"\n",
    "    else:\n",
    "        return \"unknown\"\n",
    "  \n",
    "ckd = raw_ckd.with_column(\n",
    "    'Class', raw_ckd.apply(ckd_label, 'Class')\n",
    ")    \n",
    "ckd.show(3)"
   ]
  },
  {
   "cell_type": "code",
   "execution_count": null,
   "metadata": {},
   "outputs": [],
   "source": [
    "hgb_glc = ckd.select('Hemoglobin', 'Glucose', 'Class')\n",
    "hgb_glc.scatter('Hemoglobin', 'Glucose', colors='Class')"
   ]
  },
  {
   "cell_type": "code",
   "execution_count": null,
   "metadata": {},
   "outputs": [],
   "source": [
    "def distance(a, b):\n",
    "    \"\"\"Returns the distance between a and b, where a and b\n",
    "    are both arrays representing points.\"\"\"\n",
    "    return np.sqrt(np.sum((a - b)**2))"
   ]
  },
  {
   "cell_type": "code",
   "execution_count": null,
   "metadata": {},
   "outputs": [],
   "source": [
    "new_point = make_array(13, 150)\n",
    "\n",
    "def distance_from_new(row):\n",
    "    \"\"\"Return the distance between row and new_point.\n",
    "    Row is an input to the function and can change every\n",
    "    time the function is called. new_point is the same\n",
    "    every time, though.\"\"\"\n",
    "    return distance(np.array(row), new_point)"
   ]
  },
  {
   "cell_type": "code",
   "execution_count": null,
   "metadata": {},
   "outputs": [],
   "source": [
    "r0 = hgb_glc.row(0)\n",
    "r0"
   ]
  },
  {
   "cell_type": "code",
   "execution_count": null,
   "metadata": {},
   "outputs": [],
   "source": [
    "np.array(r0)\n",
    "#distance_from_new(r0) #ERROR"
   ]
  },
  {
   "cell_type": "code",
   "execution_count": null,
   "metadata": {},
   "outputs": [],
   "source": [
    "distance_from_new(hgb_glc.drop('Class').row(0))"
   ]
  },
  {
   "cell_type": "code",
   "execution_count": null,
   "metadata": {},
   "outputs": [],
   "source": [
    "distances = hgb_glc.with_column(\n",
    "    'Distance', hgb_glc.drop('Class').apply(distance_from_new)\n",
    ").sort('Distance')\n",
    "\n",
    "distances"
   ]
  },
  {
   "cell_type": "markdown",
   "metadata": {},
   "source": [
    "**Q:** In your own words, describe what `apply` does."
   ]
  },
  {
   "cell_type": "code",
   "execution_count": null,
   "metadata": {},
   "outputs": [],
   "source": [
    "hgb_glc.scatter('Hemoglobin', 'Glucose', colors='Class')\n",
    "plots.scatter([13, 5.6], [150, 157], color='red');"
   ]
  },
  {
   "cell_type": "code",
   "execution_count": null,
   "metadata": {},
   "outputs": [],
   "source": [
    "hgb_glc.scatter('Hemoglobin', 'Glucose', colors='Class')\n",
    "plots.scatter([13, 5.6], [150, 157], color='red');\n",
    "plots.xlim(0,500);\n",
    "plots.ylim(0,500);"
   ]
  },
  {
   "cell_type": "code",
   "execution_count": null,
   "metadata": {},
   "outputs": [],
   "source": [
    "hgb_glc.scatter('Hemoglobin', 'Glucose', colors='Class')\n",
    "plots.scatter([13, 5.6], [150, 157], color='red');\n",
    "plots.xlim(0,50);\n",
    "plots.ylim(125,175);"
   ]
  },
  {
   "cell_type": "markdown",
   "metadata": {},
   "source": [
    "**Accounting for scale.**"
   ]
  },
  {
   "cell_type": "code",
   "execution_count": null,
   "metadata": {},
   "outputs": [],
   "source": [
    "def standard_units(array):\n",
    "    \"\"\"Convert array to standard units.\"\"\"\n",
    "    return (array - array.mean()) / array.std()\n",
    "    \n",
    "def standardize(t):\n",
    "    \"Covert table t to standard units.\"\n",
    "    su = Table()\n",
    "    for label in t.labels:\n",
    "        su = su.with_column(label + ' (su)', standard_units(t.column(label)))\n",
    "    return su\n",
    "\n",
    "def in_su(value, array):\n",
    "    \"\"\"Return value in standard units according to \n",
    "    the distribution of array.\"\"\"\n",
    "    return (value - array.mean()) / array.std()"
   ]
  },
  {
   "cell_type": "code",
   "execution_count": null,
   "metadata": {},
   "outputs": [],
   "source": [
    "hgb_glc_su = standardize(hgb_glc.drop('Class'))\\\n",
    "  .with_column('Class', hgb_glc.column('Class'))\n",
    "hgb_glc_su"
   ]
  },
  {
   "cell_type": "code",
   "execution_count": null,
   "metadata": {},
   "outputs": [],
   "source": [
    "hgb_glc_su.scatter('Hemoglobin (su)', 'Glucose (su)', colors='Class')\n",
    "x_su = in_su(13, hgb_glc.column('Hemoglobin'))\n",
    "y_su = in_su(150, hgb_glc.column('Glucose'))\n",
    "plots.scatter(x_su, y_su, color='red');"
   ]
  },
  {
   "cell_type": "code",
   "execution_count": null,
   "metadata": {},
   "outputs": [],
   "source": [
    "new_point = make_array(x_su, y_su)\n",
    "\n",
    "def distance_from_new(row):\n",
    "    \"\"\"Return the distance between row and new_point.\"\"\"\n",
    "    return distance(np.array(row), new_point)\n",
    "       \n",
    "distances = hgb_glc_su.with_column(\n",
    "    'Distance', hgb_glc_su.drop('Class').apply(distance_from_new)\n",
    ").sort('Distance')\n",
    "\n",
    "distances"
   ]
  },
  {
   "cell_type": "code",
   "execution_count": null,
   "metadata": {},
   "outputs": [],
   "source": [
    "hgb_glc_su.scatter('Hemoglobin (su)', 'Glucose (su)', colors='Class')\n",
    "close_x = distances.column('Hemoglobin (su)').item(0)\n",
    "close_y = distances.column('Glucose (su)').item(0)\n",
    "plots.scatter([x_su, close_x], [y_su, close_y], color='red');"
   ]
  },
  {
   "cell_type": "markdown",
   "metadata": {},
   "source": [
    "**Nearest Neighbor Classifier.**"
   ]
  },
  {
   "cell_type": "code",
   "execution_count": null,
   "metadata": {},
   "outputs": [],
   "source": [
    "def hgb_glc_nn_classifier_su(new_point_su):\n",
    "    \"\"\"Return the hgb/glc classification of new_point_su, which\n",
    "    should be in standard units already.\"\"\"\n",
    "    def distance_from_new(row):\n",
    "        return distance(np.array(row), new_point_su)\n",
    "    \n",
    "    distances = hgb_glc_su.with_column(\n",
    "        'Distance', hgb_glc_su.drop('Class').apply(distance_from_new)\n",
    "    )\n",
    "    return distances.sort('Distance').column('Class').item(0)\n",
    "\n",
    "def hgb_glc_nn_classifier_ou(new_point):\n",
    "    \"\"\"Return the hgb/glc classification of new_point, which\n",
    "    should still be in original units.\"\"\"\n",
    "    hgb_su = in_su(new_point.item(0), hgb_glc.column('Hemoglobin'))\n",
    "    glc_su = in_su(new_point.item(1), hgb_glc.column('Glucose'))\n",
    "    return hgb_glc_nn_classifier_su(make_array(hgb_su, glc_su))"
   ]
  },
  {
   "cell_type": "code",
   "execution_count": null,
   "metadata": {},
   "outputs": [],
   "source": [
    "hgb_glc_nn_classifier_ou(make_array(13, 150))"
   ]
  },
  {
   "cell_type": "code",
   "execution_count": null,
   "metadata": {},
   "outputs": [],
   "source": [
    "hgb_glc.scatter('Hemoglobin', 'Glucose', colors='Class')\n",
    "plots.scatter([13,13,13], [150,200,250], color='red');"
   ]
  },
  {
   "cell_type": "markdown",
   "metadata": {},
   "source": [
    "**Q:** What should the classification of (13, 200) be?\n",
    "\n",
    "A.  ckd  \n",
    "B.  notckd  "
   ]
  },
  {
   "cell_type": "code",
   "execution_count": null,
   "metadata": {},
   "outputs": [],
   "source": [
    "hgb_glc_nn_classifier_ou(make_array(13, 200))"
   ]
  },
  {
   "cell_type": "code",
   "execution_count": null,
   "metadata": {},
   "outputs": [],
   "source": [
    "x_su = in_su(13, hgb_glc.column('Hemoglobin'))\n",
    "y_su = in_su(200, hgb_glc.column('Glucose'))\n",
    "make_array(x_su,y_su)"
   ]
  },
  {
   "cell_type": "code",
   "execution_count": null,
   "metadata": {},
   "outputs": [],
   "source": [
    "decisions = Table(hgb_glc.labels)\n",
    "for hgb in np.arange(10, 19, .125):\n",
    "    for glc in np.arange(50, 250, 5):\n",
    "        predicted = hgb_glc_nn_classifier_ou(make_array(hgb, glc))\n",
    "        decisions.append([hgb, glc, predicted])\n",
    "decisions.scatter(0, 1, colors='Class', alpha=0.4)\n",
    "plots.xlim(10,19)\n",
    "plots.ylim(40,250)\n",
    "notckd_pts = hgb_glc.where('Class', 'notckd')\n",
    "ckd_pts = hgb_glc.where('Class', 'ckd')\n",
    "plots.scatter(notckd_pts.column(0), notckd_pts.column(1), c='gold', edgecolor='k');\n",
    "plots.scatter(ckd_pts.column(0), ckd_pts.column(1), c='darkblue', edgecolor='k');"
   ]
  },
  {
   "cell_type": "markdown",
   "metadata": {},
   "source": [
    "## Training and Testing"
   ]
  },
  {
   "cell_type": "code",
   "execution_count": null,
   "metadata": {},
   "outputs": [],
   "source": [
    "shuffled_hgb_glc = hgb_glc.sample(with_replacement=False)\n",
    "half = int(hgb_glc.num_rows / 2)\n",
    "train_hgb_glc = shuffled_hgb_glc.take(np.arange(0, half))\n",
    "test_hgb_glc  = shuffled_hgb_glc.take(np.arange(half, hgb_glc.num_rows))"
   ]
  },
  {
   "cell_type": "code",
   "execution_count": null,
   "metadata": {},
   "outputs": [],
   "source": [
    "train_hgb_glc.scatter('Hemoglobin', 'Glucose', colors='Class')"
   ]
  },
  {
   "cell_type": "code",
   "execution_count": null,
   "metadata": {},
   "outputs": [],
   "source": [
    "def train_nn_su_classifier(train):\n",
    "    \"\"\"Create a nearest-neighbor classifier.  The last column \n",
    "    of the training table should be the labels, and the preceeding\n",
    "    columns should be the attributes.  The names of the columns do not\n",
    "    matter.  The classifier will work in standard units; but,\n",
    "    the training table should be in original units.\n",
    "    \n",
    "    Returns a function.  That function takes as input a \n",
    "    new point in original units. The function returns the \n",
    "    classification of the new point as output.\"\"\"\n",
    "    \n",
    "    last_column = train.num_columns - 1\n",
    "    \n",
    "    train_su = standardize(train.drop(last_column)).with_column(\n",
    "        train.labels[last_column], train.column(last_column)\n",
    "    )\n",
    "    \n",
    "    def classify_new_point(new_point):\n",
    "        \"\"\"Return the classification of new_point, which\n",
    "        should still be in original units.\"\"\"\n",
    "        \n",
    "        new_point_su = make_array()\n",
    "        for i in range(len(new_point)):\n",
    "            coord_su = in_su(new_point.item(i), train.column(i))\n",
    "            new_point_su = np.append(new_point_su, coord_su)\n",
    "        \n",
    "        def distance_from_new(row):\n",
    "            \"\"\"Return the distance between row, which\n",
    "            should be in standard units, and new_point_su.\"\"\"\n",
    "            return distance(np.array(row), new_point_su)\n",
    "    \n",
    "        distances = Table().with_columns(\n",
    "            'Distance', train_su.drop(last_column).apply(distance_from_new),\n",
    "            'Class', train_su.column(last_column)\n",
    "        ).sort('Distance')\n",
    "    \n",
    "        return distances.column('Class').item(0)\n",
    "    \n",
    "    return classify_new_point"
   ]
  },
  {
   "cell_type": "code",
   "execution_count": null,
   "metadata": {},
   "outputs": [],
   "source": []
  },
  {
   "cell_type": "code",
   "execution_count": null,
   "metadata": {},
   "outputs": [],
   "source": [
    "hgb_glc_scaled_classifier = train_nn_su_classifier(train_hgb_glc)"
   ]
  },
  {
   "cell_type": "code",
   "execution_count": null,
   "metadata": {},
   "outputs": [],
   "source": [
    "hgb_glc_scaled_classifier(make_array(13, 150))"
   ]
  },
  {
   "cell_type": "markdown",
   "metadata": {},
   "source": [
    "**Note:** What we just did with returning a function was incredibly important to understand."
   ]
  },
  {
   "cell_type": "code",
   "execution_count": null,
   "metadata": {},
   "outputs": [],
   "source": [
    "def visualize_boundary(known_points, classifier, x_range, y_range):\n",
    "    \"\"\"Visualize the boundary region of a classifier.\n",
    "    The visualization is in original units.\"\"\"\n",
    "    decisions = Table(known_points.labels)\n",
    "    for x in x_range:\n",
    "        for y in y_range:\n",
    "            predicted = classifier(make_array(x, y))\n",
    "            decisions.append([x, y, predicted])\n",
    "    decisions.scatter(0, 1, colors='Class', alpha=0.4)\n",
    "    plots.xlim(x_range.min(), x_range.max())\n",
    "    plots.ylim(y_range.min(), y_range.max())\n",
    "    notckd_pts = known_points.where('Class', 'notckd')\n",
    "    ckd_pts = known_points.where('Class', 'ckd')\n",
    "    plots.scatter(notckd_pts.column(0), notckd_pts.column(1), c='gold', edgecolor='k');\n",
    "    plots.scatter(ckd_pts.column(0), ckd_pts.column(1), c='darkblue', edgecolor='k');"
   ]
  },
  {
   "cell_type": "code",
   "execution_count": null,
   "metadata": {},
   "outputs": [],
   "source": [
    "visualize_boundary(train_hgb_glc, hgb_glc_scaled_classifier,\n",
    "                  np.arange(10, 20, .25), np.arange(50, 250, 5))"
   ]
  },
  {
   "cell_type": "code",
   "execution_count": null,
   "metadata": {},
   "outputs": [],
   "source": [
    "visualize_boundary(test_hgb_glc, hgb_glc_scaled_classifier,\n",
    "                  np.arange(10, 20, .25), np.arange(50, 250, 5))"
   ]
  },
  {
   "cell_type": "code",
   "execution_count": null,
   "metadata": {},
   "outputs": [],
   "source": [
    "def classifier_accuracy(test, classifier):\n",
    "    \"\"\"Evaluate the accuracy of the classifier using the\n",
    "    provided test table, whose last column should be\n",
    "    the labels.  The names of the columns are irrelevant.\"\"\"\n",
    "    \n",
    "    last_column = test.num_columns - 1\n",
    "    actual_labels = test.column(last_column)\n",
    "    predicted_labels = test.drop(last_column).apply(classifier)\n",
    "    \n",
    "    return np.mean(actual_labels == predicted_labels)    "
   ]
  },
  {
   "cell_type": "code",
   "execution_count": null,
   "metadata": {},
   "outputs": [],
   "source": [
    "classifier_accuracy(test_hgb_glc, hgb_glc_scaled_classifier)"
   ]
  },
  {
   "cell_type": "markdown",
   "metadata": {},
   "source": [
    "## Inference on classifier accuracy"
   ]
  },
  {
   "cell_type": "code",
   "execution_count": null,
   "metadata": {},
   "outputs": [],
   "source": [
    "NUM_REPETITIONS = 25\n",
    "def histogram_nn_classifier_accuracy(data, classifier_trainer, num_repetitions=NUM_REPETITIONS):\n",
    "    \"\"\"Visualize the empirical distribution of the accuracy\n",
    "    of a classifier.  The data input is a table that will\n",
    "    be split into test and training tables for each iteration\n",
    "    The classifier_trainer is a function that takes a training \n",
    "    table as input, and returns a classifier function.  That \n",
    "    classifier function itself should take a new point as input \n",
    "    and return the classification of that point.\"\"\"\n",
    "\n",
    "    accuracies = make_array()\n",
    "    \n",
    "    for _ in np.arange(num_repetitions):\n",
    "        shuffled = data.sample(with_replacement=False)\n",
    "        half = int(data.num_rows / 2)\n",
    "        train = shuffled.take(np.arange(0, half))\n",
    "        test = shuffled.take(np.arange(half, data.num_rows))\n",
    "        \n",
    "        trained_classifier = classifier_trainer(train)\n",
    "        acc = classifier_accuracy(test, trained_classifier)\n",
    "        accuracies = np.append(accuracies, acc)\n",
    "        \n",
    "    left = percentile(2.5, accuracies)\n",
    "    right = percentile(97.5, accuracies)\n",
    "    \n",
    "    Table().with_column(\n",
    "        'Accuracy', accuracies\n",
    "    ).hist()\n",
    "    plots.plot([left,right], [0,0], color='yellow', lw=8)"
   ]
  },
  {
   "cell_type": "code",
   "execution_count": null,
   "metadata": {},
   "outputs": [],
   "source": [
    "histogram_nn_classifier_accuracy(hgb_glc, train_nn_su_classifier)"
   ]
  },
  {
   "cell_type": "markdown",
   "metadata": {},
   "source": [
    "**Was scaling helpful?**"
   ]
  },
  {
   "cell_type": "code",
   "execution_count": null,
   "metadata": {},
   "outputs": [],
   "source": [
    "def train_nn_classifier(train):\n",
    "    \"\"\"Create a nearest-neighbor classifier.  The last column \n",
    "    of the training table should be the labels, and the preceeding\n",
    "    column should be the attributes.  The names of the columns do not\n",
    "    matter.  \n",
    "    \n",
    "    Returns a function.  That function takes as input a \n",
    "    new point, which should be an array with two items,\n",
    "    the x and y value of the new point, in that order.\n",
    "    And the function returns the classification of\n",
    "    the new point as output.\"\"\"\n",
    "    \n",
    "    def classify_new_point(new_point):\n",
    "        def distance_from_new(row):\n",
    "            return distance(np.array(row), new_point)\n",
    "    \n",
    "        last_column = train.num_columns - 1\n",
    "        \n",
    "        distances = Table().with_columns(\n",
    "            'Distance', train.drop(last_column).apply(distance_from_new),\n",
    "            'Class', train.column(last_column)\n",
    "        ).sort('Distance')\n",
    "    \n",
    "        return distances.column('Class').item(0)\n",
    "    \n",
    "    return classify_new_point"
   ]
  },
  {
   "cell_type": "code",
   "execution_count": null,
   "metadata": {},
   "outputs": [],
   "source": [
    "histogram_nn_classifier_accuracy(hgb_glc, train_nn_classifier)"
   ]
  },
  {
   "cell_type": "markdown",
   "metadata": {},
   "source": [
    "Let's look at more than 5 repetitions..."
   ]
  },
  {
   "cell_type": "markdown",
   "metadata": {},
   "source": [
    "**Q:** Was scaling helpful?\n",
    "\n",
    "A.  Yes  \n",
    "B.  No  "
   ]
  },
  {
   "cell_type": "markdown",
   "metadata": {},
   "source": [
    "You do **not** need to worry about scaling and standard units in your proj3."
   ]
  }
 ],
 "metadata": {
  "anaconda-cloud": {},
  "kernelspec": {
   "display_name": "Python 3",
   "language": "python",
   "name": "python3"
  },
  "language_info": {
   "codemirror_mode": {
    "name": "ipython",
    "version": 3
   },
   "file_extension": ".py",
   "mimetype": "text/x-python",
   "name": "python",
   "nbconvert_exporter": "python",
   "pygments_lexer": "ipython3",
   "version": "3.6.8"
  }
 },
 "nbformat": 4,
 "nbformat_minor": 1
}
